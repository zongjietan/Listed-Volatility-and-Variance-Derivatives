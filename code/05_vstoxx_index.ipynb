{
 "cells": [
  {
   "cell_type": "markdown",
   "metadata": {},
   "source": [
    "<img src=\"http://hilpisch.com/tpq_logo.png\" alt=\"The Python Quants\" width=\"35%\" align=\"right\" border=\"0\"><br><br><br>"
   ]
  },
  {
   "cell_type": "markdown",
   "metadata": {},
   "source": [
    "# Listed Volatility and Variance Derivatives\n",
    "\n",
    "**Wiley Finance (2017)**\n",
    "\n",
    "Dr. Yves J. Hilpisch | The Python Quants GmbH\n",
    "\n",
    "http://tpq.io | [@dyjh](http://twitter.com/dyjh) | http://books.tpq.io\n",
    "\n",
    "<img src=\"https://hilpisch.com/images/lvvd_cover.png\" alt=\"Listed Volatility and Variance Derivatives\" width=\"30%\" align=\"left\" border=\"0\">"
   ]
  },
  {
   "cell_type": "markdown",
   "metadata": {},
   "source": [
    "# VSTOXX Index"
   ]
  },
  {
   "cell_type": "markdown",
   "metadata": {},
   "source": [
    "## Introduction"
   ]
  },
  {
   "cell_type": "markdown",
   "metadata": {},
   "source": [
    "This chapter is about the (re-) calculation of the VSTOXX index, the volatility index based on EURO STOXX 50 index options. The goal is to achieve a good understanding of the processes and underlying mechanics of calculating the VSTOXX index. You will find all background information as well as Python code that will enable you to recalculate historical VSTOXX index values as well as current ones in (almost) real-time. The chapter about the _Model-Free Replication of Variance_ provides the theoretical background for the concepts presented in this chapter."
   ]
  },
  {
   "cell_type": "markdown",
   "metadata": {},
   "source": [
    "The (main) VSTOXX index itself is based on two sub-indexes, which themselves are derived from Eurex option series for both European puts and calls on the EURO STOXX 50 index. The algorithm, and therefore this chapter as well, is comprised of three main parts:\n",
    "\n",
    "* collect and clean-up the data of the necessary option series\n",
    "* compute the sub-indexes from the option data\n",
    "* compute the VSTOXX index from the relevant sub-indexes\n",
    "\n",
    "A few remarks about the option series and sub-indexes used and their expiry dates and time horizons, respectively, seem in order. There are eight sub-indexes of the VSTOXX which each measure the implied volatility of an option series with fixed expiry. For example, the VSTOXX 1M sub-index starts with the option series that has one month expiry and is calculated up to two days prior to the fixed maturity date of the according option series. The VSTOXX index measures the implied volatility of an \"imaginary\" options series with a fixed time to expiry of 30 days. This is achieved through linear interpolation of the two nearest sub-indexes, generally VSTOXX 1M and VSTOXX 2M. On the two days before VSTOXX 1M expiry, the VSTOXX 2M and VSTOXX 3M are used instead and an extrapolation takes place."
   ]
  },
  {
   "cell_type": "markdown",
   "metadata": {},
   "source": [
    "The following table lists all the sub-indexes and provides additional information."
   ]
  },
  {
   "cell_type": "markdown",
   "metadata": {},
   "source": [
    "    ============ ======= ============== ===========================================\n",
    "     Sub-index    Code    ISIN           Settlement date of the option series used\n",
    "    ============ ======= ============== ===========================================\n",
    "     VSTOXX 1M    V6I1    DE000A0G87B2   The last available within 1 month\n",
    "     VSTOXX 2M    V6I2    DE000A0G87C0   The last available within 2 months\n",
    "     VSTOXX 3M    V6I3    DE000A0G87D8   The last available within 3 months\n",
    "     VSTOXX 6M    V6I4    DE000A0G87E6   The last available within 6 months\n",
    "     VSTOXX 9M    V6I5    DE000A0G87F3   The last available within 9 months\n",
    "     VSTOXX 12M   V6I6    DE000A0G87G1   The last available within 12 months\n",
    "     VSTOXX 18M   V6I7    DE000A0G87H9   The last available within 18 months\n",
    "     VSTOXX 24M   V6I8    DE000A0G87J5   The last available within 24 months\n",
    "    ============ ======= ============== ==========================================="
   ]
  },
  {
   "cell_type": "markdown",
   "metadata": {},
   "source": [
    "## Collecting Option Data"
   ]
  },
  {
   "cell_type": "markdown",
   "metadata": {},
   "source": [
    "As pointed out, the VSTOXX is based on two sub-indexes, generally the VSTOXX 1M and VSTOXX 2M, sometimes VSTOXX 2M and VSTOXX 3M. The sub-indexes themselves are based on the option series on the EURO STOXX 50 index with respective time to expiry. We therefore need the prices of all options with maturities up to 3 months. We use historical data as provided by Eurex itself as the data source. See the web site http://bit.ly/1GY5KCI."
   ]
  },
  {
   "cell_type": "markdown",
   "metadata": {},
   "source": [
    "The code to collect the data can be found in the module ``index_collect_option_data.py`` (see appendix for the complete script). Like usual, the module starts with some imports and parameter definitions."
   ]
  },
  {
   "cell_type": "code",
   "execution_count": 1,
   "metadata": {},
   "outputs": [
    {
     "name": "stdout",
     "output_type": "stream",
     "text": [
      "import requests\n",
      "from io import *\n",
      "import numpy as np\n",
      "import pandas as pd\n",
      "import datetime as dt\n",
      "from bs4 import BeautifulSoup\n",
      "from index_date_functions import *\n",
      "\n",
      "#\n",
      "# The URL template\n",
      "#\n",
      "URL = 'https://www.eurex.com/ex-en/data/statistics/market-statistics-online/'\n",
      "URL += '100!onlineStats?productGroupId=13370&productId=69660&viewType=3&'\n",
      "URL += 'cp=%s&month=%s&year=%s&busDate=%s'\n"
     ]
    }
   ],
   "source": [
    "!sed -n 11,24p scripts/index_collect_option_data.py"
   ]
  },
  {
   "cell_type": "markdown",
   "metadata": {},
   "source": [
    "In addition, the module contains six functions. The first is ``collect_option_series()``:"
   ]
  },
  {
   "cell_type": "code",
   "execution_count": 2,
   "metadata": {},
   "outputs": [],
   "source": [
    "import sys; sys.path.append('./scripts/')"
   ]
  },
  {
   "cell_type": "code",
   "execution_count": 3,
   "metadata": {},
   "outputs": [],
   "source": [
    "import index_collect_option_data as icod"
   ]
  },
  {
   "cell_type": "code",
   "execution_count": 4,
   "metadata": {},
   "outputs": [
    {
     "data": {
      "text/plain": [
       "\u001b[0;31mSignature:\u001b[0m \u001b[0micod\u001b[0m\u001b[0;34m.\u001b[0m\u001b[0mcollect_option_series\u001b[0m\u001b[0;34m(\u001b[0m\u001b[0mmonth\u001b[0m\u001b[0;34m,\u001b[0m \u001b[0myear\u001b[0m\u001b[0;34m,\u001b[0m \u001b[0mstart\u001b[0m\u001b[0;34m)\u001b[0m\u001b[0;34m\u001b[0m\u001b[0;34m\u001b[0m\u001b[0m\n",
       "\u001b[0;31mSource:\u001b[0m   \n",
       "\u001b[0;32mdef\u001b[0m \u001b[0mcollect_option_series\u001b[0m\u001b[0;34m(\u001b[0m\u001b[0mmonth\u001b[0m\u001b[0;34m,\u001b[0m \u001b[0myear\u001b[0m\u001b[0;34m,\u001b[0m \u001b[0mstart\u001b[0m\u001b[0;34m)\u001b[0m\u001b[0;34m:\u001b[0m\u001b[0;34m\u001b[0m\n",
       "\u001b[0;34m\u001b[0m    \u001b[0;34m''' Collects daily option data from web source.\u001b[0m\n",
       "\u001b[0;34m\u001b[0m\n",
       "\u001b[0;34m    Parameters\u001b[0m\n",
       "\u001b[0;34m    ==========\u001b[0m\n",
       "\u001b[0;34m    month: int\u001b[0m\n",
       "\u001b[0;34m        maturity month\u001b[0m\n",
       "\u001b[0;34m    year: int\u001b[0m\n",
       "\u001b[0;34m        maturity year\u001b[0m\n",
       "\u001b[0;34m    start: datetime object\u001b[0m\n",
       "\u001b[0;34m        starting date\u001b[0m\n",
       "\u001b[0;34m\u001b[0m\n",
       "\u001b[0;34m    Returns\u001b[0m\n",
       "\u001b[0;34m    =======\u001b[0m\n",
       "\u001b[0;34m    dataset: pandas DataFrame object\u001b[0m\n",
       "\u001b[0;34m        object containing the collected data\u001b[0m\n",
       "\u001b[0;34m    '''\u001b[0m\u001b[0;34m\u001b[0m\n",
       "\u001b[0;34m\u001b[0m    \u001b[0mend\u001b[0m \u001b[0;34m=\u001b[0m \u001b[0mdt\u001b[0m\u001b[0;34m.\u001b[0m\u001b[0mdatetime\u001b[0m\u001b[0;34m.\u001b[0m\u001b[0mtoday\u001b[0m\u001b[0;34m(\u001b[0m\u001b[0;34m)\u001b[0m\u001b[0;34m\u001b[0m\n",
       "\u001b[0;34m\u001b[0m    \u001b[0mdelta\u001b[0m \u001b[0;34m=\u001b[0m \u001b[0;34m(\u001b[0m\u001b[0mend\u001b[0m \u001b[0;34m-\u001b[0m \u001b[0mstart\u001b[0m\u001b[0;34m)\u001b[0m\u001b[0;34m.\u001b[0m\u001b[0mdays\u001b[0m\u001b[0;34m\u001b[0m\n",
       "\u001b[0;34m\u001b[0m\u001b[0;34m\u001b[0m\n",
       "\u001b[0;34m\u001b[0m    \u001b[0mdataset\u001b[0m \u001b[0;34m=\u001b[0m \u001b[0mpd\u001b[0m\u001b[0;34m.\u001b[0m\u001b[0mDataFrame\u001b[0m\u001b[0;34m(\u001b[0m\u001b[0;34m)\u001b[0m\u001b[0;34m\u001b[0m\n",
       "\u001b[0;34m\u001b[0m    \u001b[0;32mfor\u001b[0m \u001b[0mt\u001b[0m \u001b[0;32min\u001b[0m \u001b[0mrange\u001b[0m\u001b[0;34m(\u001b[0m\u001b[0;36m0\u001b[0m\u001b[0;34m,\u001b[0m \u001b[0mdelta\u001b[0m\u001b[0;34m)\u001b[0m\u001b[0;34m:\u001b[0m  \u001b[0;31m# runs from start to today\u001b[0m\u001b[0;34m\u001b[0m\n",
       "\u001b[0;34m\u001b[0m        \u001b[0mdate\u001b[0m \u001b[0;34m=\u001b[0m \u001b[0mstart\u001b[0m \u001b[0;34m+\u001b[0m \u001b[0mdt\u001b[0m\u001b[0;34m.\u001b[0m\u001b[0mtimedelta\u001b[0m\u001b[0;34m(\u001b[0m\u001b[0mt\u001b[0m\u001b[0;34m)\u001b[0m\u001b[0;34m\u001b[0m\n",
       "\u001b[0;34m\u001b[0m        \u001b[0mdummy\u001b[0m \u001b[0;34m=\u001b[0m \u001b[0mget_data\u001b[0m\u001b[0;34m(\u001b[0m\u001b[0mmonth\u001b[0m\u001b[0;34m,\u001b[0m \u001b[0myear\u001b[0m\u001b[0;34m,\u001b[0m \u001b[0mdate\u001b[0m\u001b[0;34m)\u001b[0m  \u001b[0;31m# get data for one day\u001b[0m\u001b[0;34m\u001b[0m\n",
       "\u001b[0;34m\u001b[0m        \u001b[0;32mif\u001b[0m \u001b[0mlen\u001b[0m\u001b[0;34m(\u001b[0m\u001b[0mdummy\u001b[0m\u001b[0;34m)\u001b[0m \u001b[0;34m!=\u001b[0m \u001b[0;36m0\u001b[0m\u001b[0;34m:\u001b[0m\u001b[0;34m\u001b[0m\n",
       "\u001b[0;34m\u001b[0m            \u001b[0;32mif\u001b[0m \u001b[0mlen\u001b[0m\u001b[0;34m(\u001b[0m\u001b[0mdataset\u001b[0m\u001b[0;34m)\u001b[0m \u001b[0;34m==\u001b[0m \u001b[0;36m0\u001b[0m\u001b[0;34m:\u001b[0m\u001b[0;34m\u001b[0m\n",
       "\u001b[0;34m\u001b[0m                \u001b[0mdataset\u001b[0m \u001b[0;34m=\u001b[0m \u001b[0mdummy\u001b[0m\u001b[0;34m\u001b[0m\n",
       "\u001b[0;34m\u001b[0m            \u001b[0;32melse\u001b[0m\u001b[0;34m:\u001b[0m\u001b[0;34m\u001b[0m\n",
       "\u001b[0;34m\u001b[0m                \u001b[0mdataset\u001b[0m \u001b[0;34m=\u001b[0m \u001b[0mpd\u001b[0m\u001b[0;34m.\u001b[0m\u001b[0mconcat\u001b[0m\u001b[0;34m(\u001b[0m\u001b[0;34m(\u001b[0m\u001b[0mdataset\u001b[0m\u001b[0;34m,\u001b[0m \u001b[0mdummy\u001b[0m\u001b[0;34m)\u001b[0m\u001b[0;34m)\u001b[0m  \u001b[0;31m# add data\u001b[0m\u001b[0;34m\u001b[0m\n",
       "\u001b[0;34m\u001b[0m\u001b[0;34m\u001b[0m\n",
       "\u001b[0;34m\u001b[0m    \u001b[0;32mreturn\u001b[0m \u001b[0mdataset\u001b[0m\u001b[0;34m\u001b[0m\u001b[0;34m\u001b[0m\u001b[0m\n",
       "\u001b[0;31mFile:\u001b[0m      ~/Dropbox/Program/cert/21_lvvd/live/scripts/index_collect_option_data.py\n",
       "\u001b[0;31mType:\u001b[0m      function\n"
      ]
     },
     "metadata": {},
     "output_type": "display_data"
    }
   ],
   "source": [
    "icod.collect_option_series??"
   ]
  },
  {
   "cell_type": "markdown",
   "metadata": {},
   "source": [
    "This function collects the data of the option series with maturity in the month ``month`` and year ``year``. It is called by the ``function start_collecting()`` and calls the ``function get_data()`` for every single day from the date ``start`` to today. It returns a complete set of prices (both puts and calls) for that series.\n",
    "\n",
    "The second function is ``get_data()``."
   ]
  },
  {
   "cell_type": "code",
   "execution_count": 5,
   "metadata": {},
   "outputs": [
    {
     "data": {
      "text/plain": [
       "\u001b[0;31mSignature:\u001b[0m \u001b[0micod\u001b[0m\u001b[0;34m.\u001b[0m\u001b[0mget_data\u001b[0m\u001b[0;34m(\u001b[0m\u001b[0mmonth\u001b[0m\u001b[0;34m,\u001b[0m \u001b[0myear\u001b[0m\u001b[0;34m,\u001b[0m \u001b[0mdate\u001b[0m\u001b[0;34m)\u001b[0m\u001b[0;34m\u001b[0m\u001b[0;34m\u001b[0m\u001b[0m\n",
       "\u001b[0;31mSource:\u001b[0m   \n",
       "\u001b[0;32mdef\u001b[0m \u001b[0mget_data\u001b[0m\u001b[0;34m(\u001b[0m\u001b[0mmonth\u001b[0m\u001b[0;34m,\u001b[0m \u001b[0myear\u001b[0m\u001b[0;34m,\u001b[0m \u001b[0mdate\u001b[0m\u001b[0;34m)\u001b[0m\u001b[0;34m:\u001b[0m\u001b[0;34m\u001b[0m\n",
       "\u001b[0;34m\u001b[0m    \u001b[0;34m''' Get the data for an option series.\u001b[0m\n",
       "\u001b[0;34m\u001b[0m\n",
       "\u001b[0;34m    Parameters\u001b[0m\n",
       "\u001b[0;34m    ==========\u001b[0m\n",
       "\u001b[0;34m    month: int\u001b[0m\n",
       "\u001b[0;34m        maturity month\u001b[0m\n",
       "\u001b[0;34m    year: int\u001b[0m\n",
       "\u001b[0;34m        maturity year\u001b[0m\n",
       "\u001b[0;34m    date: datetime object\u001b[0m\n",
       "\u001b[0;34m        the date for which the data is collected\u001b[0m\n",
       "\u001b[0;34m\u001b[0m\n",
       "\u001b[0;34m    Returns\u001b[0m\n",
       "\u001b[0;34m    =======\u001b[0m\n",
       "\u001b[0;34m    dataset: pandas DataFrame object\u001b[0m\n",
       "\u001b[0;34m        object containing call & put option data\u001b[0m\n",
       "\u001b[0;34m    '''\u001b[0m\u001b[0;34m\u001b[0m\n",
       "\u001b[0;34m\u001b[0m\u001b[0;34m\u001b[0m\n",
       "\u001b[0;34m\u001b[0m    \u001b[0mdate_string\u001b[0m \u001b[0;34m=\u001b[0m \u001b[0mdate\u001b[0m\u001b[0;34m.\u001b[0m\u001b[0mstrftime\u001b[0m\u001b[0;34m(\u001b[0m\u001b[0;34m'%Y%m%d'\u001b[0m\u001b[0;34m)\u001b[0m\u001b[0;34m\u001b[0m\n",
       "\u001b[0;34m\u001b[0m    \u001b[0;31m# loads the call data from the web\u001b[0m\u001b[0;34m\u001b[0m\n",
       "\u001b[0;34m\u001b[0m    \u001b[0mdata\u001b[0m \u001b[0;34m=\u001b[0m \u001b[0mget_data_from_www\u001b[0m\u001b[0;34m(\u001b[0m\u001b[0;34m'Call'\u001b[0m\u001b[0;34m,\u001b[0m \u001b[0mmonth\u001b[0m\u001b[0;34m,\u001b[0m \u001b[0myear\u001b[0m\u001b[0;34m,\u001b[0m \u001b[0mdate_string\u001b[0m\u001b[0;34m)\u001b[0m\u001b[0;34m\u001b[0m\n",
       "\u001b[0;34m\u001b[0m    \u001b[0mcalls\u001b[0m \u001b[0;34m=\u001b[0m \u001b[0mparse_data\u001b[0m\u001b[0;34m(\u001b[0m\u001b[0mdata\u001b[0m\u001b[0;34m,\u001b[0m \u001b[0mdate\u001b[0m\u001b[0;34m)\u001b[0m  \u001b[0;31m# parse the raw data\u001b[0m\u001b[0;34m\u001b[0m\n",
       "\u001b[0;34m\u001b[0m    \u001b[0mcalls\u001b[0m \u001b[0;34m=\u001b[0m \u001b[0mcalls\u001b[0m\u001b[0;34m.\u001b[0m\u001b[0mrename\u001b[0m\u001b[0;34m(\u001b[0m\u001b[0mcolumns\u001b[0m\u001b[0;34m=\u001b[0m\u001b[0;34m{\u001b[0m\u001b[0;34m'Daily settlem. price'\u001b[0m\u001b[0;34m:\u001b[0m \u001b[0;34m'Call_Price'\u001b[0m\u001b[0;34m}\u001b[0m\u001b[0;34m)\u001b[0m\u001b[0;34m\u001b[0m\n",
       "\u001b[0;34m\u001b[0m\u001b[0;34m\u001b[0m\n",
       "\u001b[0;34m\u001b[0m    \u001b[0mcalls\u001b[0m \u001b[0;34m=\u001b[0m \u001b[0mpd\u001b[0m\u001b[0;34m.\u001b[0m\u001b[0mDataFrame\u001b[0m\u001b[0;34m(\u001b[0m\u001b[0mcalls\u001b[0m\u001b[0;34m.\u001b[0m\u001b[0mpop\u001b[0m\u001b[0;34m(\u001b[0m\u001b[0;34m'Call_Price'\u001b[0m\u001b[0;34m)\u001b[0m\u001b[0;34m.\u001b[0m\u001b[0mastype\u001b[0m\u001b[0;34m(\u001b[0m\u001b[0mfloat\u001b[0m\u001b[0;34m)\u001b[0m\u001b[0;34m)\u001b[0m\u001b[0;34m\u001b[0m\n",
       "\u001b[0;34m\u001b[0m    \u001b[0;31m# the same for puts\u001b[0m\u001b[0;34m\u001b[0m\n",
       "\u001b[0;34m\u001b[0m    \u001b[0mdata\u001b[0m \u001b[0;34m=\u001b[0m \u001b[0mget_data_from_www\u001b[0m\u001b[0;34m(\u001b[0m\u001b[0;34m'Put'\u001b[0m\u001b[0;34m,\u001b[0m \u001b[0mmonth\u001b[0m\u001b[0;34m,\u001b[0m \u001b[0myear\u001b[0m\u001b[0;34m,\u001b[0m \u001b[0mdate_string\u001b[0m\u001b[0;34m)\u001b[0m\u001b[0;34m\u001b[0m\n",
       "\u001b[0;34m\u001b[0m    \u001b[0mputs\u001b[0m \u001b[0;34m=\u001b[0m \u001b[0mparse_data\u001b[0m\u001b[0;34m(\u001b[0m\u001b[0mdata\u001b[0m\u001b[0;34m,\u001b[0m \u001b[0mdate\u001b[0m\u001b[0;34m)\u001b[0m\u001b[0;34m\u001b[0m\n",
       "\u001b[0;34m\u001b[0m    \u001b[0mputs\u001b[0m \u001b[0;34m=\u001b[0m \u001b[0mputs\u001b[0m\u001b[0;34m.\u001b[0m\u001b[0mrename\u001b[0m\u001b[0;34m(\u001b[0m\u001b[0mcolumns\u001b[0m\u001b[0;34m=\u001b[0m\u001b[0;34m{\u001b[0m\u001b[0;34m'Daily settlem. price'\u001b[0m\u001b[0;34m:\u001b[0m \u001b[0;34m'Put_Price'\u001b[0m\u001b[0;34m}\u001b[0m\u001b[0;34m)\u001b[0m\u001b[0;34m\u001b[0m\n",
       "\u001b[0;34m\u001b[0m    \u001b[0mputs\u001b[0m \u001b[0;34m=\u001b[0m \u001b[0mpd\u001b[0m\u001b[0;34m.\u001b[0m\u001b[0mDataFrame\u001b[0m\u001b[0;34m(\u001b[0m\u001b[0mputs\u001b[0m\u001b[0;34m.\u001b[0m\u001b[0mpop\u001b[0m\u001b[0;34m(\u001b[0m\u001b[0;34m'Put_Price'\u001b[0m\u001b[0;34m)\u001b[0m\u001b[0;34m.\u001b[0m\u001b[0mastype\u001b[0m\u001b[0;34m(\u001b[0m\u001b[0mfloat\u001b[0m\u001b[0;34m)\u001b[0m\u001b[0;34m)\u001b[0m\u001b[0;34m\u001b[0m\n",
       "\u001b[0;34m\u001b[0m\u001b[0;34m\u001b[0m\n",
       "\u001b[0;34m\u001b[0m    \u001b[0mdataset\u001b[0m \u001b[0;34m=\u001b[0m \u001b[0mmerge_and_filter\u001b[0m\u001b[0;34m(\u001b[0m\u001b[0mputs\u001b[0m\u001b[0;34m,\u001b[0m \u001b[0mcalls\u001b[0m\u001b[0;34m)\u001b[0m   \u001b[0;31m# merges the two time series\u001b[0m\u001b[0;34m\u001b[0m\n",
       "\u001b[0;34m\u001b[0m\u001b[0;34m\u001b[0m\n",
       "\u001b[0;34m\u001b[0m    \u001b[0;32mreturn\u001b[0m \u001b[0mdataset\u001b[0m\u001b[0;34m\u001b[0m\u001b[0;34m\u001b[0m\u001b[0m\n",
       "\u001b[0;31mFile:\u001b[0m      ~/Dropbox/Program/cert/21_lvvd/live/scripts/index_collect_option_data.py\n",
       "\u001b[0;31mType:\u001b[0m      function\n"
      ]
     },
     "metadata": {},
     "output_type": "display_data"
    }
   ],
   "source": [
    "icod.get_data??"
   ]
  },
  {
   "cell_type": "markdown",
   "metadata": {},
   "source": [
    "This one is called by the function ``collect_option_series()`` and calls itself the functions ``get_data_from_www()``, ``parse_data(data, date)`` and ``merge_and_filter()``. It returns the prices of the option series with expiry date in month ``month`` and year ``year`` for the day ``date``.\n",
    "\n",
    "The third function is ``get_data_from_www()``."
   ]
  },
  {
   "cell_type": "code",
   "execution_count": 6,
   "metadata": {},
   "outputs": [
    {
     "data": {
      "text/plain": [
       "\u001b[0;31mSignature:\u001b[0m \u001b[0micod\u001b[0m\u001b[0;34m.\u001b[0m\u001b[0mget_data_from_www\u001b[0m\u001b[0;34m(\u001b[0m\u001b[0moType\u001b[0m\u001b[0;34m,\u001b[0m \u001b[0mmatMonth\u001b[0m\u001b[0;34m,\u001b[0m \u001b[0mmatYear\u001b[0m\u001b[0;34m,\u001b[0m \u001b[0mdate\u001b[0m\u001b[0;34m)\u001b[0m\u001b[0;34m\u001b[0m\u001b[0;34m\u001b[0m\u001b[0m\n",
       "\u001b[0;31mSource:\u001b[0m   \n",
       "\u001b[0;32mdef\u001b[0m \u001b[0mget_data_from_www\u001b[0m\u001b[0;34m(\u001b[0m\u001b[0moType\u001b[0m\u001b[0;34m,\u001b[0m \u001b[0mmatMonth\u001b[0m\u001b[0;34m,\u001b[0m \u001b[0mmatYear\u001b[0m\u001b[0;34m,\u001b[0m \u001b[0mdate\u001b[0m\u001b[0;34m)\u001b[0m\u001b[0;34m:\u001b[0m\u001b[0;34m\u001b[0m\n",
       "\u001b[0;34m\u001b[0m    \u001b[0;34m''' Retrieves the raw data of an option series from the web.\u001b[0m\n",
       "\u001b[0;34m\u001b[0m\n",
       "\u001b[0;34m    Parameters\u001b[0m\n",
       "\u001b[0;34m    ==========\u001b[0m\n",
       "\u001b[0;34m    oType: string\u001b[0m\n",
       "\u001b[0;34m        either 'Put' or 'Call'\u001b[0m\n",
       "\u001b[0;34m    matMonth: int\u001b[0m\n",
       "\u001b[0;34m        maturity month\u001b[0m\n",
       "\u001b[0;34m    matYear: int\u001b[0m\n",
       "\u001b[0;34m        maturity year\u001b[0m\n",
       "\u001b[0;34m    date: string\u001b[0m\n",
       "\u001b[0;34m        expiry in the format 'YYYYMMDD'\u001b[0m\n",
       "\u001b[0;34m\u001b[0m\n",
       "\u001b[0;34m    Returns\u001b[0m\n",
       "\u001b[0;34m    =======\u001b[0m\n",
       "\u001b[0;34m    a: string\u001b[0m\n",
       "\u001b[0;34m        raw text with option data\u001b[0m\n",
       "\u001b[0;34m    '''\u001b[0m\u001b[0;34m\u001b[0m\n",
       "\u001b[0;34m\u001b[0m\u001b[0;34m\u001b[0m\n",
       "\u001b[0;34m\u001b[0m    \u001b[0murl\u001b[0m \u001b[0;34m=\u001b[0m \u001b[0mURL\u001b[0m \u001b[0;34m%\u001b[0m \u001b[0;34m(\u001b[0m\u001b[0moType\u001b[0m\u001b[0;34m,\u001b[0m \u001b[0mmatMonth\u001b[0m\u001b[0;34m,\u001b[0m \u001b[0mmatYear\u001b[0m\u001b[0;34m,\u001b[0m \u001b[0mdate\u001b[0m\u001b[0;34m)\u001b[0m  \u001b[0;31m# parametrizes the URL\u001b[0m\u001b[0;34m\u001b[0m\n",
       "\u001b[0;34m\u001b[0m    \u001b[0ma\u001b[0m \u001b[0;34m=\u001b[0m \u001b[0mrequests\u001b[0m\u001b[0;34m.\u001b[0m\u001b[0mget\u001b[0m\u001b[0;34m(\u001b[0m\u001b[0murl\u001b[0m\u001b[0;34m)\u001b[0m\u001b[0;34m.\u001b[0m\u001b[0mtext\u001b[0m\u001b[0;34m\u001b[0m\n",
       "\u001b[0;34m\u001b[0m    \u001b[0;32mreturn\u001b[0m \u001b[0ma\u001b[0m\u001b[0;34m\u001b[0m\u001b[0;34m\u001b[0m\u001b[0m\n",
       "\u001b[0;31mFile:\u001b[0m      ~/Dropbox/Program/cert/21_lvvd/live/scripts/index_collect_option_data.py\n",
       "\u001b[0;31mType:\u001b[0m      function\n"
      ]
     },
     "metadata": {},
     "output_type": "display_data"
    }
   ],
   "source": [
    "icod.get_data_from_www??"
   ]
  },
  {
   "cell_type": "markdown",
   "metadata": {},
   "source": [
    "The function collects the prices of an option series for a single day (defined by ``date``) from the web. The option series is defined by the date of its expiry, given by ``matMonth`` and ``matYear``, the type of the options is given by ``oType`` which can be either ``Put`` or ``Call``. It returns a complete HTML file.\n",
    "\n",
    "``merge_and_filter()`` is the fourth function."
   ]
  },
  {
   "cell_type": "code",
   "execution_count": 7,
   "metadata": {},
   "outputs": [
    {
     "data": {
      "text/plain": [
       "\u001b[0;31mSignature:\u001b[0m \u001b[0micod\u001b[0m\u001b[0;34m.\u001b[0m\u001b[0mmerge_and_filter\u001b[0m\u001b[0;34m(\u001b[0m\u001b[0mputs\u001b[0m\u001b[0;34m,\u001b[0m \u001b[0mcalls\u001b[0m\u001b[0;34m)\u001b[0m\u001b[0;34m\u001b[0m\u001b[0;34m\u001b[0m\u001b[0m\n",
       "\u001b[0;31mSource:\u001b[0m   \n",
       "\u001b[0;32mdef\u001b[0m \u001b[0mmerge_and_filter\u001b[0m\u001b[0;34m(\u001b[0m\u001b[0mputs\u001b[0m\u001b[0;34m,\u001b[0m \u001b[0mcalls\u001b[0m\u001b[0;34m)\u001b[0m\u001b[0;34m:\u001b[0m\u001b[0;34m\u001b[0m\n",
       "\u001b[0;34m\u001b[0m    \u001b[0;34m''' Gets two pandas time series for the puts and calls\u001b[0m\n",
       "\u001b[0;34m    (from the same option series), merges them, filters out\u001b[0m\n",
       "\u001b[0;34m    all options with prices smaller than 0.5 and\u001b[0m\n",
       "\u001b[0;34m    returns the resulting DataFrame object.\u001b[0m\n",
       "\u001b[0;34m\u001b[0m\n",
       "\u001b[0;34m    Parameters\u001b[0m\n",
       "\u001b[0;34m    ==========\u001b[0m\n",
       "\u001b[0;34m    puts: pandas DataFrame object\u001b[0m\n",
       "\u001b[0;34m        put option data\u001b[0m\n",
       "\u001b[0;34m    calls: pandas DataFrame object\u001b[0m\n",
       "\u001b[0;34m        call option data\u001b[0m\n",
       "\u001b[0;34m\u001b[0m\n",
       "\u001b[0;34m    Returns\u001b[0m\n",
       "\u001b[0;34m    =======\u001b[0m\n",
       "\u001b[0;34m    df: pandas DataFrame object\u001b[0m\n",
       "\u001b[0;34m        merged & filtered options data\u001b[0m\n",
       "\u001b[0;34m    '''\u001b[0m\u001b[0;34m\u001b[0m\n",
       "\u001b[0;34m\u001b[0m\u001b[0;34m\u001b[0m\n",
       "\u001b[0;34m\u001b[0m    \u001b[0mdf\u001b[0m \u001b[0;34m=\u001b[0m \u001b[0mcalls\u001b[0m\u001b[0;34m.\u001b[0m\u001b[0mjoin\u001b[0m\u001b[0;34m(\u001b[0m\u001b[0mputs\u001b[0m\u001b[0;34m,\u001b[0m \u001b[0mhow\u001b[0m\u001b[0;34m=\u001b[0m\u001b[0;34m'inner'\u001b[0m\u001b[0;34m)\u001b[0m  \u001b[0;31m# merges the two time series\u001b[0m\u001b[0;34m\u001b[0m\n",
       "\u001b[0;34m\u001b[0m    \u001b[0;31m# filters all prices which are too small\u001b[0m\u001b[0;34m\u001b[0m\n",
       "\u001b[0;34m\u001b[0m    \u001b[0mdf\u001b[0m \u001b[0;34m=\u001b[0m \u001b[0mdf\u001b[0m\u001b[0;34m[\u001b[0m\u001b[0;34m(\u001b[0m\u001b[0mdf\u001b[0m\u001b[0;34m.\u001b[0m\u001b[0mPut_Price\u001b[0m \u001b[0;34m>=\u001b[0m \u001b[0;36m0.5\u001b[0m\u001b[0;34m)\u001b[0m \u001b[0;34m&\u001b[0m \u001b[0;34m(\u001b[0m\u001b[0mdf\u001b[0m\u001b[0;34m.\u001b[0m\u001b[0mCall_Price\u001b[0m \u001b[0;34m>=\u001b[0m \u001b[0;36m0.5\u001b[0m\u001b[0;34m)\u001b[0m\u001b[0;34m]\u001b[0m\u001b[0;34m\u001b[0m\n",
       "\u001b[0;34m\u001b[0m\u001b[0;34m\u001b[0m\n",
       "\u001b[0;34m\u001b[0m    \u001b[0;32mreturn\u001b[0m \u001b[0mdf\u001b[0m\u001b[0;34m\u001b[0m\u001b[0;34m\u001b[0m\u001b[0m\n",
       "\u001b[0;31mFile:\u001b[0m      ~/Dropbox/Program/cert/21_lvvd/live/scripts/index_collect_option_data.py\n",
       "\u001b[0;31mType:\u001b[0m      function\n"
      ]
     },
     "metadata": {},
     "output_type": "display_data"
    }
   ],
   "source": [
    "icod.merge_and_filter??"
   ]
  },
  {
   "cell_type": "markdown",
   "metadata": {},
   "source": [
    "This one gets two time series ``puts`` and ``calls`` (typically of the same option series), merges them, filters out all options with prices below 0.5 and returns the resulting pandas ``DataFrame`` object.\n",
    "\n",
    "``parse_data()`` is the fifth function."
   ]
  },
  {
   "cell_type": "code",
   "execution_count": 8,
   "metadata": {},
   "outputs": [
    {
     "data": {
      "text/plain": [
       "\u001b[0;31mSignature:\u001b[0m \u001b[0micod\u001b[0m\u001b[0;34m.\u001b[0m\u001b[0mparse_data\u001b[0m\u001b[0;34m(\u001b[0m\u001b[0mdata\u001b[0m\u001b[0;34m,\u001b[0m \u001b[0mdate\u001b[0m\u001b[0;34m)\u001b[0m\u001b[0;34m\u001b[0m\u001b[0;34m\u001b[0m\u001b[0m\n",
       "\u001b[0;31mSource:\u001b[0m   \n",
       "\u001b[0;32mdef\u001b[0m \u001b[0mparse_data\u001b[0m\u001b[0;34m(\u001b[0m\u001b[0mdata\u001b[0m\u001b[0;34m,\u001b[0m \u001b[0mdate\u001b[0m\u001b[0;34m)\u001b[0m\u001b[0;34m:\u001b[0m\u001b[0;34m\u001b[0m\n",
       "\u001b[0;34m\u001b[0m    \u001b[0;34m''' Parses the HTML table and transforms it into a CSV compatible\u001b[0m\n",
       "\u001b[0;34m    format. The result can be directly imported into a pandas DataFrame.\u001b[0m\n",
       "\u001b[0;34m\u001b[0m\n",
       "\u001b[0;34m    Parameters\u001b[0m\n",
       "\u001b[0;34m    ==========\u001b[0m\n",
       "\u001b[0;34m    data: string\u001b[0m\n",
       "\u001b[0;34m        document containing the Web content\u001b[0m\n",
       "\u001b[0;34m    date: datetime object\u001b[0m\n",
       "\u001b[0;34m        date for which the data is parsed\u001b[0m\n",
       "\u001b[0;34m\u001b[0m\n",
       "\u001b[0;34m    Returns\u001b[0m\n",
       "\u001b[0;34m    =======\u001b[0m\n",
       "\u001b[0;34m    dataset: pandas DataFrame object\u001b[0m\n",
       "\u001b[0;34m        transformed option raw data\u001b[0m\n",
       "\u001b[0;34m    '''\u001b[0m\u001b[0;34m\u001b[0m\n",
       "\u001b[0;34m\u001b[0m    \u001b[0;34m\u001b[0m\n",
       "\u001b[0;34m\u001b[0m    \u001b[0mdata_list\u001b[0m \u001b[0;34m=\u001b[0m \u001b[0mlist\u001b[0m\u001b[0;34m(\u001b[0m\u001b[0;34m)\u001b[0m\u001b[0;34m\u001b[0m\n",
       "\u001b[0;34m\u001b[0m    \u001b[0mdate_value\u001b[0m \u001b[0;34m=\u001b[0m \u001b[0mdt\u001b[0m\u001b[0;34m.\u001b[0m\u001b[0mdate\u001b[0m\u001b[0;34m(\u001b[0m\u001b[0mdate\u001b[0m\u001b[0;34m.\u001b[0m\u001b[0myear\u001b[0m\u001b[0;34m,\u001b[0m \u001b[0mdate\u001b[0m\u001b[0;34m.\u001b[0m\u001b[0mmonth\u001b[0m\u001b[0;34m,\u001b[0m \u001b[0mdate\u001b[0m\u001b[0;34m.\u001b[0m\u001b[0mday\u001b[0m\u001b[0;34m)\u001b[0m\u001b[0;34m\u001b[0m\n",
       "\u001b[0;34m\u001b[0m    \u001b[0msoup\u001b[0m \u001b[0;34m=\u001b[0m \u001b[0mBeautifulSoup\u001b[0m\u001b[0;34m(\u001b[0m\u001b[0mdata\u001b[0m\u001b[0;34m,\u001b[0m \u001b[0;34m'html.parser'\u001b[0m\u001b[0;34m)\u001b[0m\u001b[0;34m\u001b[0m\n",
       "\u001b[0;34m\u001b[0m    \u001b[0;34m\u001b[0m\n",
       "\u001b[0;34m\u001b[0m    \u001b[0mtables\u001b[0m \u001b[0;34m=\u001b[0m \u001b[0msoup\u001b[0m\u001b[0;34m.\u001b[0m\u001b[0mselect\u001b[0m\u001b[0;34m(\u001b[0m\u001b[0;34m'table.dataTable'\u001b[0m\u001b[0;34m)\u001b[0m\u001b[0;34m\u001b[0m\n",
       "\u001b[0;34m\u001b[0m    \u001b[0;32mif\u001b[0m \u001b[0mlen\u001b[0m\u001b[0;34m(\u001b[0m\u001b[0mtables\u001b[0m\u001b[0;34m)\u001b[0m \u001b[0;34m!=\u001b[0m \u001b[0;36m1\u001b[0m\u001b[0;34m:\u001b[0m\u001b[0;34m\u001b[0m\n",
       "\u001b[0;34m\u001b[0m        \u001b[0;32mraise\u001b[0m \u001b[0mValueError\u001b[0m\u001b[0;34m(\u001b[0m\u001b[0;34m'table selector is not unique'\u001b[0m\u001b[0;34m)\u001b[0m\u001b[0;34m\u001b[0m\n",
       "\u001b[0;34m\u001b[0m    \u001b[0;32melse\u001b[0m\u001b[0;34m:\u001b[0m\u001b[0;34m\u001b[0m\n",
       "\u001b[0;34m\u001b[0m        \u001b[0mtable\u001b[0m \u001b[0;34m=\u001b[0m \u001b[0mtables\u001b[0m\u001b[0;34m[\u001b[0m\u001b[0;36m0\u001b[0m\u001b[0;34m]\u001b[0m\u001b[0;34m\u001b[0m\n",
       "\u001b[0;34m\u001b[0m    \u001b[0mcolumns\u001b[0m \u001b[0;34m=\u001b[0m \u001b[0;34m[\u001b[0m\u001b[0;34m'Pricing day'\u001b[0m\u001b[0;34m,\u001b[0m\u001b[0;34m]\u001b[0m \u001b[0;34m+\u001b[0m \u001b[0;34m[\u001b[0m\u001b[0mcell\u001b[0m\u001b[0;34m.\u001b[0m\u001b[0mget_text\u001b[0m\u001b[0;34m(\u001b[0m\u001b[0;34m)\u001b[0m \u001b[0;32mfor\u001b[0m \u001b[0mcell\u001b[0m \u001b[0;32min\u001b[0m \u001b[0mtable\u001b[0m\u001b[0;34m.\u001b[0m\u001b[0mfind_all\u001b[0m\u001b[0;34m(\u001b[0m\u001b[0;34m'th'\u001b[0m\u001b[0;34m)\u001b[0m\u001b[0;34m]\u001b[0m\u001b[0;34m\u001b[0m\n",
       "\u001b[0;34m\u001b[0m        \u001b[0;34m\u001b[0m\n",
       "\u001b[0;34m\u001b[0m    \u001b[0;32mfor\u001b[0m \u001b[0mline\u001b[0m \u001b[0;32min\u001b[0m \u001b[0mtable\u001b[0m\u001b[0;34m.\u001b[0m\u001b[0mfind_all\u001b[0m\u001b[0;34m(\u001b[0m\u001b[0;34m'tr'\u001b[0m\u001b[0;34m)\u001b[0m\u001b[0;34m[\u001b[0m\u001b[0;34m:\u001b[0m\u001b[0;34m-\u001b[0m\u001b[0;36m1\u001b[0m\u001b[0;34m]\u001b[0m\u001b[0;34m:\u001b[0m\u001b[0;34m\u001b[0m\n",
       "\u001b[0;34m\u001b[0m        \u001b[0mdata_list\u001b[0m\u001b[0;34m.\u001b[0m\u001b[0mappend\u001b[0m\u001b[0;34m(\u001b[0m\u001b[0;34m[\u001b[0m\u001b[0mdate_value\u001b[0m\u001b[0;34m,\u001b[0m\u001b[0;34m]\u001b[0m\u001b[0;34m+\u001b[0m\u001b[0;34m[\u001b[0m\u001b[0mfloat\u001b[0m\u001b[0;34m(\u001b[0m\u001b[0mcell\u001b[0m\u001b[0;34m.\u001b[0m\u001b[0mget_text\u001b[0m\u001b[0;34m(\u001b[0m\u001b[0;34m)\u001b[0m\u001b[0;34m.\u001b[0m\u001b[0mreplace\u001b[0m\u001b[0;34m(\u001b[0m\u001b[0;34m','\u001b[0m\u001b[0;34m,\u001b[0m\u001b[0;34m''\u001b[0m\u001b[0;34m)\u001b[0m\u001b[0;34m)\u001b[0m \u001b[0;32mfor\u001b[0m \u001b[0mcell\u001b[0m \u001b[0;32min\u001b[0m \u001b[0mline\u001b[0m\u001b[0;34m.\u001b[0m\u001b[0mfind_all\u001b[0m\u001b[0;34m(\u001b[0m\u001b[0;34m'td'\u001b[0m\u001b[0;34m)\u001b[0m\u001b[0;34m]\u001b[0m\u001b[0;34m)\u001b[0m\u001b[0;34m\u001b[0m\n",
       "\u001b[0;34m\u001b[0m    \u001b[0;34m\u001b[0m\n",
       "\u001b[0;34m\u001b[0m    \u001b[0mdataset\u001b[0m \u001b[0;34m=\u001b[0m \u001b[0mpd\u001b[0m\u001b[0;34m.\u001b[0m\u001b[0mDataFrame\u001b[0m\u001b[0;34m(\u001b[0m\u001b[0mdata_list\u001b[0m\u001b[0;34m,\u001b[0m \u001b[0mcolumns\u001b[0m\u001b[0;34m=\u001b[0m\u001b[0mcolumns\u001b[0m\u001b[0;34m)\u001b[0m\u001b[0;34m\u001b[0m\n",
       "\u001b[0;34m\u001b[0m    \u001b[0mdataset\u001b[0m \u001b[0;34m=\u001b[0m \u001b[0mdataset\u001b[0m\u001b[0;34m.\u001b[0m\u001b[0mset_index\u001b[0m\u001b[0;34m(\u001b[0m\u001b[0;34m[\u001b[0m\u001b[0;34m'Pricing day'\u001b[0m\u001b[0;34m,\u001b[0m\u001b[0;34m'Strike price'\u001b[0m\u001b[0;34m]\u001b[0m\u001b[0;34m)\u001b[0m\u001b[0;34m\u001b[0m\n",
       "\u001b[0;34m\u001b[0m    \u001b[0;32mreturn\u001b[0m \u001b[0mdataset\u001b[0m\u001b[0;34m\u001b[0m\u001b[0;34m\u001b[0m\u001b[0m\n",
       "\u001b[0;31mFile:\u001b[0m      ~/Dropbox/Program/cert/21_lvvd/live/scripts/index_collect_option_data.py\n",
       "\u001b[0;31mType:\u001b[0m      function\n"
      ]
     },
     "metadata": {},
     "output_type": "display_data"
    }
   ],
   "source": [
    "icod.parse_data??"
   ]
  },
  {
   "cell_type": "markdown",
   "metadata": {},
   "source": [
    "It gets the string ``data`` which contains the HTML text delivered by function ``get_data_from_www()``, parses that string to a pandas ``DataFrame`` object with double index ``date`` and ``strike price`` and returns that object.\n",
    "\n",
    "The sixth and final function is ``data_collection()``."
   ]
  },
  {
   "cell_type": "code",
   "execution_count": 9,
   "metadata": {},
   "outputs": [
    {
     "data": {
      "text/plain": [
       "\u001b[0;31mSignature:\u001b[0m \u001b[0micod\u001b[0m\u001b[0;34m.\u001b[0m\u001b[0mdata_collection\u001b[0m\u001b[0;34m(\u001b[0m\u001b[0mpath\u001b[0m\u001b[0;34m=\u001b[0m\u001b[0;34m''\u001b[0m\u001b[0;34m)\u001b[0m\u001b[0;34m\u001b[0m\u001b[0;34m\u001b[0m\u001b[0m\n",
       "\u001b[0;31mSource:\u001b[0m   \n",
       "\u001b[0;32mdef\u001b[0m \u001b[0mdata_collection\u001b[0m\u001b[0;34m(\u001b[0m\u001b[0mpath\u001b[0m\u001b[0;34m=\u001b[0m\u001b[0;34m''\u001b[0m\u001b[0;34m)\u001b[0m\u001b[0;34m:\u001b[0m\u001b[0;34m\u001b[0m\n",
       "\u001b[0;34m\u001b[0m    \u001b[0;34m''' Main function which saves data into the HDF5 file\u001b[0m\n",
       "\u001b[0;34m    'index_option_series.h5' for later use.\u001b[0m\n",
       "\u001b[0;34m\u001b[0m\n",
       "\u001b[0;34m    Parameters\u001b[0m\n",
       "\u001b[0;34m    ==========\u001b[0m\n",
       "\u001b[0;34m    path: string\u001b[0m\n",
       "\u001b[0;34m        path to store the data\u001b[0m\n",
       "\u001b[0;34m    '''\u001b[0m\u001b[0;34m\u001b[0m\n",
       "\u001b[0;34m\u001b[0m    \u001b[0;31m# file to store data\u001b[0m\u001b[0;34m\u001b[0m\n",
       "\u001b[0;34m\u001b[0m    \u001b[0mstore\u001b[0m \u001b[0;34m=\u001b[0m \u001b[0mpd\u001b[0m\u001b[0;34m.\u001b[0m\u001b[0mHDFStore\u001b[0m\u001b[0;34m(\u001b[0m\u001b[0mpath\u001b[0m \u001b[0;34m+\u001b[0m \u001b[0;34m'index_option_series.h5'\u001b[0m\u001b[0;34m,\u001b[0m \u001b[0;34m'a'\u001b[0m\u001b[0;34m)\u001b[0m\u001b[0;34m\u001b[0m\n",
       "\u001b[0;34m\u001b[0m\u001b[0;34m\u001b[0m\n",
       "\u001b[0;34m\u001b[0m    \u001b[0mtoday\u001b[0m \u001b[0;34m=\u001b[0m \u001b[0mdt\u001b[0m\u001b[0;34m.\u001b[0m\u001b[0mdatetime\u001b[0m\u001b[0;34m.\u001b[0m\u001b[0mtoday\u001b[0m\u001b[0;34m(\u001b[0m\u001b[0;34m)\u001b[0m\u001b[0;34m\u001b[0m\n",
       "\u001b[0;34m\u001b[0m    \u001b[0mstart\u001b[0m \u001b[0;34m=\u001b[0m \u001b[0mtoday\u001b[0m \u001b[0;34m-\u001b[0m \u001b[0mdt\u001b[0m\u001b[0;34m.\u001b[0m\u001b[0mtimedelta\u001b[0m\u001b[0;34m(\u001b[0m\u001b[0;36m31\u001b[0m\u001b[0;34m)\u001b[0m  \u001b[0;31m# the last 31 days\u001b[0m\u001b[0;34m\u001b[0m\n",
       "\u001b[0;34m\u001b[0m\u001b[0;34m\u001b[0m\n",
       "\u001b[0;34m\u001b[0m    \u001b[0mday\u001b[0m \u001b[0;34m=\u001b[0m \u001b[0mstart\u001b[0m\u001b[0;34m.\u001b[0m\u001b[0mday\u001b[0m\u001b[0;34m\u001b[0m\n",
       "\u001b[0;34m\u001b[0m    \u001b[0mmonth\u001b[0m \u001b[0;34m=\u001b[0m \u001b[0mstart\u001b[0m\u001b[0;34m.\u001b[0m\u001b[0mmonth\u001b[0m\u001b[0;34m\u001b[0m\n",
       "\u001b[0;34m\u001b[0m    \u001b[0myear\u001b[0m \u001b[0;34m=\u001b[0m \u001b[0mstart\u001b[0m\u001b[0;34m.\u001b[0m\u001b[0myear\u001b[0m\u001b[0;34m\u001b[0m\n",
       "\u001b[0;34m\u001b[0m\u001b[0;34m\u001b[0m\n",
       "\u001b[0;34m\u001b[0m    \u001b[0;32mfor\u001b[0m \u001b[0mi\u001b[0m \u001b[0;32min\u001b[0m \u001b[0mrange\u001b[0m\u001b[0;34m(\u001b[0m\u001b[0;36m4\u001b[0m\u001b[0;34m)\u001b[0m\u001b[0;34m:\u001b[0m  \u001b[0;31m# iterates over the next 4 months\u001b[0m\u001b[0;34m\u001b[0m\n",
       "\u001b[0;34m\u001b[0m        \u001b[0mdummy_month\u001b[0m \u001b[0;34m=\u001b[0m \u001b[0mmonth\u001b[0m \u001b[0;34m+\u001b[0m \u001b[0mi\u001b[0m\u001b[0;34m\u001b[0m\n",
       "\u001b[0;34m\u001b[0m        \u001b[0mdummy_year\u001b[0m \u001b[0;34m=\u001b[0m \u001b[0myear\u001b[0m\u001b[0;34m\u001b[0m\n",
       "\u001b[0;34m\u001b[0m        \u001b[0;32mif\u001b[0m \u001b[0mdummy_month\u001b[0m \u001b[0;34m>\u001b[0m \u001b[0;36m12\u001b[0m\u001b[0;34m:\u001b[0m\u001b[0;34m\u001b[0m\n",
       "\u001b[0;34m\u001b[0m            \u001b[0mdummy_month\u001b[0m \u001b[0;34m-=\u001b[0m \u001b[0;36m12\u001b[0m\u001b[0;34m\u001b[0m\n",
       "\u001b[0;34m\u001b[0m            \u001b[0mdummy_year\u001b[0m \u001b[0;34m+=\u001b[0m \u001b[0;36m1\u001b[0m\u001b[0;34m\u001b[0m\n",
       "\u001b[0;34m\u001b[0m\u001b[0;34m\u001b[0m\n",
       "\u001b[0;34m\u001b[0m        \u001b[0;31m# collect daily data beginning 31 days ago (start) for\u001b[0m\u001b[0;34m\u001b[0m\n",
       "\u001b[0;34m\u001b[0m        \u001b[0;31m# option series with expiry dummy_month, dummy_year\u001b[0m\u001b[0;34m\u001b[0m\n",
       "\u001b[0;34m\u001b[0m        \u001b[0mdataset\u001b[0m \u001b[0;34m=\u001b[0m \u001b[0mcollect_option_series\u001b[0m\u001b[0;34m(\u001b[0m\u001b[0mdummy_month\u001b[0m\u001b[0;34m,\u001b[0m \u001b[0mdummy_year\u001b[0m\u001b[0;34m,\u001b[0m \u001b[0mstart\u001b[0m\u001b[0;34m)\u001b[0m\u001b[0;34m\u001b[0m\n",
       "\u001b[0;34m\u001b[0m\u001b[0;34m\u001b[0m\n",
       "\u001b[0;34m\u001b[0m        \u001b[0mdummy_date\u001b[0m \u001b[0;34m=\u001b[0m \u001b[0mdt\u001b[0m\u001b[0;34m.\u001b[0m\u001b[0mdatetime\u001b[0m\u001b[0;34m(\u001b[0m\u001b[0mdummy_year\u001b[0m\u001b[0;34m,\u001b[0m \u001b[0mdummy_month\u001b[0m\u001b[0;34m,\u001b[0m \u001b[0mday\u001b[0m\u001b[0;34m)\u001b[0m\u001b[0;34m\u001b[0m\n",
       "\u001b[0;34m\u001b[0m\u001b[0;34m\u001b[0m\n",
       "\u001b[0;34m\u001b[0m        \u001b[0;31m# abbreviation for expiry date (for example Oct14)\u001b[0m\u001b[0;34m\u001b[0m\n",
       "\u001b[0;34m\u001b[0m        \u001b[0mseries_name\u001b[0m \u001b[0;34m=\u001b[0m \u001b[0mdummy_date\u001b[0m\u001b[0;34m.\u001b[0m\u001b[0mstrftime\u001b[0m\u001b[0;34m(\u001b[0m\u001b[0;34m'%b%y'\u001b[0m\u001b[0;34m)\u001b[0m\u001b[0;34m\u001b[0m\n",
       "\u001b[0;34m\u001b[0m\u001b[0;34m\u001b[0m\n",
       "\u001b[0;34m\u001b[0m        \u001b[0;32mif\u001b[0m \u001b[0mseries_name\u001b[0m \u001b[0;32min\u001b[0m \u001b[0mstore\u001b[0m\u001b[0;34m.\u001b[0m\u001b[0mkeys\u001b[0m\u001b[0;34m(\u001b[0m\u001b[0;34m)\u001b[0m\u001b[0;34m:\u001b[0m  \u001b[0;31m# if data for that series exists\u001b[0m\u001b[0;34m\u001b[0m\n",
       "\u001b[0;34m\u001b[0m            \u001b[0mindex_old\u001b[0m \u001b[0;34m=\u001b[0m \u001b[0mstore\u001b[0m\u001b[0;34m[\u001b[0m\u001b[0mseries_name\u001b[0m\u001b[0;34m]\u001b[0m\u001b[0;34m.\u001b[0m\u001b[0mindex\u001b[0m\u001b[0;34m\u001b[0m\n",
       "\u001b[0;34m\u001b[0m            \u001b[0mindex_new\u001b[0m \u001b[0;34m=\u001b[0m \u001b[0mdataset\u001b[0m\u001b[0;34m.\u001b[0m\u001b[0mindex\u001b[0m\u001b[0;34m\u001b[0m\n",
       "\u001b[0;34m\u001b[0m\u001b[0;34m\u001b[0m\n",
       "\u001b[0;34m\u001b[0m            \u001b[0;32mif\u001b[0m \u001b[0mlen\u001b[0m\u001b[0;34m(\u001b[0m\u001b[0mindex_new\u001b[0m \u001b[0;34m-\u001b[0m \u001b[0mindex_old\u001b[0m\u001b[0;34m)\u001b[0m \u001b[0;34m>\u001b[0m \u001b[0;36m0\u001b[0m\u001b[0;34m:\u001b[0m\u001b[0;34m\u001b[0m\n",
       "\u001b[0;34m\u001b[0m                \u001b[0mdummy\u001b[0m \u001b[0;34m=\u001b[0m \u001b[0mpd\u001b[0m\u001b[0;34m.\u001b[0m\u001b[0mconcat\u001b[0m\u001b[0;34m(\u001b[0m\u001b[0;34m(\u001b[0m\u001b[0mstore\u001b[0m\u001b[0;34m[\u001b[0m\u001b[0mseries_name\u001b[0m\u001b[0;34m]\u001b[0m\u001b[0;34m,\u001b[0m\u001b[0;34m\u001b[0m\n",
       "\u001b[0;34m\u001b[0m                     \u001b[0mdataset\u001b[0m\u001b[0;34m.\u001b[0m\u001b[0mix\u001b[0m\u001b[0;34m[\u001b[0m\u001b[0mindex_new\u001b[0m \u001b[0;34m-\u001b[0m \u001b[0mindex_old\u001b[0m\u001b[0;34m]\u001b[0m\u001b[0;34m)\u001b[0m\u001b[0;34m)\u001b[0m  \u001b[0;31m# add the new data\u001b[0m\u001b[0;34m\u001b[0m\n",
       "\u001b[0;34m\u001b[0m\u001b[0;34m\u001b[0m\n",
       "\u001b[0;34m\u001b[0m                \u001b[0mstore\u001b[0m\u001b[0;34m[\u001b[0m\u001b[0mseries_name\u001b[0m\u001b[0;34m]\u001b[0m \u001b[0;34m=\u001b[0m \u001b[0mdummy\u001b[0m\u001b[0;34m\u001b[0m\n",
       "\u001b[0;34m\u001b[0m        \u001b[0;32melse\u001b[0m\u001b[0;34m:\u001b[0m\u001b[0;34m\u001b[0m\n",
       "\u001b[0;34m\u001b[0m            \u001b[0;32mif\u001b[0m \u001b[0mlen\u001b[0m\u001b[0;34m(\u001b[0m\u001b[0mdataset\u001b[0m\u001b[0;34m)\u001b[0m \u001b[0;34m>\u001b[0m \u001b[0;36m0\u001b[0m\u001b[0;34m:\u001b[0m\u001b[0;34m\u001b[0m\n",
       "\u001b[0;34m\u001b[0m            \u001b[0;31m# if series is new, write whole data set into data store\u001b[0m\u001b[0;34m\u001b[0m\n",
       "\u001b[0;34m\u001b[0m                \u001b[0mstore\u001b[0m\u001b[0;34m[\u001b[0m\u001b[0mseries_name\u001b[0m\u001b[0;34m]\u001b[0m \u001b[0;34m=\u001b[0m \u001b[0mdataset\u001b[0m\u001b[0;34m\u001b[0m\n",
       "\u001b[0;34m\u001b[0m\u001b[0;34m\u001b[0m\n",
       "\u001b[0;34m\u001b[0m    \u001b[0mstore\u001b[0m\u001b[0;34m.\u001b[0m\u001b[0mclose\u001b[0m\u001b[0;34m(\u001b[0m\u001b[0;34m)\u001b[0m\u001b[0;34m\u001b[0m\u001b[0;34m\u001b[0m\u001b[0m\n",
       "\u001b[0;31mFile:\u001b[0m      ~/Dropbox/Program/cert/21_lvvd/live/scripts/index_collect_option_data.py\n",
       "\u001b[0;31mType:\u001b[0m      function\n"
      ]
     },
     "metadata": {},
     "output_type": "display_data"
    }
   ],
   "source": [
    "icod.data_collection??"
   ]
  },
  {
   "cell_type": "markdown",
   "metadata": {},
   "source": [
    "This function is to initiate and finalize the collection of all relevant option series data sets. It saves the resulting data in a file named ``index_option_series.h5``."
   ]
  },
  {
   "cell_type": "code",
   "execution_count": 10,
   "metadata": {
    "collapsed": false,
    "jupyter": {
     "outputs_hidden": false
    }
   },
   "outputs": [],
   "source": [
    "path = './data/'"
   ]
  },
  {
   "cell_type": "markdown",
   "metadata": {},
   "source": [
    "Let us collect option data since all other steps depend on this data. We import the module as ``icod``."
   ]
  },
  {
   "cell_type": "code",
   "execution_count": 11,
   "metadata": {
    "collapsed": false,
    "jupyter": {
     "outputs_hidden": false
    }
   },
   "outputs": [],
   "source": [
    "import numpy as np\n",
    "import pandas as pd\n",
    "import datetime as dt\n",
    "import warnings; warnings.simplefilter('ignore')"
   ]
  },
  {
   "cell_type": "markdown",
   "metadata": {},
   "source": [
    "Next, fix a target day relative to today such that you hit a business day for which closing data is available."
   ]
  },
  {
   "cell_type": "code",
   "execution_count": 12,
   "metadata": {
    "collapsed": false,
    "jupyter": {
     "outputs_hidden": false
    }
   },
   "outputs": [
    {
     "data": {
      "text/plain": [
       "'20201111'"
      ]
     },
     "execution_count": 12,
     "metadata": {},
     "output_type": "execute_result"
    }
   ],
   "source": [
    "today = dt.datetime.now()\n",
    "## make sure to hit a business day\n",
    "target_day = today - dt.timedelta(days=2)\n",
    "ds = target_day.strftime('%Y%m%d')\n",
    "ds"
   ]
  },
  {
   "cell_type": "code",
   "execution_count": 13,
   "metadata": {},
   "outputs": [
    {
     "data": {
      "text/plain": [
       "'https://www.eurex.com/ex-en/data/statistics/market-statistics-online/100!onlineStats?productGroupId=13370&productId=69660&viewType=3&cp=Call&month=12&year=2020&busDate=20201111'"
      ]
     },
     "execution_count": 13,
     "metadata": {},
     "output_type": "execute_result"
    }
   ],
   "source": [
    "URL = 'https://www.eurex.com/ex-en/data/statistics/market-statistics-online/'\n",
    "URL += '100!onlineStats?productGroupId=13370&productId=69660&viewType=3&'\n",
    "URL += 'cp=%s&month=%s&year=%s&busDate=%s'\n",
    "URL % ('Call', 12, 2020, '20201111')"
   ]
  },
  {
   "cell_type": "markdown",
   "metadata": {},
   "source": [
    "Then, for example, collect option data for puts and calls with a maturity as defined by the parameters as follows."
   ]
  },
  {
   "cell_type": "code",
   "execution_count": 14,
   "metadata": {
    "collapsed": false,
    "jupyter": {
     "outputs_hidden": false
    }
   },
   "outputs": [],
   "source": [
    "## adjust maturity parameters if necessary\n",
    "call_data = icod.get_data_from_www(oType='Call', matMonth=12,\n",
    "                                   matYear=2020, date=ds)\n",
    "put_data = icod.get_data_from_www(oType='Put', matMonth=12,\n",
    "                                  matYear=2020, date=ds)"
   ]
  },
  {
   "cell_type": "markdown",
   "metadata": {},
   "source": [
    "The return objects need to be parsed."
   ]
  },
  {
   "cell_type": "code",
   "execution_count": 15,
   "metadata": {
    "collapsed": false,
    "jupyter": {
     "outputs_hidden": false
    }
   },
   "outputs": [],
   "source": [
    "## parse the raw data\n",
    "calls = icod.parse_data(call_data, target_day)\n",
    "puts = icod.parse_data(put_data, target_day)"
   ]
  },
  {
   "cell_type": "markdown",
   "metadata": {},
   "source": [
    "Let us have a look at some meta information about the call options data."
   ]
  },
  {
   "cell_type": "code",
   "execution_count": 16,
   "metadata": {
    "collapsed": false,
    "jupyter": {
     "outputs_hidden": false
    }
   },
   "outputs": [
    {
     "name": "stdout",
     "output_type": "stream",
     "text": [
      "<class 'pandas.core.frame.DataFrame'>\n",
      "MultiIndex: 159 entries, (Timestamp('2020-11-11 00:00:00'), 100.0) to (Timestamp('2020-11-11 00:00:00'), 10000.0)\n",
      "Data columns (total 9 columns):\n",
      " #   Column                Non-Null Count  Dtype  \n",
      "---  ------                --------------  -----  \n",
      " 0   Version number        159 non-null    float64\n",
      " 1   Opening price         159 non-null    float64\n",
      " 2   Daily high            159 non-null    float64\n",
      " 3   Daily low             159 non-null    float64\n",
      " 4   Last price            159 non-null    float64\n",
      " 5   Daily settlem. price  159 non-null    float64\n",
      " 6   Traded contracts      159 non-null    float64\n",
      " 7   Open interest         159 non-null    float64\n",
      " 8   Open interest (adj.)  159 non-null    float64\n",
      "dtypes: float64(9)\n",
      "memory usage: 13.0 KB\n"
     ]
    }
   ],
   "source": [
    "calls.info()"
   ]
  },
  {
   "cell_type": "code",
   "execution_count": 17,
   "metadata": {},
   "outputs": [
    {
     "data": {
      "text/html": [
       "<div>\n",
       "<style scoped>\n",
       "    .dataframe tbody tr th:only-of-type {\n",
       "        vertical-align: middle;\n",
       "    }\n",
       "\n",
       "    .dataframe tbody tr th {\n",
       "        vertical-align: top;\n",
       "    }\n",
       "\n",
       "    .dataframe thead th {\n",
       "        text-align: right;\n",
       "    }\n",
       "</style>\n",
       "<table border=\"1\" class=\"dataframe\">\n",
       "  <thead>\n",
       "    <tr style=\"text-align: right;\">\n",
       "      <th></th>\n",
       "      <th></th>\n",
       "      <th>Version number</th>\n",
       "      <th>Opening price</th>\n",
       "      <th>Daily high</th>\n",
       "      <th>Daily low</th>\n",
       "      <th>Last price</th>\n",
       "      <th>Daily settlem. price</th>\n",
       "      <th>Traded contracts</th>\n",
       "      <th>Open interest</th>\n",
       "      <th>Open interest (adj.)</th>\n",
       "    </tr>\n",
       "    <tr>\n",
       "      <th>Pricing day</th>\n",
       "      <th>Strike price</th>\n",
       "      <th></th>\n",
       "      <th></th>\n",
       "      <th></th>\n",
       "      <th></th>\n",
       "      <th></th>\n",
       "      <th></th>\n",
       "      <th></th>\n",
       "      <th></th>\n",
       "      <th></th>\n",
       "    </tr>\n",
       "  </thead>\n",
       "  <tbody>\n",
       "    <tr>\n",
       "      <th rowspan=\"5\" valign=\"top\">2020-11-11</th>\n",
       "      <th>100.0</th>\n",
       "      <td>0.0</td>\n",
       "      <td>0.0</td>\n",
       "      <td>0.0</td>\n",
       "      <td>0.0</td>\n",
       "      <td>0.0</td>\n",
       "      <td>3370.4</td>\n",
       "      <td>47.0</td>\n",
       "      <td>3217.0</td>\n",
       "      <td>3235.0</td>\n",
       "    </tr>\n",
       "    <tr>\n",
       "      <th>200.0</th>\n",
       "      <td>0.0</td>\n",
       "      <td>0.0</td>\n",
       "      <td>0.0</td>\n",
       "      <td>0.0</td>\n",
       "      <td>0.0</td>\n",
       "      <td>3270.3</td>\n",
       "      <td>0.0</td>\n",
       "      <td>0.0</td>\n",
       "      <td>0.0</td>\n",
       "    </tr>\n",
       "    <tr>\n",
       "      <th>300.0</th>\n",
       "      <td>0.0</td>\n",
       "      <td>0.0</td>\n",
       "      <td>0.0</td>\n",
       "      <td>0.0</td>\n",
       "      <td>0.0</td>\n",
       "      <td>3170.3</td>\n",
       "      <td>0.0</td>\n",
       "      <td>0.0</td>\n",
       "      <td>0.0</td>\n",
       "    </tr>\n",
       "    <tr>\n",
       "      <th>400.0</th>\n",
       "      <td>0.0</td>\n",
       "      <td>0.0</td>\n",
       "      <td>0.0</td>\n",
       "      <td>0.0</td>\n",
       "      <td>0.0</td>\n",
       "      <td>3070.2</td>\n",
       "      <td>0.0</td>\n",
       "      <td>0.0</td>\n",
       "      <td>0.0</td>\n",
       "    </tr>\n",
       "    <tr>\n",
       "      <th>500.0</th>\n",
       "      <td>0.0</td>\n",
       "      <td>0.0</td>\n",
       "      <td>0.0</td>\n",
       "      <td>0.0</td>\n",
       "      <td>0.0</td>\n",
       "      <td>2970.1</td>\n",
       "      <td>161.0</td>\n",
       "      <td>11061.0</td>\n",
       "      <td>10902.0</td>\n",
       "    </tr>\n",
       "  </tbody>\n",
       "</table>\n",
       "</div>"
      ],
      "text/plain": [
       "                          Version number  Opening price  Daily high  \\\n",
       "Pricing day Strike price                                              \n",
       "2020-11-11  100.0                    0.0            0.0         0.0   \n",
       "            200.0                    0.0            0.0         0.0   \n",
       "            300.0                    0.0            0.0         0.0   \n",
       "            400.0                    0.0            0.0         0.0   \n",
       "            500.0                    0.0            0.0         0.0   \n",
       "\n",
       "                          Daily low  Last price  Daily settlem. price  \\\n",
       "Pricing day Strike price                                                \n",
       "2020-11-11  100.0               0.0         0.0                3370.4   \n",
       "            200.0               0.0         0.0                3270.3   \n",
       "            300.0               0.0         0.0                3170.3   \n",
       "            400.0               0.0         0.0                3070.2   \n",
       "            500.0               0.0         0.0                2970.1   \n",
       "\n",
       "                          Traded contracts  Open interest  \\\n",
       "Pricing day Strike price                                    \n",
       "2020-11-11  100.0                     47.0         3217.0   \n",
       "            200.0                      0.0            0.0   \n",
       "            300.0                      0.0            0.0   \n",
       "            400.0                      0.0            0.0   \n",
       "            500.0                    161.0        11061.0   \n",
       "\n",
       "                          Open interest (adj.)  \n",
       "Pricing day Strike price                        \n",
       "2020-11-11  100.0                       3235.0  \n",
       "            200.0                          0.0  \n",
       "            300.0                          0.0  \n",
       "            400.0                          0.0  \n",
       "            500.0                      10902.0  "
      ]
     },
     "execution_count": 17,
     "metadata": {},
     "output_type": "execute_result"
    }
   ],
   "source": [
    "calls.head()"
   ]
  },
  {
   "cell_type": "markdown",
   "metadata": {},
   "source": [
    "And about the put options data."
   ]
  },
  {
   "cell_type": "code",
   "execution_count": 18,
   "metadata": {
    "collapsed": false,
    "jupyter": {
     "outputs_hidden": false
    }
   },
   "outputs": [
    {
     "name": "stdout",
     "output_type": "stream",
     "text": [
      "<class 'pandas.core.frame.DataFrame'>\n",
      "MultiIndex: 159 entries, (Timestamp('2020-11-11 00:00:00'), 100.0) to (Timestamp('2020-11-11 00:00:00'), 10000.0)\n",
      "Data columns (total 9 columns):\n",
      " #   Column                Non-Null Count  Dtype  \n",
      "---  ------                --------------  -----  \n",
      " 0   Version number        159 non-null    float64\n",
      " 1   Opening price         159 non-null    float64\n",
      " 2   Daily high            159 non-null    float64\n",
      " 3   Daily low             159 non-null    float64\n",
      " 4   Last price            159 non-null    float64\n",
      " 5   Daily settlem. price  159 non-null    float64\n",
      " 6   Traded contracts      159 non-null    float64\n",
      " 7   Open interest         159 non-null    float64\n",
      " 8   Open interest (adj.)  159 non-null    float64\n",
      "dtypes: float64(9)\n",
      "memory usage: 13.0 KB\n"
     ]
    }
   ],
   "source": [
    "puts.info()"
   ]
  },
  {
   "cell_type": "markdown",
   "metadata": {},
   "source": [
    "In a next step, we take out the daily settlement prices for both the puts and calls and define two new ``DataFrame`` objects."
   ]
  },
  {
   "cell_type": "code",
   "execution_count": 19,
   "metadata": {
    "collapsed": false,
    "jupyter": {
     "outputs_hidden": false
    }
   },
   "outputs": [],
   "source": [
    "calls = pd.DataFrame(calls.rename(\n",
    "        columns={'Daily settlem. price': 'Call_Price'}\n",
    "                            ).pop('Call_Price').astype(float))"
   ]
  },
  {
   "cell_type": "code",
   "execution_count": 20,
   "metadata": {
    "collapsed": false,
    "jupyter": {
     "outputs_hidden": false
    }
   },
   "outputs": [],
   "source": [
    "puts = pd.DataFrame(puts.rename(\n",
    "        columns={'Daily settlem. price': 'Put_Price'}\n",
    "                            ).pop('Put_Price').astype(float))"
   ]
  },
  {
   "cell_type": "markdown",
   "metadata": {},
   "source": [
    "These two get then merged via the function ``merge_and_filter()`` into another new ``DataFrame`` object."
   ]
  },
  {
   "cell_type": "code",
   "execution_count": 21,
   "metadata": {
    "collapsed": false,
    "jupyter": {
     "outputs_hidden": false
    }
   },
   "outputs": [
    {
     "name": "stdout",
     "output_type": "stream",
     "text": [
      "<class 'pandas.core.frame.DataFrame'>\n",
      "MultiIndex: 81 entries, (Timestamp('2020-11-11 00:00:00'), 2150.0) to (Timestamp('2020-11-11 00:00:00'), 4150.0)\n",
      "Data columns (total 2 columns):\n",
      " #   Column      Non-Null Count  Dtype  \n",
      "---  ------      --------------  -----  \n",
      " 0   Call_Price  81 non-null     float64\n",
      " 1   Put_Price   81 non-null     float64\n",
      "dtypes: float64(2)\n",
      "memory usage: 2.9 KB\n"
     ]
    }
   ],
   "source": [
    "dataset = icod.merge_and_filter(puts, calls)\n",
    "dataset.info()"
   ]
  },
  {
   "cell_type": "markdown",
   "metadata": {},
   "source": [
    "This whole procedure is implemented in the function ``collect_option_series()`` which yields the same result."
   ]
  },
  {
   "cell_type": "code",
   "execution_count": 22,
   "metadata": {
    "collapsed": false,
    "jupyter": {
     "outputs_hidden": false
    }
   },
   "outputs": [
    {
     "name": "stdout",
     "output_type": "stream",
     "text": [
      "<class 'pandas.core.frame.DataFrame'>\n",
      "MultiIndex: 160 entries, (Timestamp('2020-11-11 00:00:00'), 2150.0) to (Timestamp('2020-11-12 00:00:00'), 4075.0)\n",
      "Data columns (total 2 columns):\n",
      " #   Column      Non-Null Count  Dtype  \n",
      "---  ------      --------------  -----  \n",
      " 0   Call_Price  160 non-null    float64\n",
      " 1   Put_Price   160 non-null    float64\n",
      "dtypes: float64(2)\n",
      "memory usage: 3.6 KB\n"
     ]
    }
   ],
   "source": [
    "os = icod.collect_option_series(12, 2020, target_day)\n",
    "os.info()"
   ]
  },
  {
   "cell_type": "markdown",
   "metadata": {},
   "source": [
    "The function ``data_collection()`` repeats this procedure for all those dates for which option data is available and writes (appends) the results in a HDF5 database file."
   ]
  },
  {
   "cell_type": "code",
   "execution_count": 23,
   "metadata": {
    "collapsed": false,
    "jupyter": {
     "outputs_hidden": false
    }
   },
   "outputs": [
    {
     "name": "stdout",
     "output_type": "stream",
     "text": [
      "CPU times: user 42.8 s, sys: 513 ms, total: 43.3 s\n",
      "Wall time: 2min 7s\n"
     ]
    }
   ],
   "source": [
    "# uncomment to initiate the process (takes a while)\n",
    "%time icod.data_collection(path)"
   ]
  },
  {
   "cell_type": "markdown",
   "metadata": {},
   "source": [
    "For the further analyses, we open this HDF5 database file."
   ]
  },
  {
   "cell_type": "code",
   "execution_count": 24,
   "metadata": {
    "collapsed": false,
    "jupyter": {
     "outputs_hidden": false
    }
   },
   "outputs": [
    {
     "data": {
      "text/plain": [
       "<class 'pandas.io.pytables.HDFStore'>\n",
       "File path: ./data/index_option_series.h5"
      ]
     },
     "execution_count": 24,
     "metadata": {},
     "output_type": "execute_result"
    }
   ],
   "source": [
    "store = pd.HDFStore(path + 'index_option_series.h5', 'r')\n",
    "store"
   ]
  },
  {
   "cell_type": "markdown",
   "metadata": {},
   "source": [
    "The collected option series data is easily read from the HDF5 database file in monthly chunks."
   ]
  },
  {
   "cell_type": "code",
   "execution_count": 25,
   "metadata": {
    "collapsed": false,
    "jupyter": {
     "outputs_hidden": false
    }
   },
   "outputs": [
    {
     "name": "stdout",
     "output_type": "stream",
     "text": [
      "<class 'pandas.core.frame.DataFrame'>\n",
      "MultiIndex: 1786 entries, (Timestamp('2020-10-16 00:00:00'), 1700.0) to (Timestamp('2020-11-12 00:00:00'), 4075.0)\n",
      "Data columns (total 2 columns):\n",
      " #   Column      Non-Null Count  Dtype  \n",
      "---  ------      --------------  -----  \n",
      " 0   Call_Price  1786 non-null   float64\n",
      " 1   Put_Price   1786 non-null   float64\n",
      "dtypes: float64(2)\n",
      "memory usage: 38.2 KB\n"
     ]
    }
   ],
   "source": [
    "Dec20 = store['Dec20']\n",
    "Dec20.info()\n",
    "store.close()"
   ]
  },
  {
   "cell_type": "markdown",
   "metadata": {},
   "source": [
    "Some selected option prices from the large data set:"
   ]
  },
  {
   "cell_type": "code",
   "execution_count": 26,
   "metadata": {
    "collapsed": false,
    "jupyter": {
     "outputs_hidden": false
    }
   },
   "outputs": [
    {
     "data": {
      "text/html": [
       "<div>\n",
       "<style scoped>\n",
       "    .dataframe tbody tr th:only-of-type {\n",
       "        vertical-align: middle;\n",
       "    }\n",
       "\n",
       "    .dataframe tbody tr th {\n",
       "        vertical-align: top;\n",
       "    }\n",
       "\n",
       "    .dataframe thead th {\n",
       "        text-align: right;\n",
       "    }\n",
       "</style>\n",
       "<table border=\"1\" class=\"dataframe\">\n",
       "  <thead>\n",
       "    <tr style=\"text-align: right;\">\n",
       "      <th></th>\n",
       "      <th></th>\n",
       "      <th>Call_Price</th>\n",
       "      <th>Put_Price</th>\n",
       "    </tr>\n",
       "    <tr>\n",
       "      <th>Pricing day</th>\n",
       "      <th>Strike price</th>\n",
       "      <th></th>\n",
       "      <th></th>\n",
       "    </tr>\n",
       "  </thead>\n",
       "  <tbody>\n",
       "    <tr>\n",
       "      <th rowspan=\"10\" valign=\"top\">2020-10-16</th>\n",
       "      <th>2325.0</th>\n",
       "      <td>922.3</td>\n",
       "      <td>5.3</td>\n",
       "    </tr>\n",
       "    <tr>\n",
       "      <th>2350.0</th>\n",
       "      <td>897.8</td>\n",
       "      <td>5.7</td>\n",
       "    </tr>\n",
       "    <tr>\n",
       "      <th>2375.0</th>\n",
       "      <td>873.2</td>\n",
       "      <td>6.2</td>\n",
       "    </tr>\n",
       "    <tr>\n",
       "      <th>2400.0</th>\n",
       "      <td>848.7</td>\n",
       "      <td>6.8</td>\n",
       "    </tr>\n",
       "    <tr>\n",
       "      <th>2425.0</th>\n",
       "      <td>824.3</td>\n",
       "      <td>7.3</td>\n",
       "    </tr>\n",
       "    <tr>\n",
       "      <th>2450.0</th>\n",
       "      <td>799.9</td>\n",
       "      <td>8.0</td>\n",
       "    </tr>\n",
       "    <tr>\n",
       "      <th>2475.0</th>\n",
       "      <td>775.5</td>\n",
       "      <td>8.6</td>\n",
       "    </tr>\n",
       "    <tr>\n",
       "      <th>2500.0</th>\n",
       "      <td>751.2</td>\n",
       "      <td>9.4</td>\n",
       "    </tr>\n",
       "    <tr>\n",
       "      <th>2525.0</th>\n",
       "      <td>727.0</td>\n",
       "      <td>10.2</td>\n",
       "    </tr>\n",
       "    <tr>\n",
       "      <th>2550.0</th>\n",
       "      <td>702.8</td>\n",
       "      <td>11.0</td>\n",
       "    </tr>\n",
       "  </tbody>\n",
       "</table>\n",
       "</div>"
      ],
      "text/plain": [
       "                          Call_Price  Put_Price\n",
       "Pricing day Strike price                       \n",
       "2020-10-16  2325.0             922.3        5.3\n",
       "            2350.0             897.8        5.7\n",
       "            2375.0             873.2        6.2\n",
       "            2400.0             848.7        6.8\n",
       "            2425.0             824.3        7.3\n",
       "            2450.0             799.9        8.0\n",
       "            2475.0             775.5        8.6\n",
       "            2500.0             751.2        9.4\n",
       "            2525.0             727.0       10.2\n",
       "            2550.0             702.8       11.0"
      ]
     },
     "execution_count": 26,
     "metadata": {},
     "output_type": "execute_result"
    }
   ],
   "source": [
    "Dec20.iloc[25:35]"
   ]
  },
  {
   "cell_type": "markdown",
   "metadata": {},
   "source": [
    "## Calculating the Sub-Indexes"
   ]
  },
  {
   "cell_type": "markdown",
   "metadata": {},
   "source": [
    "In this section, we use the data file created in the previous one. For all dates of the data file, the Python module ``index_subindex_calculation.py`` (see the appendix for the complete script) used in this section decides whether the VSTOXX 1M sub-index is defined or not (remember that the sub-index is not defined at the final settlement day and one day before). If it is defined, the script computes the value of the sub-indexes VSTOXX 1M and VSTOXX 2M; if not, it computes the values of the sub-indexes VSTOXX 2M and VSTOXX 3M, respectively. Finally, it returns a pandas ``DataFrame`` object with the three time series."
   ]
  },
  {
   "cell_type": "markdown",
   "metadata": {},
   "source": [
    "### The Algorithm"
   ]
  },
  {
   "cell_type": "markdown",
   "metadata": {},
   "source": [
    "First, we focus on the computation of the value of a single sub-index for a given date. Given are the prices $C_i, i \\in \\{0,...,n\\},$ of a series of  European call options on the EURO STOXX 50 with fixed maturity date $T$ and exercise prices $K_i, i \\in \\{0,...,n\\},$ as well as the prices $P_i, i \\in \\{0,...,n\\},$ of a series of European put options on EURO STOXX 50 with the same maturity date $T$ and exercise prices $K_i$. Let further hold $K_i < K_{i+1}$ for all $i \\in \\{0,....,n-1\\}$."
   ]
  },
  {
   "cell_type": "markdown",
   "metadata": {},
   "source": [
    "Then, the value of the relevant sub-index $V$ is as follows (see also the chapter about _Model-Free Replication of Variance_):"
   ]
  },
  {
   "cell_type": "markdown",
   "metadata": {},
   "source": [
    "$$\n",
    "V = 100 \\cdot \\sqrt{\\hat{\\sigma}^2}\n",
    "$$\n",
    "\n",
    "with\n",
    "\n",
    "$$\n",
    "\\hat{\\sigma}^2 = \\frac{2}{T} \\sum_{i=0}^n \\frac{\\Delta K_i}{{K_i}^2} \\mathrm{e}^{rT} M_i - \\frac{1}{T}\\left( \\frac{F}{K_*}-1\\right)^2\n",
    "$$\n",
    "\n",
    "where\n",
    "\n",
    "$$\n",
    "\\begin{array}{ll}\n",
    " \\Delta K_i &=\\left\\{ \\begin{array}{ll} K_1-K_0 & \\mbox{for } i=0 \\\\  \\dfrac{K_{i+1}-K_{i-1}}{2} &  \\mbox{for } i = 1,...,n-1 \\\\   K_n-K_{n-1} & \\mbox{for } i=n \\end{array} \\right. \\\\  \\\\\n",
    " r          &=  \\mbox{constant risk-free short rate appropriate for maturity $T$} \\\\ \\\\\n",
    " F \t    &= K_j+ \\mathrm{e}^{rT}|C_j-P_j|, \\mbox{ where } j=\\displaystyle \\min_{i \\in \\{0,...,n\\}}\\{|C_i-P_i|\\} \\\\ \\\\\n",
    " K_*        &= \\displaystyle \\max_{ K_{i | i \\in \\{0,...,n\\}}} \\{K_i < F \\}, \\\\ \\\\\n",
    " M_i        & =    \\left\\{ \\begin{array}{ll} P_i & \\mbox{for } K_i<K_* \\\\  \\dfrac{P_i-C_i}{2} &  \\mbox{for } K_i=K_*\\\\   C_i & \\mbox{for } K_i>K_* \\end{array} \\right.\n",
    "\\end{array}\n",
    "$$"
   ]
  },
  {
   "cell_type": "markdown",
   "metadata": {},
   "source": [
    "We implement a function to compute one value of a single sub-index. Thereafter, we extend that function to compute time series for both VSTOXX 1M and VSTOXX 2M indexes as well as parts of the VSTOXX 3M index. Imports again make up the beginning of the script."
   ]
  },
  {
   "cell_type": "code",
   "execution_count": 27,
   "metadata": {},
   "outputs": [
    {
     "name": "stdout",
     "output_type": "stream",
     "text": [
      "import math\n",
      "import numpy as np\n",
      "import pandas as pd\n",
      "import datetime as dt\n",
      "import index_date_functions as idf\n",
      "pd.options.mode.chained_assignment = None\n"
     ]
    }
   ],
   "source": [
    "!sed -n 10,15p scripts/index_subindex_calculation.py"
   ]
  },
  {
   "cell_type": "markdown",
   "metadata": {},
   "source": [
    "A core function of the script is ``compute_subindex()``."
   ]
  },
  {
   "cell_type": "code",
   "execution_count": 28,
   "metadata": {},
   "outputs": [],
   "source": [
    "import index_subindex_calculation as isc"
   ]
  },
  {
   "cell_type": "code",
   "execution_count": 29,
   "metadata": {},
   "outputs": [
    {
     "data": {
      "text/plain": [
       "\u001b[0;31mSignature:\u001b[0m \u001b[0misc\u001b[0m\u001b[0;34m.\u001b[0m\u001b[0mcompute_subindex\u001b[0m\u001b[0;34m(\u001b[0m\u001b[0mdata\u001b[0m\u001b[0;34m,\u001b[0m \u001b[0mdelta_T\u001b[0m\u001b[0;34m,\u001b[0m \u001b[0mR\u001b[0m\u001b[0;34m)\u001b[0m\u001b[0;34m\u001b[0m\u001b[0;34m\u001b[0m\u001b[0m\n",
       "\u001b[0;31mSource:\u001b[0m   \n",
       "\u001b[0;32mdef\u001b[0m \u001b[0mcompute_subindex\u001b[0m\u001b[0;34m(\u001b[0m\u001b[0mdata\u001b[0m\u001b[0;34m,\u001b[0m \u001b[0mdelta_T\u001b[0m\u001b[0;34m,\u001b[0m \u001b[0mR\u001b[0m\u001b[0;34m)\u001b[0m\u001b[0;34m:\u001b[0m\u001b[0;34m\u001b[0m\n",
       "\u001b[0;34m\u001b[0m    \u001b[0;34m''' Computes a sub-index for given option series data.\u001b[0m\n",
       "\u001b[0;34m\u001b[0m\n",
       "\u001b[0;34m    Parameters\u001b[0m\n",
       "\u001b[0;34m    ==========\u001b[0m\n",
       "\u001b[0;34m    data: pandas.DataFrame object\u001b[0m\n",
       "\u001b[0;34m        contains the option data\u001b[0m\n",
       "\u001b[0;34m    delta_T: float\u001b[0m\n",
       "\u001b[0;34m        time interval\u001b[0m\n",
       "\u001b[0;34m    R: float\u001b[0m\n",
       "\u001b[0;34m        discount factor\u001b[0m\n",
       "\u001b[0;34m\u001b[0m\n",
       "\u001b[0;34m    Returns\u001b[0m\n",
       "\u001b[0;34m    =======\u001b[0m\n",
       "\u001b[0;34m    subVSTOXX: float\u001b[0m\n",
       "\u001b[0;34m        sub-index value\u001b[0m\n",
       "\u001b[0;34m    '''\u001b[0m\u001b[0;34m\u001b[0m\n",
       "\u001b[0;34m\u001b[0m    \u001b[0;31m# difference between put and call option with same strike\u001b[0m\u001b[0;34m\u001b[0m\n",
       "\u001b[0;34m\u001b[0m    \u001b[0mdata\u001b[0m\u001b[0;34m[\u001b[0m\u001b[0;34m'Diff_Put_Call'\u001b[0m\u001b[0;34m]\u001b[0m \u001b[0;34m=\u001b[0m \u001b[0mnp\u001b[0m\u001b[0;34m.\u001b[0m\u001b[0mabs\u001b[0m\u001b[0;34m(\u001b[0m\u001b[0mdata\u001b[0m\u001b[0;34m.\u001b[0m\u001b[0mPut_Price\u001b[0m \u001b[0;34m-\u001b[0m \u001b[0mdata\u001b[0m\u001b[0;34m.\u001b[0m\u001b[0mCall_Price\u001b[0m\u001b[0;34m)\u001b[0m\u001b[0;34m\u001b[0m\n",
       "\u001b[0;34m\u001b[0m    \u001b[0;31m# converts the strike price which serves as index so far\u001b[0m\u001b[0;34m\u001b[0m\n",
       "\u001b[0;34m\u001b[0m    \u001b[0;31m# to a regular data column\u001b[0m\u001b[0;34m\u001b[0m\n",
       "\u001b[0;34m\u001b[0m    \u001b[0mdata\u001b[0m \u001b[0;34m=\u001b[0m \u001b[0mdata\u001b[0m\u001b[0;34m.\u001b[0m\u001b[0mreset_index\u001b[0m\u001b[0;34m(\u001b[0m\u001b[0;34m)\u001b[0m\u001b[0;34m\u001b[0m\n",
       "\u001b[0;34m\u001b[0m    \u001b[0mdata\u001b[0m\u001b[0;34m[\u001b[0m\u001b[0;34m'delta_K'\u001b[0m\u001b[0;34m]\u001b[0m \u001b[0;34m=\u001b[0m \u001b[0;32mNone\u001b[0m\u001b[0;34m\u001b[0m\n",
       "\u001b[0;34m\u001b[0m    \u001b[0;31m# differences between the different strikes of the series\u001b[0m\u001b[0;34m\u001b[0m\n",
       "\u001b[0;34m\u001b[0m    \u001b[0mdata\u001b[0m\u001b[0;34m[\u001b[0m\u001b[0;34m'delta_K'\u001b[0m\u001b[0;34m]\u001b[0m\u001b[0;34m.\u001b[0m\u001b[0miloc\u001b[0m\u001b[0;34m[\u001b[0m\u001b[0;36m1\u001b[0m\u001b[0;34m:\u001b[0m\u001b[0;34m-\u001b[0m\u001b[0;36m1\u001b[0m\u001b[0;34m]\u001b[0m \u001b[0;34m=\u001b[0m \u001b[0;34m[\u001b[0m\u001b[0;34m(\u001b[0m\u001b[0mdata\u001b[0m\u001b[0;34m[\u001b[0m\u001b[0;34m'Strike price'\u001b[0m\u001b[0;34m]\u001b[0m\u001b[0;34m.\u001b[0m\u001b[0miloc\u001b[0m\u001b[0;34m[\u001b[0m\u001b[0mi\u001b[0m \u001b[0;34m+\u001b[0m \u001b[0;36m1\u001b[0m\u001b[0;34m]\u001b[0m\u001b[0;34m\u001b[0m\n",
       "\u001b[0;34m\u001b[0m            \u001b[0;34m-\u001b[0m \u001b[0mdata\u001b[0m\u001b[0;34m[\u001b[0m\u001b[0;34m'Strike price'\u001b[0m\u001b[0;34m]\u001b[0m\u001b[0;34m.\u001b[0m\u001b[0miloc\u001b[0m\u001b[0;34m[\u001b[0m\u001b[0mi\u001b[0m \u001b[0;34m-\u001b[0m \u001b[0;36m1\u001b[0m\u001b[0;34m]\u001b[0m\u001b[0;34m)\u001b[0m \u001b[0;34m/\u001b[0m \u001b[0;36m2\u001b[0m \u001b[0;32mfor\u001b[0m \u001b[0mi\u001b[0m \u001b[0;32min\u001b[0m \u001b[0mdata\u001b[0m\u001b[0;34m.\u001b[0m\u001b[0mindex\u001b[0m\u001b[0;34m[\u001b[0m\u001b[0;36m1\u001b[0m\u001b[0;34m:\u001b[0m\u001b[0;34m-\u001b[0m\u001b[0;36m1\u001b[0m\u001b[0;34m]\u001b[0m\u001b[0;34m]\u001b[0m\u001b[0;34m\u001b[0m\n",
       "\u001b[0;34m\u001b[0m            \u001b[0;31m# where possible, for the i-th entry it is\u001b[0m\u001b[0;34m\u001b[0m\n",
       "\u001b[0;34m\u001b[0m            \u001b[0;31m# half of the difference between the (i-1)-th\u001b[0m\u001b[0;34m\u001b[0m\n",
       "\u001b[0;34m\u001b[0m            \u001b[0;31m# and (i+1)-th price\u001b[0m\u001b[0;34m\u001b[0m\n",
       "\u001b[0;34m\u001b[0m    \u001b[0;31m#  for i=0 it is just the difference to the next strike\u001b[0m\u001b[0;34m\u001b[0m\n",
       "\u001b[0;34m\u001b[0m    \u001b[0mdata\u001b[0m\u001b[0;34m[\u001b[0m\u001b[0;34m'delta_K'\u001b[0m\u001b[0;34m]\u001b[0m\u001b[0;34m.\u001b[0m\u001b[0miloc\u001b[0m\u001b[0;34m[\u001b[0m\u001b[0;36m0\u001b[0m\u001b[0;34m]\u001b[0m \u001b[0;34m=\u001b[0m \u001b[0mdata\u001b[0m\u001b[0;34m[\u001b[0m\u001b[0;34m'Strike price'\u001b[0m\u001b[0;34m]\u001b[0m\u001b[0;34m.\u001b[0m\u001b[0miloc\u001b[0m\u001b[0;34m[\u001b[0m\u001b[0;36m1\u001b[0m\u001b[0;34m]\u001b[0m \u001b[0;34m-\u001b[0m \u001b[0mdata\u001b[0m\u001b[0;34m[\u001b[0m\u001b[0;34m'Strike price'\u001b[0m\u001b[0;34m]\u001b[0m\u001b[0;34m.\u001b[0m\u001b[0miloc\u001b[0m\u001b[0;34m[\u001b[0m\u001b[0;36m0\u001b[0m\u001b[0;34m]\u001b[0m\u001b[0;34m\u001b[0m\n",
       "\u001b[0;34m\u001b[0m\u001b[0;34m\u001b[0m\n",
       "\u001b[0;34m\u001b[0m    \u001b[0mdata\u001b[0m\u001b[0;34m[\u001b[0m\u001b[0;34m'delta_K'\u001b[0m\u001b[0;34m]\u001b[0m\u001b[0;34m.\u001b[0m\u001b[0mloc\u001b[0m\u001b[0;34m[\u001b[0m\u001b[0mdata\u001b[0m\u001b[0;34m.\u001b[0m\u001b[0mindex\u001b[0m\u001b[0;34m[\u001b[0m\u001b[0;34m-\u001b[0m\u001b[0;36m1\u001b[0m\u001b[0;34m:\u001b[0m\u001b[0;34m]\u001b[0m\u001b[0;34m]\u001b[0m \u001b[0;34m=\u001b[0m \u001b[0mfloat\u001b[0m\u001b[0;34m(\u001b[0m\u001b[0mdata\u001b[0m\u001b[0;34m[\u001b[0m\u001b[0;34m'Strike price'\u001b[0m\u001b[0;34m]\u001b[0m\u001b[0;34m.\u001b[0m\u001b[0miloc\u001b[0m\u001b[0;34m[\u001b[0m\u001b[0;34m-\u001b[0m\u001b[0;36m1\u001b[0m\u001b[0;34m:\u001b[0m\u001b[0;34m]\u001b[0m\u001b[0;34m)\u001b[0m \\\n",
       "            \u001b[0;34m-\u001b[0m \u001b[0mfloat\u001b[0m\u001b[0;34m(\u001b[0m\u001b[0mdata\u001b[0m\u001b[0;34m[\u001b[0m\u001b[0;34m'Strike price'\u001b[0m\u001b[0;34m]\u001b[0m\u001b[0;34m.\u001b[0m\u001b[0miloc\u001b[0m\u001b[0;34m[\u001b[0m\u001b[0;34m-\u001b[0m\u001b[0;36m2\u001b[0m\u001b[0;34m:\u001b[0m\u001b[0;34m-\u001b[0m\u001b[0;36m1\u001b[0m\u001b[0;34m]\u001b[0m\u001b[0;34m)\u001b[0m\u001b[0;34m\u001b[0m\n",
       "\u001b[0;34m\u001b[0m            \u001b[0;31m# for the last entry, it is just the difference\u001b[0m\u001b[0;34m\u001b[0m\n",
       "\u001b[0;34m\u001b[0m            \u001b[0;31m# between the second but last strike and the last strike price\u001b[0m\u001b[0;34m\u001b[0m\n",
       "\u001b[0;34m\u001b[0m\u001b[0;34m\u001b[0m\n",
       "\u001b[0;34m\u001b[0m    \u001b[0;31m# find the smallest difference between put and call price\u001b[0m\u001b[0;34m\u001b[0m\n",
       "\u001b[0;34m\u001b[0m    \u001b[0mmin_index\u001b[0m \u001b[0;34m=\u001b[0m \u001b[0mdata\u001b[0m\u001b[0;34m.\u001b[0m\u001b[0mDiff_Put_Call\u001b[0m\u001b[0;34m.\u001b[0m\u001b[0margmin\u001b[0m\u001b[0;34m(\u001b[0m\u001b[0;34m)\u001b[0m\u001b[0;34m\u001b[0m\n",
       "\u001b[0;34m\u001b[0m\u001b[0;34m\u001b[0m\n",
       "\u001b[0;34m\u001b[0m    \u001b[0;31m# the forward price of that option\u001b[0m\u001b[0;34m\u001b[0m\n",
       "\u001b[0;34m\u001b[0m    \u001b[0mforward_price\u001b[0m \u001b[0;34m=\u001b[0m \u001b[0mdata\u001b[0m\u001b[0;34m[\u001b[0m\u001b[0;34m'Strike price'\u001b[0m\u001b[0;34m]\u001b[0m\u001b[0;34m.\u001b[0m\u001b[0miloc\u001b[0m\u001b[0;34m[\u001b[0m\u001b[0mmin_index\u001b[0m\u001b[0;34m]\u001b[0m \\\n",
       "                    \u001b[0;34m+\u001b[0m \u001b[0mR\u001b[0m \u001b[0;34m*\u001b[0m \u001b[0mdata\u001b[0m\u001b[0;34m.\u001b[0m\u001b[0mDiff_Put_Call\u001b[0m\u001b[0;34m[\u001b[0m\u001b[0mmin_index\u001b[0m\u001b[0;34m]\u001b[0m\u001b[0;34m\u001b[0m\n",
       "\u001b[0;34m\u001b[0m\u001b[0;34m\u001b[0m\n",
       "\u001b[0;34m\u001b[0m    \u001b[0mK_0\u001b[0m \u001b[0;34m=\u001b[0m \u001b[0mdata\u001b[0m\u001b[0;34m[\u001b[0m\u001b[0;34m'Strike price'\u001b[0m\u001b[0;34m]\u001b[0m\u001b[0;34m[\u001b[0m\u001b[0mforward_price\u001b[0m \u001b[0;34m-\u001b[0m\u001b[0;34m\u001b[0m\n",
       "\u001b[0;34m\u001b[0m                                    \u001b[0mdata\u001b[0m\u001b[0;34m[\u001b[0m\u001b[0;34m'Strike price'\u001b[0m\u001b[0;34m]\u001b[0m \u001b[0;34m>\u001b[0m \u001b[0;36m0\u001b[0m\u001b[0;34m]\u001b[0m\u001b[0;34m.\u001b[0m\u001b[0mmax\u001b[0m\u001b[0;34m(\u001b[0m\u001b[0;34m)\u001b[0m\u001b[0;34m\u001b[0m\n",
       "\u001b[0;34m\u001b[0m    \u001b[0;31m# the index of the ATM strike\u001b[0m\u001b[0;34m\u001b[0m\n",
       "\u001b[0;34m\u001b[0m    \u001b[0mK_0_index\u001b[0m \u001b[0;34m=\u001b[0m \u001b[0mdata\u001b[0m\u001b[0;34m.\u001b[0m\u001b[0mindex\u001b[0m\u001b[0;34m[\u001b[0m\u001b[0mdata\u001b[0m\u001b[0;34m[\u001b[0m\u001b[0;34m'Strike price'\u001b[0m\u001b[0;34m]\u001b[0m \u001b[0;34m==\u001b[0m \u001b[0mK_0\u001b[0m\u001b[0;34m]\u001b[0m\u001b[0;34m[\u001b[0m\u001b[0;36m0\u001b[0m\u001b[0;34m]\u001b[0m\u001b[0;34m\u001b[0m\n",
       "\u001b[0;34m\u001b[0m\u001b[0;34m\u001b[0m\n",
       "\u001b[0;34m\u001b[0m    \u001b[0;31m# selects the OTM options\u001b[0m\u001b[0;34m\u001b[0m\n",
       "\u001b[0;34m\u001b[0m    \u001b[0mdata\u001b[0m\u001b[0;34m[\u001b[0m\u001b[0;34m'M'\u001b[0m\u001b[0;34m]\u001b[0m \u001b[0;34m=\u001b[0m \u001b[0mpd\u001b[0m\u001b[0;34m.\u001b[0m\u001b[0mconcat\u001b[0m\u001b[0;34m(\u001b[0m\u001b[0;34m(\u001b[0m\u001b[0mdata\u001b[0m\u001b[0;34m.\u001b[0m\u001b[0mPut_Price\u001b[0m\u001b[0;34m[\u001b[0m\u001b[0;36m0\u001b[0m\u001b[0;34m:\u001b[0m\u001b[0mK_0_index\u001b[0m\u001b[0;34m]\u001b[0m\u001b[0;34m,\u001b[0m\u001b[0;34m\u001b[0m\n",
       "\u001b[0;34m\u001b[0m                           \u001b[0mdata\u001b[0m\u001b[0;34m.\u001b[0m\u001b[0mCall_Price\u001b[0m\u001b[0;34m[\u001b[0m\u001b[0mK_0_index\u001b[0m\u001b[0;34m:\u001b[0m\u001b[0;34m]\u001b[0m\u001b[0;34m)\u001b[0m\u001b[0;34m)\u001b[0m\u001b[0;34m\u001b[0m\n",
       "\u001b[0;34m\u001b[0m\u001b[0;34m\u001b[0m\n",
       "\u001b[0;34m\u001b[0m    \u001b[0;31m# ATM we take the average of put and call price\u001b[0m\u001b[0;34m\u001b[0m\n",
       "\u001b[0;34m\u001b[0m    \u001b[0mdata\u001b[0m\u001b[0;34m[\u001b[0m\u001b[0;34m'M'\u001b[0m\u001b[0;34m]\u001b[0m\u001b[0;34m.\u001b[0m\u001b[0miloc\u001b[0m\u001b[0;34m[\u001b[0m\u001b[0mK_0_index\u001b[0m\u001b[0;34m]\u001b[0m \u001b[0;34m=\u001b[0m \u001b[0;34m(\u001b[0m\u001b[0mdata\u001b[0m\u001b[0;34m[\u001b[0m\u001b[0;34m'Call_Price'\u001b[0m\u001b[0;34m]\u001b[0m\u001b[0;34m[\u001b[0m\u001b[0mK_0_index\u001b[0m\u001b[0;34m]\u001b[0m\u001b[0;34m\u001b[0m\n",
       "\u001b[0;34m\u001b[0m                            \u001b[0;34m+\u001b[0m \u001b[0mdata\u001b[0m\u001b[0;34m[\u001b[0m\u001b[0;34m'Put_Price'\u001b[0m\u001b[0;34m]\u001b[0m\u001b[0;34m[\u001b[0m\u001b[0mK_0_index\u001b[0m\u001b[0;34m]\u001b[0m\u001b[0;34m)\u001b[0m \u001b[0;34m/\u001b[0m \u001b[0;36m2\u001b[0m\u001b[0;34m\u001b[0m\n",
       "\u001b[0;34m\u001b[0m\u001b[0;34m\u001b[0m\n",
       "\u001b[0;34m\u001b[0m    \u001b[0;31m# the single OTM values\u001b[0m\u001b[0;34m\u001b[0m\n",
       "\u001b[0;34m\u001b[0m    \u001b[0mdata\u001b[0m\u001b[0;34m[\u001b[0m\u001b[0;34m'MFactor'\u001b[0m\u001b[0;34m]\u001b[0m \u001b[0;34m=\u001b[0m \u001b[0;34m(\u001b[0m\u001b[0mR\u001b[0m \u001b[0;34m*\u001b[0m \u001b[0;34m(\u001b[0m\u001b[0mdata\u001b[0m\u001b[0;34m[\u001b[0m\u001b[0;34m'delta_K'\u001b[0m\u001b[0;34m]\u001b[0m \u001b[0;34m*\u001b[0m \u001b[0mdata\u001b[0m\u001b[0;34m[\u001b[0m\u001b[0;34m'M'\u001b[0m\u001b[0;34m]\u001b[0m\u001b[0;34m)\u001b[0m\u001b[0;34m\u001b[0m\n",
       "\u001b[0;34m\u001b[0m                         \u001b[0;34m/\u001b[0m \u001b[0;34m(\u001b[0m\u001b[0mdata\u001b[0m\u001b[0;34m[\u001b[0m\u001b[0;34m'Strike price'\u001b[0m\u001b[0;34m]\u001b[0m\u001b[0;34m)\u001b[0m \u001b[0;34m**\u001b[0m \u001b[0;36m2\u001b[0m\u001b[0;34m)\u001b[0m\u001b[0;34m\u001b[0m\n",
       "\u001b[0;34m\u001b[0m\u001b[0;34m\u001b[0m\n",
       "\u001b[0;34m\u001b[0m    \u001b[0;31m# the forward term\u001b[0m\u001b[0;34m\u001b[0m\n",
       "\u001b[0;34m\u001b[0m    \u001b[0mfterm\u001b[0m \u001b[0;34m=\u001b[0m \u001b[0;36m1.\u001b[0m \u001b[0;34m/\u001b[0m \u001b[0mdelta_T\u001b[0m \u001b[0;34m*\u001b[0m \u001b[0;34m(\u001b[0m\u001b[0mforward_price\u001b[0m \u001b[0;34m/\u001b[0m \u001b[0mK_0\u001b[0m \u001b[0;34m-\u001b[0m \u001b[0;36m1\u001b[0m\u001b[0;34m)\u001b[0m \u001b[0;34m**\u001b[0m \u001b[0;36m2\u001b[0m\u001b[0;34m\u001b[0m\n",
       "\u001b[0;34m\u001b[0m    \u001b[0;31m# summing up\u001b[0m\u001b[0;34m\u001b[0m\n",
       "\u001b[0;34m\u001b[0m    \u001b[0msigma\u001b[0m \u001b[0;34m=\u001b[0m \u001b[0;36m2\u001b[0m \u001b[0;34m/\u001b[0m \u001b[0mdelta_T\u001b[0m \u001b[0;34m*\u001b[0m \u001b[0mnp\u001b[0m\u001b[0;34m.\u001b[0m\u001b[0msum\u001b[0m\u001b[0;34m(\u001b[0m\u001b[0mdata\u001b[0m\u001b[0;34m.\u001b[0m\u001b[0mMFactor\u001b[0m\u001b[0;34m)\u001b[0m \u001b[0;34m-\u001b[0m \u001b[0mfterm\u001b[0m\u001b[0;34m\u001b[0m\n",
       "\u001b[0;34m\u001b[0m    \u001b[0msubVSTOXX\u001b[0m \u001b[0;34m=\u001b[0m \u001b[0;36m100\u001b[0m \u001b[0;34m*\u001b[0m \u001b[0mmath\u001b[0m\u001b[0;34m.\u001b[0m\u001b[0msqrt\u001b[0m\u001b[0;34m(\u001b[0m\u001b[0msigma\u001b[0m\u001b[0;34m)\u001b[0m\u001b[0;34m\u001b[0m\n",
       "\u001b[0;34m\u001b[0m    \u001b[0;32mreturn\u001b[0m \u001b[0msubVSTOXX\u001b[0m\u001b[0;34m\u001b[0m\u001b[0;34m\u001b[0m\u001b[0m\n",
       "\u001b[0;31mFile:\u001b[0m      ~/Dropbox/Program/cert/21_lvvd/live/scripts/index_subindex_calculation.py\n",
       "\u001b[0;31mType:\u001b[0m      function\n"
      ]
     },
     "metadata": {},
     "output_type": "display_data"
    }
   ],
   "source": [
    "isc.compute_subindex??"
   ]
  },
  {
   "cell_type": "markdown",
   "metadata": {},
   "source": [
    "This script calculates a single index value. It implements mainly the following steps:\n",
    "\n",
    "* the calculation of $\\Delta K_i$\n",
    "* the computation of the forward price and the index of $K_*$\n",
    "* the selection of the at-the-money option and the out-of-the-money options\n",
    "* the combination of the results of the other three steps"
   ]
  },
  {
   "cell_type": "markdown",
   "metadata": {},
   "source": [
    "The next step is the derivation of time series data for the VSTOXX 1M and VSTOXX 2M as well as parts of VSTOXX 3M indexes and storage of the results in a pandas ``DataFrame`` object. As data source we use the file created in the last section. Remember, that this file contains a dictionary-like ``HDFStore`` object with one entry for every options series. The keys for the entries are three letter abbreviations of the respective month's name plus the actual year represented by two numbers, for example ``Mar16``, ``Jun16``, ``Dec20`` and so on. The value of an entry is a pandas ``DataFrame`` object with a pandas ``MultiIndex`` (date, strike price) and prices for the put and call options for the dates and strike prices."
   ]
  },
  {
   "cell_type": "markdown",
   "metadata": {},
   "source": [
    "All this is implemented as function ``make_subindex()``."
   ]
  },
  {
   "cell_type": "code",
   "execution_count": 30,
   "metadata": {},
   "outputs": [
    {
     "data": {
      "text/plain": [
       "\u001b[0;31mSignature:\u001b[0m \u001b[0misc\u001b[0m\u001b[0;34m.\u001b[0m\u001b[0mmake_subindex\u001b[0m\u001b[0;34m(\u001b[0m\u001b[0mpath\u001b[0m\u001b[0;34m)\u001b[0m\u001b[0;34m\u001b[0m\u001b[0;34m\u001b[0m\u001b[0m\n",
       "\u001b[0;31mSource:\u001b[0m   \n",
       "\u001b[0;32mdef\u001b[0m \u001b[0mmake_subindex\u001b[0m\u001b[0;34m(\u001b[0m\u001b[0mpath\u001b[0m\u001b[0;34m)\u001b[0m\u001b[0;34m:\u001b[0m\u001b[0;34m\u001b[0m\n",
       "\u001b[0;34m\u001b[0m    \u001b[0;34m''' Depending on the content of the file 'index_option_series.h5',\u001b[0m\n",
       "\u001b[0;34m    the function computes the sub-indexes V6I1, V6I2 and parts\u001b[0m\n",
       "\u001b[0;34m    of V6I3 and returns a pandas DataFrame object with the results.\u001b[0m\n",
       "\u001b[0;34m\u001b[0m\n",
       "\u001b[0;34m    Parameters\u001b[0m\n",
       "\u001b[0;34m    ==========\u001b[0m\n",
       "\u001b[0;34m    path: string\u001b[0m\n",
       "\u001b[0;34m        string with path of data file\u001b[0m\n",
       "\u001b[0;34m\u001b[0m\n",
       "\u001b[0;34m    Returns\u001b[0m\n",
       "\u001b[0;34m    =======\u001b[0m\n",
       "\u001b[0;34m    df: pandas DataFrame object\u001b[0m\n",
       "\u001b[0;34m        sub-index data as computed by the function\u001b[0m\n",
       "\u001b[0;34m    '''\u001b[0m\u001b[0;34m\u001b[0m\n",
       "\u001b[0;34m\u001b[0m\u001b[0;34m\u001b[0m\n",
       "\u001b[0;34m\u001b[0m    \u001b[0;31m# the data source, created with index_collect_option_data.py\u001b[0m\u001b[0;34m\u001b[0m\n",
       "\u001b[0;34m\u001b[0m    \u001b[0mdatastore\u001b[0m \u001b[0;34m=\u001b[0m \u001b[0mpd\u001b[0m\u001b[0;34m.\u001b[0m\u001b[0mHDFStore\u001b[0m\u001b[0;34m(\u001b[0m\u001b[0mpath\u001b[0m \u001b[0;34m+\u001b[0m \u001b[0;34m'index_option_series.h5'\u001b[0m\u001b[0;34m,\u001b[0m \u001b[0;34m'r'\u001b[0m\u001b[0;34m)\u001b[0m\u001b[0;34m\u001b[0m\n",
       "\u001b[0;34m\u001b[0m    \u001b[0;34m\u001b[0m\n",
       "\u001b[0;34m\u001b[0m    \u001b[0mmax_date\u001b[0m \u001b[0;34m=\u001b[0m \u001b[0mdt\u001b[0m\u001b[0;34m.\u001b[0m\u001b[0mdatetime\u001b[0m\u001b[0;34m.\u001b[0m\u001b[0mtoday\u001b[0m\u001b[0;34m(\u001b[0m\u001b[0;34m)\u001b[0m  \u001b[0;31m# find the latest date in the source\u001b[0m\u001b[0;34m\u001b[0m\n",
       "\u001b[0;34m\u001b[0m    \u001b[0;32mfor\u001b[0m \u001b[0mseries\u001b[0m \u001b[0;32min\u001b[0m \u001b[0mdatastore\u001b[0m\u001b[0;34m.\u001b[0m\u001b[0mkeys\u001b[0m\u001b[0;34m(\u001b[0m\u001b[0;34m)\u001b[0m\u001b[0;34m:\u001b[0m\u001b[0;34m\u001b[0m\n",
       "\u001b[0;34m\u001b[0m        \u001b[0mdummy_date\u001b[0m \u001b[0;34m=\u001b[0m \u001b[0mdatastore\u001b[0m\u001b[0;34m[\u001b[0m\u001b[0mseries\u001b[0m\u001b[0;34m]\u001b[0m\u001b[0;34m.\u001b[0m\u001b[0mindex\u001b[0m\u001b[0;34m.\u001b[0m\u001b[0mget_level_values\u001b[0m\u001b[0;34m(\u001b[0m\u001b[0;36m0\u001b[0m\u001b[0;34m)\u001b[0m\u001b[0;34m[\u001b[0m\u001b[0;36m0\u001b[0m\u001b[0;34m]\u001b[0m\u001b[0;34m\u001b[0m\n",
       "\u001b[0;34m\u001b[0m        \u001b[0mdummy_date\u001b[0m \u001b[0;34m=\u001b[0m \u001b[0mdummy_date\u001b[0m\u001b[0;34m.\u001b[0m\u001b[0mto_pydatetime\u001b[0m\u001b[0;34m(\u001b[0m\u001b[0;34m)\u001b[0m\u001b[0;34m\u001b[0m\n",
       "\u001b[0;34m\u001b[0m        \u001b[0;32mif\u001b[0m \u001b[0mdummy_date\u001b[0m \u001b[0;34m>\u001b[0m \u001b[0mmax_date\u001b[0m\u001b[0;34m:\u001b[0m\u001b[0;34m\u001b[0m\n",
       "\u001b[0;34m\u001b[0m            \u001b[0mmax_date\u001b[0m \u001b[0;34m=\u001b[0m \u001b[0mdummy_date\u001b[0m\u001b[0;34m\u001b[0m\n",
       "\u001b[0;34m\u001b[0m    \u001b[0mstart_date\u001b[0m \u001b[0;34m=\u001b[0m \u001b[0mdt\u001b[0m\u001b[0;34m.\u001b[0m\u001b[0mdatetime\u001b[0m\u001b[0;34m.\u001b[0m\u001b[0mtoday\u001b[0m\u001b[0;34m(\u001b[0m\u001b[0;34m)\u001b[0m  \u001b[0;31m# find the earliest date in the source\u001b[0m\u001b[0;34m\u001b[0m\n",
       "\u001b[0;34m\u001b[0m    \u001b[0;32mfor\u001b[0m \u001b[0mseries\u001b[0m \u001b[0;32min\u001b[0m \u001b[0mdatastore\u001b[0m\u001b[0;34m.\u001b[0m\u001b[0mkeys\u001b[0m\u001b[0;34m(\u001b[0m\u001b[0;34m)\u001b[0m\u001b[0;34m:\u001b[0m\u001b[0;34m\u001b[0m\n",
       "\u001b[0;34m\u001b[0m        \u001b[0mdummy_date\u001b[0m \u001b[0;34m=\u001b[0m \u001b[0mdatastore\u001b[0m\u001b[0;34m[\u001b[0m\u001b[0mseries\u001b[0m\u001b[0;34m]\u001b[0m\u001b[0;34m.\u001b[0m\u001b[0mindex\u001b[0m\u001b[0;34m.\u001b[0m\u001b[0mget_level_values\u001b[0m\u001b[0;34m(\u001b[0m\u001b[0;36m0\u001b[0m\u001b[0;34m)\u001b[0m\u001b[0;34m[\u001b[0m\u001b[0;36m0\u001b[0m\u001b[0;34m]\u001b[0m\u001b[0;34m\u001b[0m\n",
       "\u001b[0;34m\u001b[0m        \u001b[0mdummy_data\u001b[0m \u001b[0;34m=\u001b[0m \u001b[0mdummy_date\u001b[0m\u001b[0;34m.\u001b[0m\u001b[0mto_pydatetime\u001b[0m\u001b[0;34m(\u001b[0m\u001b[0;34m)\u001b[0m\u001b[0;34m\u001b[0m\n",
       "\u001b[0;34m\u001b[0m        \u001b[0;32mif\u001b[0m \u001b[0mdummy_date\u001b[0m \u001b[0;34m<\u001b[0m \u001b[0mstart_date\u001b[0m\u001b[0;34m:\u001b[0m\u001b[0;34m\u001b[0m\n",
       "\u001b[0;34m\u001b[0m            \u001b[0mstart_date\u001b[0m \u001b[0;34m=\u001b[0m \u001b[0mdummy_date\u001b[0m\u001b[0;34m\u001b[0m\n",
       "\u001b[0;34m\u001b[0m    \u001b[0mV1\u001b[0m \u001b[0;34m=\u001b[0m \u001b[0mdict\u001b[0m\u001b[0;34m(\u001b[0m\u001b[0;34m)\u001b[0m  \u001b[0;31m# dicts to store the values, V stands for the sub-indices,\u001b[0m\u001b[0;34m\u001b[0m\n",
       "\u001b[0;34m\u001b[0m                 \u001b[0;31m# T for their expiry\u001b[0m\u001b[0;34m\u001b[0m\n",
       "\u001b[0;34m\u001b[0m    \u001b[0mV2\u001b[0m \u001b[0;34m=\u001b[0m \u001b[0mdict\u001b[0m\u001b[0;34m(\u001b[0m\u001b[0;34m)\u001b[0m\u001b[0;34m\u001b[0m\n",
       "\u001b[0;34m\u001b[0m    \u001b[0mV3\u001b[0m \u001b[0;34m=\u001b[0m \u001b[0mdict\u001b[0m\u001b[0;34m(\u001b[0m\u001b[0;34m)\u001b[0m\u001b[0;34m\u001b[0m\n",
       "\u001b[0;34m\u001b[0m    \u001b[0mT1\u001b[0m \u001b[0;34m=\u001b[0m \u001b[0mdict\u001b[0m\u001b[0;34m(\u001b[0m\u001b[0;34m)\u001b[0m\u001b[0;34m\u001b[0m\n",
       "\u001b[0;34m\u001b[0m    \u001b[0mT2\u001b[0m \u001b[0;34m=\u001b[0m \u001b[0mdict\u001b[0m\u001b[0;34m(\u001b[0m\u001b[0;34m)\u001b[0m\u001b[0;34m\u001b[0m\n",
       "\u001b[0;34m\u001b[0m    \u001b[0mT3\u001b[0m \u001b[0;34m=\u001b[0m \u001b[0mdict\u001b[0m\u001b[0;34m(\u001b[0m\u001b[0;34m)\u001b[0m\u001b[0;34m\u001b[0m\n",
       "\u001b[0;34m\u001b[0m\u001b[0;34m\u001b[0m\n",
       "\u001b[0;34m\u001b[0m    \u001b[0;31m# from start_date to max_date, but only weekdays\u001b[0m\u001b[0;34m\u001b[0m\n",
       "\u001b[0;34m\u001b[0m    \u001b[0;32mfor\u001b[0m \u001b[0mday\u001b[0m \u001b[0;32min\u001b[0m \u001b[0mpd\u001b[0m\u001b[0;34m.\u001b[0m\u001b[0mbdate_range\u001b[0m\u001b[0;34m(\u001b[0m\u001b[0mstart\u001b[0m\u001b[0;34m=\u001b[0m\u001b[0mstart_date\u001b[0m\u001b[0;34m.\u001b[0m\u001b[0mdate\u001b[0m\u001b[0;34m(\u001b[0m\u001b[0;34m)\u001b[0m\u001b[0;34m,\u001b[0m \u001b[0mend\u001b[0m\u001b[0;34m=\u001b[0m\u001b[0mmax_date\u001b[0m\u001b[0;34m.\u001b[0m\u001b[0mdate\u001b[0m\u001b[0;34m(\u001b[0m\u001b[0;34m)\u001b[0m\u001b[0;34m)\u001b[0m\u001b[0;34m:\u001b[0m\u001b[0;34m\u001b[0m\n",
       "\u001b[0;34m\u001b[0m        \u001b[0;31m# is V6I1 defined?\u001b[0m\u001b[0;34m\u001b[0m\n",
       "\u001b[0;34m\u001b[0m        \u001b[0mis_V1_defined\u001b[0m \u001b[0;34m=\u001b[0m \u001b[0midf\u001b[0m\u001b[0;34m.\u001b[0m\u001b[0mnot_a_day_before_expiry\u001b[0m\u001b[0;34m(\u001b[0m\u001b[0mday\u001b[0m\u001b[0;34m)\u001b[0m\u001b[0;34m\u001b[0m\n",
       "\u001b[0;34m\u001b[0m        \u001b[0;31m# the settlement date\u001b[0m\u001b[0;34m\u001b[0m\n",
       "\u001b[0;34m\u001b[0m        \u001b[0msettlement_date\u001b[0m \u001b[0;34m=\u001b[0m \u001b[0midf\u001b[0m\u001b[0;34m.\u001b[0m\u001b[0mfirst_settlement_day\u001b[0m\u001b[0;34m(\u001b[0m\u001b[0mday\u001b[0m\u001b[0;34m)\u001b[0m\u001b[0;34m\u001b[0m\n",
       "\u001b[0;34m\u001b[0m        \u001b[0;31m# abbreviation for the expiry date, like Oct14\u001b[0m\u001b[0;34m\u001b[0m\n",
       "\u001b[0;34m\u001b[0m        \u001b[0mkey\u001b[0m \u001b[0;34m=\u001b[0m \u001b[0msettlement_date\u001b[0m\u001b[0;34m.\u001b[0m\u001b[0mstrftime\u001b[0m\u001b[0;34m(\u001b[0m\u001b[0;34m'%b%y'\u001b[0m\u001b[0;34m)\u001b[0m\u001b[0;34m\u001b[0m\n",
       "\u001b[0;34m\u001b[0m        \u001b[0;31m# days until maturity\u001b[0m\u001b[0;34m\u001b[0m\n",
       "\u001b[0;34m\u001b[0m        \u001b[0mdelta_T\u001b[0m \u001b[0;34m=\u001b[0m \u001b[0midf\u001b[0m\u001b[0;34m.\u001b[0m\u001b[0mcompute_delta\u001b[0m\u001b[0;34m(\u001b[0m\u001b[0mday\u001b[0m\u001b[0;34m,\u001b[0m \u001b[0msettlement_date\u001b[0m\u001b[0;34m)\u001b[0m\u001b[0;34m\u001b[0m\n",
       "\u001b[0;34m\u001b[0m        \u001b[0;32mtry\u001b[0m\u001b[0;34m:\u001b[0m\u001b[0;34m\u001b[0m\n",
       "\u001b[0;34m\u001b[0m            \u001b[0;31m# data of the option series for that date\u001b[0m\u001b[0;34m\u001b[0m\n",
       "\u001b[0;34m\u001b[0m            \u001b[0mdata\u001b[0m \u001b[0;34m=\u001b[0m \u001b[0mdatastore\u001b[0m\u001b[0;34m[\u001b[0m\u001b[0mkey\u001b[0m\u001b[0;34m]\u001b[0m\u001b[0;34m.\u001b[0m\u001b[0mloc\u001b[0m\u001b[0;34m[\u001b[0m\u001b[0mday\u001b[0m\u001b[0;34m]\u001b[0m\u001b[0;34m\u001b[0m\n",
       "\u001b[0;34m\u001b[0m        \u001b[0;32mexcept\u001b[0m\u001b[0;34m:\u001b[0m\u001b[0;34m\u001b[0m\n",
       "\u001b[0;34m\u001b[0m            \u001b[0;32mcontinue\u001b[0m\u001b[0;34m\u001b[0m\n",
       "\u001b[0;34m\u001b[0m\u001b[0;34m\u001b[0m\n",
       "\u001b[0;34m\u001b[0m        \u001b[0;32mif\u001b[0m \u001b[0mis_V1_defined\u001b[0m\u001b[0;34m:\u001b[0m  \u001b[0;31m# if V6I1 is defined\u001b[0m\u001b[0;34m\u001b[0m\n",
       "\u001b[0;34m\u001b[0m            \u001b[0;31m# compute its value\u001b[0m\u001b[0;34m\u001b[0m\n",
       "\u001b[0;34m\u001b[0m            \u001b[0mV1\u001b[0m\u001b[0;34m[\u001b[0m\u001b[0mday\u001b[0m\u001b[0;34m]\u001b[0m \u001b[0;34m=\u001b[0m \u001b[0mcompute_subindex\u001b[0m\u001b[0;34m(\u001b[0m\u001b[0mdata\u001b[0m\u001b[0;34m,\u001b[0m \u001b[0mdelta_T\u001b[0m\u001b[0;34m,\u001b[0m\u001b[0;34m\u001b[0m\n",
       "\u001b[0;34m\u001b[0m                                       \u001b[0mmath\u001b[0m\u001b[0;34m.\u001b[0m\u001b[0mexp\u001b[0m\u001b[0;34m(\u001b[0m\u001b[0;36m0.0015\u001b[0m \u001b[0;34m*\u001b[0m \u001b[0mdelta_T\u001b[0m\u001b[0;34m)\u001b[0m\u001b[0;34m)\u001b[0m\u001b[0;34m\u001b[0m\n",
       "\u001b[0;34m\u001b[0m            \u001b[0mT1\u001b[0m\u001b[0;34m[\u001b[0m\u001b[0mday\u001b[0m\u001b[0;34m]\u001b[0m \u001b[0;34m=\u001b[0m \u001b[0msettlement_date\u001b[0m\u001b[0;34m\u001b[0m\n",
       "\u001b[0;34m\u001b[0m        \u001b[0;32melse\u001b[0m\u001b[0;34m:\u001b[0m\u001b[0;34m\u001b[0m\n",
       "\u001b[0;34m\u001b[0m            \u001b[0;31m# compute the value of V6I2 instead\u001b[0m\u001b[0;34m\u001b[0m\n",
       "\u001b[0;34m\u001b[0m            \u001b[0mV2\u001b[0m\u001b[0;34m[\u001b[0m\u001b[0mday\u001b[0m\u001b[0;34m]\u001b[0m \u001b[0;34m=\u001b[0m \u001b[0mcompute_subindex\u001b[0m\u001b[0;34m(\u001b[0m\u001b[0mdata\u001b[0m\u001b[0;34m,\u001b[0m \u001b[0mdelta_T\u001b[0m\u001b[0;34m,\u001b[0m\u001b[0;34m\u001b[0m\n",
       "\u001b[0;34m\u001b[0m                                       \u001b[0mmath\u001b[0m\u001b[0;34m.\u001b[0m\u001b[0mexp\u001b[0m\u001b[0;34m(\u001b[0m\u001b[0;36m0.0015\u001b[0m \u001b[0;34m*\u001b[0m \u001b[0mdelta_T\u001b[0m\u001b[0;34m)\u001b[0m\u001b[0;34m)\u001b[0m\u001b[0;34m\u001b[0m\n",
       "\u001b[0;34m\u001b[0m            \u001b[0mT2\u001b[0m\u001b[0;34m[\u001b[0m\u001b[0mday\u001b[0m\u001b[0;34m]\u001b[0m \u001b[0;34m=\u001b[0m \u001b[0msettlement_date\u001b[0m\u001b[0;34m\u001b[0m\n",
       "\u001b[0;34m\u001b[0m\u001b[0;34m\u001b[0m\n",
       "\u001b[0;34m\u001b[0m        \u001b[0msettlement_date_2\u001b[0m \u001b[0;34m=\u001b[0m \u001b[0midf\u001b[0m\u001b[0;34m.\u001b[0m\u001b[0msecond_settlement_day\u001b[0m\u001b[0;34m(\u001b[0m\u001b[0mday\u001b[0m\u001b[0;34m)\u001b[0m\u001b[0;34m\u001b[0m\n",
       "\u001b[0;34m\u001b[0m\u001b[0;34m\u001b[0m\n",
       "\u001b[0;34m\u001b[0m        \u001b[0;31m# the same for the next index\u001b[0m\u001b[0;34m\u001b[0m\n",
       "\u001b[0;34m\u001b[0m        \u001b[0mkey_2\u001b[0m \u001b[0;34m=\u001b[0m \u001b[0msettlement_date_2\u001b[0m\u001b[0;34m.\u001b[0m\u001b[0mstrftime\u001b[0m\u001b[0;34m(\u001b[0m\u001b[0;34m'%b%y'\u001b[0m\u001b[0;34m)\u001b[0m\u001b[0;34m\u001b[0m\n",
       "\u001b[0;34m\u001b[0m        \u001b[0mdelta_T_2\u001b[0m \u001b[0;34m=\u001b[0m \u001b[0midf\u001b[0m\u001b[0;34m.\u001b[0m\u001b[0mcompute_delta\u001b[0m\u001b[0;34m(\u001b[0m\u001b[0mday\u001b[0m\u001b[0;34m,\u001b[0m \u001b[0msettlement_date_2\u001b[0m\u001b[0;34m)\u001b[0m\u001b[0;34m\u001b[0m\n",
       "\u001b[0;34m\u001b[0m        \u001b[0mdata_2\u001b[0m \u001b[0;34m=\u001b[0m \u001b[0mdatastore\u001b[0m\u001b[0;34m[\u001b[0m\u001b[0mkey_2\u001b[0m\u001b[0;34m]\u001b[0m\u001b[0;34m.\u001b[0m\u001b[0mloc\u001b[0m\u001b[0;34m[\u001b[0m\u001b[0mday\u001b[0m\u001b[0;34m]\u001b[0m\u001b[0;34m\u001b[0m\n",
       "\u001b[0;34m\u001b[0m\u001b[0;34m\u001b[0m\n",
       "\u001b[0;34m\u001b[0m        \u001b[0;32mif\u001b[0m \u001b[0mis_V1_defined\u001b[0m\u001b[0;34m:\u001b[0m\u001b[0;34m\u001b[0m\n",
       "\u001b[0;34m\u001b[0m            \u001b[0mV2\u001b[0m\u001b[0;34m[\u001b[0m\u001b[0mday\u001b[0m\u001b[0;34m]\u001b[0m \u001b[0;34m=\u001b[0m \u001b[0mcompute_subindex\u001b[0m\u001b[0;34m(\u001b[0m\u001b[0mdata_2\u001b[0m\u001b[0;34m,\u001b[0m \u001b[0mdelta_T_2\u001b[0m\u001b[0;34m,\u001b[0m\u001b[0;34m\u001b[0m\n",
       "\u001b[0;34m\u001b[0m                                       \u001b[0mmath\u001b[0m\u001b[0;34m.\u001b[0m\u001b[0mexp\u001b[0m\u001b[0;34m(\u001b[0m\u001b[0;36m0.001\u001b[0m \u001b[0;34m*\u001b[0m \u001b[0mdelta_T_2\u001b[0m\u001b[0;34m)\u001b[0m\u001b[0;34m)\u001b[0m\u001b[0;34m\u001b[0m\n",
       "\u001b[0;34m\u001b[0m            \u001b[0mT2\u001b[0m\u001b[0;34m[\u001b[0m\u001b[0mday\u001b[0m\u001b[0;34m]\u001b[0m \u001b[0;34m=\u001b[0m \u001b[0msettlement_date_2\u001b[0m\u001b[0;34m\u001b[0m\n",
       "\u001b[0;34m\u001b[0m        \u001b[0;32melse\u001b[0m\u001b[0;34m:\u001b[0m\u001b[0;34m\u001b[0m\n",
       "\u001b[0;34m\u001b[0m            \u001b[0mV3\u001b[0m\u001b[0;34m[\u001b[0m\u001b[0mday\u001b[0m\u001b[0;34m]\u001b[0m \u001b[0;34m=\u001b[0m \u001b[0mcompute_subindex\u001b[0m\u001b[0;34m(\u001b[0m\u001b[0mdata_2\u001b[0m\u001b[0;34m,\u001b[0m \u001b[0mdelta_T_2\u001b[0m\u001b[0;34m,\u001b[0m\u001b[0;34m\u001b[0m\n",
       "\u001b[0;34m\u001b[0m                                       \u001b[0mmath\u001b[0m\u001b[0;34m.\u001b[0m\u001b[0mexp\u001b[0m\u001b[0;34m(\u001b[0m\u001b[0;36m0.001\u001b[0m \u001b[0;34m*\u001b[0m \u001b[0mdelta_T_2\u001b[0m\u001b[0;34m)\u001b[0m\u001b[0;34m)\u001b[0m\u001b[0;34m\u001b[0m\n",
       "\u001b[0;34m\u001b[0m            \u001b[0mT3\u001b[0m\u001b[0;34m[\u001b[0m\u001b[0mday\u001b[0m\u001b[0;34m]\u001b[0m \u001b[0;34m=\u001b[0m \u001b[0msettlement_date_2\u001b[0m\u001b[0;34m\u001b[0m\n",
       "\u001b[0;34m\u001b[0m    \u001b[0;34m\u001b[0m\n",
       "\u001b[0;34m\u001b[0m    \u001b[0mdatastore\u001b[0m\u001b[0;34m.\u001b[0m\u001b[0mclose\u001b[0m\u001b[0;34m(\u001b[0m\u001b[0;34m)\u001b[0m\u001b[0;34m\u001b[0m\n",
       "\u001b[0;34m\u001b[0m    \u001b[0;31m# create the pandas DataFrame object and return it\u001b[0m\u001b[0;34m\u001b[0m\n",
       "\u001b[0;34m\u001b[0m    \u001b[0mdf\u001b[0m \u001b[0;34m=\u001b[0m \u001b[0mpd\u001b[0m\u001b[0;34m.\u001b[0m\u001b[0mDataFrame\u001b[0m\u001b[0;34m(\u001b[0m\u001b[0mdata\u001b[0m\u001b[0;34m=\u001b[0m\u001b[0;34m{\u001b[0m\u001b[0;34m'V6I1'\u001b[0m\u001b[0;34m:\u001b[0m \u001b[0mV1\u001b[0m\u001b[0;34m,\u001b[0m \u001b[0;34m'Expiry V6I1'\u001b[0m\u001b[0;34m:\u001b[0m \u001b[0mT1\u001b[0m\u001b[0;34m,\u001b[0m \u001b[0;34m'V6I2'\u001b[0m\u001b[0;34m:\u001b[0m \u001b[0mV2\u001b[0m\u001b[0;34m,\u001b[0m\u001b[0;34m\u001b[0m\n",
       "\u001b[0;34m\u001b[0m                    \u001b[0;34m'Expiry V6I2'\u001b[0m\u001b[0;34m:\u001b[0m \u001b[0mT2\u001b[0m\u001b[0;34m,\u001b[0m \u001b[0;34m'V6I3'\u001b[0m\u001b[0;34m:\u001b[0m \u001b[0mV3\u001b[0m\u001b[0;34m,\u001b[0m \u001b[0;34m'Expiry V6I3'\u001b[0m\u001b[0;34m:\u001b[0m \u001b[0mT3\u001b[0m\u001b[0;34m}\u001b[0m\u001b[0;34m)\u001b[0m\u001b[0;34m\u001b[0m\n",
       "\u001b[0;34m\u001b[0m    \u001b[0;32mreturn\u001b[0m \u001b[0mdf\u001b[0m\u001b[0;34m\u001b[0m\u001b[0;34m\u001b[0m\u001b[0m\n",
       "\u001b[0;31mFile:\u001b[0m      ~/Dropbox/Program/cert/21_lvvd/live/scripts/index_subindex_calculation.py\n",
       "\u001b[0;31mType:\u001b[0m      function\n"
      ]
     },
     "metadata": {},
     "output_type": "display_data"
    }
   ],
   "source": [
    "isc.make_subindex??"
   ]
  },
  {
   "cell_type": "markdown",
   "metadata": {},
   "source": [
    "This function uses the collected option series data and selects those data sub-sets needed for the calculation at hand. It generates sub-index values for all those days for which option data is available. The result is a pandas ``DataFrame`` object.\n",
    "\n",
    "Let us see how it works. To this end, we first import the module as ``isc``."
   ]
  },
  {
   "cell_type": "code",
   "execution_count": 31,
   "metadata": {},
   "outputs": [
    {
     "data": {
      "text/html": [
       "<div>\n",
       "<style scoped>\n",
       "    .dataframe tbody tr th:only-of-type {\n",
       "        vertical-align: middle;\n",
       "    }\n",
       "\n",
       "    .dataframe tbody tr th {\n",
       "        vertical-align: top;\n",
       "    }\n",
       "\n",
       "    .dataframe thead th {\n",
       "        text-align: right;\n",
       "    }\n",
       "</style>\n",
       "<table border=\"1\" class=\"dataframe\">\n",
       "  <thead>\n",
       "    <tr style=\"text-align: right;\">\n",
       "      <th></th>\n",
       "      <th>V6I1</th>\n",
       "      <th>Expiry V6I1</th>\n",
       "      <th>V6I2</th>\n",
       "      <th>Expiry V6I2</th>\n",
       "      <th>V6I3</th>\n",
       "      <th>Expiry V6I3</th>\n",
       "    </tr>\n",
       "  </thead>\n",
       "  <tbody>\n",
       "    <tr>\n",
       "      <th>2020-10-19</th>\n",
       "      <td>26.606646</td>\n",
       "      <td>2020-11-20</td>\n",
       "      <td>26.509857</td>\n",
       "      <td>2020-12-18</td>\n",
       "      <td>NaN</td>\n",
       "      <td>NaT</td>\n",
       "    </tr>\n",
       "    <tr>\n",
       "      <th>2020-10-20</th>\n",
       "      <td>27.608821</td>\n",
       "      <td>2020-11-20</td>\n",
       "      <td>27.532919</td>\n",
       "      <td>2020-12-18</td>\n",
       "      <td>NaN</td>\n",
       "      <td>NaT</td>\n",
       "    </tr>\n",
       "    <tr>\n",
       "      <th>2020-10-21</th>\n",
       "      <td>29.476430</td>\n",
       "      <td>2020-11-20</td>\n",
       "      <td>28.846775</td>\n",
       "      <td>2020-12-18</td>\n",
       "      <td>NaN</td>\n",
       "      <td>NaT</td>\n",
       "    </tr>\n",
       "    <tr>\n",
       "      <th>2020-10-22</th>\n",
       "      <td>29.084995</td>\n",
       "      <td>2020-11-20</td>\n",
       "      <td>28.273699</td>\n",
       "      <td>2020-12-18</td>\n",
       "      <td>NaN</td>\n",
       "      <td>NaT</td>\n",
       "    </tr>\n",
       "    <tr>\n",
       "      <th>2020-10-23</th>\n",
       "      <td>28.237099</td>\n",
       "      <td>2020-11-20</td>\n",
       "      <td>27.957935</td>\n",
       "      <td>2020-12-18</td>\n",
       "      <td>NaN</td>\n",
       "      <td>NaT</td>\n",
       "    </tr>\n",
       "    <tr>\n",
       "      <th>2020-10-26</th>\n",
       "      <td>32.302770</td>\n",
       "      <td>2020-11-20</td>\n",
       "      <td>30.717757</td>\n",
       "      <td>2020-12-18</td>\n",
       "      <td>NaN</td>\n",
       "      <td>NaT</td>\n",
       "    </tr>\n",
       "    <tr>\n",
       "      <th>2020-10-27</th>\n",
       "      <td>33.447022</td>\n",
       "      <td>2020-11-20</td>\n",
       "      <td>31.484938</td>\n",
       "      <td>2020-12-18</td>\n",
       "      <td>NaN</td>\n",
       "      <td>NaT</td>\n",
       "    </tr>\n",
       "    <tr>\n",
       "      <th>2020-10-28</th>\n",
       "      <td>39.575073</td>\n",
       "      <td>2020-11-20</td>\n",
       "      <td>36.437124</td>\n",
       "      <td>2020-12-18</td>\n",
       "      <td>NaN</td>\n",
       "      <td>NaT</td>\n",
       "    </tr>\n",
       "    <tr>\n",
       "      <th>2020-10-29</th>\n",
       "      <td>38.633308</td>\n",
       "      <td>2020-11-20</td>\n",
       "      <td>36.134162</td>\n",
       "      <td>2020-12-18</td>\n",
       "      <td>NaN</td>\n",
       "      <td>NaT</td>\n",
       "    </tr>\n",
       "    <tr>\n",
       "      <th>2020-10-30</th>\n",
       "      <td>36.405581</td>\n",
       "      <td>2020-11-20</td>\n",
       "      <td>34.373672</td>\n",
       "      <td>2020-12-18</td>\n",
       "      <td>NaN</td>\n",
       "      <td>NaT</td>\n",
       "    </tr>\n",
       "    <tr>\n",
       "      <th>2020-11-02</th>\n",
       "      <td>37.509253</td>\n",
       "      <td>2020-11-20</td>\n",
       "      <td>34.058089</td>\n",
       "      <td>2020-12-18</td>\n",
       "      <td>NaN</td>\n",
       "      <td>NaT</td>\n",
       "    </tr>\n",
       "    <tr>\n",
       "      <th>2020-11-03</th>\n",
       "      <td>35.156661</td>\n",
       "      <td>2020-11-20</td>\n",
       "      <td>31.684043</td>\n",
       "      <td>2020-12-18</td>\n",
       "      <td>NaN</td>\n",
       "      <td>NaT</td>\n",
       "    </tr>\n",
       "    <tr>\n",
       "      <th>2020-11-04</th>\n",
       "      <td>29.178349</td>\n",
       "      <td>2020-11-20</td>\n",
       "      <td>27.479246</td>\n",
       "      <td>2020-12-18</td>\n",
       "      <td>NaN</td>\n",
       "      <td>NaT</td>\n",
       "    </tr>\n",
       "    <tr>\n",
       "      <th>2020-11-05</th>\n",
       "      <td>26.469245</td>\n",
       "      <td>2020-11-20</td>\n",
       "      <td>26.269875</td>\n",
       "      <td>2020-12-18</td>\n",
       "      <td>NaN</td>\n",
       "      <td>NaT</td>\n",
       "    </tr>\n",
       "    <tr>\n",
       "      <th>2020-11-06</th>\n",
       "      <td>25.285674</td>\n",
       "      <td>2020-11-20</td>\n",
       "      <td>25.705612</td>\n",
       "      <td>2020-12-18</td>\n",
       "      <td>NaN</td>\n",
       "      <td>NaT</td>\n",
       "    </tr>\n",
       "    <tr>\n",
       "      <th>2020-11-09</th>\n",
       "      <td>25.464587</td>\n",
       "      <td>2020-11-20</td>\n",
       "      <td>23.646724</td>\n",
       "      <td>2020-12-18</td>\n",
       "      <td>NaN</td>\n",
       "      <td>NaT</td>\n",
       "    </tr>\n",
       "    <tr>\n",
       "      <th>2020-11-10</th>\n",
       "      <td>27.162848</td>\n",
       "      <td>2020-11-20</td>\n",
       "      <td>24.859203</td>\n",
       "      <td>2020-12-18</td>\n",
       "      <td>NaN</td>\n",
       "      <td>NaT</td>\n",
       "    </tr>\n",
       "    <tr>\n",
       "      <th>2020-11-11</th>\n",
       "      <td>22.992602</td>\n",
       "      <td>2020-11-20</td>\n",
       "      <td>23.125166</td>\n",
       "      <td>2020-12-18</td>\n",
       "      <td>NaN</td>\n",
       "      <td>NaT</td>\n",
       "    </tr>\n",
       "    <tr>\n",
       "      <th>2020-11-12</th>\n",
       "      <td>22.949448</td>\n",
       "      <td>2020-11-20</td>\n",
       "      <td>23.280310</td>\n",
       "      <td>2020-12-18</td>\n",
       "      <td>NaN</td>\n",
       "      <td>NaT</td>\n",
       "    </tr>\n",
       "    <tr>\n",
       "      <th>2020-10-16</th>\n",
       "      <td>NaN</td>\n",
       "      <td>NaT</td>\n",
       "      <td>25.330027</td>\n",
       "      <td>2020-11-20</td>\n",
       "      <td>25.442731</td>\n",
       "      <td>2020-12-18</td>\n",
       "    </tr>\n",
       "  </tbody>\n",
       "</table>\n",
       "</div>"
      ],
      "text/plain": [
       "                 V6I1 Expiry V6I1       V6I2 Expiry V6I2       V6I3  \\\n",
       "2020-10-19  26.606646  2020-11-20  26.509857  2020-12-18        NaN   \n",
       "2020-10-20  27.608821  2020-11-20  27.532919  2020-12-18        NaN   \n",
       "2020-10-21  29.476430  2020-11-20  28.846775  2020-12-18        NaN   \n",
       "2020-10-22  29.084995  2020-11-20  28.273699  2020-12-18        NaN   \n",
       "2020-10-23  28.237099  2020-11-20  27.957935  2020-12-18        NaN   \n",
       "2020-10-26  32.302770  2020-11-20  30.717757  2020-12-18        NaN   \n",
       "2020-10-27  33.447022  2020-11-20  31.484938  2020-12-18        NaN   \n",
       "2020-10-28  39.575073  2020-11-20  36.437124  2020-12-18        NaN   \n",
       "2020-10-29  38.633308  2020-11-20  36.134162  2020-12-18        NaN   \n",
       "2020-10-30  36.405581  2020-11-20  34.373672  2020-12-18        NaN   \n",
       "2020-11-02  37.509253  2020-11-20  34.058089  2020-12-18        NaN   \n",
       "2020-11-03  35.156661  2020-11-20  31.684043  2020-12-18        NaN   \n",
       "2020-11-04  29.178349  2020-11-20  27.479246  2020-12-18        NaN   \n",
       "2020-11-05  26.469245  2020-11-20  26.269875  2020-12-18        NaN   \n",
       "2020-11-06  25.285674  2020-11-20  25.705612  2020-12-18        NaN   \n",
       "2020-11-09  25.464587  2020-11-20  23.646724  2020-12-18        NaN   \n",
       "2020-11-10  27.162848  2020-11-20  24.859203  2020-12-18        NaN   \n",
       "2020-11-11  22.992602  2020-11-20  23.125166  2020-12-18        NaN   \n",
       "2020-11-12  22.949448  2020-11-20  23.280310  2020-12-18        NaN   \n",
       "2020-10-16        NaN         NaT  25.330027  2020-11-20  25.442731   \n",
       "\n",
       "           Expiry V6I3  \n",
       "2020-10-19         NaT  \n",
       "2020-10-20         NaT  \n",
       "2020-10-21         NaT  \n",
       "2020-10-22         NaT  \n",
       "2020-10-23         NaT  \n",
       "2020-10-26         NaT  \n",
       "2020-10-27         NaT  \n",
       "2020-10-28         NaT  \n",
       "2020-10-29         NaT  \n",
       "2020-10-30         NaT  \n",
       "2020-11-02         NaT  \n",
       "2020-11-03         NaT  \n",
       "2020-11-04         NaT  \n",
       "2020-11-05         NaT  \n",
       "2020-11-06         NaT  \n",
       "2020-11-09         NaT  \n",
       "2020-11-10         NaT  \n",
       "2020-11-11         NaT  \n",
       "2020-11-12         NaT  \n",
       "2020-10-16  2020-12-18  "
      ]
     },
     "execution_count": 31,
     "metadata": {},
     "output_type": "execute_result"
    }
   ],
   "source": [
    "import index_subindex_calculation as isc\n",
    "si = isc.make_subindex(path)\n",
    "si"
   ]
  },
  {
   "cell_type": "markdown",
   "metadata": {},
   "source": [
    "For comparison, we retrieve the \"real\" historical VSTOXX (sub-) index values."
   ]
  },
  {
   "cell_type": "code",
   "execution_count": 32,
   "metadata": {},
   "outputs": [],
   "source": [
    "url = 'https://hilpisch.com/vstoxx_eikon_eod_data.csv'"
   ]
  },
  {
   "cell_type": "code",
   "execution_count": 33,
   "metadata": {},
   "outputs": [],
   "source": [
    "vs = pd.read_csv(url, index_col=0, parse_dates=True)"
   ]
  },
  {
   "cell_type": "code",
   "execution_count": 34,
   "metadata": {},
   "outputs": [
    {
     "data": {
      "text/html": [
       "<div>\n",
       "<style scoped>\n",
       "    .dataframe tbody tr th:only-of-type {\n",
       "        vertical-align: middle;\n",
       "    }\n",
       "\n",
       "    .dataframe tbody tr th {\n",
       "        vertical-align: top;\n",
       "    }\n",
       "\n",
       "    .dataframe thead th {\n",
       "        text-align: right;\n",
       "    }\n",
       "</style>\n",
       "<table border=\"1\" class=\"dataframe\">\n",
       "  <thead>\n",
       "    <tr style=\"text-align: right;\">\n",
       "      <th></th>\n",
       "      <th>.V2TX</th>\n",
       "      <th>.V6I1</th>\n",
       "      <th>.V6I2</th>\n",
       "      <th>.V6I3</th>\n",
       "      <th>.V6I4</th>\n",
       "      <th>.V6I5</th>\n",
       "      <th>.V6I6</th>\n",
       "      <th>.V6I7</th>\n",
       "      <th>.V6I8</th>\n",
       "    </tr>\n",
       "    <tr>\n",
       "      <th>Date</th>\n",
       "      <th></th>\n",
       "      <th></th>\n",
       "      <th></th>\n",
       "      <th></th>\n",
       "      <th></th>\n",
       "      <th></th>\n",
       "      <th></th>\n",
       "      <th></th>\n",
       "      <th></th>\n",
       "    </tr>\n",
       "  </thead>\n",
       "  <tbody>\n",
       "    <tr>\n",
       "      <th>2010-09-15</th>\n",
       "      <td>23.5735</td>\n",
       "      <td>27.4329</td>\n",
       "      <td>23.5329</td>\n",
       "      <td>26.2496</td>\n",
       "      <td>26.8759</td>\n",
       "      <td>28.8945</td>\n",
       "      <td>30.3826</td>\n",
       "      <td>32.2021</td>\n",
       "      <td>28.7477</td>\n",
       "    </tr>\n",
       "    <tr>\n",
       "      <th>2010-09-21</th>\n",
       "      <td>25.0769</td>\n",
       "      <td>24.5319</td>\n",
       "      <td>26.0644</td>\n",
       "      <td>27.1696</td>\n",
       "      <td>29.1555</td>\n",
       "      <td>30.8221</td>\n",
       "      <td>22.0192</td>\n",
       "      <td>32.2907</td>\n",
       "      <td>28.7387</td>\n",
       "    </tr>\n",
       "    <tr>\n",
       "      <th>2010-09-22</th>\n",
       "      <td>25.4218</td>\n",
       "      <td>24.7565</td>\n",
       "      <td>26.3973</td>\n",
       "      <td>27.7160</td>\n",
       "      <td>29.5691</td>\n",
       "      <td>31.1977</td>\n",
       "      <td>22.0946</td>\n",
       "      <td>32.3170</td>\n",
       "      <td>28.8657</td>\n",
       "    </tr>\n",
       "    <tr>\n",
       "      <th>2010-09-23</th>\n",
       "      <td>25.5630</td>\n",
       "      <td>24.9634</td>\n",
       "      <td>26.2919</td>\n",
       "      <td>27.7266</td>\n",
       "      <td>29.5416</td>\n",
       "      <td>31.4652</td>\n",
       "      <td>31.4942</td>\n",
       "      <td>32.6641</td>\n",
       "      <td>28.8883</td>\n",
       "    </tr>\n",
       "    <tr>\n",
       "      <th>2010-09-24</th>\n",
       "      <td>23.6604</td>\n",
       "      <td>22.7864</td>\n",
       "      <td>24.5362</td>\n",
       "      <td>26.2826</td>\n",
       "      <td>28.6446</td>\n",
       "      <td>30.7539</td>\n",
       "      <td>31.2727</td>\n",
       "      <td>32.4475</td>\n",
       "      <td>28.5594</td>\n",
       "    </tr>\n",
       "  </tbody>\n",
       "</table>\n",
       "</div>"
      ],
      "text/plain": [
       "              .V2TX    .V6I1    .V6I2    .V6I3    .V6I4    .V6I5    .V6I6  \\\n",
       "Date                                                                        \n",
       "2010-09-15  23.5735  27.4329  23.5329  26.2496  26.8759  28.8945  30.3826   \n",
       "2010-09-21  25.0769  24.5319  26.0644  27.1696  29.1555  30.8221  22.0192   \n",
       "2010-09-22  25.4218  24.7565  26.3973  27.7160  29.5691  31.1977  22.0946   \n",
       "2010-09-23  25.5630  24.9634  26.2919  27.7266  29.5416  31.4652  31.4942   \n",
       "2010-09-24  23.6604  22.7864  24.5362  26.2826  28.6446  30.7539  31.2727   \n",
       "\n",
       "              .V6I7    .V6I8  \n",
       "Date                          \n",
       "2010-09-15  32.2021  28.7477  \n",
       "2010-09-21  32.2907  28.7387  \n",
       "2010-09-22  32.3170  28.8657  \n",
       "2010-09-23  32.6641  28.8883  \n",
       "2010-09-24  32.4475  28.5594  "
      ]
     },
     "execution_count": 34,
     "metadata": {},
     "output_type": "execute_result"
    }
   ],
   "source": [
    "vs.head()"
   ]
  },
  {
   "cell_type": "markdown",
   "metadata": {},
   "source": [
    "Next, combine the re-calculated VSTOXX 2M values with the historical ones into a new ``DataFrame`` object and add a new column with the absolute differences."
   ]
  },
  {
   "cell_type": "code",
   "execution_count": 35,
   "metadata": {
    "collapsed": false,
    "jupyter": {
     "outputs_hidden": false
    }
   },
   "outputs": [
    {
     "data": {
      "text/html": [
       "<div>\n",
       "<style scoped>\n",
       "    .dataframe tbody tr th:only-of-type {\n",
       "        vertical-align: middle;\n",
       "    }\n",
       "\n",
       "    .dataframe tbody tr th {\n",
       "        vertical-align: top;\n",
       "    }\n",
       "\n",
       "    .dataframe thead th {\n",
       "        text-align: right;\n",
       "    }\n",
       "</style>\n",
       "<table border=\"1\" class=\"dataframe\">\n",
       "  <thead>\n",
       "    <tr style=\"text-align: right;\">\n",
       "      <th></th>\n",
       "      <th>CALC</th>\n",
       "      <th>REAL</th>\n",
       "      <th>DIFF</th>\n",
       "    </tr>\n",
       "  </thead>\n",
       "  <tbody>\n",
       "    <tr>\n",
       "      <th>2020-10-20</th>\n",
       "      <td>27.532919</td>\n",
       "      <td>27.50</td>\n",
       "      <td>0.032919</td>\n",
       "    </tr>\n",
       "    <tr>\n",
       "      <th>2020-10-21</th>\n",
       "      <td>28.846775</td>\n",
       "      <td>28.83</td>\n",
       "      <td>0.016775</td>\n",
       "    </tr>\n",
       "    <tr>\n",
       "      <th>2020-10-22</th>\n",
       "      <td>28.273699</td>\n",
       "      <td>28.25</td>\n",
       "      <td>0.023699</td>\n",
       "    </tr>\n",
       "    <tr>\n",
       "      <th>2020-10-23</th>\n",
       "      <td>27.957935</td>\n",
       "      <td>27.91</td>\n",
       "      <td>0.047935</td>\n",
       "    </tr>\n",
       "    <tr>\n",
       "      <th>2020-10-26</th>\n",
       "      <td>30.717757</td>\n",
       "      <td>30.71</td>\n",
       "      <td>0.007757</td>\n",
       "    </tr>\n",
       "    <tr>\n",
       "      <th>2020-10-27</th>\n",
       "      <td>31.484938</td>\n",
       "      <td>31.50</td>\n",
       "      <td>-0.015062</td>\n",
       "    </tr>\n",
       "    <tr>\n",
       "      <th>2020-10-28</th>\n",
       "      <td>36.437124</td>\n",
       "      <td>36.45</td>\n",
       "      <td>-0.012876</td>\n",
       "    </tr>\n",
       "    <tr>\n",
       "      <th>2020-10-29</th>\n",
       "      <td>36.134162</td>\n",
       "      <td>36.17</td>\n",
       "      <td>-0.035838</td>\n",
       "    </tr>\n",
       "    <tr>\n",
       "      <th>2020-10-30</th>\n",
       "      <td>34.373672</td>\n",
       "      <td>34.39</td>\n",
       "      <td>-0.016328</td>\n",
       "    </tr>\n",
       "    <tr>\n",
       "      <th>2020-11-02</th>\n",
       "      <td>34.058089</td>\n",
       "      <td>34.05</td>\n",
       "      <td>0.008089</td>\n",
       "    </tr>\n",
       "    <tr>\n",
       "      <th>2020-11-03</th>\n",
       "      <td>31.684043</td>\n",
       "      <td>31.67</td>\n",
       "      <td>0.014043</td>\n",
       "    </tr>\n",
       "    <tr>\n",
       "      <th>2020-11-04</th>\n",
       "      <td>27.479246</td>\n",
       "      <td>27.53</td>\n",
       "      <td>-0.050754</td>\n",
       "    </tr>\n",
       "    <tr>\n",
       "      <th>2020-11-05</th>\n",
       "      <td>26.269875</td>\n",
       "      <td>26.33</td>\n",
       "      <td>-0.060125</td>\n",
       "    </tr>\n",
       "    <tr>\n",
       "      <th>2020-11-06</th>\n",
       "      <td>25.705612</td>\n",
       "      <td>25.68</td>\n",
       "      <td>0.025612</td>\n",
       "    </tr>\n",
       "  </tbody>\n",
       "</table>\n",
       "</div>"
      ],
      "text/plain": [
       "                 CALC   REAL      DIFF\n",
       "2020-10-20  27.532919  27.50  0.032919\n",
       "2020-10-21  28.846775  28.83  0.016775\n",
       "2020-10-22  28.273699  28.25  0.023699\n",
       "2020-10-23  27.957935  27.91  0.047935\n",
       "2020-10-26  30.717757  30.71  0.007757\n",
       "2020-10-27  31.484938  31.50 -0.015062\n",
       "2020-10-28  36.437124  36.45 -0.012876\n",
       "2020-10-29  36.134162  36.17 -0.035838\n",
       "2020-10-30  34.373672  34.39 -0.016328\n",
       "2020-11-02  34.058089  34.05  0.008089\n",
       "2020-11-03  31.684043  31.67  0.014043\n",
       "2020-11-04  27.479246  27.53 -0.050754\n",
       "2020-11-05  26.269875  26.33 -0.060125\n",
       "2020-11-06  25.705612  25.68  0.025612"
      ]
     },
     "execution_count": 35,
     "metadata": {},
     "output_type": "execute_result"
    }
   ],
   "source": [
    "comp = pd.concat((si['V6I2'], vs['.V6I2']),\n",
    "          axis=1, join='inner')\n",
    "comp.index = comp.index.normalize()\n",
    "comp.columns = ['CALC', 'REAL']\n",
    "comp['DIFF'] = comp['CALC'] - comp['REAL']\n",
    "comp"
   ]
  },
  {
   "cell_type": "markdown",
   "metadata": {},
   "source": [
    "The following figure shows the two time series in direct comparison."
   ]
  },
  {
   "cell_type": "code",
   "execution_count": 36,
   "metadata": {
    "collapsed": false,
    "jupyter": {
     "outputs_hidden": false
    }
   },
   "outputs": [],
   "source": [
    "from pylab import mpl, plt\n",
    "plt.style.use('seaborn')\n",
    "mpl.rcParams['font.family'] = 'serif'  # set serif font"
   ]
  },
  {
   "cell_type": "code",
   "execution_count": 37,
   "metadata": {
    "collapsed": false,
    "jupyter": {
     "outputs_hidden": false
    }
   },
   "outputs": [
    {
     "data": {
      "image/png": "[encoded data removed]",
      "text/plain": [
       "<Figure size 720x432 with 1 Axes>"
      ]
     },
     "metadata": {},
     "output_type": "display_data"
    }
   ],
   "source": [
    "comp[['CALC', 'REAL']].plot(style=['ro', 'b'], figsize=(10, 6));"
   ]
  },
  {
   "cell_type": "markdown",
   "metadata": {},
   "source": [
    "<p style=\"font-family: monospace;\">Calculated VSTOXX 2M sub-index values vs. real ones."
   ]
  },
  {
   "cell_type": "markdown",
   "metadata": {},
   "source": [
    "The following figure shows the point-wise differences between the two time series."
   ]
  },
  {
   "cell_type": "code",
   "execution_count": 38,
   "metadata": {
    "collapsed": false,
    "jupyter": {
     "outputs_hidden": false
    }
   },
   "outputs": [
    {
     "data": {
      "image/png": "[encoded data removed]",
      "text/plain": [
       "<Figure size 720x432 with 1 Axes>"
      ]
     },
     "metadata": {},
     "output_type": "display_data"
    }
   ],
   "source": [
    "import matplotlib.pyplot as plt\n",
    "plt.figure(figsize=(10, 6))\n",
    "plt.bar(comp.index, comp['DIFF'])\n",
    "plt.gcf().autofmt_xdate();"
   ]
  },
  {
   "cell_type": "markdown",
   "metadata": {},
   "source": [
    "<p style=\"font-family: monospace;\">Differences of calculated VSTOXX 2M index values and real ones."
   ]
  },
  {
   "cell_type": "markdown",
   "metadata": {},
   "source": [
    "## Calculating the VSTOXX Index"
   ]
  },
  {
   "cell_type": "markdown",
   "metadata": {},
   "source": [
    "If the values for the sub-indexes VSTOXX 1M and VSTOXX 2M, $V_1$ and $V_2$ say, are given, then the value for the VSTOXX index itself, $V$ say, is calculated by the linear interpolation of $V_1$ and $V_2$:\n",
    "\n",
    "$$\n",
    "V = \\sqrt{\\left(T_1\\cdot V_1^2\\cdot\\left(\\frac{N_{T_{2}}-N_{30}}{N_{T_{2}}-N_{T_1}}\\right)+T_{2}\\cdot V_2^2\\cdot\\left(\\frac{N_{30}-N_{T_1}}{N_{T_{2}}-N_{T_{1}}}\\right)\\right)\\cdot\\frac{N_{365}}{N_{30}}}\n",
    "$$"
   ]
  },
  {
   "cell_type": "markdown",
   "metadata": {},
   "source": [
    "where\n",
    "\n",
    "* $N_{T_1}=$ time to expiry of $V_1$´s options series in seconds\n",
    "* $N_{T_2}=$ time to expiry of $V_2$´s options series in seconds\n",
    "* $N_{30}= 30$ days in seconds\n",
    "* $N_{365}=$ time for a standard year in seconds\n",
    "* $T_1= N_{T_1}/N_{365}$\n",
    "* $T_2= N_{T_2}/N_{365}$\n",
    "\n",
    "Recall that the sub-index VSTOXX 1M is not defined on the final settlement day of the underlying option series and the day before. For these dates, we use VSTOXX 2M and VSTOXX 3M as $V_1$ and $V_2$, respectively."
   ]
  },
  {
   "cell_type": "markdown",
   "metadata": {},
   "source": [
    "The Python module ``index_vstoxx_calculation.py`` (see the appendix for the module in its entirety) implements the VSTOXX index calculation routine &mdash; given the respective sub-index time series data sets. The module starts like usual with some imports."
   ]
  },
  {
   "cell_type": "code",
   "execution_count": 39,
   "metadata": {},
   "outputs": [
    {
     "name": "stdout",
     "output_type": "stream",
     "text": [
      "import numpy as np\n",
      "import pandas as pd\n",
      "import matplotlib.pyplot as plt\n",
      "from index_date_functions import *\n"
     ]
    }
   ],
   "source": [
    "!sed -n 9,12p scripts/index_vstoxx_calculation.py"
   ]
  },
  {
   "cell_type": "markdown",
   "metadata": {},
   "source": [
    "The function ``calculate_vstoxx()`` is the core of the module."
   ]
  },
  {
   "cell_type": "code",
   "execution_count": 40,
   "metadata": {},
   "outputs": [],
   "source": [
    "import index_vstoxx_calculation as ivc"
   ]
  },
  {
   "cell_type": "code",
   "execution_count": 41,
   "metadata": {},
   "outputs": [
    {
     "data": {
      "text/plain": [
       "\u001b[0;31mSignature:\u001b[0m \u001b[0mivc\u001b[0m\u001b[0;34m.\u001b[0m\u001b[0mcalculate_vstoxx\u001b[0m\u001b[0;34m(\u001b[0m\u001b[0murl\u001b[0m\u001b[0;34m)\u001b[0m\u001b[0;34m\u001b[0m\u001b[0;34m\u001b[0m\u001b[0m\n",
       "\u001b[0;31mSource:\u001b[0m   \n",
       "\u001b[0;32mdef\u001b[0m \u001b[0mcalculate_vstoxx\u001b[0m\u001b[0;34m(\u001b[0m\u001b[0murl\u001b[0m\u001b[0;34m)\u001b[0m\u001b[0;34m:\u001b[0m\u001b[0;34m\u001b[0m\n",
       "\u001b[0;34m\u001b[0m    \u001b[0;34m''' Function to calculate the VSTOXX volatility index given time series\u001b[0m\n",
       "\u001b[0;34m    of the relevant sub-indexes.\u001b[0m\n",
       "\u001b[0;34m\u001b[0m\n",
       "\u001b[0;34m    Parameters\u001b[0m\n",
       "\u001b[0;34m    ==========\u001b[0m\n",
       "\u001b[0;34m    path: string\u001b[0m\n",
       "\u001b[0;34m        string with path of data files\u001b[0m\n",
       "\u001b[0;34m\u001b[0m\n",
       "\u001b[0;34m    Returns\u001b[0m\n",
       "\u001b[0;34m    =======\u001b[0m\n",
       "\u001b[0;34m    data: pandas DataFrame object\u001b[0m\n",
       "\u001b[0;34m        results of index calculation\u001b[0m\n",
       "\u001b[0;34m    '''\u001b[0m\u001b[0;34m\u001b[0m\n",
       "\u001b[0;34m\u001b[0m    \u001b[0;31m# constant parameters\u001b[0m\u001b[0;34m\u001b[0m\n",
       "\u001b[0;34m\u001b[0m    \u001b[0mseconds_year\u001b[0m \u001b[0;34m=\u001b[0m \u001b[0;36m365\u001b[0m \u001b[0;34m*\u001b[0m \u001b[0;36m24\u001b[0m \u001b[0;34m*\u001b[0m \u001b[0;36m3600.\u001b[0m\u001b[0;34m\u001b[0m\n",
       "\u001b[0;34m\u001b[0m    \u001b[0mseconds_30_days\u001b[0m \u001b[0;34m=\u001b[0m \u001b[0;36m30\u001b[0m \u001b[0;34m*\u001b[0m \u001b[0;36m24\u001b[0m \u001b[0;34m*\u001b[0m \u001b[0;36m3600.\u001b[0m\u001b[0;34m\u001b[0m\n",
       "\u001b[0;34m\u001b[0m\u001b[0;34m\u001b[0m\n",
       "\u001b[0;34m\u001b[0m    \u001b[0;31m# import historical VSTOXX data\u001b[0m\u001b[0;34m\u001b[0m\n",
       "\u001b[0;34m\u001b[0m    \u001b[0mdata\u001b[0m \u001b[0;34m=\u001b[0m \u001b[0mpd\u001b[0m\u001b[0;34m.\u001b[0m\u001b[0mread_csv\u001b[0m\u001b[0;34m(\u001b[0m\u001b[0murl\u001b[0m\u001b[0;34m,\u001b[0m \u001b[0mindex_col\u001b[0m\u001b[0;34m=\u001b[0m\u001b[0;36m0\u001b[0m\u001b[0;34m,\u001b[0m \u001b[0mparse_dates\u001b[0m\u001b[0;34m=\u001b[0m\u001b[0;32mTrue\u001b[0m\u001b[0;34m)\u001b[0m\u001b[0;34m\u001b[0m\n",
       "\u001b[0;34m\u001b[0m\u001b[0;34m\u001b[0m\n",
       "\u001b[0;34m\u001b[0m    \u001b[0;31m# determine the settlement dates for the two underlying option series\u001b[0m\u001b[0;34m\u001b[0m\n",
       "\u001b[0;34m\u001b[0m    \u001b[0mdata\u001b[0m\u001b[0;34m[\u001b[0m\u001b[0;34m'Settlement date 1'\u001b[0m\u001b[0;34m]\u001b[0m \u001b[0;34m=\u001b[0m \u001b[0;34m[\u001b[0m\u001b[0mfirst_settlement_day\u001b[0m\u001b[0;34m(\u001b[0m\u001b[0ma\u001b[0m\u001b[0;34m)\u001b[0m \u001b[0;32mfor\u001b[0m \u001b[0ma\u001b[0m \u001b[0;32min\u001b[0m \u001b[0mdata\u001b[0m\u001b[0;34m.\u001b[0m\u001b[0mindex\u001b[0m\u001b[0;34m]\u001b[0m\u001b[0;34m\u001b[0m\n",
       "\u001b[0;34m\u001b[0m    \u001b[0mdata\u001b[0m\u001b[0;34m[\u001b[0m\u001b[0;34m'Settlement date 2'\u001b[0m\u001b[0;34m]\u001b[0m \u001b[0;34m=\u001b[0m \u001b[0;34m[\u001b[0m\u001b[0msecond_settlement_day\u001b[0m\u001b[0;34m(\u001b[0m\u001b[0ma\u001b[0m\u001b[0;34m)\u001b[0m \u001b[0;32mfor\u001b[0m \u001b[0ma\u001b[0m \u001b[0;32min\u001b[0m \u001b[0mdata\u001b[0m\u001b[0;34m.\u001b[0m\u001b[0mindex\u001b[0m\u001b[0;34m]\u001b[0m\u001b[0;34m\u001b[0m\n",
       "\u001b[0;34m\u001b[0m\u001b[0;34m\u001b[0m\n",
       "\u001b[0;34m\u001b[0m    \u001b[0;31m# deduce the life time (in seconds) from current date to\u001b[0m\u001b[0;34m\u001b[0m\n",
       "\u001b[0;34m\u001b[0m    \u001b[0;31m# final settlement Date\u001b[0m\u001b[0;34m\u001b[0m\n",
       "\u001b[0;34m\u001b[0m    \u001b[0mdata\u001b[0m\u001b[0;34m[\u001b[0m\u001b[0;34m'Life time 1'\u001b[0m\u001b[0;34m]\u001b[0m \u001b[0;34m=\u001b[0m \u001b[0;34m[\u001b[0m\u001b[0;34m(\u001b[0m\u001b[0mdata\u001b[0m\u001b[0;34m[\u001b[0m\u001b[0;34m'Settlement date 1'\u001b[0m\u001b[0;34m]\u001b[0m\u001b[0;34m[\u001b[0m\u001b[0mi\u001b[0m\u001b[0;34m]\u001b[0m \u001b[0;34m-\u001b[0m \u001b[0mi\u001b[0m\u001b[0;34m)\u001b[0m\u001b[0;34m.\u001b[0m\u001b[0mdays\u001b[0m\u001b[0;34m\u001b[0m\n",
       "\u001b[0;34m\u001b[0m                            \u001b[0;34m*\u001b[0m \u001b[0;36m24\u001b[0m \u001b[0;34m*\u001b[0m \u001b[0;36m60\u001b[0m \u001b[0;34m*\u001b[0m \u001b[0;36m60\u001b[0m \u001b[0;32mfor\u001b[0m \u001b[0mi\u001b[0m \u001b[0;32min\u001b[0m \u001b[0mdata\u001b[0m\u001b[0;34m.\u001b[0m\u001b[0mindex\u001b[0m\u001b[0;34m]\u001b[0m\u001b[0;34m\u001b[0m\n",
       "\u001b[0;34m\u001b[0m    \u001b[0mdata\u001b[0m\u001b[0;34m[\u001b[0m\u001b[0;34m'Life time 2'\u001b[0m\u001b[0;34m]\u001b[0m \u001b[0;34m=\u001b[0m \u001b[0;34m[\u001b[0m\u001b[0;34m(\u001b[0m\u001b[0mdata\u001b[0m\u001b[0;34m[\u001b[0m\u001b[0;34m'Settlement date 2'\u001b[0m\u001b[0;34m]\u001b[0m\u001b[0;34m[\u001b[0m\u001b[0mi\u001b[0m\u001b[0;34m]\u001b[0m \u001b[0;34m-\u001b[0m \u001b[0mi\u001b[0m\u001b[0;34m)\u001b[0m\u001b[0;34m.\u001b[0m\u001b[0mdays\u001b[0m\u001b[0;34m\u001b[0m\n",
       "\u001b[0;34m\u001b[0m                            \u001b[0;34m*\u001b[0m \u001b[0;36m24\u001b[0m \u001b[0;34m*\u001b[0m \u001b[0;36m60\u001b[0m \u001b[0;34m*\u001b[0m \u001b[0;36m60\u001b[0m \u001b[0;32mfor\u001b[0m \u001b[0mi\u001b[0m \u001b[0;32min\u001b[0m \u001b[0mdata\u001b[0m\u001b[0;34m.\u001b[0m\u001b[0mindex\u001b[0m\u001b[0;34m]\u001b[0m\u001b[0;34m\u001b[0m\n",
       "\u001b[0;34m\u001b[0m\u001b[0;34m\u001b[0m\n",
       "\u001b[0;34m\u001b[0m    \u001b[0mdata\u001b[0m\u001b[0;34m[\u001b[0m\u001b[0;34m'Use V6I2'\u001b[0m\u001b[0;34m]\u001b[0m \u001b[0;34m=\u001b[0m \u001b[0mdata\u001b[0m\u001b[0;34m[\u001b[0m\u001b[0;34m'.V6I1'\u001b[0m\u001b[0;34m]\u001b[0m\u001b[0;34m.\u001b[0m\u001b[0mnotnull\u001b[0m\u001b[0;34m(\u001b[0m\u001b[0;34m)\u001b[0m  \u001b[0;31m# where V6I1 is not defined\u001b[0m\u001b[0;34m\u001b[0m\n",
       "\u001b[0;34m\u001b[0m    \u001b[0mdata\u001b[0m\u001b[0;34m[\u001b[0m\u001b[0;34m'Subindex to use 1'\u001b[0m\u001b[0;34m]\u001b[0m \u001b[0;34m=\u001b[0m \u001b[0;34m[\u001b[0m\u001b[0mdata\u001b[0m\u001b[0;34m[\u001b[0m\u001b[0;34m'.V6I1'\u001b[0m\u001b[0;34m]\u001b[0m\u001b[0;34m[\u001b[0m\u001b[0mi\u001b[0m\u001b[0;34m]\u001b[0m \u001b[0;32mif\u001b[0m \u001b[0mdata\u001b[0m\u001b[0;34m[\u001b[0m\u001b[0;34m'Use V6I2'\u001b[0m\u001b[0;34m]\u001b[0m\u001b[0;34m[\u001b[0m\u001b[0mi\u001b[0m\u001b[0;34m]\u001b[0m\u001b[0;34m\u001b[0m\n",
       "\u001b[0;34m\u001b[0m                        \u001b[0;32melse\u001b[0m \u001b[0mdata\u001b[0m\u001b[0;34m[\u001b[0m\u001b[0;34m'.V6I2'\u001b[0m\u001b[0;34m]\u001b[0m\u001b[0;34m[\u001b[0m\u001b[0mi\u001b[0m\u001b[0;34m]\u001b[0m \u001b[0;32mfor\u001b[0m \u001b[0mi\u001b[0m \u001b[0;32min\u001b[0m \u001b[0mdata\u001b[0m\u001b[0;34m.\u001b[0m\u001b[0mindex\u001b[0m\u001b[0;34m]\u001b[0m\u001b[0;34m\u001b[0m\n",
       "\u001b[0;34m\u001b[0m                        \u001b[0;31m# if V6I1 is defined, use V6I1 and V6I2 as data set\u001b[0m\u001b[0;34m\u001b[0m\n",
       "\u001b[0;34m\u001b[0m    \u001b[0mdata\u001b[0m\u001b[0;34m[\u001b[0m\u001b[0;34m'Subindex to use 2'\u001b[0m\u001b[0;34m]\u001b[0m \u001b[0;34m=\u001b[0m \u001b[0;34m[\u001b[0m\u001b[0mdata\u001b[0m\u001b[0;34m[\u001b[0m\u001b[0;34m'.V6I2'\u001b[0m\u001b[0;34m]\u001b[0m\u001b[0;34m[\u001b[0m\u001b[0mi\u001b[0m\u001b[0;34m]\u001b[0m \u001b[0;32mif\u001b[0m \u001b[0mdata\u001b[0m\u001b[0;34m[\u001b[0m\u001b[0;34m'Use V6I2'\u001b[0m\u001b[0;34m]\u001b[0m\u001b[0;34m[\u001b[0m\u001b[0mi\u001b[0m\u001b[0;34m]\u001b[0m\u001b[0;34m\u001b[0m\n",
       "\u001b[0;34m\u001b[0m                        \u001b[0;32melse\u001b[0m \u001b[0mdata\u001b[0m\u001b[0;34m[\u001b[0m\u001b[0;34m'.V6I3'\u001b[0m\u001b[0;34m]\u001b[0m\u001b[0;34m[\u001b[0m\u001b[0mi\u001b[0m\u001b[0;34m]\u001b[0m \u001b[0;32mfor\u001b[0m \u001b[0mi\u001b[0m \u001b[0;32min\u001b[0m \u001b[0mdata\u001b[0m\u001b[0;34m.\u001b[0m\u001b[0mindex\u001b[0m\u001b[0;34m]\u001b[0m\u001b[0;34m\u001b[0m\n",
       "\u001b[0;34m\u001b[0m                        \u001b[0;31m# else use V6I2 and V6I3\u001b[0m\u001b[0;34m\u001b[0m\n",
       "\u001b[0;34m\u001b[0m\u001b[0;34m\u001b[0m\n",
       "\u001b[0;34m\u001b[0m    \u001b[0;31m# the linear interpolation of the VSTOXX value\u001b[0m\u001b[0;34m\u001b[0m\n",
       "\u001b[0;34m\u001b[0m    \u001b[0;31m# from the two relevant sub-indexes\u001b[0m\u001b[0;34m\u001b[0m\n",
       "\u001b[0;34m\u001b[0m    \u001b[0mdata\u001b[0m\u001b[0;34m[\u001b[0m\u001b[0;34m'Part 1'\u001b[0m\u001b[0;34m]\u001b[0m \u001b[0;34m=\u001b[0m \u001b[0mdata\u001b[0m\u001b[0;34m[\u001b[0m\u001b[0;34m'Life time 1'\u001b[0m\u001b[0;34m]\u001b[0m \u001b[0;34m/\u001b[0m \u001b[0mseconds_year\u001b[0m \\\n",
       "                        \u001b[0;34m*\u001b[0m \u001b[0mdata\u001b[0m\u001b[0;34m[\u001b[0m\u001b[0;34m'Subindex to use 1'\u001b[0m\u001b[0;34m]\u001b[0m \u001b[0;34m**\u001b[0m \u001b[0;36m2\u001b[0m \\\n",
       "                        \u001b[0;34m*\u001b[0m \u001b[0;34m(\u001b[0m\u001b[0;34m(\u001b[0m\u001b[0mdata\u001b[0m\u001b[0;34m[\u001b[0m\u001b[0;34m'Life time 2'\u001b[0m\u001b[0;34m]\u001b[0m \u001b[0;34m-\u001b[0m \u001b[0mseconds_30_days\u001b[0m\u001b[0;34m)\u001b[0m\u001b[0;34m\u001b[0m\n",
       "\u001b[0;34m\u001b[0m                        \u001b[0;34m/\u001b[0m \u001b[0;34m(\u001b[0m\u001b[0mdata\u001b[0m\u001b[0;34m[\u001b[0m\u001b[0;34m'Life time 2'\u001b[0m\u001b[0;34m]\u001b[0m \u001b[0;34m-\u001b[0m \u001b[0mdata\u001b[0m\u001b[0;34m[\u001b[0m\u001b[0;34m'Life time 1'\u001b[0m\u001b[0;34m]\u001b[0m\u001b[0;34m)\u001b[0m\u001b[0;34m)\u001b[0m\u001b[0;34m\u001b[0m\n",
       "\u001b[0;34m\u001b[0m\u001b[0;34m\u001b[0m\n",
       "\u001b[0;34m\u001b[0m    \u001b[0mdata\u001b[0m\u001b[0;34m[\u001b[0m\u001b[0;34m'Part 2'\u001b[0m\u001b[0;34m]\u001b[0m \u001b[0;34m=\u001b[0m \u001b[0mdata\u001b[0m\u001b[0;34m[\u001b[0m\u001b[0;34m'Life time 2'\u001b[0m\u001b[0;34m]\u001b[0m \u001b[0;34m/\u001b[0m \u001b[0mseconds_year\u001b[0m \\\n",
       "                        \u001b[0;34m*\u001b[0m \u001b[0mdata\u001b[0m\u001b[0;34m[\u001b[0m\u001b[0;34m'Subindex to use 2'\u001b[0m\u001b[0;34m]\u001b[0m \u001b[0;34m**\u001b[0m \u001b[0;36m2\u001b[0m \\\n",
       "                        \u001b[0;34m*\u001b[0m\u001b[0;34m(\u001b[0m\u001b[0;34m(\u001b[0m\u001b[0mseconds_30_days\u001b[0m \u001b[0;34m-\u001b[0m \u001b[0mdata\u001b[0m\u001b[0;34m[\u001b[0m\u001b[0;34m'Life time 1'\u001b[0m\u001b[0;34m]\u001b[0m\u001b[0;34m)\u001b[0m\u001b[0;34m\u001b[0m\n",
       "\u001b[0;34m\u001b[0m                        \u001b[0;34m/\u001b[0m \u001b[0;34m(\u001b[0m\u001b[0mdata\u001b[0m\u001b[0;34m[\u001b[0m\u001b[0;34m'Life time 2'\u001b[0m\u001b[0;34m]\u001b[0m \u001b[0;34m-\u001b[0m \u001b[0mdata\u001b[0m\u001b[0;34m[\u001b[0m\u001b[0;34m'Life time 1'\u001b[0m\u001b[0;34m]\u001b[0m\u001b[0;34m)\u001b[0m\u001b[0;34m)\u001b[0m \\\n",
       "\u001b[0;34m\u001b[0m\n",
       "\u001b[0;34m\u001b[0m    \u001b[0mdata\u001b[0m\u001b[0;34m[\u001b[0m\u001b[0;34m'VSTOXX'\u001b[0m\u001b[0;34m]\u001b[0m \u001b[0;34m=\u001b[0m \u001b[0mnp\u001b[0m\u001b[0;34m.\u001b[0m\u001b[0msqrt\u001b[0m\u001b[0;34m(\u001b[0m\u001b[0;34m(\u001b[0m\u001b[0mdata\u001b[0m\u001b[0;34m[\u001b[0m\u001b[0;34m'Part 1'\u001b[0m\u001b[0;34m]\u001b[0m \u001b[0;34m+\u001b[0m \u001b[0mdata\u001b[0m\u001b[0;34m[\u001b[0m\u001b[0;34m'Part 2'\u001b[0m\u001b[0;34m]\u001b[0m\u001b[0;34m)\u001b[0m \u001b[0;34m*\u001b[0m\u001b[0;34m\u001b[0m\n",
       "\u001b[0;34m\u001b[0m                        \u001b[0mseconds_year\u001b[0m \u001b[0;34m/\u001b[0m \u001b[0mseconds_30_days\u001b[0m\u001b[0;34m)\u001b[0m\u001b[0;34m\u001b[0m\n",
       "\u001b[0;34m\u001b[0m\u001b[0;34m\u001b[0m\n",
       "\u001b[0;34m\u001b[0m    \u001b[0;31m# difference between original VSTOXX data and re-calculated values\u001b[0m\u001b[0;34m\u001b[0m\n",
       "\u001b[0;34m\u001b[0m    \u001b[0mdata\u001b[0m\u001b[0;34m[\u001b[0m\u001b[0;34m'Difference'\u001b[0m\u001b[0;34m]\u001b[0m \u001b[0;34m=\u001b[0m \u001b[0mdata\u001b[0m\u001b[0;34m[\u001b[0m\u001b[0;34m'.V2TX'\u001b[0m\u001b[0;34m]\u001b[0m \u001b[0;34m-\u001b[0m \u001b[0mdata\u001b[0m\u001b[0;34m[\u001b[0m\u001b[0;34m'VSTOXX'\u001b[0m\u001b[0;34m]\u001b[0m\u001b[0;34m\u001b[0m\n",
       "\u001b[0;34m\u001b[0m\u001b[0;34m\u001b[0m\n",
       "\u001b[0;34m\u001b[0m    \u001b[0;32mreturn\u001b[0m \u001b[0mdata\u001b[0m\u001b[0;34m\u001b[0m\u001b[0;34m\u001b[0m\u001b[0m\n",
       "\u001b[0;31mFile:\u001b[0m      ~/Dropbox/Program/cert/21_lvvd/live/scripts/index_vstoxx_calculation.py\n",
       "\u001b[0;31mType:\u001b[0m      function\n"
      ]
     },
     "metadata": {},
     "output_type": "display_data"
    }
   ],
   "source": [
    "ivc.calculate_vstoxx??"
   ]
  },
  {
   "cell_type": "markdown",
   "metadata": {},
   "source": [
    "As its single argument, the function takes the path to a CSV file containing historical VSTOXX data for the index itself and the sub-indexes. The re-calculation of it then is as straightforward as follows."
   ]
  },
  {
   "cell_type": "code",
   "execution_count": 42,
   "metadata": {
    "collapsed": false,
    "jupyter": {
     "outputs_hidden": false
    }
   },
   "outputs": [
    {
     "name": "stdout",
     "output_type": "stream",
     "text": [
      "CPU times: user 246 ms, sys: 3.75 ms, total: 249 ms\n",
      "Wall time: 444 ms\n"
     ]
    }
   ],
   "source": [
    "import index_vstoxx_calculation as ivc\n",
    "%time data = ivc.calculate_vstoxx(url)"
   ]
  },
  {
   "cell_type": "markdown",
   "metadata": {},
   "source": [
    "Let us inspect the pandas ``DataFrame`` with the results."
   ]
  },
  {
   "cell_type": "code",
   "execution_count": 43,
   "metadata": {
    "collapsed": false,
    "jupyter": {
     "outputs_hidden": false
    }
   },
   "outputs": [
    {
     "name": "stdout",
     "output_type": "stream",
     "text": [
      "<class 'pandas.core.frame.DataFrame'>\n",
      "DatetimeIndex: 1614 entries, 2010-09-15 to 2020-11-06\n",
      "Data columns (total 20 columns):\n",
      " #   Column             Non-Null Count  Dtype         \n",
      "---  ------             --------------  -----         \n",
      " 0   .V2TX              1614 non-null   float64       \n",
      " 1   .V6I1              1614 non-null   float64       \n",
      " 2   .V6I2              1614 non-null   float64       \n",
      " 3   .V6I3              1614 non-null   float64       \n",
      " 4   .V6I4              1614 non-null   float64       \n",
      " 5   .V6I5              1614 non-null   float64       \n",
      " 6   .V6I6              1614 non-null   float64       \n",
      " 7   .V6I7              1614 non-null   float64       \n",
      " 8   .V6I8              1614 non-null   float64       \n",
      " 9   Settlement date 1  1614 non-null   datetime64[ns]\n",
      " 10  Settlement date 2  1614 non-null   datetime64[ns]\n",
      " 11  Life time 1        1614 non-null   int64         \n",
      " 12  Life time 2        1614 non-null   int64         \n",
      " 13  Use V6I2           1614 non-null   bool          \n",
      " 14  Subindex to use 1  1614 non-null   float64       \n",
      " 15  Subindex to use 2  1614 non-null   float64       \n",
      " 16  Part 1             1614 non-null   float64       \n",
      " 17  Part 2             1614 non-null   float64       \n",
      " 18  VSTOXX             1614 non-null   float64       \n",
      " 19  Difference         1614 non-null   float64       \n",
      "dtypes: bool(1), datetime64[ns](2), float64(15), int64(2)\n",
      "memory usage: 333.8 KB\n"
     ]
    }
   ],
   "source": [
    "data.info()"
   ]
  },
  {
   "cell_type": "markdown",
   "metadata": {},
   "source": [
    "A brief look at the absolute average error of the re-calculation reveals that the implementation yields quite accurate results."
   ]
  },
  {
   "cell_type": "code",
   "execution_count": 44,
   "metadata": {
    "collapsed": false,
    "jupyter": {
     "outputs_hidden": false
    }
   },
   "outputs": [
    {
     "data": {
      "text/plain": [
       "-0.0010495442845352618"
      ]
     },
     "execution_count": 44,
     "metadata": {},
     "output_type": "execute_result"
    }
   ],
   "source": [
    "## output: average error of re-calculation\n",
    "data['Difference'].mean()"
   ]
  },
  {
   "cell_type": "markdown",
   "metadata": {},
   "source": [
    "The following figure compares the original `.V2TX` time series with the re-calculated values."
   ]
  },
  {
   "cell_type": "code",
   "execution_count": 45,
   "metadata": {
    "collapsed": false,
    "jupyter": {
     "outputs_hidden": false
    }
   },
   "outputs": [
    {
     "data": {
      "image/png": "[encoded data removed]",
      "text/plain": [
       "<Figure size 720x432 with 2 Axes>"
      ]
     },
     "metadata": {},
     "output_type": "display_data"
    }
   ],
   "source": [
    "## original vs. re-calculated VSTOXX index\n",
    "data[['.V2TX', 'VSTOXX']].plot(subplots=True, figsize=(10, 6),\n",
    "                              style=\"blue\", grid=True);"
   ]
  },
  {
   "cell_type": "code",
   "execution_count": 46,
   "metadata": {
    "collapsed": false,
    "jupyter": {
     "outputs_hidden": false
    }
   },
   "outputs": [
    {
     "data": {
      "image/png": "[encoded data removed]",
      "text/plain": [
       "<Figure size 720x432 with 1 Axes>"
      ]
     },
     "metadata": {},
     "output_type": "display_data"
    }
   ],
   "source": [
    "## original vs. re-calculated VSTOXX index\n",
    "data[['.V2TX', 'VSTOXX']].plot(figsize=(10, 6), style=['-', '.']);"
   ]
  },
  {
   "cell_type": "markdown",
   "metadata": {},
   "source": [
    "<p style=\"font-family: monospace;\">Historical VSTOXX index values re-calculated vs. real ones."
   ]
  },
  {
   "cell_type": "markdown",
   "metadata": {},
   "source": [
    "Finally, the following figure presents the absolute differences. The figure shows that the differences are in general marginal with a few outliers observed here and there."
   ]
  },
  {
   "cell_type": "code",
   "execution_count": 47,
   "metadata": {
    "collapsed": false,
    "jupyter": {
     "outputs_hidden": false
    }
   },
   "outputs": [
    {
     "data": {
      "image/png": "[encoded data removed]",
      "text/plain": [
       "<Figure size 720x432 with 1 Axes>"
      ]
     },
     "metadata": {},
     "output_type": "display_data"
    }
   ],
   "source": [
    "## differences between single values\n",
    "data['Difference'].plot(figsize=(10, 6), style=\"r\", grid=True,\n",
    "                        ylim=(-1, 1));"
   ]
  },
  {
   "cell_type": "markdown",
   "metadata": {},
   "source": [
    "<p style=\"font-family: monospace;\">Differences of historical VSTOXX index values re-calculated vs. real ones."
   ]
  },
  {
   "cell_type": "markdown",
   "metadata": {},
   "source": [
    "## Conclusions"
   ]
  },
  {
   "cell_type": "markdown",
   "metadata": {},
   "source": [
    "This chapter (re-) calculates the  VSTOXX volatility index based on historical sub-index values and based on the volatility index definition as derived in the chapter _Model-Free Replication of Variance_. The chapter also shows how to calculate the sub-index values themselves based on EURO STOXX 50 options data. Python code is provided to automatically collect such data from the Eurex web site."
   ]
  },
  {
   "cell_type": "markdown",
   "metadata": {},
   "source": [
    "## Python Scripts"
   ]
  },
  {
   "cell_type": "markdown",
   "metadata": {},
   "source": [
    "### ``index_collect_option_data.py``"
   ]
  },
  {
   "cell_type": "code",
   "execution_count": 48,
   "metadata": {},
   "outputs": [
    {
     "name": "stdout",
     "output_type": "stream",
     "text": [
      "#\n",
      "# Module to collect option series data\n",
      "# from the web\n",
      "# Source: www.eurexchange.com\n",
      "# Data is needed to calculate the VSTOXX\n",
      "# and its sub-indexes\n",
      "#\n",
      "# (c) Dr. Yves J. Hilpisch\n",
      "# Listed Volatility and Variance Derivatives\n",
      "#\n",
      "import requests\n",
      "from io import *\n",
      "import numpy as np\n",
      "import pandas as pd\n",
      "import datetime as dt\n",
      "from bs4 import BeautifulSoup\n",
      "from index_date_functions import *\n",
      "\n",
      "#\n",
      "# The URL template\n",
      "#\n",
      "URL = 'https://www.eurex.com/ex-en/data/statistics/market-statistics-online/'\n",
      "URL += '100!onlineStats?productGroupId=13370&productId=69660&viewType=3&'\n",
      "URL += 'cp=%s&month=%s&year=%s&busDate=%s'\n",
      "\n",
      "\n",
      "def collect_option_series(month, year, start):\n",
      "    ''' Collects daily option data from web source.\n",
      "\n",
      "    Parameters\n",
      "    ==========\n",
      "    month: int\n",
      "        maturity month\n",
      "    year: int\n",
      "        maturity year\n",
      "    start: datetime object\n",
      "        starting date\n",
      "\n",
      "    Returns\n",
      "    =======\n",
      "    dataset: pandas DataFrame object\n",
      "        object containing the collected data\n",
      "    '''\n",
      "    end = dt.datetime.today()\n",
      "    delta = (end - start).days\n",
      "\n",
      "    dataset = pd.DataFrame()\n",
      "    for t in range(0, delta):  # runs from start to today\n",
      "        date = start + dt.timedelta(t)\n",
      "        dummy = get_data(month, year, date)  # get data for one day\n",
      "        if len(dummy) != 0:\n",
      "            if len(dataset) == 0:\n",
      "                dataset = dummy\n",
      "            else:\n",
      "                dataset = pd.concat((dataset, dummy))  # add data\n",
      "\n",
      "    return dataset\n",
      "\n",
      "\n",
      "def get_data(month, year, date):\n",
      "    ''' Get the data for an option series.\n",
      "\n",
      "    Parameters\n",
      "    ==========\n",
      "    month: int\n",
      "        maturity month\n",
      "    year: int\n",
      "        maturity year\n",
      "    date: datetime object\n",
      "        the date for which the data is collected\n",
      "\n",
      "    Returns\n",
      "    =======\n",
      "    dataset: pandas DataFrame object\n",
      "        object containing call & put option data\n",
      "    '''\n",
      "\n",
      "    date_string = date.strftime('%Y%m%d')\n",
      "    # loads the call data from the web\n",
      "    data = get_data_from_www('Call', month, year, date_string)\n",
      "    calls = parse_data(data, date)  # parse the raw data\n",
      "    calls = calls.rename(columns={'Daily settlem. price': 'Call_Price'})\n",
      "\n",
      "    calls = pd.DataFrame(calls.pop('Call_Price').astype(float))\n",
      "    # the same for puts\n",
      "    data = get_data_from_www('Put', month, year, date_string)\n",
      "    puts = parse_data(data, date)\n",
      "    puts = puts.rename(columns={'Daily settlem. price': 'Put_Price'})\n",
      "    puts = pd.DataFrame(puts.pop('Put_Price').astype(float))\n",
      "\n",
      "    dataset = merge_and_filter(puts, calls)   # merges the two time series\n",
      "\n",
      "    return dataset\n",
      "\n",
      "\n",
      "def get_data_from_www(oType, matMonth, matYear, date):\n",
      "    ''' Retrieves the raw data of an option series from the web.\n",
      "\n",
      "    Parameters\n",
      "    ==========\n",
      "    oType: string\n",
      "        either 'Put' or 'Call'\n",
      "    matMonth: int\n",
      "        maturity month\n",
      "    matYear: int\n",
      "        maturity year\n",
      "    date: string\n",
      "        expiry in the format 'YYYYMMDD'\n",
      "\n",
      "    Returns\n",
      "    =======\n",
      "    a: string\n",
      "        raw text with option data\n",
      "    '''\n",
      "\n",
      "    url = URL % (oType, matMonth, matYear, date)  # parametrizes the URL\n",
      "    a = requests.get(url).text\n",
      "    return a\n",
      "\n",
      "\n",
      "def merge_and_filter(puts, calls):\n",
      "    ''' Gets two pandas time series for the puts and calls\n",
      "    (from the same option series), merges them, filters out\n",
      "    all options with prices smaller than 0.5 and\n",
      "    returns the resulting DataFrame object.\n",
      "\n",
      "    Parameters\n",
      "    ==========\n",
      "    puts: pandas DataFrame object\n",
      "        put option data\n",
      "    calls: pandas DataFrame object\n",
      "        call option data\n",
      "\n",
      "    Returns\n",
      "    =======\n",
      "    df: pandas DataFrame object\n",
      "        merged & filtered options data\n",
      "    '''\n",
      "\n",
      "    df = calls.join(puts, how='inner')  # merges the two time series\n",
      "    # filters all prices which are too small\n",
      "    df = df[(df.Put_Price >= 0.5) & (df.Call_Price >= 0.5)]\n",
      "\n",
      "    return df\n",
      "\n",
      "\n",
      "def parse_data(data, date):\n",
      "    ''' Parses the HTML table and transforms it into a CSV compatible\n",
      "    format. The result can be directly imported into a pandas DataFrame.\n",
      "\n",
      "    Parameters\n",
      "    ==========\n",
      "    data: string\n",
      "        document containing the Web content\n",
      "    date: datetime object\n",
      "        date for which the data is parsed\n",
      "\n",
      "    Returns\n",
      "    =======\n",
      "    dataset: pandas DataFrame object\n",
      "        transformed option raw data\n",
      "    '''\n",
      "    \n",
      "    data_list = list()\n",
      "    date_value = dt.date(date.year, date.month, date.day)\n",
      "    soup = BeautifulSoup(data, 'html.parser')\n",
      "    \n",
      "    tables = soup.select('table.dataTable')\n",
      "    if len(tables) != 1:\n",
      "        raise ValueError('table selector is not unique')\n",
      "    else:\n",
      "        table = tables[0]\n",
      "    columns = ['Pricing day',] + [cell.get_text() for cell in table.find_all('th')]\n",
      "        \n",
      "    for line in table.find_all('tr')[:-1]:\n",
      "        data_list.append([date_value,]+[float(cell.get_text().replace(',','')) for cell in line.find_all('td')])\n",
      "    \n",
      "    dataset = pd.DataFrame(data_list, columns=columns)\n",
      "    dataset = dataset.set_index(['Pricing day','Strike price'])\n",
      "    return dataset\n",
      "\n",
      "\n",
      "def data_collection(path=''):\n",
      "    ''' Main function which saves data into the HDF5 file\n",
      "    'index_option_series.h5' for later use.\n",
      "\n",
      "    Parameters\n",
      "    ==========\n",
      "    path: string\n",
      "        path to store the data\n",
      "    '''\n",
      "    # file to store data\n",
      "    store = pd.HDFStore(path + 'index_option_series.h5', 'a')\n",
      "\n",
      "    today = dt.datetime.today()\n",
      "    start = today - dt.timedelta(31)  # the last 31 days\n",
      "\n",
      "    day = start.day\n",
      "    month = start.month\n",
      "    year = start.year\n",
      "\n",
      "    for i in range(4):  # iterates over the next 4 months\n",
      "        dummy_month = month + i\n",
      "        dummy_year = year\n",
      "        if dummy_month > 12:\n",
      "            dummy_month -= 12\n",
      "            dummy_year += 1\n",
      "\n",
      "        # collect daily data beginning 31 days ago (start) for\n",
      "        # option series with expiry dummy_month, dummy_year\n",
      "        dataset = collect_option_series(dummy_month, dummy_year, start)\n",
      "\n",
      "        dummy_date = dt.datetime(dummy_year, dummy_month, day)\n",
      "\n",
      "        # abbreviation for expiry date (for example Oct14)\n",
      "        series_name = dummy_date.strftime('%b%y')\n",
      "\n",
      "        if series_name in store.keys():  # if data for that series exists\n",
      "            index_old = store[series_name].index\n",
      "            index_new = dataset.index\n",
      "\n",
      "            if len(index_new - index_old) > 0:\n",
      "                dummy = pd.concat((store[series_name],\n",
      "                     dataset.ix[index_new - index_old]))  # add the new data\n",
      "\n",
      "                store[series_name] = dummy\n",
      "        else:\n",
      "            if len(dataset) > 0:\n",
      "            # if series is new, write whole data set into data store\n",
      "                store[series_name] = dataset\n",
      "\n",
      "    store.close()\n"
     ]
    }
   ],
   "source": [
    "!cat scripts/index_collect_option_data.py"
   ]
  },
  {
   "cell_type": "markdown",
   "metadata": {},
   "source": [
    "### `index_subindex_calculation.py`"
   ]
  },
  {
   "cell_type": "code",
   "execution_count": 49,
   "metadata": {},
   "outputs": [
    {
     "name": "stdout",
     "output_type": "stream",
     "text": [
      "#\n",
      "# Module with functions to compute VSTOXX sub-indexes\n",
      "#\n",
      "# Data as generated by the script index_collect_option_data.py\n",
      "# is needed for the calculations in this module\n",
      "#\n",
      "# (c) Dr. Yves J. Hilpisch\n",
      "# Listed Volatility and Variance Derivatives\n",
      "#\n",
      "import math\n",
      "import numpy as np\n",
      "import pandas as pd\n",
      "import datetime as dt\n",
      "import index_date_functions as idf\n",
      "pd.options.mode.chained_assignment = None\n",
      "\n",
      "\n",
      "def compute_subindex(data, delta_T, R):\n",
      "    ''' Computes a sub-index for given option series data.\n",
      "\n",
      "    Parameters\n",
      "    ==========\n",
      "    data: pandas.DataFrame object\n",
      "        contains the option data\n",
      "    delta_T: float\n",
      "        time interval\n",
      "    R: float\n",
      "        discount factor\n",
      "\n",
      "    Returns\n",
      "    =======\n",
      "    subVSTOXX: float\n",
      "        sub-index value\n",
      "    '''\n",
      "    # difference between put and call option with same strike\n",
      "    data['Diff_Put_Call'] = np.abs(data.Put_Price - data.Call_Price)\n",
      "    # converts the strike price which serves as index so far\n",
      "    # to a regular data column\n",
      "    data = data.reset_index()\n",
      "    data['delta_K'] = None\n",
      "    # differences between the different strikes of the series\n",
      "    data['delta_K'].iloc[1:-1] = [(data['Strike price'].iloc[i + 1]\n",
      "            - data['Strike price'].iloc[i - 1]) / 2 for i in data.index[1:-1]]\n",
      "            # where possible, for the i-th entry it is\n",
      "            # half of the difference between the (i-1)-th\n",
      "            # and (i+1)-th price\n",
      "    #  for i=0 it is just the difference to the next strike\n",
      "    data['delta_K'].iloc[0] = data['Strike price'].iloc[1] - data['Strike price'].iloc[0]\n",
      "\n",
      "    data['delta_K'].loc[data.index[-1:]] = float(data['Strike price'].iloc[-1:]) \\\n",
      "            - float(data['Strike price'].iloc[-2:-1])\n",
      "            # for the last entry, it is just the difference\n",
      "            # between the second but last strike and the last strike price\n",
      "\n",
      "    # find the smallest difference between put and call price\n",
      "    min_index = data.Diff_Put_Call.argmin()\n",
      "\n",
      "    # the forward price of that option\n",
      "    forward_price = data['Strike price'].iloc[min_index] \\\n",
      "                    + R * data.Diff_Put_Call[min_index]\n",
      "\n",
      "    K_0 = data['Strike price'][forward_price -\n",
      "                                    data['Strike price'] > 0].max()\n",
      "    # the index of the ATM strike\n",
      "    K_0_index = data.index[data['Strike price'] == K_0][0]\n",
      "\n",
      "    # selects the OTM options\n",
      "    data['M'] = pd.concat((data.Put_Price[0:K_0_index],\n",
      "                           data.Call_Price[K_0_index:]))\n",
      "\n",
      "    # ATM we take the average of put and call price\n",
      "    data['M'].iloc[K_0_index] = (data['Call_Price'][K_0_index]\n",
      "                            + data['Put_Price'][K_0_index]) / 2\n",
      "\n",
      "    # the single OTM values\n",
      "    data['MFactor'] = (R * (data['delta_K'] * data['M'])\n",
      "                         / (data['Strike price']) ** 2)\n",
      "\n",
      "    # the forward term\n",
      "    fterm = 1. / delta_T * (forward_price / K_0 - 1) ** 2\n",
      "    # summing up\n",
      "    sigma = 2 / delta_T * np.sum(data.MFactor) - fterm\n",
      "    subVSTOXX = 100 * math.sqrt(sigma)\n",
      "    return subVSTOXX\n",
      "\n",
      "\n",
      "def make_subindex(path):\n",
      "    ''' Depending on the content of the file 'index_option_series.h5',\n",
      "    the function computes the sub-indexes V6I1, V6I2 and parts\n",
      "    of V6I3 and returns a pandas DataFrame object with the results.\n",
      "\n",
      "    Parameters\n",
      "    ==========\n",
      "    path: string\n",
      "        string with path of data file\n",
      "\n",
      "    Returns\n",
      "    =======\n",
      "    df: pandas DataFrame object\n",
      "        sub-index data as computed by the function\n",
      "    '''\n",
      "\n",
      "    # the data source, created with index_collect_option_data.py\n",
      "    datastore = pd.HDFStore(path + 'index_option_series.h5', 'r')\n",
      "    \n",
      "    max_date = dt.datetime.today()  # find the latest date in the source\n",
      "    for series in datastore.keys():\n",
      "        dummy_date = datastore[series].index.get_level_values(0)[0]\n",
      "        dummy_date = dummy_date.to_pydatetime()\n",
      "        if dummy_date > max_date:\n",
      "            max_date = dummy_date\n",
      "    start_date = dt.datetime.today()  # find the earliest date in the source\n",
      "    for series in datastore.keys():\n",
      "        dummy_date = datastore[series].index.get_level_values(0)[0]\n",
      "        dummy_data = dummy_date.to_pydatetime()\n",
      "        if dummy_date < start_date:\n",
      "            start_date = dummy_date\n",
      "    V1 = dict()  # dicts to store the values, V stands for the sub-indices,\n",
      "                 # T for their expiry\n",
      "    V2 = dict()\n",
      "    V3 = dict()\n",
      "    T1 = dict()\n",
      "    T2 = dict()\n",
      "    T3 = dict()\n",
      "\n",
      "    # from start_date to max_date, but only weekdays\n",
      "    for day in pd.bdate_range(start=start_date.date(), end=max_date.date()):\n",
      "        # is V6I1 defined?\n",
      "        is_V1_defined = idf.not_a_day_before_expiry(day)\n",
      "        # the settlement date\n",
      "        settlement_date = idf.first_settlement_day(day)\n",
      "        # abbreviation for the expiry date, like Oct14\n",
      "        key = settlement_date.strftime('%b%y')\n",
      "        # days until maturity\n",
      "        delta_T = idf.compute_delta(day, settlement_date)\n",
      "        try:\n",
      "            # data of the option series for that date\n",
      "            data = datastore[key].loc[day]\n",
      "        except:\n",
      "            continue\n",
      "\n",
      "        if is_V1_defined:  # if V6I1 is defined\n",
      "            # compute its value\n",
      "            V1[day] = compute_subindex(data, delta_T,\n",
      "                                       math.exp(0.0015 * delta_T))\n",
      "            T1[day] = settlement_date\n",
      "        else:\n",
      "            # compute the value of V6I2 instead\n",
      "            V2[day] = compute_subindex(data, delta_T,\n",
      "                                       math.exp(0.0015 * delta_T))\n",
      "            T2[day] = settlement_date\n",
      "\n",
      "        settlement_date_2 = idf.second_settlement_day(day)\n",
      "\n",
      "        # the same for the next index\n",
      "        key_2 = settlement_date_2.strftime('%b%y')\n",
      "        delta_T_2 = idf.compute_delta(day, settlement_date_2)\n",
      "        data_2 = datastore[key_2].loc[day]\n",
      "\n",
      "        if is_V1_defined:\n",
      "            V2[day] = compute_subindex(data_2, delta_T_2,\n",
      "                                       math.exp(0.001 * delta_T_2))\n",
      "            T2[day] = settlement_date_2\n",
      "        else:\n",
      "            V3[day] = compute_subindex(data_2, delta_T_2,\n",
      "                                       math.exp(0.001 * delta_T_2))\n",
      "            T3[day] = settlement_date_2\n",
      "    \n",
      "    datastore.close()\n",
      "    # create the pandas DataFrame object and return it\n",
      "    df = pd.DataFrame(data={'V6I1': V1, 'Expiry V6I1': T1, 'V6I2': V2,\n",
      "                    'Expiry V6I2': T2, 'V6I3': V3, 'Expiry V6I3': T3})\n",
      "    return df\n",
      "\n"
     ]
    }
   ],
   "source": [
    "!cat scripts/index_subindex_calculation.py"
   ]
  },
  {
   "cell_type": "markdown",
   "metadata": {},
   "source": [
    "### `index_vstoxx_calculation.py`"
   ]
  },
  {
   "cell_type": "code",
   "execution_count": 50,
   "metadata": {},
   "outputs": [
    {
     "name": "stdout",
     "output_type": "stream",
     "text": [
      "#\n",
      "# Module to compute VSTOXX index values\n",
      "# given the values for the relevant sub-indexes\n",
      "# as generated by the module index_subindex_calculation.py\n",
      "#\n",
      "# (c) Dr. Yves J. Hilpisch\n",
      "# Listed Volatility and Variance Derivatives\n",
      "#\n",
      "import numpy as np\n",
      "import pandas as pd\n",
      "import matplotlib.pyplot as plt\n",
      "from index_date_functions import *\n",
      "\n",
      "\n",
      "def calculate_vstoxx(url):\n",
      "    ''' Function to calculate the VSTOXX volatility index given time series\n",
      "    of the relevant sub-indexes.\n",
      "\n",
      "    Parameters\n",
      "    ==========\n",
      "    path: string\n",
      "        string with path of data files\n",
      "\n",
      "    Returns\n",
      "    =======\n",
      "    data: pandas DataFrame object\n",
      "        results of index calculation\n",
      "    '''\n",
      "    # constant parameters\n",
      "    seconds_year = 365 * 24 * 3600.\n",
      "    seconds_30_days = 30 * 24 * 3600.\n",
      "\n",
      "    # import historical VSTOXX data\n",
      "    data = pd.read_csv(url, index_col=0, parse_dates=True)\n",
      "\n",
      "    # determine the settlement dates for the two underlying option series\n",
      "    data['Settlement date 1'] = [first_settlement_day(a) for a in data.index]\n",
      "    data['Settlement date 2'] = [second_settlement_day(a) for a in data.index]\n",
      "\n",
      "    # deduce the life time (in seconds) from current date to\n",
      "    # final settlement Date\n",
      "    data['Life time 1'] = [(data['Settlement date 1'][i] - i).days\n",
      "                            * 24 * 60 * 60 for i in data.index]\n",
      "    data['Life time 2'] = [(data['Settlement date 2'][i] - i).days\n",
      "                            * 24 * 60 * 60 for i in data.index]\n",
      "\n",
      "    data['Use V6I2'] = data['.V6I1'].notnull()  # where V6I1 is not defined\n",
      "    data['Subindex to use 1'] = [data['.V6I1'][i] if data['Use V6I2'][i]\n",
      "                        else data['.V6I2'][i] for i in data.index]\n",
      "                        # if V6I1 is defined, use V6I1 and V6I2 as data set\n",
      "    data['Subindex to use 2'] = [data['.V6I2'][i] if data['Use V6I2'][i]\n",
      "                        else data['.V6I3'][i] for i in data.index]\n",
      "                        # else use V6I2 and V6I3\n",
      "\n",
      "    # the linear interpolation of the VSTOXX value\n",
      "    # from the two relevant sub-indexes\n",
      "    data['Part 1'] = data['Life time 1'] / seconds_year \\\n",
      "                        * data['Subindex to use 1'] ** 2 \\\n",
      "                        * ((data['Life time 2'] - seconds_30_days)\n",
      "                        / (data['Life time 2'] - data['Life time 1']))\n",
      "\n",
      "    data['Part 2'] = data['Life time 2'] / seconds_year \\\n",
      "                        * data['Subindex to use 2'] ** 2 \\\n",
      "                        *((seconds_30_days - data['Life time 1'])\n",
      "                        / (data['Life time 2'] - data['Life time 1'])) \\\n",
      "\n",
      "    data['VSTOXX'] = np.sqrt((data['Part 1'] + data['Part 2']) *\n",
      "                        seconds_year / seconds_30_days)\n",
      "\n",
      "    # difference between original VSTOXX data and re-calculated values\n",
      "    data['Difference'] = data['.V2TX'] - data['VSTOXX']\n",
      "\n",
      "    return data\n"
     ]
    }
   ],
   "source": [
    "!cat scripts/index_vstoxx_calculation.py"
   ]
  },
  {
   "cell_type": "markdown",
   "metadata": {},
   "source": [
    "<img src=\"http://hilpisch.com/tpq_logo.png\" alt=\"The Python Quants\" width=\"35%\" align=\"right\" border=\"0\"><br>\n",
    "\n",
    "<a href=\"http://tpq.io\" target=\"_blank\">http://tpq.io</a> | <a href=\"http://twitter.com/dyjh\" target=\"_blank\">@dyjh</a> | <a href=\"mailto:team@tpq.io\">team@tpq.io</a>"
   ]
  }
 ],
 "metadata": {
  "kernelspec": {
   "display_name": "Python 3 (ipykernel)",
   "language": "python",
   "name": "python3"
  },
  "language_info": {
   "codemirror_mode": {
    "name": "ipython",
    "version": 3
   },
   "file_extension": ".py",
   "mimetype": "text/x-python",
   "name": "python",
   "nbconvert_exporter": "python",
   "pygments_lexer": "ipython3",
   "version": "3.9.7"
  }
 },
 "nbformat": 4,
 "nbformat_minor": 4
}
