{
 "cells": [
  {
   "cell_type": "markdown",
   "metadata": {},
   "source": [
    "<img src=\"http://hilpisch.com/tpq_logo.png\" alt=\"The Python Quants\" width=\"35%\" align=\"right\" border=\"0\"><br><br><br>"
   ]
  },
  {
   "cell_type": "markdown",
   "metadata": {},
   "source": [
    "# Listed Volatility and Variance Derivatives\n",
    "\n",
    "**Wiley Finance (2017)**\n",
    "\n",
    "Dr. Yves J. Hilpisch | The Python Quants GmbH\n",
    "\n",
    "http://tpq.io | [@dyjh](http://twitter.com/dyjh) | http://books.tpq.io\n",
    "\n",
    "<img src=\"https://hilpisch.com/images/lvvd_cover.png\" alt=\"Listed Volatility and Variance Derivatives\" width=\"30%\" align=\"left\" border=\"0\">"
   ]
  },
  {
   "cell_type": "markdown",
   "metadata": {},
   "source": [
    "## Imports"
   ]
  },
  {
   "cell_type": "code",
   "execution_count": null,
   "metadata": {},
   "outputs": [],
   "source": [
    "import numpy as np\n",
    "import pandas as pd\n",
    "import matplotlib.pyplot as plt\n",
    "import matplotlib as mpl\n",
    "plt.style.use('seaborn')\n",
    "mpl.rcParams['font.family'] = 'serif'"
   ]
  },
  {
   "cell_type": "markdown",
   "metadata": {},
   "source": [
    "## Trading Volume"
   ]
  },
  {
   "cell_type": "markdown",
   "metadata": {},
   "source": [
    "Source: http://www.cboe.com/products/futures/market-data/historical-data-archive"
   ]
  },
  {
   "cell_type": "code",
   "execution_count": null,
   "metadata": {},
   "outputs": [],
   "source": [
    "data = pd.read_csv('https://hilpisch.com/cfevoloi.csv', skiprows=1,\n",
    "                   index_col=0, parse_dates=True)"
   ]
  },
  {
   "cell_type": "code",
   "execution_count": null,
   "metadata": {},
   "outputs": [],
   "source": [
    "data.iloc[:, :10].info()"
   ]
  },
  {
   "cell_type": "code",
   "execution_count": null,
   "metadata": {
    "collapsed": false,
    "jupyter": {
     "outputs_hidden": false
    }
   },
   "outputs": [],
   "source": [
    "data['VOLATILITY INDEX VOLUME'].plot(figsize=(10, 6),\n",
    "                                     legend=True);"
   ]
  },
  {
   "cell_type": "code",
   "execution_count": null,
   "metadata": {},
   "outputs": [],
   "source": [
    "to_plot = pd.DataFrame({'VIX volume': data['VOLATILITY INDEX VOLUME']})"
   ]
  },
  {
   "cell_type": "code",
   "execution_count": null,
   "metadata": {
    "collapsed": false,
    "jupyter": {
     "outputs_hidden": false
    }
   },
   "outputs": [],
   "source": [
    "to_plot.plot(figsize=(10, 6), legend=True, logy=True);\n",
    "plt.ylabel('volume log scale');"
   ]
  },
  {
   "cell_type": "code",
   "execution_count": null,
   "metadata": {
    "collapsed": false,
    "jupyter": {
     "outputs_hidden": false
    }
   },
   "outputs": [],
   "source": [
    "data['S&P 500 Variance Volume'].plot(figsize=(10, 6),\n",
    "                            legend=True, logy=True);\n",
    "plt.ylabel('volume log scale')"
   ]
  },
  {
   "cell_type": "markdown",
   "metadata": {},
   "source": [
    "## Price Data"
   ]
  },
  {
   "cell_type": "code",
   "execution_count": null,
   "metadata": {},
   "outputs": [],
   "source": [
    "url = 'https://hilpisch.com/vola_eikon_eod_data.csv'"
   ]
  },
  {
   "cell_type": "code",
   "execution_count": null,
   "metadata": {},
   "outputs": [],
   "source": [
    "data = pd.read_csv(url, index_col=0, parse_dates=True)"
   ]
  },
  {
   "cell_type": "code",
   "execution_count": null,
   "metadata": {},
   "outputs": [],
   "source": [
    "data.info()"
   ]
  },
  {
   "cell_type": "code",
   "execution_count": null,
   "metadata": {
    "collapsed": false,
    "jupyter": {
     "outputs_hidden": false
    }
   },
   "outputs": [],
   "source": [
    "data.head()"
   ]
  },
  {
   "cell_type": "markdown",
   "metadata": {},
   "source": [
    "### VIX vs VSTOXX"
   ]
  },
  {
   "cell_type": "code",
   "execution_count": null,
   "metadata": {
    "collapsed": false,
    "jupyter": {
     "outputs_hidden": false
    }
   },
   "outputs": [],
   "source": [
    "data[['.VIX', '.V2TX']].plot(figsize=(10, 6),\n",
    "                             style=['g--', 'b'], lw=1.0);"
   ]
  },
  {
   "cell_type": "code",
   "execution_count": null,
   "metadata": {},
   "outputs": [],
   "source": [
    "ret = np.log(data[['.VIX', '.V2TX']] / data[['.VIX', '.V2TX']].shift(1))"
   ]
  },
  {
   "cell_type": "code",
   "execution_count": null,
   "metadata": {
    "collapsed": false,
    "jupyter": {
     "outputs_hidden": false
    }
   },
   "outputs": [],
   "source": [
    "ret.corr()"
   ]
  },
  {
   "cell_type": "markdown",
   "metadata": {},
   "source": [
    "### VIX vs VVIX"
   ]
  },
  {
   "cell_type": "code",
   "execution_count": null,
   "metadata": {
    "collapsed": false,
    "jupyter": {
     "outputs_hidden": false
    }
   },
   "outputs": [],
   "source": [
    "data[['.VIX', '.VVIX']].plot(figsize=(10, 6),\n",
    "                             style=['g--', 'b'], lw=1.0);"
   ]
  },
  {
   "cell_type": "code",
   "execution_count": null,
   "metadata": {
    "collapsed": false,
    "jupyter": {
     "outputs_hidden": false
    }
   },
   "outputs": [],
   "source": [
    "data[['.VIX', '.VVIX']].plot(figsize=(10, 6),\n",
    "            style=['g--', 'b'], lw=1.0, secondary_y='.VVIX');"
   ]
  },
  {
   "cell_type": "code",
   "execution_count": null,
   "metadata": {
    "collapsed": false,
    "jupyter": {
     "outputs_hidden": false
    }
   },
   "outputs": [],
   "source": [
    "(data[['.VIX', '.VVIX']] / data[['.VIX', '.VVIX']].iloc[0]).plot(\n",
    "    figsize=(10, 6), style=['g--', 'b'], lw=1.0);"
   ]
  },
  {
   "cell_type": "code",
   "execution_count": null,
   "metadata": {},
   "outputs": [],
   "source": [
    "ret = np.log(data[['.VIX', '.VVIX']] / data[['.VIX', '.VVIX']].shift(1))"
   ]
  },
  {
   "cell_type": "code",
   "execution_count": null,
   "metadata": {
    "collapsed": false,
    "jupyter": {
     "outputs_hidden": false
    }
   },
   "outputs": [],
   "source": [
    "ret.corr()"
   ]
  },
  {
   "cell_type": "markdown",
   "metadata": {},
   "source": [
    "## S&P 500 vs VIX"
   ]
  },
  {
   "cell_type": "code",
   "execution_count": null,
   "metadata": {},
   "outputs": [],
   "source": [
    "data[['.SPX', '.VIX']].plot(figsize=(10, 6),\n",
    "            style=['g--', 'b'], lw=1.0, secondary_y='.VIX');"
   ]
  },
  {
   "cell_type": "code",
   "execution_count": null,
   "metadata": {
    "collapsed": false,
    "jupyter": {
     "outputs_hidden": false
    }
   },
   "outputs": [],
   "source": [
    "data[['.SPX', '.VIX']].iloc[-500:].plot(figsize=(10, 6),\n",
    "            style=['g--', 'b'], lw=1.0, secondary_y='.VIX');"
   ]
  },
  {
   "cell_type": "code",
   "execution_count": null,
   "metadata": {},
   "outputs": [],
   "source": [
    "ret = np.log(data[['.SPX', '.VIX']] / data[['.SPX', '.VIX']].shift(1))"
   ]
  },
  {
   "cell_type": "code",
   "execution_count": null,
   "metadata": {
    "collapsed": false,
    "jupyter": {
     "outputs_hidden": false
    }
   },
   "outputs": [],
   "source": [
    "ret.corr()"
   ]
  },
  {
   "cell_type": "markdown",
   "metadata": {},
   "source": [
    "## Eikon Data Retrieval"
   ]
  },
  {
   "cell_type": "code",
   "execution_count": 5,
   "metadata": {},
   "outputs": [],
   "source": [
    "import pandas as pd"
   ]
  },
  {
   "cell_type": "code",
   "execution_count": 6,
   "metadata": {},
   "outputs": [],
   "source": [
    "import eikon as ek\n",
    "import configparser as cp\n",
    "c = cp.ConfigParser()\n",
    "c.read('../eikon.cfg')\n",
    "ek.set_app_key(c['eikon']['app_key'])"
   ]
  },
  {
   "cell_type": "raw",
   "metadata": {},
   "source": [
    "rics = ['.SPX', '.VIX', '.VVIX', '.STOXX50E', '.V2TX']"
   ]
  },
  {
   "cell_type": "code",
   "execution_count": 7,
   "metadata": {},
   "outputs": [],
   "source": [
    "rics = ['.V2TX', '.V6I1', '.V6I2', '.V6I3', '.V6I4', '.V6I5', '.V6I6', '.V6I7', '.V6I8']"
   ]
  },
  {
   "cell_type": "code",
   "execution_count": 8,
   "metadata": {},
   "outputs": [
    {
     "name": "stdout",
     "output_type": "stream",
     "text": [
      "2010\n",
      "2012\n",
      "2014\n",
      "2016\n",
      "2018\n",
      "2020\n"
     ]
    }
   ],
   "source": [
    "data = pd.DataFrame()\n",
    "for year in [2010, 2012, 2014, 2016, 2018, 2020]:\n",
    "    print(year)\n",
    "    raw = ek.get_timeseries(rics, start_date=f'{year}-1-1',\n",
    "                    end_date=f'{year + 2}-1-1', fields='CLOSE')\n",
    "    data = data.append(raw)\n",
    "data.dropna(inplace=True)"
   ]
  },
  {
   "cell_type": "code",
   "execution_count": 10,
   "metadata": {},
   "outputs": [
    {
     "data": {
      "text/html": [
       "<div>\n",
       "<style scoped>\n",
       "    .dataframe tbody tr th:only-of-type {\n",
       "        vertical-align: middle;\n",
       "    }\n",
       "\n",
       "    .dataframe tbody tr th {\n",
       "        vertical-align: top;\n",
       "    }\n",
       "\n",
       "    .dataframe thead th {\n",
       "        text-align: right;\n",
       "    }\n",
       "</style>\n",
       "<table border=\"1\" class=\"dataframe\">\n",
       "  <thead>\n",
       "    <tr style=\"text-align: right;\">\n",
       "      <th>CLOSE</th>\n",
       "      <th>.V2TX</th>\n",
       "      <th>.V6I1</th>\n",
       "      <th>.V6I2</th>\n",
       "      <th>.V6I3</th>\n",
       "      <th>.V6I4</th>\n",
       "      <th>.V6I5</th>\n",
       "      <th>.V6I6</th>\n",
       "      <th>.V6I7</th>\n",
       "      <th>.V6I8</th>\n",
       "    </tr>\n",
       "    <tr>\n",
       "      <th>Date</th>\n",
       "      <th></th>\n",
       "      <th></th>\n",
       "      <th></th>\n",
       "      <th></th>\n",
       "      <th></th>\n",
       "      <th></th>\n",
       "      <th></th>\n",
       "      <th></th>\n",
       "      <th></th>\n",
       "    </tr>\n",
       "  </thead>\n",
       "  <tbody>\n",
       "    <tr>\n",
       "      <th>2020-11-02</th>\n",
       "      <td>35.2330</td>\n",
       "      <td>37.49</td>\n",
       "      <td>34.05</td>\n",
       "      <td>32.58</td>\n",
       "      <td>31.49</td>\n",
       "      <td>30.38</td>\n",
       "      <td>28.49</td>\n",
       "      <td>28.51</td>\n",
       "      <td>27.54</td>\n",
       "    </tr>\n",
       "    <tr>\n",
       "      <th>2020-11-03</th>\n",
       "      <td>32.7630</td>\n",
       "      <td>35.23</td>\n",
       "      <td>31.67</td>\n",
       "      <td>30.39</td>\n",
       "      <td>29.34</td>\n",
       "      <td>28.57</td>\n",
       "      <td>27.55</td>\n",
       "      <td>27.51</td>\n",
       "      <td>27.67</td>\n",
       "    </tr>\n",
       "    <tr>\n",
       "      <th>2020-11-04</th>\n",
       "      <td>28.0023</td>\n",
       "      <td>29.32</td>\n",
       "      <td>27.53</td>\n",
       "      <td>26.92</td>\n",
       "      <td>26.59</td>\n",
       "      <td>26.37</td>\n",
       "      <td>25.97</td>\n",
       "      <td>26.27</td>\n",
       "      <td>26.86</td>\n",
       "    </tr>\n",
       "    <tr>\n",
       "      <th>2020-11-05</th>\n",
       "      <td>26.3725</td>\n",
       "      <td>26.53</td>\n",
       "      <td>26.33</td>\n",
       "      <td>25.91</td>\n",
       "      <td>25.95</td>\n",
       "      <td>25.92</td>\n",
       "      <td>25.53</td>\n",
       "      <td>25.82</td>\n",
       "      <td>25.98</td>\n",
       "    </tr>\n",
       "    <tr>\n",
       "      <th>2020-11-06</th>\n",
       "      <td>25.6153</td>\n",
       "      <td>25.35</td>\n",
       "      <td>25.68</td>\n",
       "      <td>25.35</td>\n",
       "      <td>25.76</td>\n",
       "      <td>26.00</td>\n",
       "      <td>25.50</td>\n",
       "      <td>25.58</td>\n",
       "      <td>26.04</td>\n",
       "    </tr>\n",
       "  </tbody>\n",
       "</table>\n",
       "</div>"
      ],
      "text/plain": [
       "CLOSE         .V2TX  .V6I1  .V6I2  .V6I3  .V6I4  .V6I5  .V6I6  .V6I7  .V6I8\n",
       "Date                                                                       \n",
       "2020-11-02  35.2330  37.49  34.05  32.58  31.49  30.38  28.49  28.51  27.54\n",
       "2020-11-03  32.7630  35.23  31.67  30.39  29.34  28.57  27.55  27.51  27.67\n",
       "2020-11-04  28.0023  29.32  27.53  26.92  26.59  26.37  25.97  26.27  26.86\n",
       "2020-11-05  26.3725  26.53  26.33  25.91  25.95  25.92  25.53  25.82  25.98\n",
       "2020-11-06  25.6153  25.35  25.68  25.35  25.76  26.00  25.50  25.58  26.04"
      ]
     },
     "execution_count": 10,
     "metadata": {},
     "output_type": "execute_result"
    }
   ],
   "source": [
    "data.tail()"
   ]
  },
  {
   "cell_type": "raw",
   "metadata": {},
   "source": [
    "data.to_csv('../data/vstoxx_eikon_eod_data.csv')"
   ]
  },
  {
   "cell_type": "markdown",
   "metadata": {},
   "source": [
    "<img src=\"http://hilpisch.com/tpq_logo.png\" alt=\"The Python Quants\" width=\"35%\" align=\"right\" border=\"0\"><br>\n",
    "\n",
    "<a href=\"http://tpq.io\" target=\"_blank\">http://tpq.io</a> | <a href=\"http://twitter.com/dyjh\" target=\"_blank\">@dyjh</a> | <a href=\"mailto:team@tpq.io\">team@tpq.io</a>"
   ]
  }
 ],
 "metadata": {
  "kernelspec": {
   "display_name": "Python 3 (ipykernel)",
   "language": "python",
   "name": "python3"
  },
  "language_info": {
   "codemirror_mode": {
    "name": "ipython",
    "version": 3
   },
   "file_extension": ".py",
   "mimetype": "text/x-python",
   "name": "python",
   "nbconvert_exporter": "python",
   "pygments_lexer": "ipython3",
   "version": "3.9.7"
  }
 },
 "nbformat": 4,
 "nbformat_minor": 4
}
