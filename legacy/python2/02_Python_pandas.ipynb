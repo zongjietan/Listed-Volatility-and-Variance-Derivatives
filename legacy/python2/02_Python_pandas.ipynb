{
 "cells": [
  {
   "cell_type": "markdown",
   "metadata": {},
   "source": [
    "<img src=\"http://hilpisch.com/tpq_logo.png\" alt=\"The Python Quants\" width=\"35%\" align=\"right\" border=\"0\"><br><br><br>"
   ]
  },
  {
   "cell_type": "markdown",
   "metadata": {},
   "source": [
    "# Listed Volatility and Variance Derivatives\n",
    "\n",
    "**Dr. Yves J. Hilpisch &mdash; Wiley Finance (2016)**\n",
    "\n",
    "<img src=\"http://hilpisch.com/images/lvvd_cover.png\" alt=\"Derivatives Analytics with Python\" width=\"30%\" align=\"left\" border=\"0\">"
   ]
  },
  {
   "cell_type": "markdown",
   "metadata": {},
   "source": [
    "# Introduction to Python"
   ]
  },
  {
   "cell_type": "markdown",
   "metadata": {},
   "source": [
    "## Python Basics"
   ]
  },
  {
   "cell_type": "markdown",
   "metadata": {},
   "source": [
    "### Data Types"
   ]
  },
  {
   "cell_type": "code",
   "execution_count": 1,
   "metadata": {
    "collapsed": false
   },
   "outputs": [],
   "source": [
    "import warnings; warnings.simplefilter('ignore')"
   ]
  },
  {
   "cell_type": "code",
   "execution_count": 2,
   "metadata": {
    "collapsed": false
   },
   "outputs": [
    {
     "data": {
      "text/plain": [
       "float"
      ]
     },
     "execution_count": 2,
     "metadata": {},
     "output_type": "execute_result"
    }
   ],
   "source": [
    "a = 3  # defining an integer object\n",
    "type(a)\n",
    "\n",
    "a.bit_length()  # number of bits used\n",
    "\n",
    "b = 5.  # defining a float object\n",
    "type(b)"
   ]
  },
  {
   "cell_type": "code",
   "execution_count": 3,
   "metadata": {
    "collapsed": false
   },
   "outputs": [
    {
     "data": {
      "text/plain": [
       "333"
      ]
     },
     "execution_count": 3,
     "metadata": {},
     "output_type": "execute_result"
    }
   ],
   "source": [
    "c = 10 ** 100  # googol number\n",
    "type(c)\n",
    "\n",
    "c # long integer object\n",
    "\n",
    "c.bit_length()  # number of bits used"
   ]
  },
  {
   "cell_type": "code",
   "execution_count": 4,
   "metadata": {
    "collapsed": false
   },
   "outputs": [
    {
     "data": {
      "text/plain": [
       "243.0"
      ]
     },
     "execution_count": 4,
     "metadata": {},
     "output_type": "execute_result"
    }
   ],
   "source": [
    "3 / 5.  # division\n",
    "\n",
    "a * b  # multiplication\n",
    "\n",
    "a - b  # difference\n",
    "\n",
    "b + a  # addition\n",
    "\n",
    "a ** b  # power"
   ]
  },
  {
   "cell_type": "code",
   "execution_count": 5,
   "metadata": {
    "collapsed": false,
    "scrolled": true
   },
   "outputs": [
    {
     "data": {
      "text/plain": [
       "0"
      ]
     },
     "execution_count": 5,
     "metadata": {},
     "output_type": "execute_result"
    }
   ],
   "source": [
    "3 / 5  # int type inferred => floor division"
   ]
  },
  {
   "cell_type": "code",
   "execution_count": 6,
   "metadata": {
    "collapsed": false
   },
   "outputs": [
    {
     "data": {
      "text/plain": [
       "-0.9589242746631385"
      ]
     },
     "execution_count": 6,
     "metadata": {},
     "output_type": "execute_result"
    }
   ],
   "source": [
    "import math  # importing the library into the namespace\n",
    "\n",
    "math.log(a)  # natural logarithm\n",
    "\n",
    "math.exp(a)  # exponential function\n",
    "\n",
    "math.sin(b)  # sine function"
   ]
  },
  {
   "cell_type": "code",
   "execution_count": 7,
   "metadata": {
    "collapsed": false
   },
   "outputs": [
    {
     "data": {
      "text/plain": [
       "str"
      ]
     },
     "execution_count": 7,
     "metadata": {},
     "output_type": "execute_result"
    }
   ],
   "source": [
    "s = 'Listed Volatility and Variance Derivatives.'\n",
    "type(s)"
   ]
  },
  {
   "cell_type": "code",
   "execution_count": 8,
   "metadata": {
    "collapsed": false
   },
   "outputs": [
    {
     "data": {
      "text/plain": [
       "'LISTED VOLATILITY AND VARIANCE DERIVATIVES.'"
      ]
     },
     "execution_count": 8,
     "metadata": {},
     "output_type": "execute_result"
    }
   ],
   "source": [
    "s.lower()  # converting to lower case characters\n",
    "\n",
    "s.upper()  # converting to upper case characters"
   ]
  },
  {
   "cell_type": "code",
   "execution_count": 9,
   "metadata": {
    "collapsed": false
   },
   "outputs": [
    {
     "data": {
      "text/plain": [
       "'Listed'"
      ]
     },
     "execution_count": 9,
     "metadata": {},
     "output_type": "execute_result"
    }
   ],
   "source": [
    "s[0:6]"
   ]
  },
  {
   "cell_type": "code",
   "execution_count": 10,
   "metadata": {
    "collapsed": false,
    "scrolled": true
   },
   "outputs": [
    {
     "name": "stdout",
     "output_type": "stream",
     "text": [
      "Listed Derivatives\n"
     ]
    }
   ],
   "source": [
    "st = s[0:6] + s[-13:-1]\n",
    "print st"
   ]
  },
  {
   "cell_type": "code",
   "execution_count": 11,
   "metadata": {
    "collapsed": false
   },
   "outputs": [
    {
     "name": "stdout",
     "output_type": "stream",
     "text": [
      "My name is Peter, I am 35 years old and 1.88 m tall.\n"
     ]
    }
   ],
   "source": [
    "repl = \"My name is %s, I am %d years old and %4.2f m tall.\"\n",
    "## replace %s by a string, %d by an integer and\n",
    "## %4.2f by a float showing 2 decimal values\n",
    "print repl % ('Peter', 35, 1.88)  "
   ]
  },
  {
   "cell_type": "code",
   "execution_count": 12,
   "metadata": {
    "collapsed": false
   },
   "outputs": [
    {
     "name": "stdout",
     "output_type": "stream",
     "text": [
      "My name is Peter, I am 35 years old and 1.88 m tall.\n"
     ]
    }
   ],
   "source": [
    "repl = \"My name is {:s}, I am {:d} years old and {:4.2f} m tall.\"\n",
    "print repl.format('Peter', 35, 1.88)"
   ]
  },
  {
   "cell_type": "markdown",
   "metadata": {},
   "source": [
    "### Data Structures"
   ]
  },
  {
   "cell_type": "code",
   "execution_count": 13,
   "metadata": {
    "collapsed": false
   },
   "outputs": [
    {
     "data": {
      "text/plain": [
       "tuple"
      ]
     },
     "execution_count": 13,
     "metadata": {},
     "output_type": "execute_result"
    }
   ],
   "source": [
    "t1 = (a, b, st)\n",
    "t1\n",
    "\n",
    "type(t1)\n",
    "\n",
    "t2 = st, b, a\n",
    "t2\n",
    "\n",
    "type(t2)"
   ]
  },
  {
   "cell_type": "code",
   "execution_count": 14,
   "metadata": {
    "collapsed": false
   },
   "outputs": [
    {
     "data": {
      "text/plain": [
       "'Listed Derivatives'"
      ]
     },
     "execution_count": 14,
     "metadata": {},
     "output_type": "execute_result"
    }
   ],
   "source": [
    "t = (t1, t2)\n",
    "\n",
    "t\n",
    "\n",
    "t[0][2]  # take 3rd element of 1st element"
   ]
  },
  {
   "cell_type": "code",
   "execution_count": 15,
   "metadata": {
    "collapsed": false
   },
   "outputs": [
    {
     "data": {
      "text/plain": [
       "[3, 5.0, 'Listed Derivatives', 'Variance']"
      ]
     },
     "execution_count": 15,
     "metadata": {},
     "output_type": "execute_result"
    }
   ],
   "source": [
    "l = [a, b, st]\n",
    "l\n",
    "\n",
    "type(l)\n",
    "\n",
    "l.append(s.split()[3])  # append 4th word of string\n",
    "l"
   ]
  },
  {
   "cell_type": "code",
   "execution_count": 16,
   "metadata": {
    "collapsed": false
   },
   "outputs": [
    {
     "data": {
      "text/plain": [
       "[3, 5.0, 'D', 'E', 'H', 'J', 'Q', 'Z']"
      ]
     },
     "execution_count": 16,
     "metadata": {},
     "output_type": "execute_result"
    }
   ],
   "source": [
    "l = list(('Z', 'Q', 'D', 'J', 'E', 'H', 5., a))\n",
    "l\n",
    "\n",
    "l.sort()  # in-place sorting\n",
    "l"
   ]
  },
  {
   "cell_type": "code",
   "execution_count": 17,
   "metadata": {
    "collapsed": false
   },
   "outputs": [
    {
     "data": {
      "text/plain": [
       "{'float_obj': 5.0,\n",
       " 'int_obj': 3,\n",
       " 'long_obj': 10000000000L,\n",
       " 'string_obj': 'Listed Derivatives'}"
      ]
     },
     "execution_count": 17,
     "metadata": {},
     "output_type": "execute_result"
    }
   ],
   "source": [
    "d = {'int_obj': a,\n",
    "    'float_obj': b,\n",
    "    'string_obj': st}\n",
    "type(d)\n",
    "\n",
    "d\n",
    "\n",
    "d['float_obj']  # look-up of value given key\n",
    "\n",
    "d['long_obj'] = c / 10 ** 90  # adding new key value pair\n",
    "d"
   ]
  },
  {
   "cell_type": "code",
   "execution_count": 18,
   "metadata": {
    "collapsed": false
   },
   "outputs": [
    {
     "data": {
      "text/plain": [
       "[10000000000L, 3, 5.0, 'Listed Derivatives']"
      ]
     },
     "execution_count": 18,
     "metadata": {},
     "output_type": "execute_result"
    }
   ],
   "source": [
    "d.keys()\n",
    "\n",
    "d.values()"
   ]
  },
  {
   "cell_type": "markdown",
   "metadata": {},
   "source": [
    "### Control Structures"
   ]
  },
  {
   "cell_type": "code",
   "execution_count": 19,
   "metadata": {
    "collapsed": false
   },
   "outputs": [
    {
     "data": {
      "text/plain": [
       "[3, 5, 7, 9, 11, 13]"
      ]
     },
     "execution_count": 19,
     "metadata": {},
     "output_type": "execute_result"
    }
   ],
   "source": [
    "range(5)  # all integers from zero to 5 excluded\n",
    "\n",
    "range(3, 15, 2)  # start at 3, step with 2 until 15 excluded"
   ]
  },
  {
   "cell_type": "code",
   "execution_count": 20,
   "metadata": {
    "collapsed": false
   },
   "outputs": [
    {
     "name": "stdout",
     "output_type": "stream",
     "text": [
      "0 1 4 9 16\n"
     ]
    }
   ],
   "source": [
    "for i in range(5):\n",
    "    print i ** 2,"
   ]
  },
  {
   "cell_type": "code",
   "execution_count": 21,
   "metadata": {
    "collapsed": false
   },
   "outputs": [
    {
     "name": "stdout",
     "output_type": "stream",
     "text": [
      "3 5.0 D E H J Q Z\n"
     ]
    }
   ],
   "source": [
    "## iteration over list object\n",
    "for _ in l:\n",
    "    print _,"
   ]
  },
  {
   "cell_type": "code",
   "execution_count": 22,
   "metadata": {
    "collapsed": false
   },
   "outputs": [
    {
     "name": "stdout",
     "output_type": "stream",
     "text": [
      "L| i| s| t| e| d|  | D| e| r| i| v| a| t| i| v| e| s|\n"
     ]
    }
   ],
   "source": [
    "## iteration over string object\n",
    "for c in st:\n",
    "    print c + '|',"
   ]
  },
  {
   "cell_type": "code",
   "execution_count": 23,
   "metadata": {
    "collapsed": false
   },
   "outputs": [
    {
     "name": "stdout",
     "output_type": "stream",
     "text": [
      "0.0 1.0 1.41421356237 1.73205080757 2.0\n"
     ]
    }
   ],
   "source": [
    "i = 0  # initialize counter\n",
    "while i < 5:\n",
    "    print i ** 0.5,  # output\n",
    "    i += 1  # increase counter by 1"
   ]
  },
  {
   "cell_type": "markdown",
   "metadata": {},
   "source": [
    "### Special Python Idioms "
   ]
  },
  {
   "cell_type": "code",
   "execution_count": 24,
   "metadata": {
    "collapsed": false
   },
   "outputs": [
    {
     "data": {
      "text/plain": [
       "[0, 1, 4, 9, 16, 25, 36, 49, 64, 81]"
      ]
     },
     "execution_count": 24,
     "metadata": {},
     "output_type": "execute_result"
    }
   ],
   "source": [
    "lc = [i ** 2 for i in range(10)]\n",
    "lc"
   ]
  },
  {
   "cell_type": "code",
   "execution_count": 25,
   "metadata": {
    "collapsed": false
   },
   "outputs": [
    {
     "data": {
      "text/plain": [
       "list"
      ]
     },
     "execution_count": 25,
     "metadata": {},
     "output_type": "execute_result"
    }
   ],
   "source": [
    "type(lc)"
   ]
  },
  {
   "cell_type": "code",
   "execution_count": 26,
   "metadata": {
    "collapsed": false
   },
   "outputs": [
    {
     "data": {
      "text/plain": [
       "0.2836621854632263"
      ]
     },
     "execution_count": 26,
     "metadata": {},
     "output_type": "execute_result"
    }
   ],
   "source": [
    "f = lambda x: math.cos(x) # returns cos of x\n",
    "f(5)"
   ]
  },
  {
   "cell_type": "code",
   "execution_count": 27,
   "metadata": {
    "collapsed": false
   },
   "outputs": [
    {
     "data": {
      "text/plain": [
       "[1.0,\n",
       " 0.5403023058681398,\n",
       " -0.4161468365471424,\n",
       " -0.9899924966004454,\n",
       " -0.6536436208636119,\n",
       " 0.2836621854632263,\n",
       " 0.9601702866503661,\n",
       " 0.7539022543433046,\n",
       " -0.14550003380861354,\n",
       " -0.9111302618846769]"
      ]
     },
     "execution_count": 27,
     "metadata": {},
     "output_type": "execute_result"
    }
   ],
   "source": [
    "lc = [f(x) for x in range(10)]\n",
    "lc"
   ]
  },
  {
   "cell_type": "code",
   "execution_count": 28,
   "metadata": {
    "collapsed": false
   },
   "outputs": [
    {
     "data": {
      "text/plain": [
       "[1.0,\n",
       " 0.5403023058681398,\n",
       " -0.4161468365471424,\n",
       " -0.9899924966004454,\n",
       " -0.6536436208636119,\n",
       " 0.2836621854632263,\n",
       " 0.9601702866503661,\n",
       " 0.7539022543433046,\n",
       " -0.14550003380861354,\n",
       " -0.9111302618846769]"
      ]
     },
     "execution_count": 28,
     "metadata": {},
     "output_type": "execute_result"
    }
   ],
   "source": [
    "map(lambda x: math.cos(x), range(10))"
   ]
  },
  {
   "cell_type": "code",
   "execution_count": 29,
   "metadata": {
    "collapsed": false
   },
   "outputs": [
    {
     "data": {
      "text/plain": [
       "148.4131591025766"
      ]
     },
     "execution_count": 29,
     "metadata": {},
     "output_type": "execute_result"
    }
   ],
   "source": [
    "def f(x):\n",
    "    return math.exp(x)\n",
    "f(5)"
   ]
  },
  {
   "cell_type": "code",
   "execution_count": 30,
   "metadata": {
    "collapsed": false
   },
   "outputs": [
    {
     "name": "stdout",
     "output_type": "stream",
     "text": [
      "[3, 5.0, 'D', 'E', 'H', 'J', 'Q', 'Z']\n"
     ]
    }
   ],
   "source": [
    "def f(*args):  # multiple arguments\n",
    "    for arg in args:\n",
    "        print arg\n",
    "        # do something with arguments\n",
    "    return None  # return result(s) (not necessary)\n",
    "\n",
    "f(l)"
   ]
  },
  {
   "cell_type": "code",
   "execution_count": 31,
   "metadata": {
    "collapsed": false
   },
   "outputs": [
    {
     "name": "stdout",
     "output_type": "stream",
     "text": [
      "Random number is 769\n"
     ]
    },
    {
     "data": {
      "text/plain": [
       "'Number is triple digit.'"
      ]
     },
     "execution_count": 31,
     "metadata": {},
     "output_type": "execute_result"
    }
   ],
   "source": [
    "import random  # import random number library\n",
    "a = random.randint(0, 1000)  # draw random number between 0 and 1000\n",
    "print \"Random number is %d\" % a\n",
    "def number_decide(number):\n",
    "    if a < 10:\n",
    "        return \"Number is single digit.\"\n",
    "    elif 10 <= a < 100:\n",
    "        return \"Number is double digit.\"\n",
    "    else:\n",
    "        return \"Number is triple digit.\"\n",
    "number_decide(a)"
   ]
  },
  {
   "cell_type": "code",
   "execution_count": 32,
   "metadata": {
    "collapsed": false
   },
   "outputs": [
    {
     "name": "stdout",
     "output_type": "stream",
     "text": [
      "0 1 2 3 4 5 6 7 8 9\n"
     ]
    }
   ],
   "source": [
    "g = xrange(10)\n",
    "type(g)  # object type\n",
    "\n",
    "g  # object instance\n",
    "\n",
    "for _ in g:\n",
    "    print _,  # integers are \"generated\" when needed"
   ]
  },
  {
   "cell_type": "code",
   "execution_count": 33,
   "metadata": {
    "collapsed": false
   },
   "outputs": [
    {
     "name": "stdout",
     "output_type": "stream",
     "text": [
      "CPU times: user 97.8 ms, sys: 84.9 ms, total: 183 ms\n",
      "Wall time: 183 ms\n"
     ]
    }
   ],
   "source": [
    "%time r = range(10000000)"
   ]
  },
  {
   "cell_type": "code",
   "execution_count": 34,
   "metadata": {
    "collapsed": false
   },
   "outputs": [
    {
     "data": {
      "text/plain": [
       "80000072"
      ]
     },
     "execution_count": 34,
     "metadata": {},
     "output_type": "execute_result"
    }
   ],
   "source": [
    "import sys\n",
    "sys.getsizeof(r)  # size in bytes of object"
   ]
  },
  {
   "cell_type": "code",
   "execution_count": 35,
   "metadata": {
    "collapsed": false
   },
   "outputs": [
    {
     "name": "stdout",
     "output_type": "stream",
     "text": [
      "CPU times: user 3 µs, sys: 1e+03 ns, total: 4 µs\n",
      "Wall time: 6.2 µs\n"
     ]
    }
   ],
   "source": [
    "%time xr = xrange(10000000)"
   ]
  },
  {
   "cell_type": "code",
   "execution_count": 36,
   "metadata": {
    "collapsed": false
   },
   "outputs": [
    {
     "data": {
      "text/plain": [
       "40"
      ]
     },
     "execution_count": 36,
     "metadata": {},
     "output_type": "execute_result"
    }
   ],
   "source": [
    "sys.getsizeof(xr)"
   ]
  },
  {
   "cell_type": "code",
   "execution_count": 37,
   "metadata": {
    "collapsed": false
   },
   "outputs": [
    {
     "name": "stdout",
     "output_type": "stream",
     "text": [
      "CPU times: user 147 ms, sys: 12.1 ms, total: 159 ms\n",
      "Wall time: 156 ms\n"
     ]
    },
    {
     "data": {
      "text/plain": [
       "499999500000"
      ]
     },
     "execution_count": 37,
     "metadata": {},
     "output_type": "execute_result"
    }
   ],
   "source": [
    "%time reduce(lambda x, y: x + y, range(1000000))"
   ]
  },
  {
   "cell_type": "code",
   "execution_count": 38,
   "metadata": {
    "collapsed": false
   },
   "outputs": [
    {
     "name": "stdout",
     "output_type": "stream",
     "text": [
      "CPU times: user 142 ms, sys: 6.05 ms, total: 148 ms\n",
      "Wall time: 143 ms\n"
     ]
    },
    {
     "data": {
      "text/plain": [
       "499999500000"
      ]
     },
     "execution_count": 38,
     "metadata": {},
     "output_type": "execute_result"
    }
   ],
   "source": [
    "%time reduce(lambda x, y: x + y, xrange(1000000))"
   ]
  },
  {
   "cell_type": "code",
   "execution_count": 39,
   "metadata": {
    "collapsed": false
   },
   "outputs": [
    {
     "name": "stdout",
     "output_type": "stream",
     "text": [
      "100 loops, best of 3: 15.7 ms per loop\n"
     ]
    }
   ],
   "source": [
    "%timeit sum(range(1000000))"
   ]
  },
  {
   "cell_type": "code",
   "execution_count": 40,
   "metadata": {
    "collapsed": false
   },
   "outputs": [
    {
     "name": "stdout",
     "output_type": "stream",
     "text": [
      "100 loops, best of 3: 7.99 ms per loop\n"
     ]
    }
   ],
   "source": [
    "%timeit sum(xrange(1000000))"
   ]
  },
  {
   "cell_type": "code",
   "execution_count": 41,
   "metadata": {
    "collapsed": false
   },
   "outputs": [
    {
     "data": {
      "text/plain": [
       "<generator object <genexpr> at 0x1061d35a0>"
      ]
     },
     "execution_count": 41,
     "metadata": {},
     "output_type": "execute_result"
    }
   ],
   "source": [
    "g = (math.sin(x) for x in xrange(100))\n",
    "g"
   ]
  },
  {
   "cell_type": "code",
   "execution_count": 42,
   "metadata": {
    "collapsed": false
   },
   "outputs": [
    {
     "data": {
      "text/plain": [
       "0.8414709848078965"
      ]
     },
     "execution_count": 42,
     "metadata": {},
     "output_type": "execute_result"
    }
   ],
   "source": [
    "g.next()\n",
    "g.next()"
   ]
  },
  {
   "cell_type": "code",
   "execution_count": 43,
   "metadata": {
    "collapsed": true
   },
   "outputs": [],
   "source": [
    "def g(start, end):\n",
    "    while start <= end:\n",
    "        yield start  # yield \"next\" value\n",
    "        start += 1  # increase by one"
   ]
  },
  {
   "cell_type": "code",
   "execution_count": 44,
   "metadata": {
    "collapsed": false
   },
   "outputs": [
    {
     "name": "stdout",
     "output_type": "stream",
     "text": [
      "15 16 17 18 19 20\n"
     ]
    }
   ],
   "source": [
    "go = g(15, 20)\n",
    "for _ in go:\n",
    "    print _,"
   ]
  },
  {
   "cell_type": "markdown",
   "metadata": {},
   "source": [
    "## NumPy"
   ]
  },
  {
   "cell_type": "code",
   "execution_count": 45,
   "metadata": {
    "collapsed": true
   },
   "outputs": [],
   "source": [
    "import numpy as np"
   ]
  },
  {
   "cell_type": "code",
   "execution_count": 46,
   "metadata": {
    "collapsed": false
   },
   "outputs": [
    {
     "data": {
      "text/plain": [
       "array([ 0,  1,  2,  3,  4,  5,  6,  7,  8,  9, 10, 11, 12, 13, 14, 15, 16,\n",
       "       17, 18, 19, 20, 21, 22, 23])"
      ]
     },
     "execution_count": 46,
     "metadata": {},
     "output_type": "execute_result"
    }
   ],
   "source": [
    "a = np.array(range(24))\n",
    "a"
   ]
  },
  {
   "cell_type": "code",
   "execution_count": 47,
   "metadata": {
    "collapsed": false
   },
   "outputs": [
    {
     "data": {
      "text/plain": [
       "array([[[ 0,  1,  2,  3],\n",
       "        [ 4,  5,  6,  7],\n",
       "        [ 8,  9, 10, 11]],\n",
       "\n",
       "       [[12, 13, 14, 15],\n",
       "        [16, 17, 18, 19],\n",
       "        [20, 21, 22, 23]]])"
      ]
     },
     "execution_count": 47,
     "metadata": {},
     "output_type": "execute_result"
    }
   ],
   "source": [
    "b = a.reshape((4, 6))\n",
    "b\n",
    "\n",
    "c = a.reshape((2, 3, 4))\n",
    "c"
   ]
  },
  {
   "cell_type": "code",
   "execution_count": 48,
   "metadata": {
    "collapsed": false
   },
   "outputs": [
    {
     "data": {
      "text/plain": [
       "array([[  0.,   1.,   2.,   3.,   4.,   5.],\n",
       "       [  6.,   7.,   8.,   9.,  10.,  11.],\n",
       "       [ 12.,  13.,  14.,  15.,  16.,  17.],\n",
       "       [ 18.,  19.,  20.,  21.,  22.,  23.]])"
      ]
     },
     "execution_count": 48,
     "metadata": {},
     "output_type": "execute_result"
    }
   ],
   "source": [
    "b = np.array(b, dtype=np.float)\n",
    "b"
   ]
  },
  {
   "cell_type": "code",
   "execution_count": 49,
   "metadata": {
    "collapsed": false
   },
   "outputs": [
    {
     "data": {
      "text/plain": [
       "array([[   0.,    1.,    4.,    9.,   16.,   25.],\n",
       "       [  36.,   49.,   64.,   81.,  100.,  121.],\n",
       "       [ 144.,  169.,  196.,  225.,  256.,  289.],\n",
       "       [ 324.,  361.,  400.,  441.,  484.,  529.]])"
      ]
     },
     "execution_count": 49,
     "metadata": {},
     "output_type": "execute_result"
    }
   ],
   "source": [
    "2 * b\n",
    "\n",
    "b ** 2"
   ]
  },
  {
   "cell_type": "code",
   "execution_count": 50,
   "metadata": {
    "collapsed": false
   },
   "outputs": [
    {
     "data": {
      "text/plain": [
       "array([   0.5,   -0.5,    0.5,    3.5,    8.5,   15.5,   24.5,   35.5,\n",
       "         48.5,   63.5,   80.5,   99.5,  120.5,  143.5,  168.5,  195.5,\n",
       "        224.5,  255.5,  288.5,  323.5,  360.5,  399.5,  440.5,  483.5])"
      ]
     },
     "execution_count": 50,
     "metadata": {},
     "output_type": "execute_result"
    }
   ],
   "source": [
    "f = lambda x: x ** 2 - 2 * x + 0.5\n",
    "f(a)"
   ]
  },
  {
   "cell_type": "code",
   "execution_count": 51,
   "metadata": {
    "collapsed": false
   },
   "outputs": [
    {
     "data": {
      "text/plain": [
       "array([[  8.,   9.],\n",
       "       [ 14.,  15.]])"
      ]
     },
     "execution_count": 51,
     "metadata": {},
     "output_type": "execute_result"
    }
   ],
   "source": [
    "a[2:6]  # 3rd to 6th element\n",
    "\n",
    "b[2, 4]  # 3rd row, final (5th)\n",
    "\n",
    "b[1:3, 2:4]  # middle square of numbers"
   ]
  },
  {
   "cell_type": "code",
   "execution_count": 52,
   "metadata": {
    "collapsed": false
   },
   "outputs": [
    {
     "data": {
      "text/plain": [
       "array([ 11.,  12.,  13.,  14.,  15.,  16.,  17.,  18.,  19.,  20.,  21.,\n",
       "        22.,  23.])"
      ]
     },
     "execution_count": 52,
     "metadata": {},
     "output_type": "execute_result"
    }
   ],
   "source": [
    "## which numbers are larger than 10?\n",
    "b > 10\n",
    "\n",
    "## only those numbers (flat) that are larger than 10\n",
    "b[b > 10]"
   ]
  },
  {
   "cell_type": "code",
   "execution_count": 53,
   "metadata": {
    "collapsed": false
   },
   "outputs": [
    {
     "data": {
      "text/plain": [
       "6.9221865524317288"
      ]
     },
     "execution_count": 53,
     "metadata": {},
     "output_type": "execute_result"
    }
   ],
   "source": [
    "a.sum()  # sum of all elements\n",
    "\n",
    "b.mean()  # mean of all elements\n",
    "\n",
    "b.mean(axis=0)  # mean along 1st axis\n",
    "\n",
    "b.mean(axis=1)  # mean along 2nd axis\n",
    "\n",
    "c.std()  # standard deviation for all elements"
   ]
  },
  {
   "cell_type": "code",
   "execution_count": 54,
   "metadata": {
    "collapsed": false
   },
   "outputs": [
    {
     "data": {
      "text/plain": [
       "-0.97753011766509701"
      ]
     },
     "execution_count": 54,
     "metadata": {},
     "output_type": "execute_result"
    }
   ],
   "source": [
    "np.sum(a)  # sum of all elements\n",
    "\n",
    "np.mean(b, axis=0)  # mean alond 1st axis\n",
    "\n",
    "np.sin(b).round(2)  # sine of all elements (rounded)\n",
    "\n",
    "np.sin(4.5)  # sine of Python float object"
   ]
  },
  {
   "cell_type": "code",
   "execution_count": 55,
   "metadata": {
    "collapsed": false
   },
   "outputs": [
    {
     "name": "stdout",
     "output_type": "stream",
     "text": [
      "CPU times: user 120 ms, sys: 11.1 ms, total: 131 ms\n",
      "Wall time: 125 ms\n"
     ]
    }
   ],
   "source": [
    "%time l = [np.sin(x) for x in xrange(100000)]"
   ]
  },
  {
   "cell_type": "code",
   "execution_count": 56,
   "metadata": {
    "collapsed": false
   },
   "outputs": [
    {
     "name": "stdout",
     "output_type": "stream",
     "text": [
      "CPU times: user 29.8 ms, sys: 4.98 ms, total: 34.8 ms\n",
      "Wall time: 32.4 ms\n"
     ]
    }
   ],
   "source": [
    "import math\n",
    "%time l = [math.sin(x) for x in xrange(100000)]"
   ]
  },
  {
   "cell_type": "code",
   "execution_count": 57,
   "metadata": {
    "collapsed": false,
    "scrolled": true
   },
   "outputs": [
    {
     "name": "stdout",
     "output_type": "stream",
     "text": [
      "CPU times: user 2.23 ms, sys: 1.17 ms, total: 3.41 ms\n",
      "Wall time: 2.32 ms\n"
     ]
    },
    {
     "data": {
      "text/plain": [
       "array([ 0.        ,  0.84147098,  0.90929743, ...,  0.10563876,\n",
       "        0.89383946,  0.86024828])"
      ]
     },
     "execution_count": 57,
     "metadata": {},
     "output_type": "execute_result"
    }
   ],
   "source": [
    "%time np.sin(np.arange(100000))"
   ]
  },
  {
   "cell_type": "code",
   "execution_count": 58,
   "metadata": {
    "collapsed": false
   },
   "outputs": [
    {
     "data": {
      "text/plain": [
       "dtype('int64')"
      ]
     },
     "execution_count": 58,
     "metadata": {},
     "output_type": "execute_result"
    }
   ],
   "source": [
    "ai = np.arange(10)\n",
    "ai\n",
    "\n",
    "ai.dtype"
   ]
  },
  {
   "cell_type": "code",
   "execution_count": 59,
   "metadata": {
    "collapsed": false
   },
   "outputs": [
    {
     "data": {
      "text/plain": [
       "dtype('float64')"
      ]
     },
     "execution_count": 59,
     "metadata": {},
     "output_type": "execute_result"
    }
   ],
   "source": [
    "af = np.arange(0.5, 9.5, 0.5)  # start, end, step size\n",
    "af\n",
    "\n",
    "af.dtype"
   ]
  },
  {
   "cell_type": "code",
   "execution_count": 60,
   "metadata": {
    "collapsed": false
   },
   "outputs": [
    {
     "data": {
      "text/plain": [
       "array([  0.        ,   0.90909091,   1.81818182,   2.72727273,\n",
       "         3.63636364,   4.54545455,   5.45454545,   6.36363636,\n",
       "         7.27272727,   8.18181818,   9.09090909,  10.        ])"
      ]
     },
     "execution_count": 60,
     "metadata": {},
     "output_type": "execute_result"
    }
   ],
   "source": [
    "np.linspace(0, 10, 12)  # start, end, number of elements"
   ]
  },
  {
   "cell_type": "code",
   "execution_count": 61,
   "metadata": {
    "collapsed": false,
    "scrolled": true
   },
   "outputs": [
    {
     "data": {
      "text/plain": [
       "array([1, 0, 0, 1, 0, 1, 0, 1, 0, 0])"
      ]
     },
     "execution_count": 61,
     "metadata": {},
     "output_type": "execute_result"
    }
   ],
   "source": [
    "np.random.standard_normal(10) \n",
    "\n",
    "np.random.poisson(0.5, 10)"
   ]
  },
  {
   "cell_type": "code",
   "execution_count": 62,
   "metadata": {
    "collapsed": true
   },
   "outputs": [],
   "source": [
    "np.random.seed(1000)  # fix the rng seed value\n",
    "data = np.random.standard_normal((5, 100))"
   ]
  },
  {
   "cell_type": "code",
   "execution_count": 63,
   "metadata": {
    "collapsed": false
   },
   "outputs": [
    {
     "data": {
      "text/plain": [
       "1.0016799134894265"
      ]
     },
     "execution_count": 63,
     "metadata": {},
     "output_type": "execute_result"
    }
   ],
   "source": [
    "data.mean()  # should be 0.0\n",
    "\n",
    "data.std()  # should be 1.0"
   ]
  },
  {
   "cell_type": "code",
   "execution_count": 64,
   "metadata": {
    "collapsed": false
   },
   "outputs": [
    {
     "data": {
      "text/plain": [
       "1.0"
      ]
     },
     "execution_count": 64,
     "metadata": {},
     "output_type": "execute_result"
    }
   ],
   "source": [
    "data = data - data.mean()  # correction for the 1st moment\n",
    "data = data / data.std()  # correction for the 2nd moment\n",
    "\n",
    "data.mean()  # now really close to 0.0\n",
    "\n",
    "data.std()  # now really close to 1.0"
   ]
  },
  {
   "cell_type": "markdown",
   "metadata": {},
   "source": [
    "## matplotlib"
   ]
  },
  {
   "cell_type": "code",
   "execution_count": 65,
   "metadata": {
    "collapsed": false
   },
   "outputs": [],
   "source": [
    "import matplotlib.pyplot as plt  # import main plotting library\n",
    "import seaborn as sns; sns.set()  # set seaborn standards\n",
    "import matplotlib\n",
    "## set font to serif\n",
    "matplotlib.rcParams['font.family'] = 'serif'\n",
    "%matplotlib inline"
   ]
  },
  {
   "cell_type": "code",
   "execution_count": 66,
   "metadata": {
    "collapsed": false
   },
   "outputs": [
    {
     "data": {
      "image/png": "[encoded data removed]",
      "text/plain": [
       "<matplotlib.figure.Figure at 0x12e98e510>"
      ]
     },
     "metadata": {},
     "output_type": "display_data"
    }
   ],
   "source": [
    "plt.figure(figsize=(10, 6));  # size of figure\n",
    "plt.plot(data.cumsum());  # cumulative sum over all elements "
   ]
  },
  {
   "cell_type": "code",
   "execution_count": 67,
   "metadata": {
    "collapsed": false
   },
   "outputs": [
    {
     "data": {
      "image/png": "[encoded data removed]",
      "text/plain": [
       "<matplotlib.figure.Figure at 0x130fe8090>"
      ]
     },
     "metadata": {},
     "output_type": "display_data"
    }
   ],
   "source": [
    "plt.figure(figsize=(10, 6));  # size of figure\n",
    "## plotting five cumulative sums as lines\n",
    "plt.plot(data.T.cumsum(axis=0), label='line');\n",
    "plt.legend(loc=0);  # legend in best location\n",
    "plt.xlabel('data point');  # x axis label\n",
    "plt.ylabel('value');  # y axis label\n",
    "plt.title('random series');  # figure title"
   ]
  },
  {
   "cell_type": "code",
   "execution_count": 68,
   "metadata": {
    "collapsed": false,
    "scrolled": true
   },
   "outputs": [
    {
     "data": {
      "image/png": "[encoded data removed]",
      "text/plain": [
       "<matplotlib.figure.Figure at 0x13118e810>"
      ]
     },
     "metadata": {},
     "output_type": "display_data"
    }
   ],
   "source": [
    "plt.figure(figsize=(10, 6));  # size of figure\n",
    "plt.hist(data.flatten(), bins=30);"
   ]
  },
  {
   "cell_type": "code",
   "execution_count": 69,
   "metadata": {
    "collapsed": false,
    "scrolled": true
   },
   "outputs": [
    {
     "data": {
      "image/png": "[encoded data removed]",
      "text/plain": [
       "<matplotlib.figure.Figure at 0x13139a690>"
      ]
     },
     "metadata": {},
     "output_type": "display_data"
    }
   ],
   "source": [
    "plt.figure(figsize=(10, 6));  # size of figure\n",
    "plt.bar(np.arange(1, 12) - 0.25, data[0, :11], width=0.5);"
   ]
  },
  {
   "cell_type": "code",
   "execution_count": 70,
   "metadata": {
    "collapsed": false
   },
   "outputs": [],
   "source": [
    "x = np.arange(len(data.cumsum()))\n",
    "y = data.cumsum()\n",
    "rg1 = np.polyfit(x, y, 1)  # linear OLS\n",
    "rg2 = np.polyfit(x, y, 2)  # quadratic OLS\n",
    "rg3 = np.polyfit(x, y, 3)  # cubic OLS"
   ]
  },
  {
   "cell_type": "code",
   "execution_count": 71,
   "metadata": {
    "collapsed": false
   },
   "outputs": [
    {
     "data": {
      "image/png": "[encoded data removed]",
      "text/plain": [
       "<matplotlib.figure.Figure at 0x1315da110>"
      ]
     },
     "metadata": {},
     "output_type": "display_data"
    }
   ],
   "source": [
    "plt.figure(figsize=(10, 6));\n",
    "plt.plot(x, y, 'r', label='data');\n",
    "plt.plot(x, np.polyval(rg1, x), 'b--', label='linear');\n",
    "plt.plot(x, np.polyval(rg2, x), 'b-.', label='quadratic');\n",
    "plt.plot(x, np.polyval(rg3, x), 'b:', label='cubic');\n",
    "plt.legend(loc=0);"
   ]
  },
  {
   "cell_type": "markdown",
   "metadata": {},
   "source": [
    "## pandas"
   ]
  },
  {
   "cell_type": "markdown",
   "metadata": {},
   "source": [
    "### pandas DataFrame class"
   ]
  },
  {
   "cell_type": "code",
   "execution_count": 72,
   "metadata": {
    "collapsed": false
   },
   "outputs": [],
   "source": [
    "np.random.seed(1000)\n",
    "a = np.random.standard_normal((10, 3)).cumsum(axis=0)"
   ]
  },
  {
   "cell_type": "code",
   "execution_count": 73,
   "metadata": {
    "collapsed": true
   },
   "outputs": [],
   "source": [
    "index = ['2016-1-31', '2016-2-28', '2016-3-31',\n",
    "        '2016-4-30', '2016-5-31', '2016-6-30',\n",
    "        '2016-7-31', '2016-8-31', '2016-9-30',\n",
    "        '2016-10-31']"
   ]
  },
  {
   "cell_type": "code",
   "execution_count": 74,
   "metadata": {
    "collapsed": true
   },
   "outputs": [],
   "source": [
    "columns = ['no1', 'no2', 'no3']"
   ]
  },
  {
   "cell_type": "code",
   "execution_count": 75,
   "metadata": {
    "collapsed": false
   },
   "outputs": [],
   "source": [
    "import pandas as pd\n",
    "df = pd.DataFrame(a, index=index, columns=columns)"
   ]
  },
  {
   "cell_type": "code",
   "execution_count": 76,
   "metadata": {
    "collapsed": false
   },
   "outputs": [
    {
     "data": {
      "text/html": [
       "<div>\n",
       "<table border=\"1\" class=\"dataframe\">\n",
       "  <thead>\n",
       "    <tr style=\"text-align: right;\">\n",
       "      <th></th>\n",
       "      <th>no1</th>\n",
       "      <th>no2</th>\n",
       "      <th>no3</th>\n",
       "    </tr>\n",
       "  </thead>\n",
       "  <tbody>\n",
       "    <tr>\n",
       "      <th>2016-1-31</th>\n",
       "      <td>-0.804458</td>\n",
       "      <td>0.320932</td>\n",
       "      <td>-0.025483</td>\n",
       "    </tr>\n",
       "    <tr>\n",
       "      <th>2016-2-28</th>\n",
       "      <td>-0.160134</td>\n",
       "      <td>0.020135</td>\n",
       "      <td>0.363992</td>\n",
       "    </tr>\n",
       "    <tr>\n",
       "      <th>2016-3-31</th>\n",
       "      <td>-0.267572</td>\n",
       "      <td>-0.459848</td>\n",
       "      <td>0.959027</td>\n",
       "    </tr>\n",
       "    <tr>\n",
       "      <th>2016-4-30</th>\n",
       "      <td>-0.732239</td>\n",
       "      <td>0.207433</td>\n",
       "      <td>0.152912</td>\n",
       "    </tr>\n",
       "    <tr>\n",
       "      <th>2016-5-31</th>\n",
       "      <td>-1.928309</td>\n",
       "      <td>-0.198527</td>\n",
       "      <td>-0.029466</td>\n",
       "    </tr>\n",
       "    <tr>\n",
       "      <th>2016-6-30</th>\n",
       "      <td>-1.825116</td>\n",
       "      <td>-0.336949</td>\n",
       "      <td>0.676227</td>\n",
       "    </tr>\n",
       "    <tr>\n",
       "      <th>2016-7-31</th>\n",
       "      <td>-0.553321</td>\n",
       "      <td>-1.323696</td>\n",
       "      <td>0.341391</td>\n",
       "    </tr>\n",
       "    <tr>\n",
       "      <th>2016-8-31</th>\n",
       "      <td>-0.652803</td>\n",
       "      <td>-0.916504</td>\n",
       "      <td>1.260779</td>\n",
       "    </tr>\n",
       "    <tr>\n",
       "      <th>2016-9-30</th>\n",
       "      <td>-0.340685</td>\n",
       "      <td>0.616657</td>\n",
       "      <td>0.710605</td>\n",
       "    </tr>\n",
       "    <tr>\n",
       "      <th>2016-10-31</th>\n",
       "      <td>-0.723832</td>\n",
       "      <td>-0.206284</td>\n",
       "      <td>2.310688</td>\n",
       "    </tr>\n",
       "  </tbody>\n",
       "</table>\n",
       "</div>"
      ],
      "text/plain": [
       "                 no1       no2       no3\n",
       "2016-1-31  -0.804458  0.320932 -0.025483\n",
       "2016-2-28  -0.160134  0.020135  0.363992\n",
       "2016-3-31  -0.267572 -0.459848  0.959027\n",
       "2016-4-30  -0.732239  0.207433  0.152912\n",
       "2016-5-31  -1.928309 -0.198527 -0.029466\n",
       "2016-6-30  -1.825116 -0.336949  0.676227\n",
       "2016-7-31  -0.553321 -1.323696  0.341391\n",
       "2016-8-31  -0.652803 -0.916504  1.260779\n",
       "2016-9-30  -0.340685  0.616657  0.710605\n",
       "2016-10-31 -0.723832 -0.206284  2.310688"
      ]
     },
     "execution_count": 76,
     "metadata": {},
     "output_type": "execute_result"
    }
   ],
   "source": [
    "df"
   ]
  },
  {
   "cell_type": "code",
   "execution_count": 77,
   "metadata": {
    "collapsed": false
   },
   "outputs": [
    {
     "data": {
      "text/html": [
       "<div>\n",
       "<table border=\"1\" class=\"dataframe\">\n",
       "  <thead>\n",
       "    <tr style=\"text-align: right;\">\n",
       "      <th></th>\n",
       "      <th>no1</th>\n",
       "      <th>no2</th>\n",
       "      <th>no3</th>\n",
       "    </tr>\n",
       "  </thead>\n",
       "  <tbody>\n",
       "    <tr>\n",
       "      <th>2016-1-31</th>\n",
       "      <td>-0.804458</td>\n",
       "      <td>0.320932</td>\n",
       "      <td>-0.025483</td>\n",
       "    </tr>\n",
       "    <tr>\n",
       "      <th>2016-2-28</th>\n",
       "      <td>-0.160134</td>\n",
       "      <td>0.020135</td>\n",
       "      <td>0.363992</td>\n",
       "    </tr>\n",
       "    <tr>\n",
       "      <th>2016-3-31</th>\n",
       "      <td>-0.267572</td>\n",
       "      <td>-0.459848</td>\n",
       "      <td>0.959027</td>\n",
       "    </tr>\n",
       "    <tr>\n",
       "      <th>2016-4-30</th>\n",
       "      <td>-0.732239</td>\n",
       "      <td>0.207433</td>\n",
       "      <td>0.152912</td>\n",
       "    </tr>\n",
       "    <tr>\n",
       "      <th>2016-5-31</th>\n",
       "      <td>-1.928309</td>\n",
       "      <td>-0.198527</td>\n",
       "      <td>-0.029466</td>\n",
       "    </tr>\n",
       "  </tbody>\n",
       "</table>\n",
       "</div>"
      ],
      "text/plain": [
       "                no1       no2       no3\n",
       "2016-1-31 -0.804458  0.320932 -0.025483\n",
       "2016-2-28 -0.160134  0.020135  0.363992\n",
       "2016-3-31 -0.267572 -0.459848  0.959027\n",
       "2016-4-30 -0.732239  0.207433  0.152912\n",
       "2016-5-31 -1.928309 -0.198527 -0.029466"
      ]
     },
     "execution_count": 77,
     "metadata": {},
     "output_type": "execute_result"
    }
   ],
   "source": [
    "df.head()  # first five rows"
   ]
  },
  {
   "cell_type": "code",
   "execution_count": 78,
   "metadata": {
    "collapsed": false
   },
   "outputs": [
    {
     "data": {
      "text/html": [
       "<div>\n",
       "<table border=\"1\" class=\"dataframe\">\n",
       "  <thead>\n",
       "    <tr style=\"text-align: right;\">\n",
       "      <th></th>\n",
       "      <th>no1</th>\n",
       "      <th>no2</th>\n",
       "      <th>no3</th>\n",
       "    </tr>\n",
       "  </thead>\n",
       "  <tbody>\n",
       "    <tr>\n",
       "      <th>2016-6-30</th>\n",
       "      <td>-1.825116</td>\n",
       "      <td>-0.336949</td>\n",
       "      <td>0.676227</td>\n",
       "    </tr>\n",
       "    <tr>\n",
       "      <th>2016-7-31</th>\n",
       "      <td>-0.553321</td>\n",
       "      <td>-1.323696</td>\n",
       "      <td>0.341391</td>\n",
       "    </tr>\n",
       "    <tr>\n",
       "      <th>2016-8-31</th>\n",
       "      <td>-0.652803</td>\n",
       "      <td>-0.916504</td>\n",
       "      <td>1.260779</td>\n",
       "    </tr>\n",
       "    <tr>\n",
       "      <th>2016-9-30</th>\n",
       "      <td>-0.340685</td>\n",
       "      <td>0.616657</td>\n",
       "      <td>0.710605</td>\n",
       "    </tr>\n",
       "    <tr>\n",
       "      <th>2016-10-31</th>\n",
       "      <td>-0.723832</td>\n",
       "      <td>-0.206284</td>\n",
       "      <td>2.310688</td>\n",
       "    </tr>\n",
       "  </tbody>\n",
       "</table>\n",
       "</div>"
      ],
      "text/plain": [
       "                 no1       no2       no3\n",
       "2016-6-30  -1.825116 -0.336949  0.676227\n",
       "2016-7-31  -0.553321 -1.323696  0.341391\n",
       "2016-8-31  -0.652803 -0.916504  1.260779\n",
       "2016-9-30  -0.340685  0.616657  0.710605\n",
       "2016-10-31 -0.723832 -0.206284  2.310688"
      ]
     },
     "execution_count": 78,
     "metadata": {},
     "output_type": "execute_result"
    }
   ],
   "source": [
    "df.tail()  # last five rows"
   ]
  },
  {
   "cell_type": "code",
   "execution_count": 79,
   "metadata": {
    "collapsed": false
   },
   "outputs": [
    {
     "data": {
      "text/plain": [
       "Index([u'2016-1-31', u'2016-2-28', u'2016-3-31', u'2016-4-30', u'2016-5-31',\n",
       "       u'2016-6-30', u'2016-7-31', u'2016-8-31', u'2016-9-30', u'2016-10-31'],\n",
       "      dtype='object')"
      ]
     },
     "execution_count": 79,
     "metadata": {},
     "output_type": "execute_result"
    }
   ],
   "source": [
    "df.index  # index object"
   ]
  },
  {
   "cell_type": "code",
   "execution_count": 80,
   "metadata": {
    "collapsed": false
   },
   "outputs": [
    {
     "data": {
      "text/plain": [
       "Index([u'no1', u'no2', u'no3'], dtype='object')"
      ]
     },
     "execution_count": 80,
     "metadata": {},
     "output_type": "execute_result"
    }
   ],
   "source": [
    "df.columns  # column names"
   ]
  },
  {
   "cell_type": "code",
   "execution_count": 81,
   "metadata": {
    "collapsed": false
   },
   "outputs": [
    {
     "name": "stdout",
     "output_type": "stream",
     "text": [
      "<class 'pandas.core.frame.DataFrame'>\n",
      "Index: 10 entries, 2016-1-31 to 2016-10-31\n",
      "Data columns (total 3 columns):\n",
      "no1    10 non-null float64\n",
      "no2    10 non-null float64\n",
      "no3    10 non-null float64\n",
      "dtypes: float64(3)\n",
      "memory usage: 320.0+ bytes\n"
     ]
    }
   ],
   "source": [
    "df.info()  # meta information"
   ]
  },
  {
   "cell_type": "code",
   "execution_count": 82,
   "metadata": {
    "collapsed": false
   },
   "outputs": [
    {
     "data": {
      "text/html": [
       "<div>\n",
       "<table border=\"1\" class=\"dataframe\">\n",
       "  <thead>\n",
       "    <tr style=\"text-align: right;\">\n",
       "      <th></th>\n",
       "      <th>no1</th>\n",
       "      <th>no2</th>\n",
       "      <th>no3</th>\n",
       "    </tr>\n",
       "  </thead>\n",
       "  <tbody>\n",
       "    <tr>\n",
       "      <th>count</th>\n",
       "      <td>10.000000</td>\n",
       "      <td>10.000000</td>\n",
       "      <td>10.000000</td>\n",
       "    </tr>\n",
       "    <tr>\n",
       "      <th>mean</th>\n",
       "      <td>-0.798847</td>\n",
       "      <td>-0.227665</td>\n",
       "      <td>0.672067</td>\n",
       "    </tr>\n",
       "    <tr>\n",
       "      <th>std</th>\n",
       "      <td>0.607430</td>\n",
       "      <td>0.578071</td>\n",
       "      <td>0.712430</td>\n",
       "    </tr>\n",
       "    <tr>\n",
       "      <th>min</th>\n",
       "      <td>-1.928309</td>\n",
       "      <td>-1.323696</td>\n",
       "      <td>-0.029466</td>\n",
       "    </tr>\n",
       "    <tr>\n",
       "      <th>25%</th>\n",
       "      <td>-0.786404</td>\n",
       "      <td>-0.429123</td>\n",
       "      <td>0.200031</td>\n",
       "    </tr>\n",
       "    <tr>\n",
       "      <th>50%</th>\n",
       "      <td>-0.688317</td>\n",
       "      <td>-0.202406</td>\n",
       "      <td>0.520109</td>\n",
       "    </tr>\n",
       "    <tr>\n",
       "      <th>75%</th>\n",
       "      <td>-0.393844</td>\n",
       "      <td>0.160609</td>\n",
       "      <td>0.896922</td>\n",
       "    </tr>\n",
       "    <tr>\n",
       "      <th>max</th>\n",
       "      <td>-0.160134</td>\n",
       "      <td>0.616657</td>\n",
       "      <td>2.310688</td>\n",
       "    </tr>\n",
       "  </tbody>\n",
       "</table>\n",
       "</div>"
      ],
      "text/plain": [
       "             no1        no2        no3\n",
       "count  10.000000  10.000000  10.000000\n",
       "mean   -0.798847  -0.227665   0.672067\n",
       "std     0.607430   0.578071   0.712430\n",
       "min    -1.928309  -1.323696  -0.029466\n",
       "25%    -0.786404  -0.429123   0.200031\n",
       "50%    -0.688317  -0.202406   0.520109\n",
       "75%    -0.393844   0.160609   0.896922\n",
       "max    -0.160134   0.616657   2.310688"
      ]
     },
     "execution_count": 82,
     "metadata": {},
     "output_type": "execute_result"
    }
   ],
   "source": [
    "df.describe()  # typical statistics"
   ]
  },
  {
   "cell_type": "code",
   "execution_count": 83,
   "metadata": {
    "collapsed": false
   },
   "outputs": [
    {
     "data": {
      "text/plain": [
       "no1   -0.798847\n",
       "no2   -0.227665\n",
       "no3    0.672067\n",
       "dtype: float64"
      ]
     },
     "execution_count": 83,
     "metadata": {},
     "output_type": "execute_result"
    }
   ],
   "source": [
    "df * 2  # vectorized multiplication\n",
    "\n",
    "df.std()  # standard deviation by column\n",
    "\n",
    "df.mean(axis=1)  # mean by index value\n",
    "\n",
    "np.mean(df)  # mean via universal function"
   ]
  },
  {
   "cell_type": "code",
   "execution_count": 84,
   "metadata": {
    "collapsed": false
   },
   "outputs": [
    {
     "data": {
      "text/plain": [
       "2016-1-31     0.320932\n",
       "2016-2-28     0.020135\n",
       "2016-3-31    -0.459848\n",
       "2016-4-30     0.207433\n",
       "2016-5-31    -0.198527\n",
       "2016-6-30    -0.336949\n",
       "2016-7-31    -1.323696\n",
       "2016-8-31    -0.916504\n",
       "2016-9-30     0.616657\n",
       "2016-10-31   -0.206284\n",
       "Name: no2, dtype: float64"
      ]
     },
     "execution_count": 84,
     "metadata": {},
     "output_type": "execute_result"
    }
   ],
   "source": [
    "df['no2']  # 2nd column"
   ]
  },
  {
   "cell_type": "code",
   "execution_count": 85,
   "metadata": {
    "collapsed": false
   },
   "outputs": [
    {
     "data": {
      "text/plain": [
       "no1   -0.804458\n",
       "no2    0.320932\n",
       "no3   -0.025483\n",
       "Name: 2016-1-31, dtype: float64"
      ]
     },
     "execution_count": 85,
     "metadata": {},
     "output_type": "execute_result"
    }
   ],
   "source": [
    "df.iloc[0]  # 1st row"
   ]
  },
  {
   "cell_type": "code",
   "execution_count": 86,
   "metadata": {
    "collapsed": false
   },
   "outputs": [
    {
     "data": {
      "text/html": [
       "<div>\n",
       "<table border=\"1\" class=\"dataframe\">\n",
       "  <thead>\n",
       "    <tr style=\"text-align: right;\">\n",
       "      <th></th>\n",
       "      <th>no1</th>\n",
       "      <th>no2</th>\n",
       "      <th>no3</th>\n",
       "    </tr>\n",
       "  </thead>\n",
       "  <tbody>\n",
       "    <tr>\n",
       "      <th>2016-3-31</th>\n",
       "      <td>-0.267572</td>\n",
       "      <td>-0.459848</td>\n",
       "      <td>0.959027</td>\n",
       "    </tr>\n",
       "    <tr>\n",
       "      <th>2016-4-30</th>\n",
       "      <td>-0.732239</td>\n",
       "      <td>0.207433</td>\n",
       "      <td>0.152912</td>\n",
       "    </tr>\n",
       "  </tbody>\n",
       "</table>\n",
       "</div>"
      ],
      "text/plain": [
       "                no1       no2       no3\n",
       "2016-3-31 -0.267572 -0.459848  0.959027\n",
       "2016-4-30 -0.732239  0.207433  0.152912"
      ]
     },
     "execution_count": 86,
     "metadata": {},
     "output_type": "execute_result"
    }
   ],
   "source": [
    "df.iloc[2:4]  # 3rd & 4th row"
   ]
  },
  {
   "cell_type": "code",
   "execution_count": 87,
   "metadata": {
    "collapsed": false
   },
   "outputs": [
    {
     "data": {
      "text/plain": [
       "2016-3-31   -0.459848\n",
       "2016-4-30    0.207433\n",
       "Name: no2, dtype: float64"
      ]
     },
     "execution_count": 87,
     "metadata": {},
     "output_type": "execute_result"
    }
   ],
   "source": [
    "df.iloc[2:4, 1]  # 3rd & 4th row, 2nd column"
   ]
  },
  {
   "cell_type": "code",
   "execution_count": 88,
   "metadata": {
    "collapsed": false
   },
   "outputs": [
    {
     "data": {
      "text/plain": [
       "2016-4-30    0.152912\n",
       "2016-5-31   -0.029466\n",
       "2016-6-30    0.676227\n",
       "2016-7-31    0.341391\n",
       "Name: no3, dtype: float64"
      ]
     },
     "execution_count": 88,
     "metadata": {},
     "output_type": "execute_result"
    }
   ],
   "source": [
    "df.no3.iloc[3:7]  # dot look-up for column name"
   ]
  },
  {
   "cell_type": "code",
   "execution_count": 89,
   "metadata": {
    "collapsed": false
   },
   "outputs": [
    {
     "data": {
      "text/plain": [
       "no1   -0.267572\n",
       "no2   -0.459848\n",
       "no3    0.959027\n",
       "Name: 2016-3-31, dtype: float64"
      ]
     },
     "execution_count": 89,
     "metadata": {},
     "output_type": "execute_result"
    }
   ],
   "source": [
    "df.loc['2016-3-31']  # row given index value"
   ]
  },
  {
   "cell_type": "code",
   "execution_count": 90,
   "metadata": {
    "collapsed": false
   },
   "outputs": [
    {
     "data": {
      "text/plain": [
       "-0.029465774923291221"
      ]
     },
     "execution_count": 90,
     "metadata": {},
     "output_type": "execute_result"
    }
   ],
   "source": [
    "df.loc['2016-5-31', 'no3']  # single data point"
   ]
  },
  {
   "cell_type": "code",
   "execution_count": 91,
   "metadata": {
    "collapsed": false
   },
   "outputs": [
    {
     "data": {
      "text/plain": [
       "2016-1-31    -0.880907\n",
       "2016-2-28     0.931841\n",
       "2016-3-31     2.609510\n",
       "2016-4-30    -0.273505\n",
       "2016-5-31    -2.016706\n",
       "2016-6-30     0.203564\n",
       "2016-7-31     0.470852\n",
       "2016-8-31     3.129533\n",
       "2016-9-30     1.791130\n",
       "2016-10-31    6.208233\n",
       "dtype: float64"
      ]
     },
     "execution_count": 91,
     "metadata": {},
     "output_type": "execute_result"
    }
   ],
   "source": [
    "df['no1'] + 3 * df['no3']  # vectorized arithmetic operations"
   ]
  },
  {
   "cell_type": "code",
   "execution_count": 92,
   "metadata": {
    "collapsed": false
   },
   "outputs": [
    {
     "data": {
      "text/html": [
       "<div>\n",
       "<table border=\"1\" class=\"dataframe\">\n",
       "  <thead>\n",
       "    <tr style=\"text-align: right;\">\n",
       "      <th></th>\n",
       "      <th>no1</th>\n",
       "      <th>no2</th>\n",
       "      <th>no3</th>\n",
       "    </tr>\n",
       "  </thead>\n",
       "  <tbody>\n",
       "    <tr>\n",
       "      <th>2016-5-31</th>\n",
       "      <td>-1.928309</td>\n",
       "      <td>-0.198527</td>\n",
       "      <td>-0.029466</td>\n",
       "    </tr>\n",
       "    <tr>\n",
       "      <th>2016-6-30</th>\n",
       "      <td>-1.825116</td>\n",
       "      <td>-0.336949</td>\n",
       "      <td>0.676227</td>\n",
       "    </tr>\n",
       "    <tr>\n",
       "      <th>2016-7-31</th>\n",
       "      <td>-0.553321</td>\n",
       "      <td>-1.323696</td>\n",
       "      <td>0.341391</td>\n",
       "    </tr>\n",
       "    <tr>\n",
       "      <th>2016-8-31</th>\n",
       "      <td>-0.652803</td>\n",
       "      <td>-0.916504</td>\n",
       "      <td>1.260779</td>\n",
       "    </tr>\n",
       "    <tr>\n",
       "      <th>2016-9-30</th>\n",
       "      <td>-0.340685</td>\n",
       "      <td>0.616657</td>\n",
       "      <td>0.710605</td>\n",
       "    </tr>\n",
       "  </tbody>\n",
       "</table>\n",
       "</div>"
      ],
      "text/plain": [
       "                no1       no2       no3\n",
       "2016-5-31 -1.928309 -0.198527 -0.029466\n",
       "2016-6-30 -1.825116 -0.336949  0.676227\n",
       "2016-7-31 -0.553321 -1.323696  0.341391\n",
       "2016-8-31 -0.652803 -0.916504  1.260779\n",
       "2016-9-30 -0.340685  0.616657  0.710605"
      ]
     },
     "execution_count": 92,
     "metadata": {},
     "output_type": "execute_result"
    }
   ],
   "source": [
    "df['no3'] > 0.5\n",
    "\n",
    "df[df['no3'] > 0.5]\n",
    "\n",
    "df[(df.no3 > 0.5) & (df.no2 > -0.25)]\n",
    "\n",
    "df[df.index > '2016-4-30']"
   ]
  },
  {
   "cell_type": "code",
   "execution_count": 93,
   "metadata": {
    "collapsed": false
   },
   "outputs": [
    {
     "data": {
      "image/png": "[encoded data removed]",
      "text/plain": [
       "<matplotlib.figure.Figure at 0x12e8c9a90>"
      ]
     },
     "metadata": {},
     "output_type": "display_data"
    }
   ],
   "source": [
    "df.plot(figsize=(10, 6));"
   ]
  },
  {
   "cell_type": "code",
   "execution_count": 94,
   "metadata": {
    "collapsed": false
   },
   "outputs": [
    {
     "data": {
      "image/png": "[encoded data removed]",
      "text/plain": [
       "<matplotlib.figure.Figure at 0x131922350>"
      ]
     },
     "metadata": {},
     "output_type": "display_data"
    }
   ],
   "source": [
    "df.hist(figsize=(10, 6));"
   ]
  },
  {
   "cell_type": "markdown",
   "metadata": {},
   "source": [
    "### Input-Output Operations"
   ]
  },
  {
   "cell_type": "code",
   "execution_count": 95,
   "metadata": {
    "collapsed": true
   },
   "outputs": [],
   "source": [
    "df.to_csv('data.csv')  # exports to CSV file"
   ]
  },
  {
   "cell_type": "code",
   "execution_count": 96,
   "metadata": {
    "collapsed": false
   },
   "outputs": [
    {
     "name": "stdout",
     "output_type": "stream",
     "text": [
      ",no1,no2,no3\n",
      "2016-1-31,-0.804458303525,0.32093154709,-0.0254828804721\n",
      "2016-2-28,-0.160134475098,0.0201348743028,0.363991673815\n",
      "2016-3-31,-0.267571776789,-0.459848201058,0.959027175892\n",
      "2016-4-30,-0.732239302984,0.20743310593,0.152911565449\n",
      "2016-5-31,-1.92830913682,-0.19852705543,-0.0294657749233\n",
      "2016-6-30,-1.82511624278,-0.336949044016,0.676226600036\n",
      "2016-7-31,-0.553320966375,-1.32369637281,0.341391146824\n",
      "2016-8-31,-0.652802664384,-0.916504272472,1.26077868603\n",
      "2016-9-30,-0.340684654318,0.616656792886,0.710604821\n",
      "2016-10-31,-0.723832065202,-0.206284170553,2.31068818906\n"
     ]
    }
   ],
   "source": [
    "with open('data.csv') as f:  # open file\n",
    "    for l in f.readlines():  # iterate over all lines\n",
    "        print l,  # print line"
   ]
  },
  {
   "cell_type": "code",
   "execution_count": 97,
   "metadata": {
    "collapsed": false
   },
   "outputs": [
    {
     "data": {
      "text/html": [
       "<div>\n",
       "<table border=\"1\" class=\"dataframe\">\n",
       "  <thead>\n",
       "    <tr style=\"text-align: right;\">\n",
       "      <th></th>\n",
       "      <th>no1</th>\n",
       "      <th>no2</th>\n",
       "      <th>no3</th>\n",
       "    </tr>\n",
       "  </thead>\n",
       "  <tbody>\n",
       "    <tr>\n",
       "      <th>2016-01-31</th>\n",
       "      <td>-0.804458</td>\n",
       "      <td>0.320932</td>\n",
       "      <td>-0.025483</td>\n",
       "    </tr>\n",
       "    <tr>\n",
       "      <th>2016-02-28</th>\n",
       "      <td>-0.160134</td>\n",
       "      <td>0.020135</td>\n",
       "      <td>0.363992</td>\n",
       "    </tr>\n",
       "    <tr>\n",
       "      <th>2016-03-31</th>\n",
       "      <td>-0.267572</td>\n",
       "      <td>-0.459848</td>\n",
       "      <td>0.959027</td>\n",
       "    </tr>\n",
       "    <tr>\n",
       "      <th>2016-04-30</th>\n",
       "      <td>-0.732239</td>\n",
       "      <td>0.207433</td>\n",
       "      <td>0.152912</td>\n",
       "    </tr>\n",
       "    <tr>\n",
       "      <th>2016-05-31</th>\n",
       "      <td>-1.928309</td>\n",
       "      <td>-0.198527</td>\n",
       "      <td>-0.029466</td>\n",
       "    </tr>\n",
       "  </tbody>\n",
       "</table>\n",
       "</div>"
      ],
      "text/plain": [
       "                 no1       no2       no3\n",
       "2016-01-31 -0.804458  0.320932 -0.025483\n",
       "2016-02-28 -0.160134  0.020135  0.363992\n",
       "2016-03-31 -0.267572 -0.459848  0.959027\n",
       "2016-04-30 -0.732239  0.207433  0.152912\n",
       "2016-05-31 -1.928309 -0.198527 -0.029466"
      ]
     },
     "execution_count": 97,
     "metadata": {},
     "output_type": "execute_result"
    }
   ],
   "source": [
    "from_csv = pd.read_csv('data.csv',  # filename\n",
    "                      index_col=0,  # index column\n",
    "                      parse_dates=True)  # date index\n",
    "from_csv.head()"
   ]
  },
  {
   "cell_type": "code",
   "execution_count": 98,
   "metadata": {
    "collapsed": false
   },
   "outputs": [
    {
     "data": {
      "text/plain": [
       "<class 'pandas.io.pytables.HDFStore'>\n",
       "File path: data.h5\n",
       "/df            frame        (shape->[10,3])"
      ]
     },
     "execution_count": 98,
     "metadata": {},
     "output_type": "execute_result"
    }
   ],
   "source": [
    "h5 = pd.HDFStore('data.h5', 'w')  # open for writing\n",
    "h5['df'] = df  # write object to database\n",
    "h5"
   ]
  },
  {
   "cell_type": "code",
   "execution_count": 99,
   "metadata": {
    "collapsed": false
   },
   "outputs": [],
   "source": [
    "from_h5 = h5['df']  # reading from database\n",
    "h5.close()  # closing the database\n",
    "from_h5.tail()\n",
    "!rm data.csv data.h5 # remove the objects from disk"
   ]
  },
  {
   "cell_type": "markdown",
   "metadata": {},
   "source": [
    "### Financial Analytics Examples"
   ]
  },
  {
   "cell_type": "raw",
   "metadata": {
    "collapsed": false
   },
   "source": [
    "import warnings; warnings.simplefilter('ignore')"
   ]
  },
  {
   "cell_type": "code",
   "execution_count": 100,
   "metadata": {
    "collapsed": false
   },
   "outputs": [],
   "source": [
    "from pandas_datareader import data as web\n",
    "spx = web.DataReader('^GSPC', data_source='yahoo', end='2015-12-31')"
   ]
  },
  {
   "cell_type": "code",
   "execution_count": 101,
   "metadata": {
    "collapsed": false
   },
   "outputs": [
    {
     "name": "stdout",
     "output_type": "stream",
     "text": [
      "<class 'pandas.core.frame.DataFrame'>\n",
      "DatetimeIndex: 1510 entries, 2010-01-04 to 2015-12-31\n",
      "Data columns (total 6 columns):\n",
      "Open         1510 non-null float64\n",
      "High         1510 non-null float64\n",
      "Low          1510 non-null float64\n",
      "Close        1510 non-null float64\n",
      "Volume       1510 non-null int64\n",
      "Adj Close    1510 non-null float64\n",
      "dtypes: float64(5), int64(1)\n",
      "memory usage: 82.6 KB\n"
     ]
    }
   ],
   "source": [
    "spx.info()"
   ]
  },
  {
   "cell_type": "code",
   "execution_count": 102,
   "metadata": {
    "collapsed": true
   },
   "outputs": [],
   "source": [
    "vix = web.DataReader('^VIX', data_source='yahoo', end='2015-12-31')"
   ]
  },
  {
   "cell_type": "code",
   "execution_count": 103,
   "metadata": {
    "collapsed": false
   },
   "outputs": [
    {
     "name": "stdout",
     "output_type": "stream",
     "text": [
      "<class 'pandas.core.frame.DataFrame'>\n",
      "DatetimeIndex: 1510 entries, 2010-01-04 to 2015-12-31\n",
      "Data columns (total 6 columns):\n",
      "Open         1510 non-null float64\n",
      "High         1510 non-null float64\n",
      "Low          1510 non-null float64\n",
      "Close        1510 non-null float64\n",
      "Volume       1510 non-null int64\n",
      "Adj Close    1510 non-null float64\n",
      "dtypes: float64(5), int64(1)\n",
      "memory usage: 82.6 KB\n"
     ]
    }
   ],
   "source": [
    "vix.info()"
   ]
  },
  {
   "cell_type": "code",
   "execution_count": 104,
   "metadata": {
    "collapsed": false
   },
   "outputs": [
    {
     "name": "stdout",
     "output_type": "stream",
     "text": [
      "<class 'pandas.core.frame.DataFrame'>\n",
      "DatetimeIndex: 1510 entries, 2010-01-04 to 2015-12-31\n",
      "Data columns (total 2 columns):\n",
      "CloseSPX    1510 non-null float64\n",
      "CloseVIX    1510 non-null float64\n",
      "dtypes: float64(2)\n",
      "memory usage: 35.4 KB\n",
      "<class 'pandas.core.frame.DataFrame'>\n",
      "DatetimeIndex: 1510 entries, 2010-01-04 to 2015-12-31\n",
      "Data columns (total 2 columns):\n",
      "CloseSPX    1510 non-null float64\n",
      "CloseVIX    1510 non-null float64\n",
      "dtypes: float64(2)\n",
      "memory usage: 35.4 KB\n"
     ]
    }
   ],
   "source": [
    "## construction via join\n",
    "spxvix = pd.DataFrame(spx['Close']).join(vix['Close'],\n",
    "                        lsuffix='SPX', rsuffix='VIX')\n",
    "spxvix.info()\n",
    "\n",
    "## construction via merge\n",
    "spxvix = pd.merge(pd.DataFrame(spx['Close']),\n",
    "                  pd.DataFrame(vix['Close']),\n",
    "                  left_index=True,  # merge on left index\n",
    "                  right_index=True,  # merge on right index\n",
    "                  suffixes=['SPX', 'VIX'])\n",
    "spxvix.info()"
   ]
  },
  {
   "cell_type": "code",
   "execution_count": 105,
   "metadata": {
    "collapsed": false
   },
   "outputs": [
    {
     "name": "stdout",
     "output_type": "stream",
     "text": [
      "<class 'pandas.core.frame.DataFrame'>\n",
      "DatetimeIndex: 1510 entries, 2010-01-04 to 2015-12-31\n",
      "Data columns (total 2 columns):\n",
      "SPX    1510 non-null float64\n",
      "VIX    1510 non-null float64\n",
      "dtypes: float64(2)\n",
      "memory usage: 35.4 KB\n"
     ]
    }
   ],
   "source": [
    "## construction via dictionary object\n",
    "spxvix = pd.DataFrame({'SPX': spx['Close'],\n",
    "                       'VIX': vix['Close']},\n",
    "                       index=spx.index)\n",
    "spxvix.info()"
   ]
  },
  {
   "cell_type": "code",
   "execution_count": 106,
   "metadata": {
    "collapsed": false,
    "scrolled": true
   },
   "outputs": [
    {
     "data": {
      "image/png": "[encoded data removed]",
      "text/plain": [
       "<matplotlib.figure.Figure at 0x132064dd0>"
      ]
     },
     "metadata": {},
     "output_type": "display_data"
    }
   ],
   "source": [
    "spxvix.plot(figsize=(10, 6), subplots=True, color='b');"
   ]
  },
  {
   "cell_type": "code",
   "execution_count": 107,
   "metadata": {
    "collapsed": false
   },
   "outputs": [
    {
     "data": {
      "text/html": [
       "<div>\n",
       "<table border=\"1\" class=\"dataframe\">\n",
       "  <thead>\n",
       "    <tr style=\"text-align: right;\">\n",
       "      <th></th>\n",
       "      <th>SPX</th>\n",
       "      <th>VIX</th>\n",
       "    </tr>\n",
       "    <tr>\n",
       "      <th>Date</th>\n",
       "      <th></th>\n",
       "      <th></th>\n",
       "    </tr>\n",
       "  </thead>\n",
       "  <tbody>\n",
       "    <tr>\n",
       "      <th>2010-01-04</th>\n",
       "      <td>NaN</td>\n",
       "      <td>NaN</td>\n",
       "    </tr>\n",
       "    <tr>\n",
       "      <th>2010-01-05</th>\n",
       "      <td>0.003111</td>\n",
       "      <td>-0.035038</td>\n",
       "    </tr>\n",
       "    <tr>\n",
       "      <th>2010-01-06</th>\n",
       "      <td>0.000545</td>\n",
       "      <td>-0.009868</td>\n",
       "    </tr>\n",
       "    <tr>\n",
       "      <th>2010-01-07</th>\n",
       "      <td>0.003993</td>\n",
       "      <td>-0.005233</td>\n",
       "    </tr>\n",
       "    <tr>\n",
       "      <th>2010-01-08</th>\n",
       "      <td>0.002878</td>\n",
       "      <td>-0.050024</td>\n",
       "    </tr>\n",
       "  </tbody>\n",
       "</table>\n",
       "</div>"
      ],
      "text/plain": [
       "                 SPX       VIX\n",
       "Date                          \n",
       "2010-01-04       NaN       NaN\n",
       "2010-01-05  0.003111 -0.035038\n",
       "2010-01-06  0.000545 -0.009868\n",
       "2010-01-07  0.003993 -0.005233\n",
       "2010-01-08  0.002878 -0.050024"
      ]
     },
     "execution_count": 107,
     "metadata": {},
     "output_type": "execute_result"
    }
   ],
   "source": [
    "rets = np.log(spxvix / spxvix.shift(1))\n",
    "rets.head()"
   ]
  },
  {
   "cell_type": "code",
   "execution_count": 108,
   "metadata": {
    "collapsed": false
   },
   "outputs": [
    {
     "data": {
      "text/html": [
       "<div>\n",
       "<table border=\"1\" class=\"dataframe\">\n",
       "  <thead>\n",
       "    <tr style=\"text-align: right;\">\n",
       "      <th></th>\n",
       "      <th>SPX</th>\n",
       "      <th>VIX</th>\n",
       "    </tr>\n",
       "    <tr>\n",
       "      <th>Date</th>\n",
       "      <th></th>\n",
       "      <th></th>\n",
       "    </tr>\n",
       "  </thead>\n",
       "  <tbody>\n",
       "    <tr>\n",
       "      <th>2010-01-05</th>\n",
       "      <td>0.003111</td>\n",
       "      <td>-0.035038</td>\n",
       "    </tr>\n",
       "    <tr>\n",
       "      <th>2010-01-06</th>\n",
       "      <td>0.000545</td>\n",
       "      <td>-0.009868</td>\n",
       "    </tr>\n",
       "    <tr>\n",
       "      <th>2010-01-07</th>\n",
       "      <td>0.003993</td>\n",
       "      <td>-0.005233</td>\n",
       "    </tr>\n",
       "    <tr>\n",
       "      <th>2010-01-08</th>\n",
       "      <td>0.002878</td>\n",
       "      <td>-0.050024</td>\n",
       "    </tr>\n",
       "    <tr>\n",
       "      <th>2010-01-11</th>\n",
       "      <td>0.001745</td>\n",
       "      <td>-0.032514</td>\n",
       "    </tr>\n",
       "  </tbody>\n",
       "</table>\n",
       "</div>"
      ],
      "text/plain": [
       "                 SPX       VIX\n",
       "Date                          \n",
       "2010-01-05  0.003111 -0.035038\n",
       "2010-01-06  0.000545 -0.009868\n",
       "2010-01-07  0.003993 -0.005233\n",
       "2010-01-08  0.002878 -0.050024\n",
       "2010-01-11  0.001745 -0.032514"
      ]
     },
     "execution_count": 108,
     "metadata": {},
     "output_type": "execute_result"
    }
   ],
   "source": [
    "rets = rets.dropna()\n",
    "rets.head()"
   ]
  },
  {
   "cell_type": "code",
   "execution_count": 109,
   "metadata": {
    "collapsed": false
   },
   "outputs": [
    {
     "data": {
      "image/png": "[encoded data removed]",
      "text/plain": [
       "<matplotlib.figure.Figure at 0x1321baa50>"
      ]
     },
     "metadata": {},
     "output_type": "display_data"
    }
   ],
   "source": [
    "rets.plot(kind='scatter', x='SPX', y='VIX',\n",
    "              style='.', figsize=(10, 6));\n",
    "rg = np.polyfit(rets['SPX'], rets['VIX'], 1)\n",
    "plt.plot(rets['SPX'], np.polyval(rg, rets['SPX']), 'r.-');"
   ]
  },
  {
   "cell_type": "code",
   "execution_count": 110,
   "metadata": {
    "collapsed": false
   },
   "outputs": [
    {
     "data": {
      "text/plain": [
       "SPX    0.555635\n",
       "VIX   -0.021926\n",
       "dtype: float64"
      ]
     },
     "execution_count": 110,
     "metadata": {},
     "output_type": "execute_result"
    }
   ],
   "source": [
    "ret = rets.mean() * 252  # annualized return\n",
    "ret\n",
    "\n",
    "vol = rets.std() * math.sqrt(252)  # annualized volatility\n",
    "vol\n",
    "\n",
    "(ret - 0.01) / vol  # Sharpe ratio with rf = 0.01"
   ]
  },
  {
   "cell_type": "code",
   "execution_count": 111,
   "metadata": {
    "collapsed": false,
    "scrolled": true
   },
   "outputs": [
    {
     "data": {
      "image/png": "[encoded data removed]",
      "text/plain": [
       "<matplotlib.figure.Figure at 0x131887410>"
      ]
     },
     "metadata": {},
     "output_type": "display_data"
    }
   ],
   "source": [
    "plt.figure(figsize=(10, 6));\n",
    "spxvix['SPX'].plot(label='S&P 500');\n",
    "spxvix['SPX'].cummax().plot(label='running maximum');\n",
    "plt.legend(loc=0);"
   ]
  },
  {
   "cell_type": "code",
   "execution_count": 112,
   "metadata": {
    "collapsed": false
   },
   "outputs": [
    {
     "data": {
      "text/plain": [
       "264.38000499999998"
      ]
     },
     "execution_count": 112,
     "metadata": {},
     "output_type": "execute_result"
    }
   ],
   "source": [
    "adrawdown = spxvix['SPX'].cummax() - spxvix['SPX']\n",
    "adrawdown.max()"
   ]
  },
  {
   "cell_type": "code",
   "execution_count": 113,
   "metadata": {
    "collapsed": false
   },
   "outputs": [
    {
     "data": {
      "text/plain": [
       "0.19388242085950988"
      ]
     },
     "execution_count": 113,
     "metadata": {},
     "output_type": "execute_result"
    }
   ],
   "source": [
    "rdrawdown = (spxvix['SPX'].cummax() - spxvix['SPX']) / spxvix['SPX'].cummax() \n",
    "rdrawdown.max()"
   ]
  },
  {
   "cell_type": "code",
   "execution_count": 114,
   "metadata": {
    "collapsed": false
   },
   "outputs": [
    {
     "data": {
      "text/plain": [
       "datetime.timedelta(301)"
      ]
     },
     "execution_count": 114,
     "metadata": {},
     "output_type": "execute_result"
    }
   ],
   "source": [
    "temp = adrawdown[adrawdown == 0]\n",
    "periods_spx = (temp.index[1:].to_pydatetime()\n",
    "             - temp.index[:-1].to_pydatetime())\n",
    "periods_spx[50:60]  # some selected data points\n",
    "\n",
    "max(periods_spx)"
   ]
  },
  {
   "cell_type": "markdown",
   "metadata": {},
   "source": [
    "## Conclusions"
   ]
  },
  {
   "cell_type": "markdown",
   "metadata": {},
   "source": [
    "<img src=\"http://hilpisch.com/tpq_logo.png\" alt=\"The Python Quants\" width=\"35%\" align=\"right\" border=\"0\"><br>\n",
    "\n",
    "<a href=\"http://tpq.io\" target=\"_blank\">http://tpq.io</a> | <a href=\"http://twitter.com/dyjh\" target=\"_blank\">@dyjh</a> | <a href=\"mailto:team@tpq.io\">team@tpq.io</a>\n",
    "\n",
    "**DX Analytics** |\n",
    "<a href=\"http://dx-analytics.com\">http://dx-analytics.com</a>\n",
    "\n",
    "**Quant Platform** |\n",
    "<a href=\"http://quant-platform.com\">http://quant-platform.com</a>\n",
    "\n",
    "**Python for Finance Books** |\n",
    "<a href=\"http://books.tpq.io\" target=\"_blank\">http://books.tpq.io</a>\n",
    "\n",
    "**Python for Finance Training** |\n",
    "<a href=\"http://training.tpq.io\" target=\"_blank\">http://training.tpq.io</a>"
   ]
  }
 ],
 "metadata": {
  "kernelspec": {
   "display_name": "Python [Root]",
   "language": "python",
   "name": "Python [Root]"
  },
  "language_info": {
   "codemirror_mode": {
    "name": "ipython",
    "version": 2
   },
   "file_extension": ".py",
   "mimetype": "text/x-python",
   "name": "python",
   "nbconvert_exporter": "python",
   "pygments_lexer": "ipython2",
   "version": "2.7.12"
  }
 },
 "nbformat": 4,
 "nbformat_minor": 0
}
