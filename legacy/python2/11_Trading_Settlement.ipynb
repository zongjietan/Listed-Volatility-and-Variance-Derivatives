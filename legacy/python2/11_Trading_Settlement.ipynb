{
 "cells": [
  {
   "cell_type": "markdown",
   "metadata": {},
   "source": [
    "<img src=\"http://hilpisch.com/tpq_logo.png\" alt=\"The Python Quants\" width=\"35%\" align=\"right\" border=\"0\"><br><br><br>"
   ]
  },
  {
   "cell_type": "markdown",
   "metadata": {},
   "source": [
    "# Listed Volatility and Variance Derivatives\n",
    "\n",
    "**Dr. Yves J. Hilpisch &mdash; Wiley Finance (2016)**\n",
    "\n",
    "<img src=\"http://hilpisch.com/images/lvvd_cover.png\" alt=\"Derivatives Analytics with Python\" width=\"30%\" align=\"left\" border=\"0\">"
   ]
  },
  {
   "cell_type": "markdown",
   "metadata": {},
   "source": [
    "# Trading and Settlement"
   ]
  },
  {
   "cell_type": "markdown",
   "metadata": {},
   "source": [
    "## Introduction"
   ]
  },
  {
   "cell_type": "markdown",
   "metadata": {},
   "source": [
    "## Overview of Variance Futures Terms"
   ]
  },
  {
   "cell_type": "markdown",
   "metadata": {},
   "source": [
    "## Intraday Trading"
   ]
  },
  {
   "cell_type": "code",
   "execution_count": 1,
   "metadata": {
    "collapsed": true
   },
   "outputs": [],
   "source": [
    "import numpy as np"
   ]
  },
  {
   "cell_type": "code",
   "execution_count": 2,
   "metadata": {
    "collapsed": true
   },
   "outputs": [],
   "source": [
    "a = np.random.standard_normal((10))"
   ]
  },
  {
   "cell_type": "code",
   "execution_count": 3,
   "metadata": {
    "collapsed": false
   },
   "outputs": [
    {
     "data": {
      "text/plain": [
       "array([-0.,  1.,  1., -1., -1., -1.,  0., -1.,  2.,  2.])"
      ]
     },
     "execution_count": 3,
     "metadata": {},
     "output_type": "execute_result"
    }
   ],
   "source": [
    "np.round(a)"
   ]
  },
  {
   "cell_type": "code",
   "execution_count": 4,
   "metadata": {
    "collapsed": false
   },
   "outputs": [],
   "source": [
    "import warnings; warnings.simplefilter('ignore')"
   ]
  },
  {
   "cell_type": "code",
   "execution_count": 5,
   "metadata": {
    "collapsed": false
   },
   "outputs": [
    {
     "data": {
      "text/html": [
       "<div>\n",
       "<table border=\"1\" class=\"dataframe\">\n",
       "  <thead>\n",
       "    <tr style=\"text-align: right;\">\n",
       "      <th></th>\n",
       "      <th>SX5E</th>\n",
       "      <th>V6I1</th>\n",
       "      <th>2w</th>\n",
       "      <th>EONIA</th>\n",
       "      <th>R_t</th>\n",
       "      <th>sigma**2</th>\n",
       "      <th>t</th>\n",
       "      <th>DF_t</th>\n",
       "      <th>F_tS</th>\n",
       "      <th>ARMVM_t</th>\n",
       "    </tr>\n",
       "    <tr>\n",
       "      <th>Date</th>\n",
       "      <th></th>\n",
       "      <th></th>\n",
       "      <th></th>\n",
       "      <th></th>\n",
       "      <th></th>\n",
       "      <th></th>\n",
       "      <th></th>\n",
       "      <th></th>\n",
       "      <th></th>\n",
       "      <th></th>\n",
       "    </tr>\n",
       "  </thead>\n",
       "  <tbody>\n",
       "    <tr>\n",
       "      <th>2015-06-01</th>\n",
       "      <td>3575.04</td>\n",
       "      <td>25.8710</td>\n",
       "      <td>-0.108</td>\n",
       "      <td>-0.106</td>\n",
       "      <td>NaN</td>\n",
       "      <td>NaN</td>\n",
       "      <td>1</td>\n",
       "      <td>1.000038</td>\n",
       "      <td>3000</td>\n",
       "      <td>0.000000</td>\n",
       "    </tr>\n",
       "    <tr>\n",
       "      <th>2015-06-02</th>\n",
       "      <td>3561.89</td>\n",
       "      <td>25.9232</td>\n",
       "      <td>-0.109</td>\n",
       "      <td>-0.122</td>\n",
       "      <td>-0.003685</td>\n",
       "      <td>34.220799</td>\n",
       "      <td>2</td>\n",
       "      <td>1.000036</td>\n",
       "      <td>2917</td>\n",
       "      <td>0.000000</td>\n",
       "    </tr>\n",
       "    <tr>\n",
       "      <th>2015-06-03</th>\n",
       "      <td>3583.82</td>\n",
       "      <td>25.7958</td>\n",
       "      <td>-0.109</td>\n",
       "      <td>-0.143</td>\n",
       "      <td>0.006138</td>\n",
       "      <td>64.580457</td>\n",
       "      <td>3</td>\n",
       "      <td>1.000033</td>\n",
       "      <td>2875</td>\n",
       "      <td>0.040173</td>\n",
       "    </tr>\n",
       "    <tr>\n",
       "      <th>2015-06-04</th>\n",
       "      <td>3556.38</td>\n",
       "      <td>26.2418</td>\n",
       "      <td>-0.109</td>\n",
       "      <td>-0.138</td>\n",
       "      <td>-0.007686</td>\n",
       "      <td>92.677552</td>\n",
       "      <td>4</td>\n",
       "      <td>1.000030</td>\n",
       "      <td>2860</td>\n",
       "      <td>0.111062</td>\n",
       "    </tr>\n",
       "    <tr>\n",
       "      <th>2015-06-05</th>\n",
       "      <td>3510.01</td>\n",
       "      <td>27.4496</td>\n",
       "      <td>-0.109</td>\n",
       "      <td>-0.115</td>\n",
       "      <td>-0.013124</td>\n",
       "      <td>178.023718</td>\n",
       "      <td>5</td>\n",
       "      <td>1.000027</td>\n",
       "      <td>2892</td>\n",
       "      <td>0.187647</td>\n",
       "    </tr>\n",
       "  </tbody>\n",
       "</table>\n",
       "</div>"
      ],
      "text/plain": [
       "               SX5E     V6I1     2w  EONIA       R_t    sigma**2  t      DF_t  \\\n",
       "Date                                                                            \n",
       "2015-06-01  3575.04  25.8710 -0.108 -0.106       NaN         NaN  1  1.000038   \n",
       "2015-06-02  3561.89  25.9232 -0.109 -0.122 -0.003685   34.220799  2  1.000036   \n",
       "2015-06-03  3583.82  25.7958 -0.109 -0.143  0.006138   64.580457  3  1.000033   \n",
       "2015-06-04  3556.38  26.2418 -0.109 -0.138 -0.007686   92.677552  4  1.000030   \n",
       "2015-06-05  3510.01  27.4496 -0.109 -0.115 -0.013124  178.023718  5  1.000027   \n",
       "\n",
       "            F_tS   ARMVM_t  \n",
       "Date                        \n",
       "2015-06-01  3000  0.000000  \n",
       "2015-06-02  2917  0.000000  \n",
       "2015-06-03  2875  0.040173  \n",
       "2015-06-04  2860  0.111062  \n",
       "2015-06-05  2892  0.187647  "
      ]
     },
     "execution_count": 5,
     "metadata": {},
     "output_type": "execute_result"
    }
   ],
   "source": [
    "import pandas as pd\n",
    "h5 = pd.HDFStore('data/var_data.h5', 'r')\n",
    "data = h5['var_future']\n",
    "h5.close()\n",
    "data.head()"
   ]
  },
  {
   "cell_type": "code",
   "execution_count": 6,
   "metadata": {
    "collapsed": false
   },
   "outputs": [
    {
     "data": {
      "text/plain": [
       "25.870999999999999"
      ]
     },
     "execution_count": 6,
     "metadata": {},
     "output_type": "execute_result"
    }
   ],
   "source": [
    "T = data['t'][-1]\n",
    "T\n",
    "sigma_K = data['V6I1'][0]\n",
    "sigma_K"
   ]
  },
  {
   "cell_type": "code",
   "execution_count": 7,
   "metadata": {
    "collapsed": false
   },
   "outputs": [],
   "source": [
    "data['F_ti'] = 3000.0\n",
    "for t in data.index[2:]:\n",
    "    data.loc[t, 'F_ti'] = data['DF_t'].shift(1)[t] * (\n",
    "                    (data['t'][t]  * data['sigma**2'].shift(1)[t]\n",
    "                  + (T - data['t'][t]) * data['V6I1'].shift(1)[t] ** 2) / T\n",
    "                  - sigma_K ** 2) - data['ARMVM_t'].shift(1)[t] + 3000"
   ]
  },
  {
   "cell_type": "code",
   "execution_count": 8,
   "metadata": {
    "collapsed": false
   },
   "outputs": [
    {
     "data": {
      "text/html": [
       "<div>\n",
       "<table border=\"1\" class=\"dataframe\">\n",
       "  <thead>\n",
       "    <tr style=\"text-align: right;\">\n",
       "      <th></th>\n",
       "      <th>SX5E</th>\n",
       "      <th>V6I1</th>\n",
       "      <th>2w</th>\n",
       "      <th>EONIA</th>\n",
       "      <th>R_t</th>\n",
       "      <th>sigma**2</th>\n",
       "      <th>t</th>\n",
       "      <th>DF_t</th>\n",
       "      <th>F_tS</th>\n",
       "      <th>ARMVM_t</th>\n",
       "      <th>F_ti</th>\n",
       "    </tr>\n",
       "    <tr>\n",
       "      <th>Date</th>\n",
       "      <th></th>\n",
       "      <th></th>\n",
       "      <th></th>\n",
       "      <th></th>\n",
       "      <th></th>\n",
       "      <th></th>\n",
       "      <th></th>\n",
       "      <th></th>\n",
       "      <th></th>\n",
       "      <th></th>\n",
       "      <th></th>\n",
       "    </tr>\n",
       "  </thead>\n",
       "  <tbody>\n",
       "    <tr>\n",
       "      <th>2015-06-01</th>\n",
       "      <td>3575.04</td>\n",
       "      <td>25.8710</td>\n",
       "      <td>-0.108</td>\n",
       "      <td>-0.106</td>\n",
       "      <td>NaN</td>\n",
       "      <td>NaN</td>\n",
       "      <td>1</td>\n",
       "      <td>1.000038</td>\n",
       "      <td>3000</td>\n",
       "      <td>0.000000</td>\n",
       "      <td>3000.000000</td>\n",
       "    </tr>\n",
       "    <tr>\n",
       "      <th>2015-06-02</th>\n",
       "      <td>3561.89</td>\n",
       "      <td>25.9232</td>\n",
       "      <td>-0.109</td>\n",
       "      <td>-0.122</td>\n",
       "      <td>-0.003685</td>\n",
       "      <td>34.220799</td>\n",
       "      <td>2</td>\n",
       "      <td>1.000036</td>\n",
       "      <td>2917</td>\n",
       "      <td>0.000000</td>\n",
       "      <td>3000.000000</td>\n",
       "    </tr>\n",
       "    <tr>\n",
       "      <th>2015-06-03</th>\n",
       "      <td>3583.82</td>\n",
       "      <td>25.7958</td>\n",
       "      <td>-0.109</td>\n",
       "      <td>-0.143</td>\n",
       "      <td>0.006138</td>\n",
       "      <td>64.580457</td>\n",
       "      <td>3</td>\n",
       "      <td>1.000033</td>\n",
       "      <td>2875</td>\n",
       "      <td>0.040173</td>\n",
       "      <td>2875.140910</td>\n",
       "    </tr>\n",
       "    <tr>\n",
       "      <th>2015-06-04</th>\n",
       "      <td>3556.38</td>\n",
       "      <td>26.2418</td>\n",
       "      <td>-0.109</td>\n",
       "      <td>-0.138</td>\n",
       "      <td>-0.007686</td>\n",
       "      <td>92.677552</td>\n",
       "      <td>4</td>\n",
       "      <td>1.000030</td>\n",
       "      <td>2860</td>\n",
       "      <td>0.111062</td>\n",
       "      <td>2835.844331</td>\n",
       "    </tr>\n",
       "    <tr>\n",
       "      <th>2015-06-05</th>\n",
       "      <td>3510.01</td>\n",
       "      <td>27.4496</td>\n",
       "      <td>-0.109</td>\n",
       "      <td>-0.115</td>\n",
       "      <td>-0.013124</td>\n",
       "      <td>178.023718</td>\n",
       "      <td>5</td>\n",
       "      <td>1.000027</td>\n",
       "      <td>2892</td>\n",
       "      <td>0.187647</td>\n",
       "      <td>2820.555454</td>\n",
       "    </tr>\n",
       "    <tr>\n",
       "      <th>2015-06-08</th>\n",
       "      <td>3468.31</td>\n",
       "      <td>27.2996</td>\n",
       "      <td>-0.110</td>\n",
       "      <td>-0.127</td>\n",
       "      <td>-0.011951</td>\n",
       "      <td>214.408816</td>\n",
       "      <td>6</td>\n",
       "      <td>1.000025</td>\n",
       "      <td>2863</td>\n",
       "      <td>0.236836</td>\n",
       "      <td>2853.797523</td>\n",
       "    </tr>\n",
       "    <tr>\n",
       "      <th>2015-06-09</th>\n",
       "      <td>3456.79</td>\n",
       "      <td>26.8020</td>\n",
       "      <td>-0.110</td>\n",
       "      <td>-0.126</td>\n",
       "      <td>-0.003327</td>\n",
       "      <td>183.323049</td>\n",
       "      <td>7</td>\n",
       "      <td>1.000022</td>\n",
       "      <td>2799</td>\n",
       "      <td>0.305743</td>\n",
       "      <td>2827.984087</td>\n",
       "    </tr>\n",
       "    <tr>\n",
       "      <th>2015-06-10</th>\n",
       "      <td>3526.48</td>\n",
       "      <td>25.8610</td>\n",
       "      <td>-0.111</td>\n",
       "      <td>-0.117</td>\n",
       "      <td>0.019960</td>\n",
       "      <td>300.555651</td>\n",
       "      <td>8</td>\n",
       "      <td>1.000019</td>\n",
       "      <td>2802</td>\n",
       "      <td>0.406065</td>\n",
       "      <td>2763.381425</td>\n",
       "    </tr>\n",
       "    <tr>\n",
       "      <th>2015-06-11</th>\n",
       "      <td>3551.91</td>\n",
       "      <td>26.3897</td>\n",
       "      <td>-0.111</td>\n",
       "      <td>-0.120</td>\n",
       "      <td>0.007185</td>\n",
       "      <td>279.249096</td>\n",
       "      <td>9</td>\n",
       "      <td>1.000016</td>\n",
       "      <td>2776</td>\n",
       "      <td>0.497784</td>\n",
       "      <td>2778.130966</td>\n",
       "    </tr>\n",
       "    <tr>\n",
       "      <th>2015-06-12</th>\n",
       "      <td>3502.77</td>\n",
       "      <td>29.7725</td>\n",
       "      <td>-0.113</td>\n",
       "      <td>-0.125</td>\n",
       "      <td>-0.013931</td>\n",
       "      <td>302.564935</td>\n",
       "      <td>10</td>\n",
       "      <td>1.000014</td>\n",
       "      <td>2827</td>\n",
       "      <td>0.604188</td>\n",
       "      <td>2748.494268</td>\n",
       "    </tr>\n",
       "    <tr>\n",
       "      <th>2015-06-15</th>\n",
       "      <td>3438.07</td>\n",
       "      <td>34.5593</td>\n",
       "      <td>-0.108</td>\n",
       "      <td>-0.119</td>\n",
       "      <td>-0.018644</td>\n",
       "      <td>359.901600</td>\n",
       "      <td>11</td>\n",
       "      <td>1.000011</td>\n",
       "      <td>2912</td>\n",
       "      <td>0.689681</td>\n",
       "      <td>2788.339034</td>\n",
       "    </tr>\n",
       "    <tr>\n",
       "      <th>2015-06-16</th>\n",
       "      <td>3454.09</td>\n",
       "      <td>36.2222</td>\n",
       "      <td>-0.109</td>\n",
       "      <td>-0.125</td>\n",
       "      <td>0.004649</td>\n",
       "      <td>332.134168</td>\n",
       "      <td>12</td>\n",
       "      <td>1.000008</td>\n",
       "      <td>2858</td>\n",
       "      <td>0.730901</td>\n",
       "      <td>2856.790440</td>\n",
       "    </tr>\n",
       "    <tr>\n",
       "      <th>2015-06-17</th>\n",
       "      <td>3428.76</td>\n",
       "      <td>34.7235</td>\n",
       "      <td>-0.109</td>\n",
       "      <td>-0.110</td>\n",
       "      <td>-0.007360</td>\n",
       "      <td>315.833038</td>\n",
       "      <td>13</td>\n",
       "      <td>1.000005</td>\n",
       "      <td>2764</td>\n",
       "      <td>0.800957</td>\n",
       "      <td>2792.748076</td>\n",
       "    </tr>\n",
       "    <tr>\n",
       "      <th>2015-06-18</th>\n",
       "      <td>3450.45</td>\n",
       "      <td>34.7235</td>\n",
       "      <td>-0.109</td>\n",
       "      <td>-0.118</td>\n",
       "      <td>0.006306</td>\n",
       "      <td>299.246550</td>\n",
       "      <td>14</td>\n",
       "      <td>1.000003</td>\n",
       "      <td>2689</td>\n",
       "      <td>0.903601</td>\n",
       "      <td>2705.047722</td>\n",
       "    </tr>\n",
       "    <tr>\n",
       "      <th>2015-06-19</th>\n",
       "      <td>3455.80</td>\n",
       "      <td>34.7235</td>\n",
       "      <td>-0.108</td>\n",
       "      <td>-0.120</td>\n",
       "      <td>0.001549</td>\n",
       "      <td>278.303868</td>\n",
       "      <td>15</td>\n",
       "      <td>1.000000</td>\n",
       "      <td>2607</td>\n",
       "      <td>1.048771</td>\n",
       "      <td>2629.033294</td>\n",
       "    </tr>\n",
       "  </tbody>\n",
       "</table>\n",
       "</div>"
      ],
      "text/plain": [
       "               SX5E     V6I1     2w  EONIA       R_t    sigma**2   t  \\\n",
       "Date                                                                   \n",
       "2015-06-01  3575.04  25.8710 -0.108 -0.106       NaN         NaN   1   \n",
       "2015-06-02  3561.89  25.9232 -0.109 -0.122 -0.003685   34.220799   2   \n",
       "2015-06-03  3583.82  25.7958 -0.109 -0.143  0.006138   64.580457   3   \n",
       "2015-06-04  3556.38  26.2418 -0.109 -0.138 -0.007686   92.677552   4   \n",
       "2015-06-05  3510.01  27.4496 -0.109 -0.115 -0.013124  178.023718   5   \n",
       "2015-06-08  3468.31  27.2996 -0.110 -0.127 -0.011951  214.408816   6   \n",
       "2015-06-09  3456.79  26.8020 -0.110 -0.126 -0.003327  183.323049   7   \n",
       "2015-06-10  3526.48  25.8610 -0.111 -0.117  0.019960  300.555651   8   \n",
       "2015-06-11  3551.91  26.3897 -0.111 -0.120  0.007185  279.249096   9   \n",
       "2015-06-12  3502.77  29.7725 -0.113 -0.125 -0.013931  302.564935  10   \n",
       "2015-06-15  3438.07  34.5593 -0.108 -0.119 -0.018644  359.901600  11   \n",
       "2015-06-16  3454.09  36.2222 -0.109 -0.125  0.004649  332.134168  12   \n",
       "2015-06-17  3428.76  34.7235 -0.109 -0.110 -0.007360  315.833038  13   \n",
       "2015-06-18  3450.45  34.7235 -0.109 -0.118  0.006306  299.246550  14   \n",
       "2015-06-19  3455.80  34.7235 -0.108 -0.120  0.001549  278.303868  15   \n",
       "\n",
       "                DF_t  F_tS   ARMVM_t         F_ti  \n",
       "Date                                               \n",
       "2015-06-01  1.000038  3000  0.000000  3000.000000  \n",
       "2015-06-02  1.000036  2917  0.000000  3000.000000  \n",
       "2015-06-03  1.000033  2875  0.040173  2875.140910  \n",
       "2015-06-04  1.000030  2860  0.111062  2835.844331  \n",
       "2015-06-05  1.000027  2892  0.187647  2820.555454  \n",
       "2015-06-08  1.000025  2863  0.236836  2853.797523  \n",
       "2015-06-09  1.000022  2799  0.305743  2827.984087  \n",
       "2015-06-10  1.000019  2802  0.406065  2763.381425  \n",
       "2015-06-11  1.000016  2776  0.497784  2778.130966  \n",
       "2015-06-12  1.000014  2827  0.604188  2748.494268  \n",
       "2015-06-15  1.000011  2912  0.689681  2788.339034  \n",
       "2015-06-16  1.000008  2858  0.730901  2856.790440  \n",
       "2015-06-17  1.000005  2764  0.800957  2792.748076  \n",
       "2015-06-18  1.000003  2689  0.903601  2705.047722  \n",
       "2015-06-19  1.000000  2607  1.048771  2629.033294  "
      ]
     },
     "execution_count": 8,
     "metadata": {},
     "output_type": "execute_result"
    }
   ],
   "source": [
    "data"
   ]
  },
  {
   "cell_type": "code",
   "execution_count": 9,
   "metadata": {
    "collapsed": false
   },
   "outputs": [
    {
     "data": {
      "text/plain": [
       "3605.769230769231"
      ]
     },
     "execution_count": 9,
     "metadata": {},
     "output_type": "execute_result"
    }
   ],
   "source": [
    "futures = 100000. / (2 * 26) * T / (T - data['t']['2015-06-09'])\n",
    "futures"
   ]
  },
  {
   "cell_type": "code",
   "execution_count": 10,
   "metadata": {
    "collapsed": false
   },
   "outputs": [
    {
     "data": {
      "text/plain": [
       "2827.9840866529353"
      ]
     },
     "execution_count": 10,
     "metadata": {},
     "output_type": "execute_result"
    }
   ],
   "source": [
    "F_ti = data['F_ti']['2015-06-09']\n",
    "F_ti"
   ]
  },
  {
   "cell_type": "code",
   "execution_count": 11,
   "metadata": {
    "collapsed": false
   },
   "outputs": [
    {
     "data": {
      "text/plain": [
       "446.08408975063566"
      ]
     },
     "execution_count": 11,
     "metadata": {},
     "output_type": "execute_result"
    }
   ],
   "source": [
    "sigma_t2 = (data['t']['2015-06-09'] * data['sigma**2']['2015-06-09']\n",
    "         + (T - data['t']['2015-06-09']) * 26 ** 2) / T\n",
    "sigma_t2"
   ]
  },
  {
   "cell_type": "code",
   "execution_count": 12,
   "metadata": {
    "collapsed": false
   },
   "outputs": [
    {
     "data": {
      "text/plain": [
       "2776.4648130015858"
      ]
     },
     "execution_count": 12,
     "metadata": {},
     "output_type": "execute_result"
    }
   ],
   "source": [
    "F_t = (data['DF_t']['2015-06-09'] *\n",
    "       (sigma_t2 - data['V6I1']['2015-06-01'] ** 2)\n",
    "              - data['ARMVM_t']['2015-06-09'] + 3000)\n",
    "F_t"
   ]
  },
  {
   "cell_type": "code",
   "execution_count": 13,
   "metadata": {
    "collapsed": false
   },
   "outputs": [
    {
     "data": {
      "text/plain": [
       "10011291.393034564"
      ]
     },
     "execution_count": 13,
     "metadata": {},
     "output_type": "execute_result"
    }
   ],
   "source": [
    "P_ti = futures * F_t\n",
    "P_ti"
   ]
  },
  {
   "cell_type": "markdown",
   "metadata": {},
   "source": [
    "## Trade Matching"
   ]
  },
  {
   "cell_type": "code",
   "execution_count": 14,
   "metadata": {
    "collapsed": false
   },
   "outputs": [
    {
     "data": {
      "text/plain": [
       "2799"
      ]
     },
     "execution_count": 14,
     "metadata": {},
     "output_type": "execute_result"
    }
   ],
   "source": [
    "F_tS = data['F_tS']['2015-06-09']\n",
    "F_tS"
   ]
  },
  {
   "cell_type": "code",
   "execution_count": 15,
   "metadata": {
    "collapsed": false
   },
   "outputs": [
    {
     "data": {
      "text/plain": [
       "10092548.076923078"
      ]
     },
     "execution_count": 15,
     "metadata": {},
     "output_type": "execute_result"
    }
   ],
   "source": [
    "P_t = futures * F_tS\n",
    "P_t"
   ]
  },
  {
   "cell_type": "code",
   "execution_count": 16,
   "metadata": {
    "collapsed": false
   },
   "outputs": [
    {
     "data": {
      "text/plain": [
       "81256.683888513595"
      ]
     },
     "execution_count": 16,
     "metadata": {},
     "output_type": "execute_result"
    }
   ],
   "source": [
    "P_t - P_ti"
   ]
  },
  {
   "cell_type": "code",
   "execution_count": 17,
   "metadata": {
    "collapsed": false
   },
   "outputs": [
    {
     "data": {
      "text/plain": [
       "80199.999999999956"
      ]
     },
     "execution_count": 17,
     "metadata": {},
     "output_type": "execute_result"
    }
   ],
   "source": [
    "100000 * (data['V6I1']['2015-06-09'] - 26)"
   ]
  },
  {
   "cell_type": "markdown",
   "metadata": {},
   "source": [
    "## Different Traded Volatilities"
   ]
  },
  {
   "cell_type": "code",
   "execution_count": 18,
   "metadata": {
    "collapsed": false
   },
   "outputs": [
    {
     "data": {
      "text/plain": [
       "array([ 15.,  16.,  17.,  18.,  19.,  20.,  21.,  22.,  23.,  24.,  25.])"
      ]
     },
     "execution_count": 18,
     "metadata": {},
     "output_type": "execute_result"
    }
   ],
   "source": [
    "import numpy as np\n",
    "trad_vols = np.arange(15, 25.01, 1)\n",
    "trad_vols"
   ]
  },
  {
   "cell_type": "code",
   "execution_count": 19,
   "metadata": {
    "collapsed": false
   },
   "outputs": [
    {
     "data": {
      "text/plain": [
       "array([ 205.55075642,  222.08408975,  239.68408975,  258.35075642,\n",
       "        278.08408975,  298.88408975,  320.75075642,  343.68408975,\n",
       "        367.68408975,  392.75075642,  418.88408975])"
      ]
     },
     "execution_count": 19,
     "metadata": {},
     "output_type": "execute_result"
    }
   ],
   "source": [
    "sigma_t2 = (data['t']['2015-06-09'] * data['sigma**2']['2015-06-09']\n",
    "         + (T - data['t']['2015-06-09']) * trad_vols ** 2) / T\n",
    "sigma_t2"
   ]
  },
  {
   "cell_type": "code",
   "execution_count": 20,
   "metadata": {
    "collapsed": false
   },
   "outputs": [
    {
     "data": {
      "text/plain": [
       "array([ 2535.92620765,  2552.45990336,  2570.06028912,  2588.72736492,\n",
       "        2608.46113077,  2629.26158666,  2651.12873261,  2674.06256859,\n",
       "        2698.06309463,  2723.13031071,  2749.26421683])"
      ]
     },
     "execution_count": 20,
     "metadata": {},
     "output_type": "execute_result"
    }
   ],
   "source": [
    "F_t = (data['DF_t']['2015-06-09']\n",
    "       * (sigma_t2 - data['V6I1']['2015-06-01'] ** 2)\n",
    "               - data['ARMVM_t']['2015-06-09'] + 3000)\n",
    "F_t"
   ]
  },
  {
   "cell_type": "code",
   "execution_count": 21,
   "metadata": {
    "collapsed": false
   },
   "outputs": [
    {
     "data": {
      "text/plain": [
       "array([ 948583.3858882 ,  888966.69461993,  825503.76520532,\n",
       "        758194.59764436,  687039.19193707,  612037.54808344,\n",
       "        533189.66608347,  450495.54593716,  363955.18764451,\n",
       "        273568.59120552,  179335.75662018])"
      ]
     },
     "execution_count": 21,
     "metadata": {},
     "output_type": "execute_result"
    }
   ],
   "source": [
    "margins = futures * (F_tS - F_t)\n",
    "margins"
   ]
  },
  {
   "cell_type": "code",
   "execution_count": 22,
   "metadata": {
    "collapsed": true
   },
   "outputs": [],
   "source": [
    "import seaborn as sns; sns.set()\n",
    "import matplotlib\n",
    "matplotlib.rcParams['font.family'] = 'serif'\n",
    "%matplotlib inline"
   ]
  },
  {
   "cell_type": "code",
   "execution_count": 23,
   "metadata": {
    "collapsed": false
   },
   "outputs": [
    {
     "data": {
      "image/png": "[encoded data removed]",
      "text/plain": [
       "<matplotlib.figure.Figure at 0x11a0767d0>"
      ]
     },
     "metadata": {},
     "output_type": "display_data"
    }
   ],
   "source": [
    "results = pd.DataFrame({'margins': margins}, index=trad_vols)\n",
    "results.plot(figsize=(10, 6));"
   ]
  },
  {
   "cell_type": "markdown",
   "metadata": {},
   "source": [
    "## After the Trade Matching"
   ]
  },
  {
   "cell_type": "code",
   "execution_count": 24,
   "metadata": {
    "collapsed": false
   },
   "outputs": [
    {
     "data": {
      "text/plain": [
       "Date\n",
       "2015-06-01     NaN\n",
       "2015-06-02   -83.0\n",
       "2015-06-03   -42.0\n",
       "2015-06-04   -15.0\n",
       "2015-06-05    32.0\n",
       "2015-06-08   -29.0\n",
       "2015-06-09   -64.0\n",
       "2015-06-10     3.0\n",
       "2015-06-11   -26.0\n",
       "2015-06-12    51.0\n",
       "2015-06-15    85.0\n",
       "2015-06-16   -54.0\n",
       "2015-06-17   -94.0\n",
       "2015-06-18   -75.0\n",
       "2015-06-19   -82.0\n",
       "Name: F_tS, dtype: float64"
      ]
     },
     "execution_count": 24,
     "metadata": {},
     "output_type": "execute_result"
    }
   ],
   "source": [
    "F_diffs = (data['F_tS'] - data['F_tS'].shift(1))\n",
    "F_diffs"
   ]
  },
  {
   "cell_type": "code",
   "execution_count": 25,
   "metadata": {
    "collapsed": false
   },
   "outputs": [
    {
     "data": {
      "text/plain": [
       "Date\n",
       "2015-06-09   -230769.230769\n",
       "2015-06-10     10817.307692\n",
       "2015-06-11    -93750.000000\n",
       "2015-06-12    183894.230769\n",
       "2015-06-15    306490.384615\n",
       "2015-06-16   -194711.538462\n",
       "2015-06-17   -338942.307692\n",
       "2015-06-18   -270432.692308\n",
       "2015-06-19   -295673.076923\n",
       "Name: F_tS, dtype: float64"
      ]
     },
     "execution_count": 25,
     "metadata": {},
     "output_type": "execute_result"
    }
   ],
   "source": [
    "margin_t = futures * F_diffs[F_diffs.index >= '2015-06-09']\n",
    "margin_t"
   ]
  },
  {
   "cell_type": "code",
   "execution_count": 26,
   "metadata": {
    "collapsed": false
   },
   "outputs": [
    {
     "data": {
      "text/html": [
       "<div>\n",
       "<table border=\"1\" class=\"dataframe\">\n",
       "  <thead>\n",
       "    <tr style=\"text-align: right;\">\n",
       "      <th></th>\n",
       "      <th>15.0</th>\n",
       "      <th>16.0</th>\n",
       "      <th>17.0</th>\n",
       "      <th>18.0</th>\n",
       "      <th>19.0</th>\n",
       "      <th>20.0</th>\n",
       "      <th>21.0</th>\n",
       "      <th>22.0</th>\n",
       "      <th>23.0</th>\n",
       "      <th>24.0</th>\n",
       "      <th>25.0</th>\n",
       "    </tr>\n",
       "    <tr>\n",
       "      <th>Date</th>\n",
       "      <th></th>\n",
       "      <th></th>\n",
       "      <th></th>\n",
       "      <th></th>\n",
       "      <th></th>\n",
       "      <th></th>\n",
       "      <th></th>\n",
       "      <th></th>\n",
       "      <th></th>\n",
       "      <th></th>\n",
       "      <th></th>\n",
       "    </tr>\n",
       "  </thead>\n",
       "  <tbody>\n",
       "    <tr>\n",
       "      <th>2015-06-09</th>\n",
       "      <td>948583.0</td>\n",
       "      <td>888967.0</td>\n",
       "      <td>825504.0</td>\n",
       "      <td>758195.0</td>\n",
       "      <td>687039.0</td>\n",
       "      <td>612038.0</td>\n",
       "      <td>533190.0</td>\n",
       "      <td>450496.0</td>\n",
       "      <td>363955.0</td>\n",
       "      <td>273569.0</td>\n",
       "      <td>179336.0</td>\n",
       "    </tr>\n",
       "    <tr>\n",
       "      <th>2015-06-10</th>\n",
       "      <td>10817.0</td>\n",
       "      <td>10817.0</td>\n",
       "      <td>10817.0</td>\n",
       "      <td>10817.0</td>\n",
       "      <td>10817.0</td>\n",
       "      <td>10817.0</td>\n",
       "      <td>10817.0</td>\n",
       "      <td>10817.0</td>\n",
       "      <td>10817.0</td>\n",
       "      <td>10817.0</td>\n",
       "      <td>10817.0</td>\n",
       "    </tr>\n",
       "    <tr>\n",
       "      <th>2015-06-11</th>\n",
       "      <td>-93750.0</td>\n",
       "      <td>-93750.0</td>\n",
       "      <td>-93750.0</td>\n",
       "      <td>-93750.0</td>\n",
       "      <td>-93750.0</td>\n",
       "      <td>-93750.0</td>\n",
       "      <td>-93750.0</td>\n",
       "      <td>-93750.0</td>\n",
       "      <td>-93750.0</td>\n",
       "      <td>-93750.0</td>\n",
       "      <td>-93750.0</td>\n",
       "    </tr>\n",
       "    <tr>\n",
       "      <th>2015-06-12</th>\n",
       "      <td>183894.0</td>\n",
       "      <td>183894.0</td>\n",
       "      <td>183894.0</td>\n",
       "      <td>183894.0</td>\n",
       "      <td>183894.0</td>\n",
       "      <td>183894.0</td>\n",
       "      <td>183894.0</td>\n",
       "      <td>183894.0</td>\n",
       "      <td>183894.0</td>\n",
       "      <td>183894.0</td>\n",
       "      <td>183894.0</td>\n",
       "    </tr>\n",
       "    <tr>\n",
       "      <th>2015-06-15</th>\n",
       "      <td>306490.0</td>\n",
       "      <td>306490.0</td>\n",
       "      <td>306490.0</td>\n",
       "      <td>306490.0</td>\n",
       "      <td>306490.0</td>\n",
       "      <td>306490.0</td>\n",
       "      <td>306490.0</td>\n",
       "      <td>306490.0</td>\n",
       "      <td>306490.0</td>\n",
       "      <td>306490.0</td>\n",
       "      <td>306490.0</td>\n",
       "    </tr>\n",
       "    <tr>\n",
       "      <th>2015-06-16</th>\n",
       "      <td>-194712.0</td>\n",
       "      <td>-194712.0</td>\n",
       "      <td>-194712.0</td>\n",
       "      <td>-194712.0</td>\n",
       "      <td>-194712.0</td>\n",
       "      <td>-194712.0</td>\n",
       "      <td>-194712.0</td>\n",
       "      <td>-194712.0</td>\n",
       "      <td>-194712.0</td>\n",
       "      <td>-194712.0</td>\n",
       "      <td>-194712.0</td>\n",
       "    </tr>\n",
       "    <tr>\n",
       "      <th>2015-06-17</th>\n",
       "      <td>-338942.0</td>\n",
       "      <td>-338942.0</td>\n",
       "      <td>-338942.0</td>\n",
       "      <td>-338942.0</td>\n",
       "      <td>-338942.0</td>\n",
       "      <td>-338942.0</td>\n",
       "      <td>-338942.0</td>\n",
       "      <td>-338942.0</td>\n",
       "      <td>-338942.0</td>\n",
       "      <td>-338942.0</td>\n",
       "      <td>-338942.0</td>\n",
       "    </tr>\n",
       "    <tr>\n",
       "      <th>2015-06-18</th>\n",
       "      <td>-270433.0</td>\n",
       "      <td>-270433.0</td>\n",
       "      <td>-270433.0</td>\n",
       "      <td>-270433.0</td>\n",
       "      <td>-270433.0</td>\n",
       "      <td>-270433.0</td>\n",
       "      <td>-270433.0</td>\n",
       "      <td>-270433.0</td>\n",
       "      <td>-270433.0</td>\n",
       "      <td>-270433.0</td>\n",
       "      <td>-270433.0</td>\n",
       "    </tr>\n",
       "    <tr>\n",
       "      <th>2015-06-19</th>\n",
       "      <td>-295673.0</td>\n",
       "      <td>-295673.0</td>\n",
       "      <td>-295673.0</td>\n",
       "      <td>-295673.0</td>\n",
       "      <td>-295673.0</td>\n",
       "      <td>-295673.0</td>\n",
       "      <td>-295673.0</td>\n",
       "      <td>-295673.0</td>\n",
       "      <td>-295673.0</td>\n",
       "      <td>-295673.0</td>\n",
       "      <td>-295673.0</td>\n",
       "    </tr>\n",
       "  </tbody>\n",
       "</table>\n",
       "</div>"
      ],
      "text/plain": [
       "                15.0      16.0      17.0      18.0      19.0      20.0  \\\n",
       "Date                                                                     \n",
       "2015-06-09  948583.0  888967.0  825504.0  758195.0  687039.0  612038.0   \n",
       "2015-06-10   10817.0   10817.0   10817.0   10817.0   10817.0   10817.0   \n",
       "2015-06-11  -93750.0  -93750.0  -93750.0  -93750.0  -93750.0  -93750.0   \n",
       "2015-06-12  183894.0  183894.0  183894.0  183894.0  183894.0  183894.0   \n",
       "2015-06-15  306490.0  306490.0  306490.0  306490.0  306490.0  306490.0   \n",
       "2015-06-16 -194712.0 -194712.0 -194712.0 -194712.0 -194712.0 -194712.0   \n",
       "2015-06-17 -338942.0 -338942.0 -338942.0 -338942.0 -338942.0 -338942.0   \n",
       "2015-06-18 -270433.0 -270433.0 -270433.0 -270433.0 -270433.0 -270433.0   \n",
       "2015-06-19 -295673.0 -295673.0 -295673.0 -295673.0 -295673.0 -295673.0   \n",
       "\n",
       "                21.0      22.0      23.0      24.0      25.0  \n",
       "Date                                                          \n",
       "2015-06-09  533190.0  450496.0  363955.0  273569.0  179336.0  \n",
       "2015-06-10   10817.0   10817.0   10817.0   10817.0   10817.0  \n",
       "2015-06-11  -93750.0  -93750.0  -93750.0  -93750.0  -93750.0  \n",
       "2015-06-12  183894.0  183894.0  183894.0  183894.0  183894.0  \n",
       "2015-06-15  306490.0  306490.0  306490.0  306490.0  306490.0  \n",
       "2015-06-16 -194712.0 -194712.0 -194712.0 -194712.0 -194712.0  \n",
       "2015-06-17 -338942.0 -338942.0 -338942.0 -338942.0 -338942.0  \n",
       "2015-06-18 -270433.0 -270433.0 -270433.0 -270433.0 -270433.0  \n",
       "2015-06-19 -295673.0 -295673.0 -295673.0 -295673.0 -295673.0  "
      ]
     },
     "execution_count": 26,
     "metadata": {},
     "output_type": "execute_result"
    }
   ],
   "source": [
    "results = pd.DataFrame(np.tile(margin_t, (len(trad_vols), 1)).T,\n",
    "                       index=margin_t.index,\n",
    "                       columns=trad_vols)\n",
    "results.loc['2015-06-09', :] = margins  # setting the first day margins\n",
    "np.round(results)"
   ]
  },
  {
   "cell_type": "code",
   "execution_count": 27,
   "metadata": {
    "collapsed": false
   },
   "outputs": [
    {
     "data": {
      "image/png": "[encoded data removed]",
      "text/plain": [
       "<matplotlib.figure.Figure at 0x11a076810>"
      ]
     },
     "metadata": {},
     "output_type": "display_data"
    }
   ],
   "source": [
    "results.cumsum().plot(figsize=(10, 6), title='cumulative P&L');"
   ]
  },
  {
   "cell_type": "markdown",
   "metadata": {},
   "source": [
    "## Further Details"
   ]
  },
  {
   "cell_type": "markdown",
   "metadata": {},
   "source": [
    "### Interest Rate Calculation"
   ]
  },
  {
   "cell_type": "markdown",
   "metadata": {},
   "source": [
    "### Market Disruption Events"
   ]
  },
  {
   "cell_type": "markdown",
   "metadata": {},
   "source": [
    "## Conclusions"
   ]
  },
  {
   "cell_type": "markdown",
   "metadata": {},
   "source": [
    "<img src=\"http://hilpisch.com/tpq_logo.png\" alt=\"The Python Quants\" width=\"35%\" align=\"right\" border=\"0\"><br>\n",
    "\n",
    "<a href=\"http://tpq.io\" target=\"_blank\">http://tpq.io</a> | <a href=\"http://twitter.com/dyjh\" target=\"_blank\">@dyjh</a> | <a href=\"mailto:team@tpq.io\">team@tpq.io</a>\n",
    "\n",
    "**DX Analytics** |\n",
    "<a href=\"http://dx-analytics.com\">http://dx-analytics.com</a>\n",
    "\n",
    "**Quant Platform** |\n",
    "<a href=\"http://quant-platform.com\">http://quant-platform.com</a>\n",
    "\n",
    "**Python for Finance Books** |\n",
    "<a href=\"http://books.tpq.io\" target=\"_blank\">http://books.tpq.io</a>\n",
    "\n",
    "**Python for Finance Training** |\n",
    "<a href=\"http://training.tpq.io\" target=\"_blank\">http://training.tpq.io</a>"
   ]
  }
 ],
 "metadata": {
  "kernelspec": {
   "display_name": "Python [Root]",
   "language": "python",
   "name": "Python [Root]"
  },
  "language_info": {
   "codemirror_mode": {
    "name": "ipython",
    "version": 2
   },
   "file_extension": ".py",
   "mimetype": "text/x-python",
   "name": "python",
   "nbconvert_exporter": "python",
   "pygments_lexer": "ipython2",
   "version": "2.7.12"
  }
 },
 "nbformat": 4,
 "nbformat_minor": 0
}
