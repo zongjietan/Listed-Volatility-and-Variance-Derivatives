{
 "cells": [
  {
   "cell_type": "markdown",
   "metadata": {},
   "source": [
    "<img src=\"http://hilpisch.com/tpq_logo.png\" alt=\"The Python Quants\" width=\"35%\" align=\"right\" border=\"0\"><br><br><br>"
   ]
  },
  {
   "cell_type": "markdown",
   "metadata": {},
   "source": [
    "# Listed Volatility and Variance Derivatives\n",
    "\n",
    "**Dr. Yves J. Hilpisch &mdash; Wiley Finance (2016)**\n",
    "\n",
    "<img src=\"http://hilpisch.com/images/lvvd_cover.png\" alt=\"Derivatives Analytics with Python\" width=\"30%\" align=\"left\" border=\"0\">"
   ]
  },
  {
   "cell_type": "markdown",
   "metadata": {},
   "source": [
    "# VSTOXX Index"
   ]
  },
  {
   "cell_type": "markdown",
   "metadata": {},
   "source": [
    "## Introduction"
   ]
  },
  {
   "cell_type": "markdown",
   "metadata": {},
   "source": [
    "## Collecting Option Data"
   ]
  },
  {
   "cell_type": "code",
   "execution_count": 1,
   "metadata": {
    "collapsed": true
   },
   "outputs": [],
   "source": [
    "import sys\n",
    "sys.path.append('scripts')"
   ]
  },
  {
   "cell_type": "code",
   "execution_count": 2,
   "metadata": {
    "collapsed": false
   },
   "outputs": [],
   "source": [
    "path = 'data/'"
   ]
  },
  {
   "cell_type": "code",
   "execution_count": 3,
   "metadata": {
    "collapsed": false
   },
   "outputs": [],
   "source": [
    "import numpy as np\n",
    "import pandas as pd\n",
    "import datetime as dt\n",
    "import index_collect_option_data as icod"
   ]
  },
  {
   "cell_type": "code",
   "execution_count": 4,
   "metadata": {
    "collapsed": false
   },
   "outputs": [
    {
     "data": {
      "text/plain": [
       "'20161020'"
      ]
     },
     "execution_count": 4,
     "metadata": {},
     "output_type": "execute_result"
    }
   ],
   "source": [
    "today = dt.datetime.now()\n",
    "## make sure to hit a business day\n",
    "target_day = today - dt.timedelta(days=1)\n",
    "ds = target_day.strftime('%Y%m%d')\n",
    "ds"
   ]
  },
  {
   "cell_type": "code",
   "execution_count": 5,
   "metadata": {
    "collapsed": false
   },
   "outputs": [],
   "source": [
    "## adjust maturity parameters if necessary\n",
    "call_data = icod.get_data_from_www(oType='Call', matMonth=3,\n",
    "                                   matYear=2017, date=ds)\n",
    "put_data = icod.get_data_from_www(oType='Put', matMonth=3,\n",
    "                                  matYear=2017, date=ds)"
   ]
  },
  {
   "cell_type": "code",
   "execution_count": 6,
   "metadata": {
    "collapsed": false
   },
   "outputs": [],
   "source": [
    "## parse the raw data\n",
    "calls = icod.parse_data(call_data, target_day)\n",
    "puts = icod.parse_data(put_data, target_day)"
   ]
  },
  {
   "cell_type": "code",
   "execution_count": 7,
   "metadata": {
    "collapsed": false
   },
   "outputs": [
    {
     "name": "stdout",
     "output_type": "stream",
     "text": [
      "<class 'pandas.core.frame.DataFrame'>\n",
      "MultiIndex: 75 entries, (2016-10-20 00:00:00, 500.0) to (2016-10-20 00:00:00, 6000.0)\n",
      "Data columns (total 8 columns):\n",
      "Version number          75 non-null float64\n",
      "Opening price           75 non-null float64\n",
      "Daily high              75 non-null float64\n",
      "Daily low               75 non-null float64\n",
      "Last price              75 non-null float64\n",
      "Daily settlem. price    75 non-null float64\n",
      "Traded contracts        75 non-null int64\n",
      "Open interest           75 non-null int64\n",
      "dtypes: float64(6), int64(2)\n",
      "memory usage: 5.3+ KB\n"
     ]
    }
   ],
   "source": [
    "calls.info()"
   ]
  },
  {
   "cell_type": "code",
   "execution_count": 8,
   "metadata": {
    "collapsed": false
   },
   "outputs": [
    {
     "name": "stdout",
     "output_type": "stream",
     "text": [
      "<class 'pandas.core.frame.DataFrame'>\n",
      "MultiIndex: 75 entries, (2016-10-20 00:00:00, 500.0) to (2016-10-20 00:00:00, 6000.0)\n",
      "Data columns (total 8 columns):\n",
      "Version number          75 non-null float64\n",
      "Opening price           75 non-null float64\n",
      "Daily high              75 non-null float64\n",
      "Daily low               75 non-null float64\n",
      "Last price              75 non-null float64\n",
      "Daily settlem. price    75 non-null float64\n",
      "Traded contracts        75 non-null int64\n",
      "Open interest           75 non-null int64\n",
      "dtypes: float64(6), int64(2)\n",
      "memory usage: 5.3+ KB\n"
     ]
    }
   ],
   "source": [
    "puts.info()"
   ]
  },
  {
   "cell_type": "code",
   "execution_count": 9,
   "metadata": {
    "collapsed": false
   },
   "outputs": [],
   "source": [
    "calls = pd.DataFrame(calls.rename(\n",
    "        columns={'Daily settlem. price': 'Call_Price'}\n",
    "                            ).pop('Call_Price').astype(float))"
   ]
  },
  {
   "cell_type": "code",
   "execution_count": 10,
   "metadata": {
    "collapsed": false
   },
   "outputs": [],
   "source": [
    "puts = pd.DataFrame(puts.rename(\n",
    "        columns={'Daily settlem. price': 'Put_Price'}\n",
    "                            ).pop('Put_Price').astype(float))"
   ]
  },
  {
   "cell_type": "code",
   "execution_count": 11,
   "metadata": {
    "collapsed": false
   },
   "outputs": [
    {
     "name": "stdout",
     "output_type": "stream",
     "text": [
      "<class 'pandas.core.frame.DataFrame'>\n",
      "MultiIndex: 63 entries, (2016-10-20 00:00:00, 1400.0) to (2016-10-20 00:00:00, 3900.0)\n",
      "Data columns (total 2 columns):\n",
      "Call_Price    63 non-null float64\n",
      "Put_Price     63 non-null float64\n",
      "dtypes: float64(2)\n",
      "memory usage: 1.5+ KB\n"
     ]
    }
   ],
   "source": [
    "dataset = icod.merge_and_filter(puts, calls)\n",
    "dataset.info()"
   ]
  },
  {
   "cell_type": "code",
   "execution_count": 12,
   "metadata": {
    "collapsed": false
   },
   "outputs": [
    {
     "name": "stdout",
     "output_type": "stream",
     "text": [
      "<class 'pandas.core.frame.DataFrame'>\n",
      "MultiIndex: 63 entries, (2016-10-20 00:00:00, 1400.0) to (2016-10-20 00:00:00, 3900.0)\n",
      "Data columns (total 2 columns):\n",
      "Call_Price    63 non-null float64\n",
      "Put_Price     63 non-null float64\n",
      "dtypes: float64(2)\n",
      "memory usage: 1.5+ KB\n"
     ]
    }
   ],
   "source": [
    "os = icod.collect_option_series(3, 2017, target_day)\n",
    "os.info()"
   ]
  },
  {
   "cell_type": "code",
   "execution_count": 13,
   "metadata": {
    "collapsed": false
   },
   "outputs": [],
   "source": [
    "# uncomment to initiate the process (takes a few minutes)\n",
    "# %time icod.data_collection(path)"
   ]
  },
  {
   "cell_type": "code",
   "execution_count": 14,
   "metadata": {
    "collapsed": false
   },
   "outputs": [
    {
     "data": {
      "text/plain": [
       "<class 'pandas.io.pytables.HDFStore'>\n",
       "File path: data/index_option_series.h5\n",
       "/Dec16            frame        (shape->[1098,2])\n",
       "/Nov16            frame        (shape->[849,2]) \n",
       "/Oct16            frame        (shape->[426,2]) "
      ]
     },
     "execution_count": 14,
     "metadata": {},
     "output_type": "execute_result"
    }
   ],
   "source": [
    "store = pd.HDFStore(path + 'index_option_series.h5', 'r')\n",
    "store"
   ]
  },
  {
   "cell_type": "code",
   "execution_count": 15,
   "metadata": {
    "collapsed": false
   },
   "outputs": [],
   "source": [
    "Dec16 = store['Dec16']"
   ]
  },
  {
   "cell_type": "code",
   "execution_count": 16,
   "metadata": {
    "collapsed": false
   },
   "outputs": [
    {
     "name": "stdout",
     "output_type": "stream",
     "text": [
      "<class 'pandas.core.frame.DataFrame'>\n",
      "MultiIndex: 1098 entries, (2016-09-23 00:00:00, 1800.0) to (2016-10-20 00:00:00, 3500.0)\n",
      "Data columns (total 2 columns):\n",
      "Call_Price    1098 non-null float64\n",
      "Put_Price     1098 non-null float64\n",
      "dtypes: float64(2)\n",
      "memory usage: 25.7+ KB\n"
     ]
    }
   ],
   "source": [
    "Dec16.info()"
   ]
  },
  {
   "cell_type": "code",
   "execution_count": 17,
   "metadata": {
    "collapsed": false
   },
   "outputs": [],
   "source": [
    "store.close()"
   ]
  },
  {
   "cell_type": "code",
   "execution_count": 18,
   "metadata": {
    "collapsed": false
   },
   "outputs": [
    {
     "data": {
      "text/html": [
       "<div>\n",
       "<table border=\"1\" class=\"dataframe\">\n",
       "  <thead>\n",
       "    <tr style=\"text-align: right;\">\n",
       "      <th></th>\n",
       "      <th></th>\n",
       "      <th>Call_Price</th>\n",
       "      <th>Put_Price</th>\n",
       "    </tr>\n",
       "    <tr>\n",
       "      <th>Pricing day</th>\n",
       "      <th>Strike price</th>\n",
       "      <th></th>\n",
       "      <th></th>\n",
       "    </tr>\n",
       "  </thead>\n",
       "  <tbody>\n",
       "    <tr>\n",
       "      <th rowspan=\"10\" valign=\"top\">2016-09-23</th>\n",
       "      <th>2700.0</th>\n",
       "      <td>348.6</td>\n",
       "      <td>29.3</td>\n",
       "    </tr>\n",
       "    <tr>\n",
       "      <th>2725.0</th>\n",
       "      <td>326.8</td>\n",
       "      <td>32.6</td>\n",
       "    </tr>\n",
       "    <tr>\n",
       "      <th>2750.0</th>\n",
       "      <td>305.5</td>\n",
       "      <td>36.2</td>\n",
       "    </tr>\n",
       "    <tr>\n",
       "      <th>2775.0</th>\n",
       "      <td>284.5</td>\n",
       "      <td>40.3</td>\n",
       "    </tr>\n",
       "    <tr>\n",
       "      <th>2800.0</th>\n",
       "      <td>264.0</td>\n",
       "      <td>44.8</td>\n",
       "    </tr>\n",
       "    <tr>\n",
       "      <th>2825.0</th>\n",
       "      <td>243.9</td>\n",
       "      <td>49.7</td>\n",
       "    </tr>\n",
       "    <tr>\n",
       "      <th>2850.0</th>\n",
       "      <td>224.3</td>\n",
       "      <td>55.2</td>\n",
       "    </tr>\n",
       "    <tr>\n",
       "      <th>2875.0</th>\n",
       "      <td>205.3</td>\n",
       "      <td>61.2</td>\n",
       "    </tr>\n",
       "    <tr>\n",
       "      <th>2900.0</th>\n",
       "      <td>186.9</td>\n",
       "      <td>67.8</td>\n",
       "    </tr>\n",
       "    <tr>\n",
       "      <th>2925.0</th>\n",
       "      <td>169.2</td>\n",
       "      <td>75.1</td>\n",
       "    </tr>\n",
       "  </tbody>\n",
       "</table>\n",
       "</div>"
      ],
      "text/plain": [
       "                           Call_Price  Put_Price\n",
       " Pricing day Strike price                       \n",
       "2016-09-23   2700.0             348.6       29.3\n",
       "             2725.0             326.8       32.6\n",
       "             2750.0             305.5       36.2\n",
       "             2775.0             284.5       40.3\n",
       "             2800.0             264.0       44.8\n",
       "             2825.0             243.9       49.7\n",
       "             2850.0             224.3       55.2\n",
       "             2875.0             205.3       61.2\n",
       "             2900.0             186.9       67.8\n",
       "             2925.0             169.2       75.1"
      ]
     },
     "execution_count": 18,
     "metadata": {},
     "output_type": "execute_result"
    }
   ],
   "source": [
    "Dec16.ix[25:35]"
   ]
  },
  {
   "cell_type": "markdown",
   "metadata": {},
   "source": [
    "## Calculating the Sub-Indexes"
   ]
  },
  {
   "cell_type": "markdown",
   "metadata": {},
   "source": [
    "### The Algorithm"
   ]
  },
  {
   "cell_type": "code",
   "execution_count": 19,
   "metadata": {
    "collapsed": true
   },
   "outputs": [],
   "source": [
    "import warnings; warnings.simplefilter('ignore')"
   ]
  },
  {
   "cell_type": "code",
   "execution_count": 20,
   "metadata": {
    "collapsed": false,
    "scrolled": true
   },
   "outputs": [
    {
     "data": {
      "text/html": [
       "<div>\n",
       "<table border=\"1\" class=\"dataframe\">\n",
       "  <thead>\n",
       "    <tr style=\"text-align: right;\">\n",
       "      <th></th>\n",
       "      <th>Expiry V6I1</th>\n",
       "      <th>Expiry V6I2</th>\n",
       "      <th>Expiry V6I3</th>\n",
       "      <th>V6I1</th>\n",
       "      <th>V6I2</th>\n",
       "      <th>V6I3</th>\n",
       "    </tr>\n",
       "  </thead>\n",
       "  <tbody>\n",
       "    <tr>\n",
       "      <th>2015-11-27</th>\n",
       "      <td>2015-12-18</td>\n",
       "      <td>2016-01-15</td>\n",
       "      <td>NaN</td>\n",
       "      <td>23.759804</td>\n",
       "      <td>22.360188</td>\n",
       "      <td>NaN</td>\n",
       "    </tr>\n",
       "    <tr>\n",
       "      <th>2015-11-30</th>\n",
       "      <td>2015-12-18</td>\n",
       "      <td>2016-01-15</td>\n",
       "      <td>NaN</td>\n",
       "      <td>25.299727</td>\n",
       "      <td>22.740036</td>\n",
       "      <td>NaN</td>\n",
       "    </tr>\n",
       "    <tr>\n",
       "      <th>2015-12-01</th>\n",
       "      <td>2015-12-18</td>\n",
       "      <td>2016-01-15</td>\n",
       "      <td>NaN</td>\n",
       "      <td>25.613843</td>\n",
       "      <td>22.675634</td>\n",
       "      <td>NaN</td>\n",
       "    </tr>\n",
       "    <tr>\n",
       "      <th>2015-12-02</th>\n",
       "      <td>2015-12-18</td>\n",
       "      <td>2016-01-15</td>\n",
       "      <td>NaN</td>\n",
       "      <td>24.904232</td>\n",
       "      <td>22.070847</td>\n",
       "      <td>NaN</td>\n",
       "    </tr>\n",
       "    <tr>\n",
       "      <th>2015-12-03</th>\n",
       "      <td>2015-12-18</td>\n",
       "      <td>2016-01-15</td>\n",
       "      <td>NaN</td>\n",
       "      <td>24.487130</td>\n",
       "      <td>22.050495</td>\n",
       "      <td>NaN</td>\n",
       "    </tr>\n",
       "    <tr>\n",
       "      <th>2015-12-04</th>\n",
       "      <td>2015-12-18</td>\n",
       "      <td>2016-01-15</td>\n",
       "      <td>NaN</td>\n",
       "      <td>24.139754</td>\n",
       "      <td>22.280183</td>\n",
       "      <td>NaN</td>\n",
       "    </tr>\n",
       "    <tr>\n",
       "      <th>2015-12-07</th>\n",
       "      <td>2015-12-18</td>\n",
       "      <td>2016-01-15</td>\n",
       "      <td>NaN</td>\n",
       "      <td>23.743333</td>\n",
       "      <td>21.809108</td>\n",
       "      <td>NaN</td>\n",
       "    </tr>\n",
       "    <tr>\n",
       "      <th>2015-12-08</th>\n",
       "      <td>2015-12-18</td>\n",
       "      <td>2016-01-15</td>\n",
       "      <td>NaN</td>\n",
       "      <td>26.508476</td>\n",
       "      <td>23.306916</td>\n",
       "      <td>NaN</td>\n",
       "    </tr>\n",
       "    <tr>\n",
       "      <th>2015-12-09</th>\n",
       "      <td>2015-12-18</td>\n",
       "      <td>2016-01-15</td>\n",
       "      <td>NaN</td>\n",
       "      <td>28.073811</td>\n",
       "      <td>24.015911</td>\n",
       "      <td>NaN</td>\n",
       "    </tr>\n",
       "    <tr>\n",
       "      <th>2015-12-10</th>\n",
       "      <td>2015-12-18</td>\n",
       "      <td>2016-01-15</td>\n",
       "      <td>NaN</td>\n",
       "      <td>28.199642</td>\n",
       "      <td>24.363648</td>\n",
       "      <td>NaN</td>\n",
       "    </tr>\n",
       "    <tr>\n",
       "      <th>2015-12-11</th>\n",
       "      <td>2015-12-18</td>\n",
       "      <td>2016-01-15</td>\n",
       "      <td>NaN</td>\n",
       "      <td>32.009313</td>\n",
       "      <td>26.307574</td>\n",
       "      <td>NaN</td>\n",
       "    </tr>\n",
       "    <tr>\n",
       "      <th>2015-12-14</th>\n",
       "      <td>2015-12-18</td>\n",
       "      <td>2016-01-15</td>\n",
       "      <td>NaN</td>\n",
       "      <td>43.585681</td>\n",
       "      <td>30.253168</td>\n",
       "      <td>NaN</td>\n",
       "    </tr>\n",
       "    <tr>\n",
       "      <th>2015-12-15</th>\n",
       "      <td>2015-12-18</td>\n",
       "      <td>2016-01-15</td>\n",
       "      <td>NaN</td>\n",
       "      <td>41.680603</td>\n",
       "      <td>27.372170</td>\n",
       "      <td>NaN</td>\n",
       "    </tr>\n",
       "    <tr>\n",
       "      <th>2015-12-16</th>\n",
       "      <td>2015-12-18</td>\n",
       "      <td>2016-01-15</td>\n",
       "      <td>NaN</td>\n",
       "      <td>49.116152</td>\n",
       "      <td>25.510208</td>\n",
       "      <td>NaN</td>\n",
       "    </tr>\n",
       "    <tr>\n",
       "      <th>2015-12-17</th>\n",
       "      <td>NaT</td>\n",
       "      <td>2016-01-15</td>\n",
       "      <td>2016-02-19 00:00:00</td>\n",
       "      <td>NaN</td>\n",
       "      <td>22.524591</td>\n",
       "      <td>23.509207</td>\n",
       "    </tr>\n",
       "    <tr>\n",
       "      <th>2015-12-18</th>\n",
       "      <td>NaT</td>\n",
       "      <td>2016-01-15</td>\n",
       "      <td>2016-02-19 00:00:00</td>\n",
       "      <td>NaN</td>\n",
       "      <td>23.757165</td>\n",
       "      <td>24.740060</td>\n",
       "    </tr>\n",
       "    <tr>\n",
       "      <th>2015-12-21</th>\n",
       "      <td>2016-01-15</td>\n",
       "      <td>2016-02-19</td>\n",
       "      <td>NaN</td>\n",
       "      <td>23.616427</td>\n",
       "      <td>24.665801</td>\n",
       "      <td>NaN</td>\n",
       "    </tr>\n",
       "    <tr>\n",
       "      <th>2015-12-22</th>\n",
       "      <td>2016-01-15</td>\n",
       "      <td>2016-02-19</td>\n",
       "      <td>NaN</td>\n",
       "      <td>21.908727</td>\n",
       "      <td>23.629867</td>\n",
       "      <td>NaN</td>\n",
       "    </tr>\n",
       "    <tr>\n",
       "      <th>2015-12-23</th>\n",
       "      <td>2016-01-15</td>\n",
       "      <td>2016-02-19</td>\n",
       "      <td>NaN</td>\n",
       "      <td>19.398907</td>\n",
       "      <td>21.488879</td>\n",
       "      <td>NaN</td>\n",
       "    </tr>\n",
       "    <tr>\n",
       "      <th>2015-12-24</th>\n",
       "      <td>2016-01-15</td>\n",
       "      <td>2016-02-19</td>\n",
       "      <td>NaN</td>\n",
       "      <td>19.839390</td>\n",
       "      <td>21.677283</td>\n",
       "      <td>NaN</td>\n",
       "    </tr>\n",
       "  </tbody>\n",
       "</table>\n",
       "</div>"
      ],
      "text/plain": [
       "           Expiry V6I1 Expiry V6I2          Expiry V6I3       V6I1       V6I2  \\\n",
       "2015-11-27  2015-12-18  2016-01-15                  NaN  23.759804  22.360188   \n",
       "2015-11-30  2015-12-18  2016-01-15                  NaN  25.299727  22.740036   \n",
       "2015-12-01  2015-12-18  2016-01-15                  NaN  25.613843  22.675634   \n",
       "2015-12-02  2015-12-18  2016-01-15                  NaN  24.904232  22.070847   \n",
       "2015-12-03  2015-12-18  2016-01-15                  NaN  24.487130  22.050495   \n",
       "2015-12-04  2015-12-18  2016-01-15                  NaN  24.139754  22.280183   \n",
       "2015-12-07  2015-12-18  2016-01-15                  NaN  23.743333  21.809108   \n",
       "2015-12-08  2015-12-18  2016-01-15                  NaN  26.508476  23.306916   \n",
       "2015-12-09  2015-12-18  2016-01-15                  NaN  28.073811  24.015911   \n",
       "2015-12-10  2015-12-18  2016-01-15                  NaN  28.199642  24.363648   \n",
       "2015-12-11  2015-12-18  2016-01-15                  NaN  32.009313  26.307574   \n",
       "2015-12-14  2015-12-18  2016-01-15                  NaN  43.585681  30.253168   \n",
       "2015-12-15  2015-12-18  2016-01-15                  NaN  41.680603  27.372170   \n",
       "2015-12-16  2015-12-18  2016-01-15                  NaN  49.116152  25.510208   \n",
       "2015-12-17         NaT  2016-01-15  2016-02-19 00:00:00        NaN  22.524591   \n",
       "2015-12-18         NaT  2016-01-15  2016-02-19 00:00:00        NaN  23.757165   \n",
       "2015-12-21  2016-01-15  2016-02-19                  NaN  23.616427  24.665801   \n",
       "2015-12-22  2016-01-15  2016-02-19                  NaN  21.908727  23.629867   \n",
       "2015-12-23  2016-01-15  2016-02-19                  NaN  19.398907  21.488879   \n",
       "2015-12-24  2016-01-15  2016-02-19                  NaN  19.839390  21.677283   \n",
       "\n",
       "                 V6I3  \n",
       "2015-11-27        NaN  \n",
       "2015-11-30        NaN  \n",
       "2015-12-01        NaN  \n",
       "2015-12-02        NaN  \n",
       "2015-12-03        NaN  \n",
       "2015-12-04        NaN  \n",
       "2015-12-07        NaN  \n",
       "2015-12-08        NaN  \n",
       "2015-12-09        NaN  \n",
       "2015-12-10        NaN  \n",
       "2015-12-11        NaN  \n",
       "2015-12-14        NaN  \n",
       "2015-12-15        NaN  \n",
       "2015-12-16        NaN  \n",
       "2015-12-17  23.509207  \n",
       "2015-12-18  24.740060  \n",
       "2015-12-21        NaN  \n",
       "2015-12-22        NaN  \n",
       "2015-12-23        NaN  \n",
       "2015-12-24        NaN  "
      ]
     },
     "execution_count": 20,
     "metadata": {},
     "output_type": "execute_result"
    }
   ],
   "source": [
    "import index_subindex_calculation as isc\n",
    "si = isc.make_subindex(path)\n",
    "si"
   ]
  },
  {
   "cell_type": "code",
   "execution_count": 21,
   "metadata": {
    "collapsed": false
   },
   "outputs": [
    {
     "data": {
      "text/plain": [
       "DatetimeIndex(['2015-11-27', '2015-11-30', '2015-12-01', '2015-12-02',\n",
       "               '2015-12-03', '2015-12-04', '2015-12-07', '2015-12-08',\n",
       "               '2015-12-09', '2015-12-10', '2015-12-11', '2015-12-14',\n",
       "               '2015-12-15', '2015-12-16', '2015-12-17', '2015-12-18',\n",
       "               '2015-12-21', '2015-12-22', '2015-12-23', '2015-12-24'],\n",
       "              dtype='datetime64[ns]', freq=None)"
      ]
     },
     "execution_count": 21,
     "metadata": {},
     "output_type": "execute_result"
    }
   ],
   "source": [
    "si.index"
   ]
  },
  {
   "cell_type": "code",
   "execution_count": 22,
   "metadata": {
    "collapsed": false
   },
   "outputs": [
    {
     "name": "stdout",
     "output_type": "stream",
     "text": [
      "<class 'pandas.core.frame.DataFrame'>\n",
      "DatetimeIndex: 4357 entries, 1999-01-04 to 2016-02-12\n",
      "Data columns (total 9 columns):\n",
      "V2TX    4357 non-null float64\n",
      "V6I1    3906 non-null float64\n",
      "V6I2    4357 non-null float64\n",
      "V6I3    4296 non-null float64\n",
      "V6I4    4357 non-null float64\n",
      "V6I5    4357 non-null float64\n",
      "V6I6    4340 non-null float64\n",
      "V6I7    4357 non-null float64\n",
      "V6I8    4343 non-null float64\n",
      "dtypes: float64(9)\n",
      "memory usage: 340.4 KB\n"
     ]
    }
   ],
   "source": [
    "vs_url = 'https://www.stoxx.com/document/'\n",
    "vs_url += 'Indices/Current/HistoricalData/h_vstoxx.txt'\n",
    "vs = pd.read_csv(vs_url,  # filename\n",
    "                 index_col=0,  # index column (dates)\n",
    "                 parse_dates=True,  # parse date information\n",
    "                 dayfirst=True, # day before month\n",
    "                 header=2)  # header/column names\n",
    "vs.to_csv(path + 'vs.csv')  # write as CSV file\n",
    "# vs = vs[vs.index <= '2015-12-31']\n",
    "vs.info()"
   ]
  },
  {
   "cell_type": "code",
   "execution_count": 23,
   "metadata": {
    "collapsed": false
   },
   "outputs": [
    {
     "data": {
      "text/html": [
       "<div>\n",
       "<table border=\"1\" class=\"dataframe\">\n",
       "  <thead>\n",
       "    <tr style=\"text-align: right;\">\n",
       "      <th></th>\n",
       "      <th>CALC</th>\n",
       "      <th>REAL</th>\n",
       "      <th>DIFF</th>\n",
       "    </tr>\n",
       "  </thead>\n",
       "  <tbody>\n",
       "    <tr>\n",
       "      <th>2015-11-27</th>\n",
       "      <td>22.360188</td>\n",
       "      <td>22.3778</td>\n",
       "      <td>-0.017612</td>\n",
       "    </tr>\n",
       "    <tr>\n",
       "      <th>2015-11-30</th>\n",
       "      <td>22.740036</td>\n",
       "      <td>22.7497</td>\n",
       "      <td>-0.009664</td>\n",
       "    </tr>\n",
       "    <tr>\n",
       "      <th>2015-12-01</th>\n",
       "      <td>22.675634</td>\n",
       "      <td>22.7239</td>\n",
       "      <td>-0.048266</td>\n",
       "    </tr>\n",
       "    <tr>\n",
       "      <th>2015-12-02</th>\n",
       "      <td>22.070847</td>\n",
       "      <td>22.0465</td>\n",
       "      <td>0.024347</td>\n",
       "    </tr>\n",
       "    <tr>\n",
       "      <th>2015-12-03</th>\n",
       "      <td>22.050495</td>\n",
       "      <td>22.0724</td>\n",
       "      <td>-0.021905</td>\n",
       "    </tr>\n",
       "    <tr>\n",
       "      <th>2015-12-04</th>\n",
       "      <td>22.280183</td>\n",
       "      <td>22.3454</td>\n",
       "      <td>-0.065217</td>\n",
       "    </tr>\n",
       "    <tr>\n",
       "      <th>2015-12-07</th>\n",
       "      <td>21.809108</td>\n",
       "      <td>21.8242</td>\n",
       "      <td>-0.015092</td>\n",
       "    </tr>\n",
       "    <tr>\n",
       "      <th>2015-12-08</th>\n",
       "      <td>23.306916</td>\n",
       "      <td>23.2577</td>\n",
       "      <td>0.049216</td>\n",
       "    </tr>\n",
       "    <tr>\n",
       "      <th>2015-12-09</th>\n",
       "      <td>24.015911</td>\n",
       "      <td>23.9786</td>\n",
       "      <td>0.037311</td>\n",
       "    </tr>\n",
       "    <tr>\n",
       "      <th>2015-12-10</th>\n",
       "      <td>24.363648</td>\n",
       "      <td>24.3061</td>\n",
       "      <td>0.057548</td>\n",
       "    </tr>\n",
       "    <tr>\n",
       "      <th>2015-12-11</th>\n",
       "      <td>26.307574</td>\n",
       "      <td>26.3378</td>\n",
       "      <td>-0.030226</td>\n",
       "    </tr>\n",
       "    <tr>\n",
       "      <th>2015-12-14</th>\n",
       "      <td>30.253168</td>\n",
       "      <td>30.2815</td>\n",
       "      <td>-0.028332</td>\n",
       "    </tr>\n",
       "    <tr>\n",
       "      <th>2015-12-15</th>\n",
       "      <td>27.372170</td>\n",
       "      <td>27.4133</td>\n",
       "      <td>-0.041130</td>\n",
       "    </tr>\n",
       "    <tr>\n",
       "      <th>2015-12-16</th>\n",
       "      <td>25.510208</td>\n",
       "      <td>25.4394</td>\n",
       "      <td>0.070808</td>\n",
       "    </tr>\n",
       "    <tr>\n",
       "      <th>2015-12-17</th>\n",
       "      <td>22.524591</td>\n",
       "      <td>22.5024</td>\n",
       "      <td>0.022191</td>\n",
       "    </tr>\n",
       "    <tr>\n",
       "      <th>2015-12-18</th>\n",
       "      <td>23.757165</td>\n",
       "      <td>23.7604</td>\n",
       "      <td>-0.003235</td>\n",
       "    </tr>\n",
       "    <tr>\n",
       "      <th>2015-12-21</th>\n",
       "      <td>24.665801</td>\n",
       "      <td>24.6237</td>\n",
       "      <td>0.042101</td>\n",
       "    </tr>\n",
       "    <tr>\n",
       "      <th>2015-12-22</th>\n",
       "      <td>23.629867</td>\n",
       "      <td>23.6439</td>\n",
       "      <td>-0.014033</td>\n",
       "    </tr>\n",
       "    <tr>\n",
       "      <th>2015-12-23</th>\n",
       "      <td>21.488879</td>\n",
       "      <td>21.4523</td>\n",
       "      <td>0.036579</td>\n",
       "    </tr>\n",
       "  </tbody>\n",
       "</table>\n",
       "</div>"
      ],
      "text/plain": [
       "                 CALC     REAL      DIFF\n",
       "2015-11-27  22.360188  22.3778 -0.017612\n",
       "2015-11-30  22.740036  22.7497 -0.009664\n",
       "2015-12-01  22.675634  22.7239 -0.048266\n",
       "2015-12-02  22.070847  22.0465  0.024347\n",
       "2015-12-03  22.050495  22.0724 -0.021905\n",
       "2015-12-04  22.280183  22.3454 -0.065217\n",
       "2015-12-07  21.809108  21.8242 -0.015092\n",
       "2015-12-08  23.306916  23.2577  0.049216\n",
       "2015-12-09  24.015911  23.9786  0.037311\n",
       "2015-12-10  24.363648  24.3061  0.057548\n",
       "2015-12-11  26.307574  26.3378 -0.030226\n",
       "2015-12-14  30.253168  30.2815 -0.028332\n",
       "2015-12-15  27.372170  27.4133 -0.041130\n",
       "2015-12-16  25.510208  25.4394  0.070808\n",
       "2015-12-17  22.524591  22.5024  0.022191\n",
       "2015-12-18  23.757165  23.7604 -0.003235\n",
       "2015-12-21  24.665801  24.6237  0.042101\n",
       "2015-12-22  23.629867  23.6439 -0.014033\n",
       "2015-12-23  21.488879  21.4523  0.036579"
      ]
     },
     "execution_count": 23,
     "metadata": {},
     "output_type": "execute_result"
    }
   ],
   "source": [
    "comp = pd.concat((si['V6I2'], vs['V6I2']),\n",
    "          axis=1, join='inner')\n",
    "comp.index = comp.index.normalize()\n",
    "comp.columns = ['CALC', 'REAL']\n",
    "comp['DIFF'] = comp['CALC'] - comp['REAL']\n",
    "comp"
   ]
  },
  {
   "cell_type": "code",
   "execution_count": 24,
   "metadata": {
    "collapsed": false
   },
   "outputs": [
    {
     "data": {
      "image/png": "[encoded data removed]",
      "text/plain": [
       "<matplotlib.figure.Figure at 0x11a66b2d0>"
      ]
     },
     "metadata": {},
     "output_type": "display_data"
    }
   ],
   "source": [
    "import seaborn as sns; sns.set()\n",
    "import matplotlib\n",
    "matplotlib.rcParams['font.family'] = 'serif'  # set serif font\n",
    "%matplotlib inline\n",
    "comp[['CALC', 'REAL']].plot(style=['ro', 'b'], figsize=(10, 6));"
   ]
  },
  {
   "cell_type": "code",
   "execution_count": 25,
   "metadata": {
    "collapsed": false
   },
   "outputs": [
    {
     "data": {
      "image/png": "[encoded data removed]",
      "text/plain": [
       "<matplotlib.figure.Figure at 0x11cbc0b90>"
      ]
     },
     "metadata": {},
     "output_type": "display_data"
    }
   ],
   "source": [
    "import matplotlib.pyplot as plt\n",
    "plt.figure(figsize=(10, 6));\n",
    "plt.bar(comp.index, comp['DIFF']);\n",
    "plt.gcf().autofmt_xdate();"
   ]
  },
  {
   "cell_type": "markdown",
   "metadata": {},
   "source": [
    "## Calculating the VSTOXX Index"
   ]
  },
  {
   "cell_type": "code",
   "execution_count": 26,
   "metadata": {
    "collapsed": false
   },
   "outputs": [
    {
     "name": "stdout",
     "output_type": "stream",
     "text": [
      "CPU times: user 839 ms, sys: 10.7 ms, total: 850 ms\n",
      "Wall time: 854 ms\n"
     ]
    }
   ],
   "source": [
    "import index_vstoxx_calculation as ivc\n",
    "%time data = ivc.calculate_vstoxx(path)"
   ]
  },
  {
   "cell_type": "code",
   "execution_count": 27,
   "metadata": {
    "collapsed": false
   },
   "outputs": [
    {
     "name": "stdout",
     "output_type": "stream",
     "text": [
      "<class 'pandas.core.frame.DataFrame'>\n",
      "DatetimeIndex: 4357 entries, 1999-01-04 to 2016-02-12\n",
      "Data columns (total 20 columns):\n",
      "V2TX                 4357 non-null float64\n",
      "V6I1                 3906 non-null float64\n",
      "V6I2                 4357 non-null float64\n",
      "V6I3                 4296 non-null float64\n",
      "V6I4                 4357 non-null float64\n",
      "V6I5                 4357 non-null float64\n",
      "V6I6                 4340 non-null float64\n",
      "V6I7                 4357 non-null float64\n",
      "V6I8                 4343 non-null float64\n",
      "Settlement date 1    4357 non-null datetime64[ns]\n",
      "Settlement date 2    4357 non-null datetime64[ns]\n",
      "Life time 1          4357 non-null int64\n",
      "Life time 2          4357 non-null int64\n",
      "Use V6I2             4357 non-null bool\n",
      "Subindex to use 1    4357 non-null float64\n",
      "Subindex to use 2    4357 non-null float64\n",
      "Part 1               4357 non-null float64\n",
      "Part 2               4357 non-null float64\n",
      "VSTOXX               4357 non-null float64\n",
      "Difference           4357 non-null float64\n",
      "dtypes: bool(1), datetime64[ns](2), float64(15), int64(2)\n",
      "memory usage: 685.0 KB\n"
     ]
    }
   ],
   "source": [
    "data.info()"
   ]
  },
  {
   "cell_type": "code",
   "execution_count": 28,
   "metadata": {
    "collapsed": false
   },
   "outputs": [
    {
     "data": {
      "text/plain": [
       "0.0012799470095575995"
      ]
     },
     "execution_count": 28,
     "metadata": {},
     "output_type": "execute_result"
    }
   ],
   "source": [
    "## output: average error of re-calculation\n",
    "data['Difference'].mean()"
   ]
  },
  {
   "cell_type": "code",
   "execution_count": 29,
   "metadata": {
    "collapsed": false
   },
   "outputs": [
    {
     "data": {
      "image/png": "[encoded data removed]",
      "text/plain": [
       "<matplotlib.figure.Figure at 0x11cb5f050>"
      ]
     },
     "metadata": {},
     "output_type": "display_data"
    }
   ],
   "source": [
    "## original vs. re-calculated VSTOXX index\n",
    "data[['V2TX', 'VSTOXX']].plot(subplots=True, figsize=(10, 6),\n",
    "                              style=\"blue\", grid=True);"
   ]
  },
  {
   "cell_type": "code",
   "execution_count": 30,
   "metadata": {
    "collapsed": false
   },
   "outputs": [
    {
     "data": {
      "image/png": "[encoded data removed]",
      "text/plain": [
       "<matplotlib.figure.Figure at 0x11d8f4210>"
      ]
     },
     "metadata": {},
     "output_type": "display_data"
    }
   ],
   "source": [
    "## differences between single values\n",
    "data['Difference'].plot(figsize=(10, 6), style=\"r\", grid=True,\n",
    "                        ylim=(-1, 1));"
   ]
  },
  {
   "cell_type": "markdown",
   "metadata": {},
   "source": [
    "## Conclusions"
   ]
  },
  {
   "cell_type": "markdown",
   "metadata": {},
   "source": [
    "## Python Scripts"
   ]
  },
  {
   "cell_type": "markdown",
   "metadata": {},
   "source": [
    "### index_collect_option_data.py"
   ]
  },
  {
   "cell_type": "markdown",
   "metadata": {},
   "source": [
    "### index_subindex_calculation.py"
   ]
  },
  {
   "cell_type": "markdown",
   "metadata": {},
   "source": [
    "### index_vstoxx_calculation.py"
   ]
  },
  {
   "cell_type": "markdown",
   "metadata": {},
   "source": [
    "<img src=\"http://hilpisch.com/tpq_logo.png\" alt=\"The Python Quants\" width=\"35%\" align=\"right\" border=\"0\"><br>\n",
    "\n",
    "<a href=\"http://tpq.io\" target=\"_blank\">http://tpq.io</a> | <a href=\"http://twitter.com/dyjh\" target=\"_blank\">@dyjh</a> | <a href=\"mailto:team@tpq.io\">team@tpq.io</a>\n",
    "\n",
    "**DX Analytics** |\n",
    "<a href=\"http://dx-analytics.com\">http://dx-analytics.com</a>\n",
    "\n",
    "**Quant Platform** |\n",
    "<a href=\"http://quant-platform.com\">http://quant-platform.com</a>\n",
    "\n",
    "**Python for Finance Books** |\n",
    "<a href=\"http://books.tpq.io\" target=\"_blank\">http://books.tpq.io</a>\n",
    "\n",
    "**Python for Finance Training** |\n",
    "<a href=\"http://training.tpq.io\" target=\"_blank\">http://training.tpq.io</a>"
   ]
  }
 ],
 "metadata": {
  "kernelspec": {
   "display_name": "Python [Root]",
   "language": "python",
   "name": "Python [Root]"
  },
  "language_info": {
   "codemirror_mode": {
    "name": "ipython",
    "version": 2
   },
   "file_extension": ".py",
   "mimetype": "text/x-python",
   "name": "python",
   "nbconvert_exporter": "python",
   "pygments_lexer": "ipython2",
   "version": "2.7.12"
  }
 },
 "nbformat": 4,
 "nbformat_minor": 0
}
