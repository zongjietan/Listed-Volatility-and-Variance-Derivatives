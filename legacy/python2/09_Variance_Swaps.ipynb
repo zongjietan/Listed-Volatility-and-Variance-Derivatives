{
 "cells": [
  {
   "cell_type": "markdown",
   "metadata": {},
   "source": [
    "<img src=\"http://hilpisch.com/tpq_logo.png\" alt=\"The Python Quants\" width=\"35%\" align=\"right\" border=\"0\"><br><br><br>"
   ]
  },
  {
   "cell_type": "markdown",
   "metadata": {},
   "source": [
    "# Listed Volatility and Variance Derivatives\n",
    "\n",
    "**Dr. Yves J. Hilpisch &mdash; Wiley Finance (2016)**\n",
    "\n",
    "<img src=\"http://hilpisch.com/images/lvvd_cover.png\" alt=\"Derivatives Analytics with Python\" width=\"30%\" align=\"left\" border=\"0\">"
   ]
  },
  {
   "cell_type": "markdown",
   "metadata": {},
   "source": [
    "# Realized Variance and Variance Swaps"
   ]
  },
  {
   "cell_type": "markdown",
   "metadata": {},
   "source": [
    "## Introdution"
   ]
  },
  {
   "cell_type": "markdown",
   "metadata": {},
   "source": [
    "## Realized Variance"
   ]
  },
  {
   "cell_type": "code",
   "execution_count": 1,
   "metadata": {
    "collapsed": false
   },
   "outputs": [],
   "source": [
    "import math\n",
    "import numpy as np\n",
    "import pandas as pd"
   ]
  },
  {
   "cell_type": "raw",
   "metadata": {
    "collapsed": false
   },
   "source": [
    "@suppress\n",
    "import warnings; warnings.simplefilter('ignore')"
   ]
  },
  {
   "cell_type": "code",
   "execution_count": 2,
   "metadata": {
    "collapsed": false
   },
   "outputs": [],
   "source": [
    "## text/csv file containing daily closing levels of EURO STOXX 50 index\n",
    "path = 'https://www.stoxx.com/document/Indices/Current/HistoricalData/'\n",
    "es_url = path + 'hbrbcpe.txt'"
   ]
  },
  {
   "cell_type": "code",
   "execution_count": 3,
   "metadata": {
    "collapsed": false
   },
   "outputs": [],
   "source": [
    "## column names for the data set\n",
    "cols = ['Date', 'SX5P', 'SX5E', 'SXXP', 'SXXE',\n",
    "        'SXXF', 'SXXA', 'DK5F', 'DKXF', 'DEL']\n",
    "try: # reading the data with pandas\n",
    "    es = pd.read_csv(es_url,  # filename\n",
    "                     header=None,  # ignore column names\n",
    "                     index_col=0,  # index column (dates)\n",
    "                     parse_dates=True,  # parse these dates\n",
    "                     dayfirst=True,  # format of dates\n",
    "                     skiprows=4,  # ignore these rows\n",
    "                     sep=';',  # data separator\n",
    "                     names=cols)  # use these column names\n",
    "    del es['DEL']\n",
    "except: # read stored data if there is no Internet connection\n",
    "    es = pd.HDFStore('./source/data/SX5E.h5', 'r')['SX5E']\n",
    "es = es[es.index < '2015-12-31']"
   ]
  },
  {
   "cell_type": "code",
   "execution_count": 4,
   "metadata": {
    "collapsed": false
   },
   "outputs": [
    {
     "data": {
      "text/html": [
       "<div>\n",
       "<table border=\"1\" class=\"dataframe\">\n",
       "  <thead>\n",
       "    <tr style=\"text-align: right;\">\n",
       "      <th></th>\n",
       "      <th>SX5P</th>\n",
       "      <th>SX5E</th>\n",
       "      <th>SXXP</th>\n",
       "      <th>SXXE</th>\n",
       "      <th>SXXF</th>\n",
       "      <th>SXXA</th>\n",
       "      <th>DK5F</th>\n",
       "      <th>DKXF</th>\n",
       "    </tr>\n",
       "    <tr>\n",
       "      <th>Date</th>\n",
       "      <th></th>\n",
       "      <th></th>\n",
       "      <th></th>\n",
       "      <th></th>\n",
       "      <th></th>\n",
       "      <th></th>\n",
       "      <th></th>\n",
       "      <th></th>\n",
       "    </tr>\n",
       "  </thead>\n",
       "  <tbody>\n",
       "    <tr>\n",
       "      <th>2015-12-23</th>\n",
       "      <td>3109.23</td>\n",
       "      <td>3286.68</td>\n",
       "      <td>366.39</td>\n",
       "      <td>346.14</td>\n",
       "      <td>433.58</td>\n",
       "      <td>375.53</td>\n",
       "      <td>9927.33</td>\n",
       "      <td>614.12</td>\n",
       "    </tr>\n",
       "    <tr>\n",
       "      <th>2015-12-24</th>\n",
       "      <td>3108.11</td>\n",
       "      <td>3284.47</td>\n",
       "      <td>366.28</td>\n",
       "      <td>346.05</td>\n",
       "      <td>433.43</td>\n",
       "      <td>375.39</td>\n",
       "      <td>9931.72</td>\n",
       "      <td>614.38</td>\n",
       "    </tr>\n",
       "    <tr>\n",
       "      <th>2015-12-28</th>\n",
       "      <td>3093.61</td>\n",
       "      <td>3256.49</td>\n",
       "      <td>364.49</td>\n",
       "      <td>343.54</td>\n",
       "      <td>431.26</td>\n",
       "      <td>374.32</td>\n",
       "      <td>9873.94</td>\n",
       "      <td>611.58</td>\n",
       "    </tr>\n",
       "    <tr>\n",
       "      <th>2015-12-29</th>\n",
       "      <td>3139.28</td>\n",
       "      <td>3314.28</td>\n",
       "      <td>369.68</td>\n",
       "      <td>349.29</td>\n",
       "      <td>438.43</td>\n",
       "      <td>378.86</td>\n",
       "      <td>10023.66</td>\n",
       "      <td>620.66</td>\n",
       "    </tr>\n",
       "    <tr>\n",
       "      <th>2015-12-30</th>\n",
       "      <td>3118.07</td>\n",
       "      <td>3287.98</td>\n",
       "      <td>367.70</td>\n",
       "      <td>347.02</td>\n",
       "      <td>435.82</td>\n",
       "      <td>377.20</td>\n",
       "      <td>9956.22</td>\n",
       "      <td>617.48</td>\n",
       "    </tr>\n",
       "  </tbody>\n",
       "</table>\n",
       "</div>"
      ],
      "text/plain": [
       "               SX5P     SX5E    SXXP    SXXE    SXXF    SXXA      DK5F    DKXF\n",
       "Date                                                                          \n",
       "2015-12-23  3109.23  3286.68  366.39  346.14  433.58  375.53   9927.33  614.12\n",
       "2015-12-24  3108.11  3284.47  366.28  346.05  433.43  375.39   9931.72  614.38\n",
       "2015-12-28  3093.61  3256.49  364.49  343.54  431.26  374.32   9873.94  611.58\n",
       "2015-12-29  3139.28  3314.28  369.68  349.29  438.43  378.86  10023.66  620.66\n",
       "2015-12-30  3118.07  3287.98  367.70  347.02  435.82  377.20   9956.22  617.48"
      ]
     },
     "execution_count": 4,
     "metadata": {},
     "output_type": "execute_result"
    }
   ],
   "source": [
    "es.tail()"
   ]
  },
  {
   "cell_type": "code",
   "execution_count": 5,
   "metadata": {
    "collapsed": true
   },
   "outputs": [],
   "source": [
    "import seaborn as sns; sns.set()\n",
    "import matplotlib\n",
    "matplotlib.rcParams['font.family'] = 'serif'\n",
    "%matplotlib inline"
   ]
  },
  {
   "cell_type": "code",
   "execution_count": 6,
   "metadata": {
    "collapsed": false
   },
   "outputs": [
    {
     "data": {
      "image/png": "[encoded data removed]",
      "text/plain": [
       "<matplotlib.figure.Figure at 0x119ca6c50>"
      ]
     },
     "metadata": {},
     "output_type": "display_data"
    }
   ],
   "source": [
    "data = pd.DataFrame({'SX5E': es['SX5E']})\n",
    "data.plot(figsize=(10, 6));"
   ]
  },
  {
   "cell_type": "code",
   "execution_count": 7,
   "metadata": {
    "collapsed": false
   },
   "outputs": [],
   "source": [
    "data['R_n'] = np.log(data['SX5E'] / data['SX5E'].shift(1))"
   ]
  },
  {
   "cell_type": "code",
   "execution_count": 8,
   "metadata": {
    "collapsed": false
   },
   "outputs": [
    {
     "data": {
      "text/html": [
       "<div>\n",
       "<table border=\"1\" class=\"dataframe\">\n",
       "  <thead>\n",
       "    <tr style=\"text-align: right;\">\n",
       "      <th></th>\n",
       "      <th>SX5E</th>\n",
       "      <th>R_n</th>\n",
       "    </tr>\n",
       "    <tr>\n",
       "      <th>Date</th>\n",
       "      <th></th>\n",
       "      <th></th>\n",
       "    </tr>\n",
       "  </thead>\n",
       "  <tbody>\n",
       "    <tr>\n",
       "      <th>2015-12-23</th>\n",
       "      <td>3286.68</td>\n",
       "      <td>0.022262</td>\n",
       "    </tr>\n",
       "    <tr>\n",
       "      <th>2015-12-24</th>\n",
       "      <td>3284.47</td>\n",
       "      <td>-0.000673</td>\n",
       "    </tr>\n",
       "    <tr>\n",
       "      <th>2015-12-28</th>\n",
       "      <td>3256.49</td>\n",
       "      <td>-0.008555</td>\n",
       "    </tr>\n",
       "    <tr>\n",
       "      <th>2015-12-29</th>\n",
       "      <td>3314.28</td>\n",
       "      <td>0.017590</td>\n",
       "    </tr>\n",
       "    <tr>\n",
       "      <th>2015-12-30</th>\n",
       "      <td>3287.98</td>\n",
       "      <td>-0.007967</td>\n",
       "    </tr>\n",
       "  </tbody>\n",
       "</table>\n",
       "</div>"
      ],
      "text/plain": [
       "               SX5E       R_n\n",
       "Date                         \n",
       "2015-12-23  3286.68  0.022262\n",
       "2015-12-24  3284.47 -0.000673\n",
       "2015-12-28  3256.49 -0.008555\n",
       "2015-12-29  3314.28  0.017590\n",
       "2015-12-30  3287.98 -0.007967"
      ]
     },
     "execution_count": 8,
     "metadata": {},
     "output_type": "execute_result"
    }
   ],
   "source": [
    "data.tail()"
   ]
  },
  {
   "cell_type": "code",
   "execution_count": 9,
   "metadata": {
    "collapsed": false
   },
   "outputs": [],
   "source": [
    "## np.cumsum calculates the element-wise cumulative sum of an array/time series\n",
    "## np.arange(N) gives an array of the form [0, 1, ..., N-1]\n",
    "data['sigma**2'] = 10000 * 252 * (np.cumsum(data['R_n'] ** 2) \n",
    "                                  / np.arange(len(data)))"
   ]
  },
  {
   "cell_type": "code",
   "execution_count": 10,
   "metadata": {
    "collapsed": false
   },
   "outputs": [
    {
     "data": {
      "text/html": [
       "<div>\n",
       "<table border=\"1\" class=\"dataframe\">\n",
       "  <thead>\n",
       "    <tr style=\"text-align: right;\">\n",
       "      <th></th>\n",
       "      <th>SX5E</th>\n",
       "      <th>R_n</th>\n",
       "      <th>sigma**2</th>\n",
       "    </tr>\n",
       "    <tr>\n",
       "      <th>Date</th>\n",
       "      <th></th>\n",
       "      <th></th>\n",
       "      <th></th>\n",
       "    </tr>\n",
       "  </thead>\n",
       "  <tbody>\n",
       "    <tr>\n",
       "      <th>2015-12-23</th>\n",
       "      <td>3286.68</td>\n",
       "      <td>0.022262</td>\n",
       "      <td>446.280005</td>\n",
       "    </tr>\n",
       "    <tr>\n",
       "      <th>2015-12-24</th>\n",
       "      <td>3284.47</td>\n",
       "      <td>-0.000673</td>\n",
       "      <td>446.220423</td>\n",
       "    </tr>\n",
       "    <tr>\n",
       "      <th>2015-12-28</th>\n",
       "      <td>3256.49</td>\n",
       "      <td>-0.008555</td>\n",
       "      <td>446.185389</td>\n",
       "    </tr>\n",
       "    <tr>\n",
       "      <th>2015-12-29</th>\n",
       "      <td>3314.28</td>\n",
       "      <td>0.017590</td>\n",
       "      <td>446.230025</td>\n",
       "    </tr>\n",
       "    <tr>\n",
       "      <th>2015-12-30</th>\n",
       "      <td>3287.98</td>\n",
       "      <td>-0.007967</td>\n",
       "      <td>446.191722</td>\n",
       "    </tr>\n",
       "  </tbody>\n",
       "</table>\n",
       "</div>"
      ],
      "text/plain": [
       "               SX5E       R_n    sigma**2\n",
       "Date                                     \n",
       "2015-12-23  3286.68  0.022262  446.280005\n",
       "2015-12-24  3284.47 -0.000673  446.220423\n",
       "2015-12-28  3256.49 -0.008555  446.185389\n",
       "2015-12-29  3314.28  0.017590  446.230025\n",
       "2015-12-30  3287.98 -0.007967  446.191722"
      ]
     },
     "execution_count": 10,
     "metadata": {},
     "output_type": "execute_result"
    }
   ],
   "source": [
    "data.tail()"
   ]
  },
  {
   "cell_type": "code",
   "execution_count": 11,
   "metadata": {
    "collapsed": false
   },
   "outputs": [
    {
     "data": {
      "image/png": "[encoded data removed]",
      "text/plain": [
       "<matplotlib.figure.Figure at 0x113f90fd0>"
      ]
     },
     "metadata": {},
     "output_type": "display_data"
    }
   ],
   "source": [
    "# @savefig es_s2_paths_lt.pdf\n",
    "data[['SX5E', 'sigma**2']].plot(subplots=True,\n",
    "                                 figsize=(10, 8),\n",
    "                                 color='blue',\n",
    "                                 grid=True);"
   ]
  },
  {
   "cell_type": "code",
   "execution_count": 12,
   "metadata": {
    "collapsed": false
   },
   "outputs": [],
   "source": [
    "## select time series data with date later/earlier than given dates\n",
    "short = data[['SX5E', 'R_n']][(data.index > '2015-7-1')\n",
    "                             & (data.index <= '2015-12-31')]\n",
    "\n",
    "## calculate the realized variance in percent values\n",
    "short['sigma**2'] = 10000 * 252 * (np.cumsum(short['R_n'] ** 2)\n",
    "                                   / np.arange(len(short)))\n"
   ]
  },
  {
   "cell_type": "code",
   "execution_count": 13,
   "metadata": {
    "collapsed": false
   },
   "outputs": [
    {
     "data": {
      "text/html": [
       "<div>\n",
       "<table border=\"1\" class=\"dataframe\">\n",
       "  <thead>\n",
       "    <tr style=\"text-align: right;\">\n",
       "      <th></th>\n",
       "      <th>SX5E</th>\n",
       "      <th>R_n</th>\n",
       "      <th>sigma**2</th>\n",
       "    </tr>\n",
       "    <tr>\n",
       "      <th>Date</th>\n",
       "      <th></th>\n",
       "      <th></th>\n",
       "      <th></th>\n",
       "    </tr>\n",
       "  </thead>\n",
       "  <tbody>\n",
       "    <tr>\n",
       "      <th>2015-07-02</th>\n",
       "      <td>3463.25</td>\n",
       "      <td>-0.009492</td>\n",
       "      <td>inf</td>\n",
       "    </tr>\n",
       "    <tr>\n",
       "      <th>2015-07-03</th>\n",
       "      <td>3441.76</td>\n",
       "      <td>-0.006224</td>\n",
       "      <td>324.686954</td>\n",
       "    </tr>\n",
       "    <tr>\n",
       "      <th>2015-07-06</th>\n",
       "      <td>3365.20</td>\n",
       "      <td>-0.022496</td>\n",
       "      <td>799.967421</td>\n",
       "    </tr>\n",
       "    <tr>\n",
       "      <th>2015-07-07</th>\n",
       "      <td>3294.19</td>\n",
       "      <td>-0.021327</td>\n",
       "      <td>915.381074</td>\n",
       "    </tr>\n",
       "    <tr>\n",
       "      <th>2015-07-08</th>\n",
       "      <td>3327.50</td>\n",
       "      <td>0.010061</td>\n",
       "      <td>750.306250</td>\n",
       "    </tr>\n",
       "  </tbody>\n",
       "</table>\n",
       "</div>"
      ],
      "text/plain": [
       "               SX5E       R_n    sigma**2\n",
       "Date                                     \n",
       "2015-07-02  3463.25 -0.009492         inf\n",
       "2015-07-03  3441.76 -0.006224  324.686954\n",
       "2015-07-06  3365.20 -0.022496  799.967421\n",
       "2015-07-07  3294.19 -0.021327  915.381074\n",
       "2015-07-08  3327.50  0.010061  750.306250"
      ]
     },
     "execution_count": 13,
     "metadata": {},
     "output_type": "execute_result"
    }
   ],
   "source": [
    "short.head()"
   ]
  },
  {
   "cell_type": "code",
   "execution_count": 14,
   "metadata": {
    "collapsed": false
   },
   "outputs": [
    {
     "data": {
      "image/png": "[encoded data removed]",
      "text/plain": [
       "<matplotlib.figure.Figure at 0x11c1db410>"
      ]
     },
     "metadata": {},
     "output_type": "display_data"
    }
   ],
   "source": [
    "short[['SX5E', 'sigma**2']].plot(subplots=True,\n",
    "                                 figsize=(10, 8),\n",
    "                                 color='blue',\n",
    "                                 grid=True);"
   ]
  },
  {
   "cell_type": "markdown",
   "metadata": {},
   "source": [
    "## Variance Swaps"
   ]
  },
  {
   "cell_type": "markdown",
   "metadata": {},
   "source": [
    "### Definition of a Variance Swap"
   ]
  },
  {
   "cell_type": "markdown",
   "metadata": {},
   "source": [
    "### Numerical Example"
   ]
  },
  {
   "cell_type": "code",
   "execution_count": 15,
   "metadata": {
    "collapsed": false
   },
   "outputs": [],
   "source": [
    "import sys\n",
    "sys.path.append('scripts/')\n",
    "from variance_swaps import generate_path "
   ]
  },
  {
   "cell_type": "code",
   "execution_count": 16,
   "metadata": {
    "collapsed": true
   },
   "outputs": [],
   "source": [
    "S0 = 100  # initial index level\n",
    "r = 0.005  # risk-less short rate\n",
    "sigma = 0.2  # instantaneous volatility\n",
    "T = 1.0 # maturity date\n",
    "M = 50  # number of time intervals"
   ]
  },
  {
   "cell_type": "code",
   "execution_count": 17,
   "metadata": {
    "collapsed": false
   },
   "outputs": [
    {
     "data": {
      "image/png": "[encoded data removed]",
      "text/plain": [
       "<matplotlib.figure.Figure at 0x11c1dbe90>"
      ]
     },
     "metadata": {},
     "output_type": "display_data"
    }
   ],
   "source": [
    "data = generate_path(S0, r, sigma, T, M)\n",
    "data.plot(figsize=(10, 5));"
   ]
  },
  {
   "cell_type": "code",
   "execution_count": 18,
   "metadata": {
    "collapsed": false
   },
   "outputs": [
    {
     "data": {
      "text/html": [
       "<div>\n",
       "<table border=\"1\" class=\"dataframe\">\n",
       "  <thead>\n",
       "    <tr style=\"text-align: right;\">\n",
       "      <th></th>\n",
       "      <th>index</th>\n",
       "      <th>R_t</th>\n",
       "      <th>sigma**2</th>\n",
       "    </tr>\n",
       "  </thead>\n",
       "  <tbody>\n",
       "    <tr>\n",
       "      <th>46</th>\n",
       "      <td>86.914274</td>\n",
       "      <td>-0.020492</td>\n",
       "      <td>462.916655</td>\n",
       "    </tr>\n",
       "    <tr>\n",
       "      <th>47</th>\n",
       "      <td>86.263467</td>\n",
       "      <td>-0.007516</td>\n",
       "      <td>453.668339</td>\n",
       "    </tr>\n",
       "    <tr>\n",
       "      <th>48</th>\n",
       "      <td>87.101314</td>\n",
       "      <td>0.009666</td>\n",
       "      <td>445.190118</td>\n",
       "    </tr>\n",
       "    <tr>\n",
       "      <th>49</th>\n",
       "      <td>87.020414</td>\n",
       "      <td>-0.000929</td>\n",
       "      <td>436.113416</td>\n",
       "    </tr>\n",
       "    <tr>\n",
       "      <th>50</th>\n",
       "      <td>83.157399</td>\n",
       "      <td>-0.045408</td>\n",
       "      <td>448.009603</td>\n",
       "    </tr>\n",
       "  </tbody>\n",
       "</table>\n",
       "</div>"
      ],
      "text/plain": [
       "        index       R_t    sigma**2\n",
       "46  86.914274 -0.020492  462.916655\n",
       "47  86.263467 -0.007516  453.668339\n",
       "48  87.101314  0.009666  445.190118\n",
       "49  87.020414 -0.000929  436.113416\n",
       "50  83.157399 -0.045408  448.009603"
      ]
     },
     "execution_count": 18,
     "metadata": {},
     "output_type": "execute_result"
    }
   ],
   "source": [
    "data['R_t'] = np.log(data['index'] / data['index'].shift(1))\n",
    "## scaling now by M / T since returns are not necessarily daily returns\n",
    "data['sigma**2'] = 10000 * M / T * (np.cumsum(data['R_t'] ** 2)\n",
    "                                    / np.arange(len(data)))\n",
    "data.tail()"
   ]
  },
  {
   "cell_type": "code",
   "execution_count": 19,
   "metadata": {
    "collapsed": false
   },
   "outputs": [
    {
     "data": {
      "image/png": "[encoded data removed]",
      "text/plain": [
       "<matplotlib.figure.Figure at 0x11ccc10d0>"
      ]
     },
     "metadata": {},
     "output_type": "display_data"
    }
   ],
   "source": [
    "data[['index', 'sigma**2']].plot(subplots=True,\n",
    "                                 figsize=(10, 8),\n",
    "                                 color='blue',\n",
    "                                 grid=True);"
   ]
  },
  {
   "cell_type": "code",
   "execution_count": 20,
   "metadata": {
    "collapsed": false
   },
   "outputs": [
    {
     "data": {
      "text/plain": [
       "48.009603247833525"
      ]
     },
     "execution_count": 20,
     "metadata": {},
     "output_type": "execute_result"
    }
   ],
   "source": [
    "data['sigma**2'].iloc[-1] - 20 ** 2"
   ]
  },
  {
   "cell_type": "code",
   "execution_count": 21,
   "metadata": {
    "collapsed": false
   },
   "outputs": [
    {
     "data": {
      "text/plain": [
       "2500.0"
      ]
     },
     "execution_count": 21,
     "metadata": {},
     "output_type": "execute_result"
    }
   ],
   "source": [
    "Notional = 100000. / (2 * 20)\n",
    "Notional"
   ]
  },
  {
   "cell_type": "code",
   "execution_count": 22,
   "metadata": {
    "collapsed": false
   },
   "outputs": [
    {
     "data": {
      "text/plain": [
       "120024.00811958381"
      ]
     },
     "execution_count": 22,
     "metadata": {},
     "output_type": "execute_result"
    }
   ],
   "source": [
    "Notional * (data['sigma**2'].iloc[-1] - 20 ** 2)"
   ]
  },
  {
   "cell_type": "markdown",
   "metadata": {},
   "source": [
    "### Mark-to-Market"
   ]
  },
  {
   "cell_type": "code",
   "execution_count": 23,
   "metadata": {
    "collapsed": false
   },
   "outputs": [
    {
     "data": {
      "text/html": [
       "<div>\n",
       "<table border=\"1\" class=\"dataframe\">\n",
       "  <thead>\n",
       "    <tr style=\"text-align: right;\">\n",
       "      <th></th>\n",
       "      <th>index</th>\n",
       "      <th>R_t</th>\n",
       "      <th>sigma**2</th>\n",
       "      <th>V_t</th>\n",
       "    </tr>\n",
       "  </thead>\n",
       "  <tbody>\n",
       "    <tr>\n",
       "      <th>46</th>\n",
       "      <td>86.914274</td>\n",
       "      <td>-0.020492</td>\n",
       "      <td>462.916655</td>\n",
       "      <td>144650.434548</td>\n",
       "    </tr>\n",
       "    <tr>\n",
       "      <th>47</th>\n",
       "      <td>86.263467</td>\n",
       "      <td>-0.007516</td>\n",
       "      <td>453.668339</td>\n",
       "      <td>126082.766551</td>\n",
       "    </tr>\n",
       "    <tr>\n",
       "      <th>48</th>\n",
       "      <td>87.101314</td>\n",
       "      <td>0.009666</td>\n",
       "      <td>445.190118</td>\n",
       "      <td>108434.594165</td>\n",
       "    </tr>\n",
       "    <tr>\n",
       "      <th>49</th>\n",
       "      <td>87.020414</td>\n",
       "      <td>-0.000929</td>\n",
       "      <td>436.113416</td>\n",
       "      <td>88469.022898</td>\n",
       "    </tr>\n",
       "    <tr>\n",
       "      <th>50</th>\n",
       "      <td>83.157399</td>\n",
       "      <td>-0.045408</td>\n",
       "      <td>448.009603</td>\n",
       "      <td>120024.008120</td>\n",
       "    </tr>\n",
       "  </tbody>\n",
       "</table>\n",
       "</div>"
      ],
      "text/plain": [
       "        index       R_t    sigma**2            V_t\n",
       "46  86.914274 -0.020492  462.916655  144650.434548\n",
       "47  86.263467 -0.007516  453.668339  126082.766551\n",
       "48  87.101314  0.009666  445.190118  108434.594165\n",
       "49  87.020414 -0.000929  436.113416   88469.022898\n",
       "50  83.157399 -0.045408  448.009603  120024.008120"
      ]
     },
     "execution_count": 23,
     "metadata": {},
     "output_type": "execute_result"
    }
   ],
   "source": [
    "dt = T / M\n",
    "t = np.arange(M + 1) * dt\n",
    "t\n",
    "sigma_K = 20\n",
    "data['V_t'] = Notional * np.exp(-r * (T - t)) * ((t * data['sigma**2']\n",
    "                        + (T - t) * sigma_K ** 2) / T - sigma_K ** 2) \n",
    "data.tail()"
   ]
  },
  {
   "cell_type": "code",
   "execution_count": 24,
   "metadata": {
    "collapsed": false
   },
   "outputs": [
    {
     "data": {
      "image/png": "[encoded data removed]",
      "text/plain": [
       "<matplotlib.figure.Figure at 0x11ccc1ed0>"
      ]
     },
     "metadata": {},
     "output_type": "display_data"
    }
   ],
   "source": [
    "data[['index', 'sigma**2', 'V_t']].plot(subplots=True,\n",
    "                                 figsize=(10, 8),\n",
    "                                 color='blue',\n",
    "                                 grid=True);"
   ]
  },
  {
   "cell_type": "markdown",
   "metadata": {},
   "source": [
    "### Vega Sensitivity"
   ]
  },
  {
   "cell_type": "markdown",
   "metadata": {},
   "source": [
    "### Variance Swap on the EURO STOXX 50"
   ]
  },
  {
   "cell_type": "code",
   "execution_count": 25,
   "metadata": {
    "collapsed": false
   },
   "outputs": [
    {
     "name": "stdout",
     "output_type": "stream",
     "text": [
      "<class 'pandas.core.frame.DataFrame'>\n",
      "DatetimeIndex: 7475 entries, 1986-12-31 to 2015-12-30\n",
      "Data columns (total 8 columns):\n",
      "SX5P    7475 non-null float64\n",
      "SX5E    7475 non-null float64\n",
      "SXXP    7475 non-null float64\n",
      "SXXE    7475 non-null float64\n",
      "SXXF    7475 non-null float64\n",
      "SXXA    7475 non-null float64\n",
      "DK5F    7475 non-null float64\n",
      "DKXF    7475 non-null float64\n",
      "dtypes: float64(8)\n",
      "memory usage: 525.6 KB\n"
     ]
    }
   ],
   "source": [
    "es.info()"
   ]
  },
  {
   "cell_type": "code",
   "execution_count": 26,
   "metadata": {
    "collapsed": false
   },
   "outputs": [
    {
     "name": "stdout",
     "output_type": "stream",
     "text": [
      "<class 'pandas.core.frame.DataFrame'>\n",
      "DatetimeIndex: 4357 entries, 1999-01-04 to 2016-02-12\n",
      "Data columns (total 9 columns):\n",
      "V2TX    4357 non-null float64\n",
      "V6I1    3906 non-null float64\n",
      "V6I2    4357 non-null float64\n",
      "V6I3    4296 non-null float64\n",
      "V6I4    4357 non-null float64\n",
      "V6I5    4357 non-null float64\n",
      "V6I6    4340 non-null float64\n",
      "V6I7    4357 non-null float64\n",
      "V6I8    4343 non-null float64\n",
      "dtypes: float64(9)\n",
      "memory usage: 340.4 KB\n"
     ]
    }
   ],
   "source": [
    "vs_url = path + 'h_vstoxx.txt'\n",
    "try: # reading the data with pandas\n",
    "    vs = pd.read_csv(vs_url,  # filename\n",
    "                     index_col=0,  # index column (dates)\n",
    "                     parse_dates=True,  # parse date information\n",
    "                     dayfirst=True, # day before month\n",
    "                     header=2,  # header/column names\n",
    "                     sep=',')  # separator character\n",
    "except: # read stored data if there is no Internet connection\n",
    "    vs = pd.HDFStore('./source/data/V2TX.h5', 'r')\n",
    "vs.info()"
   ]
  },
  {
   "cell_type": "code",
   "execution_count": 27,
   "metadata": {
    "collapsed": false
   },
   "outputs": [],
   "source": [
    "## 15 trading days\n",
    "T = 15."
   ]
  },
  {
   "cell_type": "code",
   "execution_count": 28,
   "metadata": {
    "collapsed": false
   },
   "outputs": [],
   "source": [
    "data = pd.DataFrame(es['SX5E'][(es.index > '2015-5-31')\n",
    "                        & (es.index < '2015-6-20')])"
   ]
  },
  {
   "cell_type": "code",
   "execution_count": 29,
   "metadata": {
    "collapsed": false
   },
   "outputs": [],
   "source": [
    "data['V6I1'] = vs['V6I1'][(vs.index > '2015-5-31')\n",
    "                        & (vs.index < '2015-6-20')]"
   ]
  },
  {
   "cell_type": "code",
   "execution_count": 30,
   "metadata": {
    "collapsed": false
   },
   "outputs": [
    {
     "data": {
      "text/html": [
       "<div>\n",
       "<table border=\"1\" class=\"dataframe\">\n",
       "  <thead>\n",
       "    <tr style=\"text-align: right;\">\n",
       "      <th></th>\n",
       "      <th>SX5E</th>\n",
       "      <th>V6I1</th>\n",
       "    </tr>\n",
       "    <tr>\n",
       "      <th>Date</th>\n",
       "      <th></th>\n",
       "      <th></th>\n",
       "    </tr>\n",
       "  </thead>\n",
       "  <tbody>\n",
       "    <tr>\n",
       "      <th>2015-06-01</th>\n",
       "      <td>3575.04</td>\n",
       "      <td>25.8710</td>\n",
       "    </tr>\n",
       "    <tr>\n",
       "      <th>2015-06-02</th>\n",
       "      <td>3561.89</td>\n",
       "      <td>25.9232</td>\n",
       "    </tr>\n",
       "    <tr>\n",
       "      <th>2015-06-03</th>\n",
       "      <td>3583.82</td>\n",
       "      <td>25.7958</td>\n",
       "    </tr>\n",
       "    <tr>\n",
       "      <th>2015-06-04</th>\n",
       "      <td>3556.38</td>\n",
       "      <td>26.2418</td>\n",
       "    </tr>\n",
       "    <tr>\n",
       "      <th>2015-06-05</th>\n",
       "      <td>3510.01</td>\n",
       "      <td>27.4496</td>\n",
       "    </tr>\n",
       "    <tr>\n",
       "      <th>2015-06-08</th>\n",
       "      <td>3468.31</td>\n",
       "      <td>27.2996</td>\n",
       "    </tr>\n",
       "    <tr>\n",
       "      <th>2015-06-09</th>\n",
       "      <td>3456.79</td>\n",
       "      <td>26.8020</td>\n",
       "    </tr>\n",
       "    <tr>\n",
       "      <th>2015-06-10</th>\n",
       "      <td>3526.48</td>\n",
       "      <td>25.8610</td>\n",
       "    </tr>\n",
       "    <tr>\n",
       "      <th>2015-06-11</th>\n",
       "      <td>3551.91</td>\n",
       "      <td>26.3897</td>\n",
       "    </tr>\n",
       "    <tr>\n",
       "      <th>2015-06-12</th>\n",
       "      <td>3502.77</td>\n",
       "      <td>29.7725</td>\n",
       "    </tr>\n",
       "    <tr>\n",
       "      <th>2015-06-15</th>\n",
       "      <td>3438.07</td>\n",
       "      <td>34.5593</td>\n",
       "    </tr>\n",
       "    <tr>\n",
       "      <th>2015-06-16</th>\n",
       "      <td>3454.09</td>\n",
       "      <td>36.2222</td>\n",
       "    </tr>\n",
       "    <tr>\n",
       "      <th>2015-06-17</th>\n",
       "      <td>3428.76</td>\n",
       "      <td>34.7235</td>\n",
       "    </tr>\n",
       "    <tr>\n",
       "      <th>2015-06-18</th>\n",
       "      <td>3450.45</td>\n",
       "      <td>NaN</td>\n",
       "    </tr>\n",
       "    <tr>\n",
       "      <th>2015-06-19</th>\n",
       "      <td>3455.80</td>\n",
       "      <td>NaN</td>\n",
       "    </tr>\n",
       "  </tbody>\n",
       "</table>\n",
       "</div>"
      ],
      "text/plain": [
       "               SX5E     V6I1\n",
       "Date                        \n",
       "2015-06-01  3575.04  25.8710\n",
       "2015-06-02  3561.89  25.9232\n",
       "2015-06-03  3583.82  25.7958\n",
       "2015-06-04  3556.38  26.2418\n",
       "2015-06-05  3510.01  27.4496\n",
       "2015-06-08  3468.31  27.2996\n",
       "2015-06-09  3456.79  26.8020\n",
       "2015-06-10  3526.48  25.8610\n",
       "2015-06-11  3551.91  26.3897\n",
       "2015-06-12  3502.77  29.7725\n",
       "2015-06-15  3438.07  34.5593\n",
       "2015-06-16  3454.09  36.2222\n",
       "2015-06-17  3428.76  34.7235\n",
       "2015-06-18  3450.45      NaN\n",
       "2015-06-19  3455.80      NaN"
      ]
     },
     "execution_count": 30,
     "metadata": {},
     "output_type": "execute_result"
    }
   ],
   "source": [
    "data"
   ]
  },
  {
   "cell_type": "code",
   "execution_count": 31,
   "metadata": {
    "collapsed": false
   },
   "outputs": [],
   "source": [
    "data = data.fillna(method='ffill')"
   ]
  },
  {
   "cell_type": "code",
   "execution_count": 32,
   "metadata": {
    "collapsed": false
   },
   "outputs": [],
   "source": [
    "h5 = pd.HDFStore('data/SX5E_V6I1.h5')\n",
    "h5['SX5E_V6I1'] = data\n",
    "h5.close()"
   ]
  },
  {
   "cell_type": "code",
   "execution_count": 33,
   "metadata": {
    "collapsed": false
   },
   "outputs": [
    {
     "data": {
      "text/plain": [
       "1932.665919369178"
      ]
     },
     "execution_count": 33,
     "metadata": {},
     "output_type": "execute_result"
    }
   ],
   "source": [
    "data['V6I1'][0]\n",
    "sigma_K = data['V6I1'][0]\n",
    "Notional = 100000 / (2. * sigma_K)\n",
    "Notional"
   ]
  },
  {
   "cell_type": "code",
   "execution_count": 34,
   "metadata": {
    "collapsed": false
   },
   "outputs": [],
   "source": [
    "data['R_t'] = np.log(data['SX5E'] / data['SX5E'].shift(1))"
   ]
  },
  {
   "cell_type": "code",
   "execution_count": 35,
   "metadata": {
    "collapsed": false
   },
   "outputs": [],
   "source": [
    "data['sigma**2'] = 10000 * 252 * (np.cumsum(data['R_t'] ** 2)\n",
    "                                  / np.arange(len(data)))"
   ]
  },
  {
   "cell_type": "code",
   "execution_count": 36,
   "metadata": {
    "collapsed": false
   },
   "outputs": [
    {
     "data": {
      "text/plain": [
       "array([ 1,  2,  3,  4,  5,  6,  7,  8,  9, 10, 11, 12, 13, 14, 15])"
      ]
     },
     "execution_count": 36,
     "metadata": {},
     "output_type": "execute_result"
    }
   ],
   "source": [
    "t = np.arange(1, 16)\n",
    "t"
   ]
  },
  {
   "cell_type": "code",
   "execution_count": 37,
   "metadata": {
    "collapsed": false
   },
   "outputs": [],
   "source": [
    "r = 0.001\n",
    "data['V_t'] = np.exp(-r * (T - t) / 365.) * ((t * data['sigma**2']\n",
    "                + (T - t) * data['V6I1'] ** 2) / T - sigma_K ** 2) "
   ]
  },
  {
   "cell_type": "code",
   "execution_count": 38,
   "metadata": {
    "collapsed": false
   },
   "outputs": [],
   "source": [
    "data['V_t'].loc['2015-06-01'] = 0.0"
   ]
  },
  {
   "cell_type": "code",
   "execution_count": 39,
   "metadata": {
    "collapsed": false
   },
   "outputs": [
    {
     "data": {
      "text/html": [
       "<div>\n",
       "<table border=\"1\" class=\"dataframe\">\n",
       "  <thead>\n",
       "    <tr style=\"text-align: right;\">\n",
       "      <th></th>\n",
       "      <th>SX5E</th>\n",
       "      <th>V6I1</th>\n",
       "      <th>R_t</th>\n",
       "      <th>sigma**2</th>\n",
       "      <th>V_t</th>\n",
       "    </tr>\n",
       "    <tr>\n",
       "      <th>Date</th>\n",
       "      <th></th>\n",
       "      <th></th>\n",
       "      <th></th>\n",
       "      <th></th>\n",
       "      <th></th>\n",
       "    </tr>\n",
       "  </thead>\n",
       "  <tbody>\n",
       "    <tr>\n",
       "      <th>2015-06-01</th>\n",
       "      <td>3575.04</td>\n",
       "      <td>25.8710</td>\n",
       "      <td>NaN</td>\n",
       "      <td>NaN</td>\n",
       "      <td>0.000000</td>\n",
       "    </tr>\n",
       "    <tr>\n",
       "      <th>2015-06-02</th>\n",
       "      <td>3561.89</td>\n",
       "      <td>25.9232</td>\n",
       "      <td>-0.003685</td>\n",
       "      <td>34.220799</td>\n",
       "      <td>-82.332277</td>\n",
       "    </tr>\n",
       "    <tr>\n",
       "      <th>2015-06-03</th>\n",
       "      <td>3583.82</td>\n",
       "      <td>25.7958</td>\n",
       "      <td>0.006138</td>\n",
       "      <td>64.580457</td>\n",
       "      <td>-124.049833</td>\n",
       "    </tr>\n",
       "    <tr>\n",
       "      <th>2015-06-04</th>\n",
       "      <td>3556.38</td>\n",
       "      <td>26.2418</td>\n",
       "      <td>-0.007686</td>\n",
       "      <td>92.677552</td>\n",
       "      <td>-139.593571</td>\n",
       "    </tr>\n",
       "    <tr>\n",
       "      <th>2015-06-05</th>\n",
       "      <td>3510.01</td>\n",
       "      <td>27.4496</td>\n",
       "      <td>-0.013124</td>\n",
       "      <td>178.023718</td>\n",
       "      <td>-107.644092</td>\n",
       "    </tr>\n",
       "    <tr>\n",
       "      <th>2015-06-08</th>\n",
       "      <td>3468.31</td>\n",
       "      <td>27.2996</td>\n",
       "      <td>-0.011951</td>\n",
       "      <td>214.408816</td>\n",
       "      <td>-136.380856</td>\n",
       "    </tr>\n",
       "    <tr>\n",
       "      <th>2015-06-09</th>\n",
       "      <td>3456.79</td>\n",
       "      <td>26.8020</td>\n",
       "      <td>-0.003327</td>\n",
       "      <td>183.323049</td>\n",
       "      <td>-200.634978</td>\n",
       "    </tr>\n",
       "    <tr>\n",
       "      <th>2015-06-10</th>\n",
       "      <td>3526.48</td>\n",
       "      <td>25.8610</td>\n",
       "      <td>0.019960</td>\n",
       "      <td>300.555651</td>\n",
       "      <td>-196.905901</td>\n",
       "    </tr>\n",
       "    <tr>\n",
       "      <th>2015-06-11</th>\n",
       "      <td>3551.91</td>\n",
       "      <td>26.3897</td>\n",
       "      <td>0.007185</td>\n",
       "      <td>279.249096</td>\n",
       "      <td>-223.189008</td>\n",
       "    </tr>\n",
       "    <tr>\n",
       "      <th>2015-06-12</th>\n",
       "      <td>3502.77</td>\n",
       "      <td>29.7725</td>\n",
       "      <td>-0.013931</td>\n",
       "      <td>302.564935</td>\n",
       "      <td>-172.129074</td>\n",
       "    </tr>\n",
       "    <tr>\n",
       "      <th>2015-06-15</th>\n",
       "      <td>3438.07</td>\n",
       "      <td>34.5593</td>\n",
       "      <td>-0.018644</td>\n",
       "      <td>359.901600</td>\n",
       "      <td>-86.887791</td>\n",
       "    </tr>\n",
       "    <tr>\n",
       "      <th>2015-06-16</th>\n",
       "      <td>3454.09</td>\n",
       "      <td>36.2222</td>\n",
       "      <td>0.004649</td>\n",
       "      <td>332.134168</td>\n",
       "      <td>-141.190592</td>\n",
       "    </tr>\n",
       "    <tr>\n",
       "      <th>2015-06-17</th>\n",
       "      <td>3428.76</td>\n",
       "      <td>34.7235</td>\n",
       "      <td>-0.007360</td>\n",
       "      <td>315.833038</td>\n",
       "      <td>-234.822528</td>\n",
       "    </tr>\n",
       "    <tr>\n",
       "      <th>2015-06-18</th>\n",
       "      <td>3450.45</td>\n",
       "      <td>34.7235</td>\n",
       "      <td>0.006306</td>\n",
       "      <td>299.246550</td>\n",
       "      <td>-309.629583</td>\n",
       "    </tr>\n",
       "    <tr>\n",
       "      <th>2015-06-19</th>\n",
       "      <td>3455.80</td>\n",
       "      <td>34.7235</td>\n",
       "      <td>0.001549</td>\n",
       "      <td>278.303868</td>\n",
       "      <td>-391.004773</td>\n",
       "    </tr>\n",
       "  </tbody>\n",
       "</table>\n",
       "</div>"
      ],
      "text/plain": [
       "               SX5E     V6I1       R_t    sigma**2         V_t\n",
       "Date                                                          \n",
       "2015-06-01  3575.04  25.8710       NaN         NaN    0.000000\n",
       "2015-06-02  3561.89  25.9232 -0.003685   34.220799  -82.332277\n",
       "2015-06-03  3583.82  25.7958  0.006138   64.580457 -124.049833\n",
       "2015-06-04  3556.38  26.2418 -0.007686   92.677552 -139.593571\n",
       "2015-06-05  3510.01  27.4496 -0.013124  178.023718 -107.644092\n",
       "2015-06-08  3468.31  27.2996 -0.011951  214.408816 -136.380856\n",
       "2015-06-09  3456.79  26.8020 -0.003327  183.323049 -200.634978\n",
       "2015-06-10  3526.48  25.8610  0.019960  300.555651 -196.905901\n",
       "2015-06-11  3551.91  26.3897  0.007185  279.249096 -223.189008\n",
       "2015-06-12  3502.77  29.7725 -0.013931  302.564935 -172.129074\n",
       "2015-06-15  3438.07  34.5593 -0.018644  359.901600  -86.887791\n",
       "2015-06-16  3454.09  36.2222  0.004649  332.134168 -141.190592\n",
       "2015-06-17  3428.76  34.7235 -0.007360  315.833038 -234.822528\n",
       "2015-06-18  3450.45  34.7235  0.006306  299.246550 -309.629583\n",
       "2015-06-19  3455.80  34.7235  0.001549  278.303868 -391.004773"
      ]
     },
     "execution_count": 39,
     "metadata": {},
     "output_type": "execute_result"
    }
   ],
   "source": [
    "data"
   ]
  },
  {
   "cell_type": "code",
   "execution_count": 40,
   "metadata": {
    "collapsed": false
   },
   "outputs": [
    {
     "data": {
      "text/plain": [
       "-755681.59959400445"
      ]
     },
     "execution_count": 40,
     "metadata": {},
     "output_type": "execute_result"
    }
   ],
   "source": [
    "Notional * data['V_t'][-1]"
   ]
  },
  {
   "cell_type": "code",
   "execution_count": 41,
   "metadata": {
    "collapsed": false
   },
   "outputs": [
    {
     "data": {
      "image/png": "[encoded data removed]",
      "text/plain": [
       "<matplotlib.figure.Figure at 0x11e1f5bd0>"
      ]
     },
     "metadata": {},
     "output_type": "display_data"
    }
   ],
   "source": [
    "data[['SX5E', 'sigma**2', 'V_t']].plot(subplots=True,\n",
    "                                       color='blue',\n",
    "                                       figsize=(10, 8));"
   ]
  },
  {
   "cell_type": "code",
   "execution_count": 42,
   "metadata": {
    "collapsed": false
   },
   "outputs": [],
   "source": [
    "h5 = pd.HDFStore('data/var_data.h5', 'a')\n",
    "h5['var_swap'] = data\n",
    "h5.close()"
   ]
  },
  {
   "cell_type": "markdown",
   "metadata": {},
   "source": [
    "## Variance vs. Volatility"
   ]
  },
  {
   "cell_type": "markdown",
   "metadata": {},
   "source": [
    "### Squared Variations"
   ]
  },
  {
   "cell_type": "markdown",
   "metadata": {},
   "source": [
    "### Additivity in Time"
   ]
  },
  {
   "cell_type": "code",
   "execution_count": 43,
   "metadata": {
    "collapsed": false
   },
   "outputs": [],
   "source": [
    "## function to calculate the realized variance\n",
    "rv = lambda ret_dat: 10000 * 252. / N * np.sum(ret_dat ** 2)"
   ]
  },
  {
   "cell_type": "code",
   "execution_count": 44,
   "metadata": {
    "collapsed": false
   },
   "outputs": [],
   "source": [
    "data = np.array([0.01, 0.02, 0.03, 0.04, 0.05])"
   ]
  },
  {
   "cell_type": "code",
   "execution_count": 45,
   "metadata": {
    "collapsed": false
   },
   "outputs": [
    {
     "data": {
      "text/plain": [
       "5"
      ]
     },
     "execution_count": 45,
     "metadata": {},
     "output_type": "execute_result"
    }
   ],
   "source": [
    "N = len(data)\n",
    "N"
   ]
  },
  {
   "cell_type": "code",
   "execution_count": 46,
   "metadata": {
    "collapsed": false
   },
   "outputs": [
    {
     "data": {
      "text/plain": [
       "2772.0000000000005"
      ]
     },
     "execution_count": 46,
     "metadata": {},
     "output_type": "execute_result"
    }
   ],
   "source": [
    "rv(data[:2]) + rv(data[2:])"
   ]
  },
  {
   "cell_type": "code",
   "execution_count": 47,
   "metadata": {
    "collapsed": false
   },
   "outputs": [
    {
     "data": {
      "text/plain": [
       "2772.0000000000005"
      ]
     },
     "execution_count": 47,
     "metadata": {},
     "output_type": "execute_result"
    }
   ],
   "source": [
    "rv(data)"
   ]
  },
  {
   "cell_type": "code",
   "execution_count": 48,
   "metadata": {
    "collapsed": false
   },
   "outputs": [],
   "source": [
    "data = pd.DataFrame(es['SX5E'][(es.index > '31-12-2012')\n",
    "                             & (es.index < '01-01-2014')])\n",
    "## we need log returns\n",
    "data['R_t'] = np.log(data['SX5E'] / data['SX5E'].shift(1))"
   ]
  },
  {
   "cell_type": "code",
   "execution_count": 49,
   "metadata": {
    "collapsed": false
   },
   "outputs": [
    {
     "data": {
      "text/plain": [
       "98.3424775210876"
      ]
     },
     "execution_count": 49,
     "metadata": {},
     "output_type": "execute_result"
    }
   ],
   "source": [
    "N = len(data) - 1\n",
    "N\n",
    "var_1st = rv(data['R_t'][data.index < '2013-07-01'])\n",
    "var_1st\n",
    "var_2nd = rv(data['R_t'][data.index > '2013-06-30']) \n",
    "var_2nd"
   ]
  },
  {
   "cell_type": "code",
   "execution_count": 50,
   "metadata": {
    "collapsed": false
   },
   "outputs": [
    {
     "data": {
      "text/plain": [
       "257.4914940719223"
      ]
     },
     "execution_count": 50,
     "metadata": {},
     "output_type": "execute_result"
    }
   ],
   "source": [
    "var_1st + var_2nd\n",
    "var_full = rv(data['R_t'])\n",
    "var_full"
   ]
  },
  {
   "cell_type": "code",
   "execution_count": 51,
   "metadata": {
    "collapsed": false
   },
   "outputs": [
    {
     "data": {
      "text/plain": [
       "16.04654149877544"
      ]
     },
     "execution_count": 51,
     "metadata": {},
     "output_type": "execute_result"
    }
   ],
   "source": [
    "vol_1st = math.sqrt(rv(data['R_t'][data.index < '2013-07-01']))\n",
    "vol_1st\n",
    "vol_2nd = math.sqrt(rv(data['R_t'][data.index > '2013-06-30']))\n",
    "vol_2nd\n",
    "vol_1st + vol_2nd\n",
    "vol_full = math.sqrt(rv(data['R_t']))\n",
    "vol_full"
   ]
  },
  {
   "cell_type": "markdown",
   "metadata": {},
   "source": [
    "### Static Hedges"
   ]
  },
  {
   "cell_type": "markdown",
   "metadata": {},
   "source": [
    "### Broad Measure of Risk"
   ]
  },
  {
   "cell_type": "markdown",
   "metadata": {},
   "source": [
    "## Conclusions"
   ]
  },
  {
   "cell_type": "markdown",
   "metadata": {},
   "source": [
    "<img src=\"http://hilpisch.com/tpq_logo.png\" alt=\"The Python Quants\" width=\"35%\" align=\"right\" border=\"0\"><br>\n",
    "\n",
    "<a href=\"http://tpq.io\" target=\"_blank\">http://tpq.io</a> | <a href=\"http://twitter.com/dyjh\" target=\"_blank\">@dyjh</a> | <a href=\"mailto:team@tpq.io\">team@tpq.io</a>\n",
    "\n",
    "**DX Analytics** |\n",
    "<a href=\"http://dx-analytics.com\">http://dx-analytics.com</a>\n",
    "\n",
    "**Quant Platform** |\n",
    "<a href=\"http://quant-platform.com\">http://quant-platform.com</a>\n",
    "\n",
    "**Python for Finance Books** |\n",
    "<a href=\"http://books.tpq.io\" target=\"_blank\">http://books.tpq.io</a>\n",
    "\n",
    "**Python for Finance Training** |\n",
    "<a href=\"http://training.tpq.io\" target=\"_blank\">http://training.tpq.io</a>"
   ]
  }
 ],
 "metadata": {
  "anaconda-cloud": {},
  "kernelspec": {
   "display_name": "Python [Root]",
   "language": "python",
   "name": "Python [Root]"
  },
  "language_info": {
   "codemirror_mode": {
    "name": "ipython",
    "version": 2
   },
   "file_extension": ".py",
   "mimetype": "text/x-python",
   "name": "python",
   "nbconvert_exporter": "python",
   "pygments_lexer": "ipython2",
   "version": "2.7.12"
  }
 },
 "nbformat": 4,
 "nbformat_minor": 0
}
