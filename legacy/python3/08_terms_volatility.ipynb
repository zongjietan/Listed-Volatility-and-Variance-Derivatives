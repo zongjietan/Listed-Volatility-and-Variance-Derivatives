{
 "cells": [
  {
   "cell_type": "markdown",
   "metadata": {},
   "source": [
    "<img src=\"http://hilpisch.com/tpq_logo.png\" alt=\"The Python Quants\" width=\"35%\" align=\"right\" border=\"0\"><br><br><br>"
   ]
  },
  {
   "cell_type": "markdown",
   "metadata": {},
   "source": [
    "# Listed Volatility and Variance Derivatives\n",
    "\n",
    "**Wiley Finance (2017)**\n",
    "\n",
    "Dr. Yves J. Hilpisch | The Python Quants GmbH\n",
    "\n",
    "http://tpq.io | [@dyjh](http://twitter.com/dyjh) | http://books.tpq.io\n",
    "\n",
    "<img src=\"http://hilpisch.com/../images/lvvd_cover.png\" alt=\"Derivatives Analytics with Python\" width=\"30%\" align=\"left\" border=\"0\">"
   ]
  },
  {
   "cell_type": "markdown",
   "metadata": {},
   "source": [
    "# Terms of the VSTOXX and its Derivatives"
   ]
  },
  {
   "cell_type": "markdown",
   "metadata": {},
   "source": [
    "This brief chapter is about the terms of the VSTOXX volatility index as well as futures and options traded on it. The chapter starts, however, with a brief review of some facts about the EURO STOXX 50 index whose options build the basis for the VSTOXX."
   ]
  },
  {
   "cell_type": "markdown",
   "metadata": {},
   "source": [
    "## The EURO STOXX 50 Index"
   ]
  },
  {
   "cell_type": "markdown",
   "metadata": {},
   "source": [
    "The EURO STOXX 50 index is a European blue chip index introduced in February 1998 by STOXX Limited, a company of Deutsche Boerse Group. It comprises the stocks of the 50 largest companies by market capitalization in the euro zone given their free float. The weighting of the single components is also according to the market capitalization with a 10% cap for any given stock. The composition and single memberships are reviewed on an annual basis in September. The index level itself is calculated during trading days between 9am and 6pm CET. Although it was only introduced in 1998, it has been recalculated on a daily basis dating back to 31. December 1986."
   ]
  },
  {
   "cell_type": "markdown",
   "metadata": {},
   "source": [
    "The following table shows the composition of the index by sector (source: STOXX Limited, data as of 30 November 2015)."
   ]
  },
  {
   "cell_type": "markdown",
   "metadata": {},
   "source": [
    "<p style=\"font-family: monospace;\">Industry sector weighting in the EURO STOXX 50 index.\n",
    "    \n",
    "    ============================= ========\n",
    "     Sector                        Weight  \n",
    "    ============================= ========\n",
    "     Banks                         16.9%\n",
    "     Industrial Goods & Services    9.9%\n",
    "     Chemicals                      9.5%\n",
    "     Insurance                      8.0%\n",
    "     Health Care                    6.8%\n",
    "     Oil & Gas                      6.8%\n",
    "     Personal & Household Goods     6.5%\n",
    "     Automobiles & Parts            6.2%\n",
    "     Telecommunications             6.1%\n",
    "     Food & Beverage                5.9%\n",
    "    ============================= ======== "
   ]
  },
  {
   "cell_type": "markdown",
   "metadata": {},
   "source": [
    "The following table shows the composition of the index by country (source: STOXX Limited, data as of 30 November 2015). Note that countries like the United Kingdom or Switzerland are not represented due to the euro zone criterium."
   ]
  },
  {
   "cell_type": "markdown",
   "metadata": {},
   "source": [
    "<p style=\"font-family: monospace;\">Country weighting in the EURO STOXX 50 index.\n",
    "    \n",
    "    ============================= ========\n",
    "     Country                       Weight  \n",
    "    ============================= ========\n",
    "     France                        36.6%\n",
    "     Germany                       32.1%\n",
    "     Spain                         10.9%\n",
    "     Italy                          7.7%\n",
    "     Netherlands                    7.6%\n",
    "     Belgium                        4.1%\n",
    "     Finland                        1.1%\n",
    "    ============================= ======== "
   ]
  },
  {
   "cell_type": "markdown",
   "metadata": {},
   "source": [
    "While the VSTOXX is based on an equity index with 50 stocks only, the VIX index is on a broader index, namely the S&P 500 which comprises 500 companies. This and the fact that the EURO STOXX 50 index is heavy on the financial sector gives a generally higher level for the VSTOXX index compared to the VIX index. In other words, 30 day implied volatility for the EURO STOXX 50 index is on average higher than for the S&P 500 index."
   ]
  },
  {
   "cell_type": "markdown",
   "metadata": {},
   "source": [
    "## The VSTOXX Index"
   ]
  },
  {
   "cell_type": "markdown",
   "metadata": {},
   "source": [
    "The calculation of the *VSTOXX index* is explained in detail in chapter _VSTOXX Index_. Its calculation is based on out-of-the-money put and call options on the EURO STOXX 50 index. The methodology for its calculation makes use of the model-free replication approach for variance swaps (see chapter _Model-Free Reaplication of Variance_). It yields an estimate for the 30 day implied volatility by interpolating in general the implied volatilities from the two nearby maturity months."
   ]
  },
  {
   "cell_type": "markdown",
   "metadata": {},
   "source": [
    "In addition to the main VSTOXX 30-day index with ticker symbol ``V2TX``, eight *sub-indexes* are calculated with maturities of 1, 2, 3, 6, 9, 12, 18 and 24 months reflecting the option series available for the EURO STOXX 50 index (see also chapter _VSTOXX Index_ for more details). There are other *main VSTOXX indexes* available with time ranges from 60 to 360 days (in intervals of 30 days)."
   ]
  },
  {
   "cell_type": "markdown",
   "metadata": {},
   "source": [
    "The following figure shows the starting screen for the VSTOXX index at the Refinitiv Workspace terminal. As you can see in the figure, the index mainly varied between 15% and 40% over the period shown."
   ]
  },
  {
   "cell_type": "markdown",
   "metadata": {},
   "source": [
    "<img src=\"https://hilpisch.com/lvvd/tr_vstoxx.png\">\n",
    "   \n",
    "<p style=\"font-family: monospace;\">Thomson Reuters Eikon starting screen for the VSTOXX volatility index (vendor code: .V2TX)"
   ]
  },
  {
   "cell_type": "markdown",
   "metadata": {},
   "source": [
    "## VSTOXX Futures Contracts"
   ]
  },
  {
   "cell_type": "markdown",
   "metadata": {},
   "source": [
    "VSTOXX (mini) futures contracts, in the form they are traded today, have been introduced in 2009. Their product ID is ``FVS``. Their main contract terms are described in the following list."
   ]
  },
  {
   "cell_type": "markdown",
   "metadata": {},
   "source": [
    "* **contract value**: EUR 100 per index point of the underlying\n",
    "* **settlement**: cash settlement, on the first day after final settlement day\n",
    "* **price quotation**: the price quotation is in (volatility) points with two decimal places\n",
    "* **minimum price change**: the minimum price change is 0.05 (volatility) points, i.e. EUR 5\n",
    "* **contract months**: the eight nearest successive calender months\n",
    "* **last trading day**: last trading day is the final settlement day\n",
    "* **final settlement day**: 30 calendar days before the expiration day of the underlying options, i.e. 30 calendar days before the third Friday of the expiration month of the underlying options\n",
    "* **daily settlement price**: is determinded for the current maturity month during the closing auction of the respective futures contract; for the other maturity months it is determined by the average bid/ask spread of the combination order book\n",
    "* **final settlement price**: determined by Eurex Exchange on the last trading day based on the values of the underlying VSTOXX index between 11:30am and 12:00pm CET\n",
    "* **trading hours**: 9am to 10pm CET (order book and Eurex Trade Entry Services)\n",
    "* **block trade size**: 1,000 contracts\n",
    "* **vendor codes**: ``FVSA Index`` (Bloomberg) and ``0#FVS`` (Thomson Reuters)"
   ]
  },
  {
   "cell_type": "markdown",
   "metadata": {},
   "source": [
    "The following figure shows a screen from the Thomson Reuters Eikon terminal with data about the VSTOXX futures contracts."
   ]
  },
  {
   "cell_type": "markdown",
   "metadata": {},
   "source": [
    "<img src=\"https://hilpisch.com/lvvd/tr_fvs.png\">\n",
    "\n",
    "   \n",
    "<p style=\"font-family: monospace;\">Thomson Reuters Eikon screen with VSTOXX futures contract information (vendor code: 0#FVS)"
   ]
  },
  {
   "cell_type": "markdown",
   "metadata": {},
   "source": [
    "## VSTOXX Options Contracts"
   ]
  },
  {
   "cell_type": "markdown",
   "metadata": {},
   "source": [
    "The VSTOXX options contracts, with product ID ``OVS``, have been introduced in 2010. Their main contract terms are described in the following list. They are mainly the same as for the futures contracts."
   ]
  },
  {
   "cell_type": "markdown",
   "metadata": {},
   "source": [
    "* **contract value**: EUR 100 per index point of the underlying\n",
    "* **settlement**: cash settlement, on the first day after final settlement day\n",
    "* **price quotation**: the price quotation is in (volatility) points with two decimal places\n",
    "* **minimum price change**: the minimum price change is 0.05 (volatility) points, i.e. EUR 5\n",
    "* **contract months**: the eight nearest successive calender months\n",
    "* **last trading day**: last trading day is the final settlement day\n",
    "* **final settlement day**: 30 calendar days before the expiration day of the underlying options, i.e. 30 calendar days before the third Friday of the expiration month of the underlying options\n",
    "* **daily settlement price**: is determined by Eurex Exchange on the basis of the Black (1976) model\n",
    "* **final settlement price**: determined by Eurex Exchange on the last trading day based on the values of the underlying VSTOXX index between 11:30am and 12:00pm CET\n",
    "* **exercise**: European style; exercise only on the final settlement day of the option series until 9pm CET\n",
    "* **exercise prices**: minimum exercise price difference of 1 volatility point\n",
    "* **number of exercise prices**: at least 11 different exercise prices for both calls and puts such that 5 are in-the-money, 1 at-the-money, 5 out-of-the-money\n",
    "* **trading hours**: 9am to 10pm CET (order book and Eurex Trade Entry Services)\n",
    "* **block trade size**: 1,000 contracts\n",
    "* **vendor codes**: ``V2X Index OMON`` (Bloomberg) and ``<0#FVS+>`` (Thomson Reuters)"
   ]
  },
  {
   "cell_type": "markdown",
   "metadata": {},
   "source": [
    "The following figure shows a screen from the Thomson Reuters Eikon terminal with VSTOXX call and put options data for an exercise price of 27."
   ]
  },
  {
   "cell_type": "markdown",
   "metadata": {},
   "source": [
    "<img src=\"https://hilpisch.com/lvvd/tr_ovs.png\">\n",
    "   \n",
    "<p style=\"font-family: monospace;\">Thomson Reuters Eikon screen with VSTOXX options contract information (vendor code: FVS270A6.EX)"
   ]
  },
  {
   "cell_type": "markdown",
   "metadata": {},
   "source": [
    "## Conclusions"
   ]
  },
  {
   "cell_type": "markdown",
   "metadata": {},
   "source": [
    "The previous three chapters cover the VSTOXX volatility index and derivatives written on it from a conceptual and valuation point of view. This chapter adds information about the concrete terms of the contracts to the mix. While maybe not as important from an academic point of view, they are of paramount importance for practitioners."
   ]
  },
  {
   "cell_type": "markdown",
   "metadata": {},
   "source": [
    "<img src=\"http://hilpisch.com/tpq_logo.png\" alt=\"The Python Quants\" width=\"35%\" align=\"right\" border=\"0\"><br>\n",
    "\n",
    "<a href=\"http://tpq.io\" target=\"_blank\">http://tpq.io</a> | <a href=\"http://twitter.com/dyjh\" target=\"_blank\">@dyjh</a> | <a href=\"mailto:team@tpq.io\">team@tpq.io</a>"
   ]
  }
 ],
 "metadata": {
  "kernelspec": {
   "display_name": "Python 3",
   "language": "python",
   "name": "python3"
  },
  "language_info": {
   "codemirror_mode": {
    "name": "ipython",
    "version": 3
   },
   "file_extension": ".py",
   "mimetype": "text/x-python",
   "name": "python",
   "nbconvert_exporter": "python",
   "pygments_lexer": "ipython3",
   "version": "3.8.6"
  }
 },
 "nbformat": 4,
 "nbformat_minor": 4
}
